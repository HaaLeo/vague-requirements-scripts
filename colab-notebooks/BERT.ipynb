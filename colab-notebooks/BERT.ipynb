{
  "nbformat": 4,
  "nbformat_minor": 0,
  "metadata": {
    "colab": {
      "name": "vague-requirements-bert.ipynb",
      "provenance": [],
      "collapsed_sections": [],
      "toc_visible": true
    },
    "kernelspec": {
      "name": "python3",
      "display_name": "Python 3"
    },
    "accelerator": "GPU",
    "widgets": {
      "application/vnd.jupyter.widget-state+json": {
        "d2d61af38a654617b43d8a6ef92f1fba": {
          "model_module": "@jupyter-widgets/controls",
          "model_name": "HBoxModel",
          "state": {
            "_view_name": "HBoxView",
            "_dom_classes": [],
            "_model_name": "HBoxModel",
            "_view_module": "@jupyter-widgets/controls",
            "_model_module_version": "1.5.0",
            "_view_count": null,
            "_view_module_version": "1.5.0",
            "box_style": "",
            "layout": "IPY_MODEL_72e62b7300694b74b60073a77cdc7ae2",
            "_model_module": "@jupyter-widgets/controls",
            "children": [
              "IPY_MODEL_8ab43de0d70247a59137ba141e2063fc",
              "IPY_MODEL_d4e2a9e6e32147838b2bc25a4ccf7b13"
            ]
          }
        },
        "72e62b7300694b74b60073a77cdc7ae2": {
          "model_module": "@jupyter-widgets/base",
          "model_name": "LayoutModel",
          "state": {
            "_view_name": "LayoutView",
            "grid_template_rows": null,
            "right": null,
            "justify_content": null,
            "_view_module": "@jupyter-widgets/base",
            "overflow": null,
            "_model_module_version": "1.2.0",
            "_view_count": null,
            "flex_flow": null,
            "width": null,
            "min_width": null,
            "border": null,
            "align_items": null,
            "bottom": null,
            "_model_module": "@jupyter-widgets/base",
            "top": null,
            "grid_column": null,
            "overflow_y": null,
            "overflow_x": null,
            "grid_auto_flow": null,
            "grid_area": null,
            "grid_template_columns": null,
            "flex": null,
            "_model_name": "LayoutModel",
            "justify_items": null,
            "grid_row": null,
            "max_height": null,
            "align_content": null,
            "visibility": null,
            "align_self": null,
            "height": null,
            "min_height": null,
            "padding": null,
            "grid_auto_rows": null,
            "grid_gap": null,
            "max_width": null,
            "order": null,
            "_view_module_version": "1.2.0",
            "grid_template_areas": null,
            "object_position": null,
            "object_fit": null,
            "grid_auto_columns": null,
            "margin": null,
            "display": null,
            "left": null
          }
        },
        "8ab43de0d70247a59137ba141e2063fc": {
          "model_module": "@jupyter-widgets/controls",
          "model_name": "FloatProgressModel",
          "state": {
            "_view_name": "ProgressView",
            "style": "IPY_MODEL_9c431e0eb400424cadf2aaca2a492b39",
            "_dom_classes": [],
            "description": "Downloading: 100%",
            "_model_name": "FloatProgressModel",
            "bar_style": "success",
            "max": 231508,
            "_view_module": "@jupyter-widgets/controls",
            "_model_module_version": "1.5.0",
            "value": 231508,
            "_view_count": null,
            "_view_module_version": "1.5.0",
            "orientation": "horizontal",
            "min": 0,
            "description_tooltip": null,
            "_model_module": "@jupyter-widgets/controls",
            "layout": "IPY_MODEL_45351c6a221f49ad8bb643da95dfeed4"
          }
        },
        "d4e2a9e6e32147838b2bc25a4ccf7b13": {
          "model_module": "@jupyter-widgets/controls",
          "model_name": "HTMLModel",
          "state": {
            "_view_name": "HTMLView",
            "style": "IPY_MODEL_78bc34fbb13142b98da43836b3734a4d",
            "_dom_classes": [],
            "description": "",
            "_model_name": "HTMLModel",
            "placeholder": "​",
            "_view_module": "@jupyter-widgets/controls",
            "_model_module_version": "1.5.0",
            "value": " 232k/232k [00:00&lt;00:00, 2.20MB/s]",
            "_view_count": null,
            "_view_module_version": "1.5.0",
            "description_tooltip": null,
            "_model_module": "@jupyter-widgets/controls",
            "layout": "IPY_MODEL_2c593a541a23412bae795388e78bfa42"
          }
        },
        "9c431e0eb400424cadf2aaca2a492b39": {
          "model_module": "@jupyter-widgets/controls",
          "model_name": "ProgressStyleModel",
          "state": {
            "_view_name": "StyleView",
            "_model_name": "ProgressStyleModel",
            "description_width": "initial",
            "_view_module": "@jupyter-widgets/base",
            "_model_module_version": "1.5.0",
            "_view_count": null,
            "_view_module_version": "1.2.0",
            "bar_color": null,
            "_model_module": "@jupyter-widgets/controls"
          }
        },
        "45351c6a221f49ad8bb643da95dfeed4": {
          "model_module": "@jupyter-widgets/base",
          "model_name": "LayoutModel",
          "state": {
            "_view_name": "LayoutView",
            "grid_template_rows": null,
            "right": null,
            "justify_content": null,
            "_view_module": "@jupyter-widgets/base",
            "overflow": null,
            "_model_module_version": "1.2.0",
            "_view_count": null,
            "flex_flow": null,
            "width": null,
            "min_width": null,
            "border": null,
            "align_items": null,
            "bottom": null,
            "_model_module": "@jupyter-widgets/base",
            "top": null,
            "grid_column": null,
            "overflow_y": null,
            "overflow_x": null,
            "grid_auto_flow": null,
            "grid_area": null,
            "grid_template_columns": null,
            "flex": null,
            "_model_name": "LayoutModel",
            "justify_items": null,
            "grid_row": null,
            "max_height": null,
            "align_content": null,
            "visibility": null,
            "align_self": null,
            "height": null,
            "min_height": null,
            "padding": null,
            "grid_auto_rows": null,
            "grid_gap": null,
            "max_width": null,
            "order": null,
            "_view_module_version": "1.2.0",
            "grid_template_areas": null,
            "object_position": null,
            "object_fit": null,
            "grid_auto_columns": null,
            "margin": null,
            "display": null,
            "left": null
          }
        },
        "78bc34fbb13142b98da43836b3734a4d": {
          "model_module": "@jupyter-widgets/controls",
          "model_name": "DescriptionStyleModel",
          "state": {
            "_view_name": "StyleView",
            "_model_name": "DescriptionStyleModel",
            "description_width": "",
            "_view_module": "@jupyter-widgets/base",
            "_model_module_version": "1.5.0",
            "_view_count": null,
            "_view_module_version": "1.2.0",
            "_model_module": "@jupyter-widgets/controls"
          }
        },
        "2c593a541a23412bae795388e78bfa42": {
          "model_module": "@jupyter-widgets/base",
          "model_name": "LayoutModel",
          "state": {
            "_view_name": "LayoutView",
            "grid_template_rows": null,
            "right": null,
            "justify_content": null,
            "_view_module": "@jupyter-widgets/base",
            "overflow": null,
            "_model_module_version": "1.2.0",
            "_view_count": null,
            "flex_flow": null,
            "width": null,
            "min_width": null,
            "border": null,
            "align_items": null,
            "bottom": null,
            "_model_module": "@jupyter-widgets/base",
            "top": null,
            "grid_column": null,
            "overflow_y": null,
            "overflow_x": null,
            "grid_auto_flow": null,
            "grid_area": null,
            "grid_template_columns": null,
            "flex": null,
            "_model_name": "LayoutModel",
            "justify_items": null,
            "grid_row": null,
            "max_height": null,
            "align_content": null,
            "visibility": null,
            "align_self": null,
            "height": null,
            "min_height": null,
            "padding": null,
            "grid_auto_rows": null,
            "grid_gap": null,
            "max_width": null,
            "order": null,
            "_view_module_version": "1.2.0",
            "grid_template_areas": null,
            "object_position": null,
            "object_fit": null,
            "grid_auto_columns": null,
            "margin": null,
            "display": null,
            "left": null
          }
        }
      }
    }
  },
  "cells": [
    {
      "cell_type": "markdown",
      "metadata": {
        "id": "DgfHNcOPbOk3",
        "colab_type": "text"
      },
      "source": [
        "# Classify requirements as vague or not using [ktrain](https://github.com/amaiya/ktrain) and tensorflow\n"
      ]
    },
    {
      "cell_type": "markdown",
      "metadata": {
        "id": "6jOLkB2Gyq4e",
        "colab_type": "text"
      },
      "source": [
        "## Install dependencies\n",
        "*ktrain* requires TensorFlow 2.1. See [amaiya/ktrain#151](https://github.com/amaiya/ktrain/issues/151).\n",
        "Further we install a forked version of eli5lib to gain insights in the model's decision process and some self built helper functions to preprocess MTurk result files."
      ]
    },
    {
      "cell_type": "code",
      "metadata": {
        "id": "BDBNS4iNXuUL",
        "colab_type": "code",
        "colab": {
          "base_uri": "https://localhost:8080/",
          "height": 52
        },
        "outputId": "faf58510-d386-48fc-efc4-d29b2572d626"
      },
      "source": [
        "%load_ext google.colab.data_table\n",
        "!pip3 install -q tensorflow_gpu==2.1.0 ktrain==0.17.5 imbalanced-learn==0.5.0\n",
        "!pip3 install -q -U git+https://github.com/HaaLeo/vague-requirements-scripts\n",
        "!pip3 install -q git+https://github.com/amaiya/eli5@tfkeras_0_10_1"
      ],
      "execution_count": 6,
      "outputs": [
        {
          "output_type": "stream",
          "text": [
            "  Building wheel for vaguerequirementslib (setup.py) ... \u001b[?25l\u001b[?25hdone\n",
            "  Building wheel for eli5 (setup.py) ... \u001b[?25l\u001b[?25hdone\n"
          ],
          "name": "stdout"
        }
      ]
    },
    {
      "cell_type": "markdown",
      "metadata": {
        "id": "5e1XeYJg3e_8",
        "colab_type": "text"
      },
      "source": [
        "Check versions and enable logging"
      ]
    },
    {
      "cell_type": "code",
      "metadata": {
        "id": "MAA46kq4X0C_",
        "colab_type": "code",
        "colab": {
          "base_uri": "https://localhost:8080/",
          "height": 34
        },
        "outputId": "3439c063-9dfe-47f3-ea29-c8d971dfd972"
      },
      "source": [
        "import tensorflow as tf\n",
        "import ktrain\n",
        "import imblearn\n",
        "\n",
        "assert tf.__version__ == '2.1.0'\n",
        "assert ktrain.__version__ == '0.17.5'\n",
        "assert imblearn.__version__ == '0.5.0'\n",
        "\n",
        "import logging\n",
        "import sys\n",
        "\n",
        "logging.basicConfig(\n",
        "    format='%(asctime)s [%(name)-20.20s] [%(levelname)-5.5s]  %(message)s',\n",
        "    stream=sys.stdout,\n",
        "    level=logging.INFO)\n",
        "\n",
        "LOGGER = logging.getLogger('colab-notebook')\n",
        "LOGGER.info('Hello from colab notebook')"
      ],
      "execution_count": 3,
      "outputs": [
        {
          "output_type": "stream",
          "text": [
            "2020-07-09 13:35:07,095 [colab-notebook      ] [INFO ]  Hello from colab notebook\n"
          ],
          "name": "stdout"
        }
      ]
    },
    {
      "cell_type": "markdown",
      "metadata": {
        "id": "n-2kIx7PwCR5",
        "colab_type": "text"
      },
      "source": [
        "## Set Parameters\n",
        "Set the parameters for this run.\n",
        "Ktrain ignores `max_features` and `ngram_range` in v0.17.5, see [amaiya/ktrain/issues#190](https://github.com/amaiya/ktrain/issues/190)"
      ]
    },
    {
      "cell_type": "code",
      "metadata": {
        "id": "YF_VXFLkwC1s",
        "colab_type": "code",
        "cellView": "form",
        "colab": {
          "base_uri": "https://localhost:8080/",
          "height": 34
        },
        "outputId": "e1c9433c-41a8-4c63-957d-b01de2841de8"
      },
      "source": [
        "#@title Set the parameter and hyperparameter \n",
        "#@markdown Set data files and proportion of train, val test set in source code\n",
        "\n",
        "# Lists are not yet supported as form fields\n",
        "DATA_FILE_NAMES = [f'corpus-batch-{i}-mturk.csv' for i in range(5)] + ['corpus-batch-5-27-mturk.csv']\n",
        "TRAIN_VAL_TEST_PROPORTION = [0.8, 0.1, 0.1] # [TestProportion, ValProportion, TestProportion]\n",
        "CLASS_NAMES = ['not-vague', 'vague'] # 0=not-vague 1=vague\n",
        "\n",
        "# The following parameter can be edited with the form fields\n",
        "RANDOM_STATE = 1  #@param {type:\"integer\"}\n",
        "\n",
        "RESAMPLING_STRATEGY = 'random_downsampling'#@param [\"random_downsampling\", \"random_upsampling\"]\n",
        "\n",
        "KFOLD_SPLITS = 10 #@param {type:\"integer\"}\n",
        "LEARNING_RATE = 5e-5 #@param {type:\"number\"}\n",
        "EPOCHS = 3 #@param {type:\"integer\"}\n",
        "MODEL_NAME = 'distilbert-base-uncased' #@param {type:\"string\"}\n",
        "MAX_LEN = 256 #@param {type:\"integer\"}\n",
        "BATCH_SIZE = 6 #@param {type:\"integer\"}\n",
        "MAX_FEATURES =  35000 #@param {type:\"integer\"}\n",
        "NGRAM_RANGE = 1 #@param {type:\"integer\"}\n",
        "\n",
        "\n",
        "PREPROCESS_MODE = 'distilbert' #@param {type:\"string\"}\n",
        "LOGGER.info('Set parameter successfully')"
      ],
      "execution_count": 4,
      "outputs": [
        {
          "output_type": "stream",
          "text": [
            "2020-07-09 13:35:07,116 [colab-notebook      ] [INFO ]  Set parameter successfully\n"
          ],
          "name": "stdout"
        }
      ]
    },
    {
      "cell_type": "markdown",
      "metadata": {
        "id": "Cdk5lPu3bxze",
        "colab_type": "text"
      },
      "source": [
        "## Load Dataset"
      ]
    },
    {
      "cell_type": "markdown",
      "metadata": {
        "id": "hl9XSystzRQs",
        "colab_type": "text"
      },
      "source": [
        "### Mount Google Drive\n",
        "Mount the google drive to access the dataset"
      ]
    },
    {
      "cell_type": "code",
      "metadata": {
        "id": "tPQxmvhazWoy",
        "colab_type": "code",
        "colab": {
          "base_uri": "https://localhost:8080/",
          "height": 124
        },
        "outputId": "da9752eb-2daa-4cfc-a926-39be30378e72"
      },
      "source": [
        "from google.colab import drive\n",
        "drive.mount('/content/drive')"
      ],
      "execution_count": 5,
      "outputs": [
        {
          "output_type": "stream",
          "text": [
            "Go to this URL in a browser: https://accounts.google.com/o/oauth2/auth?client_id=947318989803-6bn6qk8qdgf4n4g3pfee6491hc0brc4i.apps.googleusercontent.com&redirect_uri=urn%3aietf%3awg%3aoauth%3a2.0%3aoob&response_type=code&scope=email%20https%3a%2f%2fwww.googleapis.com%2fauth%2fdocs.test%20https%3a%2f%2fwww.googleapis.com%2fauth%2fdrive%20https%3a%2f%2fwww.googleapis.com%2fauth%2fdrive.photos.readonly%20https%3a%2f%2fwww.googleapis.com%2fauth%2fpeopleapi.readonly\n",
            "\n",
            "Enter your authorization code:\n",
            "··········\n",
            "Mounted at /content/drive\n"
          ],
          "name": "stdout"
        }
      ]
    },
    {
      "cell_type": "markdown",
      "metadata": {
        "id": "s4XQHRbHzbb_",
        "colab_type": "text"
      },
      "source": [
        "### Load Dataset"
      ]
    },
    {
      "cell_type": "code",
      "metadata": {
        "id": "DL5yXifL0SEh",
        "colab_type": "code",
        "colab": {
          "base_uri": "https://localhost:8080/",
          "height": 121
        },
        "outputId": "0ec935d3-33d1-4cdb-e0ef-db3fe2c654c8"
      },
      "source": [
        "from vaguerequirementslib import read_csv_files, build_confusion_matrix, calc_majority_label\n",
        "import pandas as pd\n",
        "\n",
        "def read_drive_data(files_list: list, separator: str) -> pd.DataFrame:\n",
        "    \"\"\"\n",
        "    Calculate the majority label for the given source file list\n",
        "\n",
        "    Args:\n",
        "        files_list (list): The CSV files to calculate the majority label for\n",
        "        separator (str): The CSV separator\n",
        "        drop_ties (bool): If there is a tie in votes (e.g.: One votes for vague one for not vague) then drop this entry from the confusion matrix.\n",
        "\n",
        "    Returns:\n",
        "        pd.DataFrame: The dataframe containing the majority label.\n",
        "    \"\"\"\n",
        "    frame = read_csv_files(files_list, separator)\n",
        "    confusion_matrix = build_confusion_matrix(frame, drop_ties=True)\n",
        "    return calc_majority_label(confusion_matrix)\n",
        "\n",
        "# Read all data\n",
        "df = read_drive_data(\n",
        "    [f'/content/drive/My Drive/datasets/corpus/labeled/{file_name}' for file_name in DATA_FILE_NAMES],\n",
        "    ','\n",
        "  )\n",
        "df.head()\n",
        "df_vague_count = int(df[df.majority_label == 1].majority_label.value_counts())\n",
        "df_not_vague_count = int(df[df.majority_label == 0].majority_label.value_counts())\n",
        "LOGGER.info(f'Data frame consists of {df_vague_count} vague data points and {df_not_vague_count} not vague data points.')"
      ],
      "execution_count": 5,
      "outputs": [
        {
          "output_type": "stream",
          "text": [
            "2020-07-09 12:00:02,505 [vaguerequirementslib] [INFO ]  Build confusion matrix.\n",
            "2020-07-09 12:00:03,515 [vaguerequirementslib] [INFO ]  Dropped 1228 requirements due to ties.\n",
            "2020-07-09 12:00:03,518 [vaguerequirementslib] [INFO ]  Built confusion matrix including 1548 of 2776 requirements. \n",
            "2020-07-09 12:00:03,521 [vaguerequirementslib] [INFO ]  Overall \"vague\" votes count = 576. Overall \"not vague\" votes count = 2520\n",
            "2020-07-09 12:00:03,620 [vaguerequirementslib] [INFO ]  \"vague\" majority label count = 288. \"not vague\" majority label count = 1260.\n",
            "2020-07-09 12:00:03,632 [colab-notebook      ] [INFO ]  Data frame consists of 288 vague data points and 1260 not vague data points.\n"
          ],
          "name": "stdout"
        }
      ]
    },
    {
      "cell_type": "markdown",
      "metadata": {
        "id": "L1jPjv_sv1QE",
        "colab_type": "text"
      },
      "source": [
        "### Split data set\n"
      ]
    },
    {
      "cell_type": "code",
      "metadata": {
        "id": "k4a9O2w4v04v",
        "colab_type": "code",
        "colab": {
          "base_uri": "https://localhost:8080/",
          "height": 903,
          "referenced_widgets": [
            "d2d61af38a654617b43d8a6ef92f1fba",
            "72e62b7300694b74b60073a77cdc7ae2",
            "8ab43de0d70247a59137ba141e2063fc",
            "d4e2a9e6e32147838b2bc25a4ccf7b13",
            "9c431e0eb400424cadf2aaca2a492b39",
            "45351c6a221f49ad8bb643da95dfeed4",
            "78bc34fbb13142b98da43836b3734a4d",
            "2c593a541a23412bae795388e78bfa42"
          ]
        },
        "outputId": "d8e24d17-3a12-4a21-b2c3-c419495c1c96"
      },
      "source": [
        "from typing import Tuple, List\n",
        "\n",
        "from imblearn.over_sampling import RandomOverSampler\n",
        "from imblearn.under_sampling import RandomUnderSampler\n",
        "from sklearn.model_selection import train_test_split\n",
        "from sklearn.utils import resample\n",
        "from ktrain import text as txt\n",
        "\n",
        "def resample(data_frame: pd.DataFrame, strategy: str = None) -> pd.DataFrame:\n",
        "    \"\"\"\n",
        "    Re sample the given dataframe to contain equally much samples of vague and not-vague requirements.\n",
        "\n",
        "    Args:\n",
        "        data_frame (pd.DataFrame): The data frame to upsample.\n",
        "        strategy (str): The resampling strategy to use either \"random_downsampling\", \"random_upsampling\" or None.\n",
        "\n",
        "    Returns:\n",
        "        pd.DataFrame: The resampled data frame.\n",
        "    \"\"\"\n",
        "    if strategy:\n",
        "        if strategy == 'random_downsampling':\n",
        "            sampler = RandomUnderSampler(sampling_strategy=1., random_state=RANDOM_STATE)\n",
        "        elif strategy == 'random_upsampling':\n",
        "            sampler = RandomOverSampler(sampling_strategy=1., random_state=RANDOM_STATE)\n",
        "\n",
        "        x, y = sampler.fit_resample(data_frame.requirement.to_numpy().reshape(-1, 1), data_frame.majority_label)\n",
        "        result = pd.DataFrame({'requirement': x.flatten(), 'majority_label': y})\n",
        "\n",
        "        LOGGER.info(f'Resampled dataset with strategy\"{strategy}\": vague count=\"{result.sum()[\"majority_label\"]}\", not vague count=\"{result.shape[0] - result.sum()[\"majority_label\"]}\"')\n",
        "    \n",
        "    else: \n",
        "        LOGGER.warning('Data frame will not be resampled, because no strategy was provided.')\n",
        "        result = data_frame\n",
        "    return result\n",
        "\n",
        "\n",
        "# def split_dataset(data_frame: pd.DataFrame, train_val_test_proportion: Tuple[float, float, float]) -> Tuple[List[str], List[int], List[str], List[int], List[str], List[int]]:\n",
        "#     \"\"\"\n",
        "#     Split the dataset into training, validation and test set.\n",
        "\n",
        "#     Args:\n",
        "#         data_frame (pd.DataFrame): The data frame to generate the data sets from.\n",
        "\n",
        "#     Returns:\n",
        "#         Tuple[List[str], List[int], List[str], List[int], List[str], List[int]]: x_train, y_train, x_val, y_val, x_test, y_test\n",
        "#     \"\"\"\n",
        "#     train_proportion, val_proportion, test_proportion = train_val_test_proportion\n",
        "\n",
        "#     train_df, val_test_df = train_test_split(data_frame, test_size=(1-train_proportion), random_state=RANDOM_STATE, stratify=data_frame['majority_label'])\n",
        "\n",
        "#     val_df, test_df = train_test_split(val_test_df, test_size=test_proportion/(test_proportion+val_proportion), random_state=RANDOM_STATE, stratify=val_test_df['majority_label'])\n",
        "\n",
        "\n",
        "#     return train_df, val_df, test_df\n",
        "\n",
        "\n",
        "def preprocess_data(data_frame: pd.DataFrame) -> Tuple:\n",
        "    dummy_df = pd.DataFrame.from_dict({'requirement': ['foo', 'bar'], 'majority_label': [0, 1]})\n",
        "    data, _, _  txt.texts_from_df(\n",
        "        my_df, text_column='requirement',\n",
        "        label_columns=['majority_label'], \n",
        "        val_df=dummy_df,  \n",
        "        max_features=MAX_FEATURES,\n",
        "        maxlen=MAX_LEN,  \n",
        "        ngram_range=NGRAM_RANGE,\n",
        "        preprocess_mode=PREPROCESS_MODE,\n",
        "        random_state=RANDOM_STATE)\n",
        "    \n",
        "    return data\n",
        "\n",
        "# Split the data set\n",
        "# train_df, val_df, test_df = split_dataset(df, TRAIN_VAL_TEST_PROPORTION)\n",
        "\n",
        "# Calc counts\n",
        "train_df_vague_count = int(train_df[train_df.majority_label == 1].majority_label.value_counts())\n",
        "train_df_not_vague_count = int(train_df[train_df.majority_label == 0].majority_label.value_counts())\n",
        "val_df_vague_count = int(val_df[val_df.majority_label == 1].majority_label.value_counts())\n",
        "val_df_not_vague_count = int(val_df[val_df.majority_label == 0].majority_label.value_counts())\n",
        "test_df_vague_count = int(test_df[test_df.majority_label == 1].majority_label.value_counts())\n",
        "test_df_not_vague_count = int(test_df[test_df.majority_label == 0].majority_label.value_counts())\n",
        "\n",
        "LOGGER.info(f'Training dataset: vague count=\"{train_df_vague_count}\", not vague count=\"{train_df_not_vague_count}\"')\n",
        "LOGGER.info(f'Validation dataset: vague count=\"{val_df_vague_count}\", not vague count=\"{val_df_not_vague_count}\"')\n",
        "LOGGER.info(f'Test dataset: vague count=\"{test_df_vague_count}\", not vague count=\"{test_df_not_vague_count}\"')\n",
        "\n",
        "# Upsample train_df\n",
        "train_df = resample(train_df, RESAMPLING_STRATEGY)\n",
        "\n",
        "# Preprocess for Transfer Learning\n",
        "train_data, val_data, test_data = preprocess_data(train_df, val_df, test_df)\n"
      ],
      "execution_count": 6,
      "outputs": [
        {
          "output_type": "stream",
          "text": [
            "2020-07-09 12:00:44,006 [colab-notebook      ] [INFO ]  Training dataset: vague count=\"230\", not vague count=\"1008\"\n",
            "2020-07-09 12:00:44,007 [colab-notebook      ] [INFO ]  Validation dataset: vague count=\"29\", not vague count=\"126\"\n",
            "2020-07-09 12:00:44,008 [colab-notebook      ] [INFO ]  Test dataset: vague count=\"29\", not vague count=\"126\"\n",
            "2020-07-09 12:00:44,025 [colab-notebook      ] [INFO ]  Resampled dataset with strategy\"random_downsampling\": vague count=\"230\", not vague count=\"230\"\n",
            "preprocessing train...\n",
            "language: en\n",
            "train sequence lengths:\n",
            "\tmean : 22\n",
            "\t95percentile : 40\n",
            "\t99percentile : 58\n",
            "2020-07-09 12:00:44,786 [filelock            ] [INFO ]  Lock 140663677445568 acquired on /root/.cache/torch/transformers/26bc1ad6c0ac742e9b52263248f6d0f00068293b33709fae12320c0e35ccfbbb.542ce4285a40d23a559526243235df47c5f75c197f04f37d1a0c124c32c9a084.lock\n"
          ],
          "name": "stdout"
        },
        {
          "output_type": "display_data",
          "data": {
            "application/vnd.jupyter.widget-view+json": {
              "model_id": "d2d61af38a654617b43d8a6ef92f1fba",
              "version_minor": 0,
              "version_major": 2
            },
            "text/plain": [
              "HBox(children=(FloatProgress(value=0.0, description='Downloading', max=231508.0, style=ProgressStyle(descripti…"
            ]
          },
          "metadata": {
            "tags": []
          }
        },
        {
          "output_type": "stream",
          "text": [
            "\n",
            "2020-07-09 12:00:44,951 [filelock            ] [INFO ]  Lock 140663677445568 released on /root/.cache/torch/transformers/26bc1ad6c0ac742e9b52263248f6d0f00068293b33709fae12320c0e35ccfbbb.542ce4285a40d23a559526243235df47c5f75c197f04f37d1a0c124c32c9a084.lock\n"
          ],
          "name": "stdout"
        },
        {
          "output_type": "display_data",
          "data": {
            "text/html": [
              ""
            ],
            "text/plain": [
              "<IPython.core.display.HTML object>"
            ]
          },
          "metadata": {
            "tags": []
          }
        },
        {
          "output_type": "stream",
          "text": [
            "Is Multi-Label? False\n",
            "preprocessing test...\n",
            "language: en\n",
            "test sequence lengths:\n",
            "\tmean : 1\n",
            "\t95percentile : 1\n",
            "\t99percentile : 1\n"
          ],
          "name": "stdout"
        },
        {
          "output_type": "stream",
          "text": [
            "/usr/local/lib/python3.6/dist-packages/ktrain/text/preprocessor.py:229: UserWarning: List or array of two texts supplied, so task being treated as text classification. If this is a sentence pair classification task, please cast to tuple.\n",
            "  'If this is a sentence pair classification task, please cast to tuple.')\n"
          ],
          "name": "stderr"
        },
        {
          "output_type": "display_data",
          "data": {
            "text/html": [
              ""
            ],
            "text/plain": [
              "<IPython.core.display.HTML object>"
            ]
          },
          "metadata": {
            "tags": []
          }
        },
        {
          "output_type": "stream",
          "text": [
            "preprocessing train...\n",
            "language: en\n",
            "train sequence lengths:\n",
            "\tmean : 20\n",
            "\t95percentile : 38\n",
            "\t99percentile : 54\n"
          ],
          "name": "stdout"
        },
        {
          "output_type": "display_data",
          "data": {
            "text/html": [
              ""
            ],
            "text/plain": [
              "<IPython.core.display.HTML object>"
            ]
          },
          "metadata": {
            "tags": []
          }
        },
        {
          "output_type": "stream",
          "text": [
            "Is Multi-Label? False\n",
            "preprocessing test...\n",
            "language: en\n",
            "test sequence lengths:\n",
            "\tmean : 1\n",
            "\t95percentile : 1\n",
            "\t99percentile : 1\n"
          ],
          "name": "stdout"
        },
        {
          "output_type": "display_data",
          "data": {
            "text/html": [
              ""
            ],
            "text/plain": [
              "<IPython.core.display.HTML object>"
            ]
          },
          "metadata": {
            "tags": []
          }
        },
        {
          "output_type": "stream",
          "text": [
            "preprocessing train...\n",
            "language: en\n",
            "train sequence lengths:\n",
            "\tmean : 22\n",
            "\t95percentile : 41\n",
            "\t99percentile : 64\n"
          ],
          "name": "stdout"
        },
        {
          "output_type": "display_data",
          "data": {
            "text/html": [
              ""
            ],
            "text/plain": [
              "<IPython.core.display.HTML object>"
            ]
          },
          "metadata": {
            "tags": []
          }
        },
        {
          "output_type": "stream",
          "text": [
            "Is Multi-Label? False\n",
            "preprocessing test...\n",
            "language: en\n",
            "test sequence lengths:\n",
            "\tmean : 1\n",
            "\t95percentile : 1\n",
            "\t99percentile : 1\n"
          ],
          "name": "stdout"
        },
        {
          "output_type": "display_data",
          "data": {
            "text/html": [
              ""
            ],
            "text/plain": [
              "<IPython.core.display.HTML object>"
            ]
          },
          "metadata": {
            "tags": []
          }
        }
      ]
    },
    {
      "cell_type": "markdown",
      "metadata": {
        "id": "pe5xxVPrb4IO",
        "colab_type": "text"
      },
      "source": [
        "## STEP 1:  Training\n",
        "\n",
        "We will use [DistilBERT](https://arxiv.org/abs/1910.01108).\n",
        "\n",
        "### Create a Transformer Model"
      ]
    },
    {
      "cell_type": "code",
      "metadata": {
        "id": "0T2kwCV5Oh_R",
        "colab_type": "code",
        "colab": {}
      },
      "source": [
        "# Create the transformer\n",
        "t = txt.Transformer(MODEL_NAME, maxlen=MAX_LEN, class_names=CLASS_NAMES)\n",
        "t.preprocess_train_called = True # Simulate call to preprocess_train()\n",
        "\n",
        "# Get the model and learner\n",
        "model = t.get_classifier()\n",
        "learner = ktrain.get_learner(model, train_data=train_data, val_data=val_data, batch_size=BATCH_SIZE)\n",
        "\n",
        "# Find a suitable learning rate\n",
        "# learner.lr_find(show_plot=True, start_lr=1e-09, max_epochs=EPOCHS)\n",
        "# print(learner.lr_estimate())"
      ],
      "execution_count": null,
      "outputs": []
    },
    {
      "cell_type": "markdown",
      "metadata": {
        "id": "TbtORRmiw7fx",
        "colab_type": "text"
      },
      "source": [
        "### K-Fold Cross Validation"
      ]
    },
    {
      "cell_type": "code",
      "metadata": {
        "id": "9GkeZCUozM2U",
        "colab_type": "code",
        "colab": {
          "base_uri": "https://localhost:8080/",
          "height": 486
        },
        "outputId": "33833e91-2b64-4ceb-b9b9-ea124ad434ac"
      },
      "source": [
        "from datetime import datetime\n",
        "from pytz import timezone\n",
        "from sklearn.model_selection import KFold\n",
        "\n",
        "# For every triggered fitting run create a new directory where the results will be saved\n",
        "now = datetime.now(timezone('Europe/Berlin'))\n",
        "result_dir = f'/content/drive/My Drive/runs/{now.strftime(\"%Y-%m-%d/%H-%M-%S\")}'\n",
        "\n",
        "# Cerate k folds\n",
        "kfold_df, test_df = train_test_split(df, test_size=TRAIN_VAL_TEST_PROPORTION[2], random_state=RANDOM_STATE, stratify=df['majority_label'])\n",
        "\n",
        "kfold = KFold(n_splits=KFOLD_SPLITS, shuffle=True, random_state=RANDOM_STATE)\n",
        "for train_idx, val_idx in kfold.split(df):\n",
        "    train_df = df.iloc[train_idx]\n",
        "    val_df = df.iloc[val_idx]\n",
        "\n",
        "    # Fit the model\n",
        "    learning_history = learner.fit_onecycle(LEARNING_RATE, EPOCHS).history\n",
        "    learner.plot('loss')\n",
        "\n",
        "LOGGER.info('Successfully trained model.')"
      ],
      "execution_count": 13,
      "outputs": [
        {
          "output_type": "stream",
          "text": [
            "\n",
            "\n",
            "begin training using onecycle policy with max lr of 5e-05...\n",
            "Train for 77 steps, validate for 5 steps\n",
            "Epoch 1/3\n",
            "77/77 [==============================] - 39s 504ms/step - loss: 0.6879 - accuracy: 0.5304 - val_loss: 0.7060 - val_accuracy: 0.5032\n",
            "Epoch 2/3\n",
            "77/77 [==============================] - 29s 375ms/step - loss: 0.6241 - accuracy: 0.6652 - val_loss: 0.8386 - val_accuracy: 0.4387\n",
            "Epoch 3/3\n",
            "77/77 [==============================] - 29s 375ms/step - loss: 0.3637 - accuracy: 0.8478 - val_loss: 0.7673 - val_accuracy: 0.6065\n"
          ],
          "name": "stdout"
        },
        {
          "output_type": "display_data",
          "data": {
            "image/png": "[encoded data removed]",
            "text/plain": [
              "<Figure size 432x288 with 1 Axes>"
            ]
          },
          "metadata": {
            "tags": [],
            "needs_background": "light"
          }
        },
        {
          "output_type": "stream",
          "text": [
            "2020-07-09 12:06:54,246 [colab-notebook      ] [INFO ]  Successfully trained model.\n"
          ],
          "name": "stdout"
        }
      ]
    },
    {
      "cell_type": "markdown",
      "metadata": {
        "id": "ho6eSo9IcI3_",
        "colab_type": "text"
      },
      "source": [
        "## STEP 2: Evaluate the model\n",
        "Evaluate the model using the `test_data`."
      ]
    },
    {
      "cell_type": "code",
      "metadata": {
        "id": "UvcxCvLOcOje",
        "colab_type": "code",
        "colab": {
          "base_uri": "https://localhost:8080/",
          "height": 503
        },
        "outputId": "7269cd0e-4541-4487-e8ca-8a6cd421caa3"
      },
      "source": [
        "train_result = learner.validate(class_names=t.get_classes(), val_data=train_data, print_report=False)\n",
        "val_result = learner.validate(class_names=t.get_classes(), val_data=val_data, print_report=False)\n",
        "test_result = learner.validate(class_names=t.get_classes(), val_data=test_data)\n",
        "print(test_result)\n",
        "learner.plot('loss')\n",
        "LOGGER.info('Successfully validated test set.')"
      ],
      "execution_count": 14,
      "outputs": [
        {
          "output_type": "stream",
          "text": [
            "              precision    recall  f1-score   support\n",
            "\n",
            "   not-vague       0.85      0.56      0.67       126\n",
            "       vague       0.23      0.59      0.33        29\n",
            "\n",
            "    accuracy                           0.56       155\n",
            "   macro avg       0.54      0.57      0.50       155\n",
            "weighted avg       0.74      0.56      0.61       155\n",
            "\n",
            "[[70 56]\n",
            " [12 17]]\n"
          ],
          "name": "stdout"
        },
        {
          "output_type": "display_data",
          "data": {
            "image/png": "[encoded data removed]",
            "text/plain": [
              "<Figure size 432x288 with 1 Axes>"
            ]
          },
          "metadata": {
            "tags": [],
            "needs_background": "light"
          }
        },
        {
          "output_type": "stream",
          "text": [
            "2020-07-09 12:07:12,091 [colab-notebook      ] [INFO ]  Successfully validated test set.\n"
          ],
          "name": "stdout"
        }
      ]
    },
    {
      "cell_type": "markdown",
      "metadata": {
        "id": "4vbRyh4Wyk8Q",
        "colab_type": "text"
      },
      "source": [
        "## STEP 3: Gather Results\n",
        "\n",
        "Gather results, calulate metrics and write them to the drive."
      ]
    },
    {
      "cell_type": "code",
      "metadata": {
        "id": "8dYROS_Tyqs6",
        "colab_type": "code",
        "colab": {
          "base_uri": "https://localhost:8080/",
          "height": 34
        },
        "outputId": "7151888a-216b-458e-c0b9-bc4403ddf512"
      },
      "source": [
        "import os\n",
        "import json\n",
        "from os import path\n",
        "\n",
        "from vaguerequirementslib import TP, TN, FP, FN, calc_all_metrics\n",
        "\n",
        "def build_result_data(test_result: List) -> dict:\n",
        "    result_data = {\n",
        "        'metrics':{\n",
        "            'train': {\n",
        "                'vague': {\n",
        "                    TP: int(train_result[1][1]),\n",
        "                    FP: int(train_result[0][1]),\n",
        "                    TN: int(train_result[0][0]),\n",
        "                    FN: int(train_result[1][0])\n",
        "                },\n",
        "                'not_vague': {\n",
        "                    TP: int(train_result[0][0]),\n",
        "                    FP: int(train_result[1][0]),\n",
        "                    TN: int(train_result[1][1]),\n",
        "                    FN: int(train_result[0][1])\n",
        "                }\n",
        "            },\n",
        "            'validation': {\n",
        "                'vague': {\n",
        "                    TP: int(val_result[1][1]),\n",
        "                    FP: int(val_result[0][1]),\n",
        "                    TN: int(val_result[0][0]),\n",
        "                    FN: int(val_result[1][0])\n",
        "                },\n",
        "                'not_vague': {\n",
        "                    TP: int(val_result[0][0]),\n",
        "                    FP: int(val_result[1][0]),\n",
        "                    TN: int(val_result[1][1]),\n",
        "                    FN: int(val_result[0][1])\n",
        "                }\n",
        "            },\n",
        "            'test': {\n",
        "                'vague': {\n",
        "                    TP: int(test_result[1][1]),\n",
        "                    FP: int(test_result[0][1]),\n",
        "                    TN: int(test_result[0][0]),\n",
        "                    FN: int(test_result[1][0])\n",
        "                },\n",
        "                'not_vague': {\n",
        "                    TP: int(test_result[0][0]),\n",
        "                    FP: int(test_result[1][0]),\n",
        "                    TN: int(test_result[1][1]),\n",
        "                    FN: int(test_result[0][1])\n",
        "                }\n",
        "            }\n",
        "        },\n",
        "        'misc': {   \n",
        "            'random_state': RANDOM_STATE,\n",
        "            'learning_history': learning_history\n",
        "        },\n",
        "        'data_set':{\n",
        "            'summary': {\n",
        "                'data_files': DATA_FILE_NAMES,\n",
        "                'vague_data_points': df_vague_count,\n",
        "                'not_vague_data_points': df_not_vague_count,\n",
        "            },\n",
        "            'train': {\n",
        "                'resampling_strategy': RESAMPLING_STRATEGY,\n",
        "                'proportion': TRAIN_VAL_TEST_PROPORTION[0],\n",
        "                'vague_data_points': train_df_vague_count,\n",
        "                'not_vague_data_points': train_df_not_vague_count\n",
        "            },\n",
        "            'validation': {\n",
        "                'proportion': TRAIN_VAL_TEST_PROPORTION[1],\n",
        "                'vague_data_points': val_df_vague_count,\n",
        "                'not_vague_data_points': val_df_not_vague_count\n",
        "            },\n",
        "            'test': {\n",
        "                'proportion': TRAIN_VAL_TEST_PROPORTION[2],\n",
        "                'vague_data_points': test_df_vague_count,\n",
        "                'not_vague_data_points': test_df_not_vague_count\n",
        "            }\n",
        "        },\n",
        "        'hyperparameter': {\n",
        "            'learning_rate': LEARNING_RATE,\n",
        "            'epochs': EPOCHS,\n",
        "            'model_name': MODEL_NAME,\n",
        "            'max_len': MAX_LEN,\n",
        "            'batch_size': BATCH_SIZE,\n",
        "            'max_features': MAX_FEATURES,\n",
        "            'ngram_range': NGRAM_RANGE,\n",
        "        }\n",
        "    }\n",
        "\n",
        "    for key in result_data['metrics']:\n",
        "        result_data['metrics'][key]['not_vague'].update(calc_all_metrics(**result_data['metrics'][key]['not_vague']))\n",
        "        result_data['metrics'][key]['vague'].update(calc_all_metrics(**result_data['metrics'][key]['vague']))\n",
        "    \n",
        "    return result_data\n",
        "\n",
        "result_data = build_result_data(test_result)\n",
        "# Get the predictor\n",
        "predictor = ktrain.get_predictor(learner.model, preproc=t)\n",
        "LOGGER.info('Successfully built result data.')"
      ],
      "execution_count": 10,
      "outputs": [
        {
          "output_type": "stream",
          "text": [
            "2020-07-09 12:03:14,042 [colab-notebook      ] [INFO ]  Successfully built result data.\n"
          ],
          "name": "stdout"
        }
      ]
    },
    {
      "cell_type": "markdown",
      "metadata": {
        "id": "LdbYfab8cEVu",
        "colab_type": "text"
      },
      "source": [
        "## STEP 3.1 Save the Results\n",
        "Check out the [FAQ](https://github.com/amaiya/ktrain/blob/master/FAQ.md#method-1-using-predictor-api-works-for-any-model) for how to load a model from a predictor."
      ]
    },
    {
      "cell_type": "code",
      "metadata": {
        "id": "tF3XGeIecKer",
        "colab_type": "code",
        "colab": {
          "base_uri": "https://localhost:8080/",
          "height": 34
        },
        "outputId": "6ac33745-d1ee-40f3-9877-b42d7ad6b664"
      },
      "source": [
        "import os\n",
        "\n",
        "class NumpyJSONEncoder(json.JSONEncoder):\n",
        "    def default(self, obj):\n",
        "        if isinstance(obj, np.integer):\n",
        "            return int(obj)\n",
        "        elif isinstance(obj, np.floating):\n",
        "            return float(obj)\n",
        "        elif isinstance(obj, np.ndarray):\n",
        "            return obj.tolist()\n",
        "        else:\n",
        "            return super(NumpyJSONEncoder, self).default(obj)\n",
        "\n",
        "# Save the corresponding model (predictor)\n",
        "predictor.save(path.join(result_dir, 'predictor'))\n",
        "\n",
        "# Save the evaluation result (test_data results)\n",
        "os.makedirs(result_dir, exist_ok=True)\n",
        "with open(path.join(result_dir, 'evaluation.json'), mode='w', encoding='utf-8') as json_file:\n",
        "    json.dump(result_data, json_file, indent=4, cls=NumpyJSONEncoder)\n",
        "LOGGER.info(f'Successfully saved result data to directory=\"{result_dir}\".')"
      ],
      "execution_count": null,
      "outputs": [
        {
          "output_type": "stream",
          "text": [
            "2020-07-07 20:06:38,977 [colab-notebook      ] [INFO ]  Successfully saved result data to directory=\"/content/drive/My Drive/runs/2020-07-07/21-56-22\".\n"
          ],
          "name": "stdout"
        }
      ]
    },
    {
      "cell_type": "markdown",
      "metadata": {
        "id": "eIuTq8eqdXws",
        "colab_type": "text"
      },
      "source": [
        "## STEP 4 Inspect the Model and its Losses"
      ]
    },
    {
      "cell_type": "markdown",
      "metadata": {
        "id": "yhG3fPtPcVKe",
        "colab_type": "text"
      },
      "source": [
        "Let's examine the validation example about which we were the most wrong."
      ]
    },
    {
      "cell_type": "code",
      "metadata": {
        "id": "mCABLebacTWM",
        "colab_type": "code",
        "colab": {
          "base_uri": "https://localhost:8080/",
          "height": 225
        },
        "outputId": "f9627d03-fd6d-4732-a1e6-676d27ff7756"
      },
      "source": [
        "learner.view_top_losses(n=4, preproc=t, val_data=test_data)\n",
        "top_losses = learner.top_losses(n=4, preproc=t, val_data=test_data)"
      ],
      "execution_count": null,
      "outputs": [
        {
          "output_type": "stream",
          "text": [
            "----------\n",
            "id:16 | loss:1.26 | true:not-vague | pred:vague)\n",
            "\n",
            "----------\n",
            "id:22 | loss:1.2 | true:not-vague | pred:vague)\n",
            "\n",
            "----------\n",
            "id:12 | loss:1.18 | true:not-vague | pred:vague)\n",
            "\n",
            "----------\n",
            "id:8 | loss:0.99 | true:vague | pred:not-vague)\n",
            "\n"
          ],
          "name": "stdout"
        }
      ]
    },
    {
      "cell_type": "code",
      "metadata": {
        "id": "JuMmx8f5dr45",
        "colab_type": "code",
        "colab": {
          "base_uri": "https://localhost:8080/",
          "height": 124
        },
        "outputId": "b2f7df3c-d348-4aec-c75c-0d20d1d048e7"
      },
      "source": [
        "top_loss_req = test_df.iloc[16]['requirement'] # Requirement that produces top loss\n",
        "\n",
        "print(predictor.predict(top_loss_req))\n",
        "\n",
        "# predicted probability scores for each category\n",
        "print(predictor.predict_proba(top_loss_req))\n",
        "print(top_loss_req)"
      ],
      "execution_count": null,
      "outputs": [
        {
          "output_type": "stream",
          "text": [
            "2020-07-07 07:56:25,775 [MainThread          ] [DEBUG]  Starting new HTTPS connection (1): s3.amazonaws.com:443\n",
            "2020-07-07 07:56:26,194 [MainThread          ] [DEBUG]  https://s3.amazonaws.com:443 \"HEAD /models.huggingface.co/bert/bert-base-uncased-vocab.txt HTTP/1.1\" 200 0\n"
          ],
          "name": "stdout"
        },
        {
          "output_type": "display_data",
          "data": {
            "text/html": [
              ""
            ],
            "text/plain": [
              "<IPython.core.display.HTML object>"
            ]
          },
          "metadata": {
            "tags": []
          }
        },
        {
          "output_type": "stream",
          "text": [
            "vague\n"
          ],
          "name": "stdout"
        },
        {
          "output_type": "display_data",
          "data": {
            "text/html": [
              ""
            ],
            "text/plain": [
              "<IPython.core.display.HTML object>"
            ]
          },
          "metadata": {
            "tags": []
          }
        },
        {
          "output_type": "stream",
          "text": [
            "[0.28304783 0.71695215]\n",
            "The developer shall establish, control, and maintain a software test environment to perform integration and qualification testing of software.\n"
          ],
          "name": "stdout"
        }
      ]
    },
    {
      "cell_type": "markdown",
      "metadata": {
        "id": "9tHos7V6d8RQ",
        "colab_type": "text"
      },
      "source": [
        "Let's invoke the `explain` method to see which words contribute most to the classification."
      ]
    },
    {
      "cell_type": "code",
      "metadata": {
        "id": "3HgZDLYUeVaM",
        "colab_type": "code",
        "colab": {
          "base_uri": "https://localhost:8080/",
          "height": 644
        },
        "outputId": "c350edd0-49cd-4916-f167-41c7512310a9"
      },
      "source": [
        "from IPython.core.display import display\n",
        "\n",
        "for id, _, _, _ in top_losses:\n",
        "    top_loss_req = test_df.iloc[id]['requirement'] # Requirement that produces top loss\n",
        "    display(predictor.explain(top_loss_req, n_samples=1_000))"
      ],
      "execution_count": null,
      "outputs": [
        {
          "output_type": "display_data",
          "data": {
            "text/html": [
              ""
            ],
            "text/plain": [
              "<IPython.core.display.HTML object>"
            ]
          },
          "metadata": {
            "tags": []
          }
        },
        {
          "output_type": "display_data",
          "data": {
            "text/html": [
              ""
            ],
            "text/plain": [
              "<IPython.core.display.HTML object>"
            ]
          },
          "metadata": {
            "tags": []
          }
        },
        {
          "output_type": "display_data",
          "data": {
            "text/html": [
              "\n",
              "    <style>\n",
              "    table.eli5-weights tr:hover {\n",
              "        filter: brightness(85%);\n",
              "    }\n",
              "</style>\n",
              "\n",
              "\n",
              "\n",
              "    \n",
              "\n",
              "    \n",
              "\n",
              "    \n",
              "\n",
              "    \n",
              "\n",
              "    \n",
              "\n",
              "    \n",
              "\n",
              "\n",
              "    \n",
              "\n",
              "    \n",
              "\n",
              "    \n",
              "\n",
              "    \n",
              "        \n",
              "\n",
              "    \n",
              "\n",
              "        \n",
              "\n",
              "        \n",
              "    \n",
              "        \n",
              "        \n",
              "    \n",
              "        <p style=\"margin-bottom: 0.5em; margin-top: 0em\">\n",
              "            <b>\n",
              "    \n",
              "        y=vague\n",
              "    \n",
              "</b>\n",
              "\n",
              "    \n",
              "    (probability <b>0.611</b>, score <b>0.451</b>)\n",
              "\n",
              "top features\n",
              "        </p>\n",
              "    \n",
              "    <table class=\"eli5-weights\"\n",
              "           style=\"border-collapse: collapse; border: none; margin-top: 0em; table-layout: auto; margin-bottom: 2em;\">\n",
              "        <thead>\n",
              "        <tr style=\"border: none;\">\n",
              "            \n",
              "                <th style=\"padding: 0 1em 0 0.5em; text-align: right; border: none;\" title=\"Feature contribution already accounts for the feature value (for linear models, contribution = weight * feature value), and the sum of feature contributions is equal to the score or, for some classifiers, to the probability. Feature values are shown if &quot;show_feature_values&quot; is True.\">\n",
              "                    Contribution<sup>?</sup>\n",
              "                </th>\n",
              "            \n",
              "            <th style=\"padding: 0 0.5em 0 0.5em; text-align: left; border: none;\">Feature</th>\n",
              "            \n",
              "        </tr>\n",
              "        </thead>\n",
              "        <tbody>\n",
              "        \n",
              "            <tr style=\"background-color: hsl(120, 100.00%, 80.00%); border: none;\">\n",
              "    <td style=\"padding: 0 1em 0 0.5em; text-align: right; border: none;\">\n",
              "        +0.641\n",
              "    </td>\n",
              "    <td style=\"padding: 0 0.5em 0 0.5em; text-align: left; border: none;\">\n",
              "        Highlighted in text (sum)\n",
              "    </td>\n",
              "    \n",
              "</tr>\n",
              "        \n",
              "        \n",
              "\n",
              "        \n",
              "        \n",
              "            <tr style=\"background-color: hsl(0, 100.00%, 91.47%); border: none;\">\n",
              "    <td style=\"padding: 0 1em 0 0.5em; text-align: right; border: none;\">\n",
              "        -0.190\n",
              "    </td>\n",
              "    <td style=\"padding: 0 0.5em 0 0.5em; text-align: left; border: none;\">\n",
              "        &lt;BIAS&gt;\n",
              "    </td>\n",
              "    \n",
              "</tr>\n",
              "        \n",
              "\n",
              "        </tbody>\n",
              "    </table>\n",
              "\n",
              "    \n",
              "\n",
              "\n",
              "\n",
              "    <p style=\"margin-bottom: 2.5em; margin-top:-0.5em;\">\n",
              "        <span style=\"background-color: hsl(120, 100.00%, 94.28%); opacity: 0.81\" title=\"0.036\">the</span><span style=\"opacity: 0.80\"> </span><span style=\"background-color: hsl(120, 100.00%, 80.17%); opacity: 0.87\" title=\"0.215\">developer</span><span style=\"opacity: 0.80\"> </span><span style=\"background-color: hsl(0, 100.00%, 60.00%); opacity: 1.00\" title=\"-0.585\">shall</span><span style=\"opacity: 0.80\"> </span><span style=\"background-color: hsl(0, 100.00%, 73.58%); opacity: 0.91\" title=\"-0.324\">establish</span><span style=\"opacity: 0.80\">, </span><span style=\"background-color: hsl(120, 100.00%, 88.10%); opacity: 0.84\" title=\"0.104\">control</span><span style=\"opacity: 0.80\">, </span><span style=\"background-color: hsl(120, 100.00%, 95.70%); opacity: 0.81\" title=\"0.024\">and</span><span style=\"opacity: 0.80\"> </span><span style=\"background-color: hsl(120, 100.00%, 89.00%); opacity: 0.83\" title=\"0.093\">maintain</span><span style=\"opacity: 0.80\"> </span><span style=\"background-color: hsl(0, 100.00%, 88.16%); opacity: 0.84\" title=\"-0.103\">a</span><span style=\"opacity: 0.80\"> </span><span style=\"background-color: hsl(0, 100.00%, 85.55%); opacity: 0.85\" title=\"-0.137\">software</span><span style=\"opacity: 0.80\"> </span><span style=\"background-color: hsl(120, 100.00%, 93.63%); opacity: 0.81\" title=\"0.042\">test</span><span style=\"opacity: 0.80\"> </span><span style=\"background-color: hsl(120, 100.00%, 92.80%); opacity: 0.82\" title=\"0.050\">environment</span><span style=\"opacity: 0.80\"> </span><span style=\"background-color: hsl(0, 100.00%, 92.19%); opacity: 0.82\" title=\"-0.057\">to</span><span style=\"opacity: 0.80\"> </span><span style=\"background-color: hsl(120, 100.00%, 84.40%); opacity: 0.85\" title=\"0.152\">perform</span><span style=\"opacity: 0.80\"> </span><span style=\"background-color: hsl(0, 100.00%, 94.63%); opacity: 0.81\" title=\"-0.033\">integration</span><span style=\"opacity: 0.80\"> </span><span style=\"background-color: hsl(0, 100.00%, 93.77%); opacity: 0.81\" title=\"-0.041\">and</span><span style=\"opacity: 0.80\"> </span><span style=\"background-color: hsl(0, 100.00%, 98.46%); opacity: 0.80\" title=\"-0.006\">qualification</span><span style=\"opacity: 0.80\"> </span><span style=\"background-color: hsl(120, 100.00%, 90.64%); opacity: 0.83\" title=\"0.073\">testing</span><span style=\"opacity: 0.80\"> </span><span style=\"background-color: hsl(0, 100.00%, 95.95%); opacity: 0.81\" title=\"-0.022\">of</span><span style=\"opacity: 0.80\"> </span><span style=\"background-color: hsl(120, 100.00%, 76.66%); opacity: 0.89\" title=\"0.271\">software</span><span style=\"opacity: 0.80\">.</span>\n",
              "    </p>\n",
              "\n",
              "\n",
              "    \n",
              "\n",
              "    \n",
              "\n",
              "    \n",
              "\n",
              "    \n",
              "\n",
              "\n",
              "    \n",
              "\n",
              "    \n",
              "\n",
              "    \n",
              "\n",
              "    \n",
              "\n",
              "    \n",
              "\n",
              "    \n",
              "\n",
              "\n",
              "    \n",
              "\n",
              "    \n",
              "\n",
              "    \n",
              "\n",
              "    \n",
              "\n",
              "    \n",
              "\n",
              "    \n",
              "\n",
              "\n",
              "\n"
            ],
            "text/plain": [
              "<IPython.core.display.HTML object>"
            ]
          },
          "metadata": {
            "tags": []
          }
        },
        {
          "output_type": "display_data",
          "data": {
            "text/html": [
              ""
            ],
            "text/plain": [
              "<IPython.core.display.HTML object>"
            ]
          },
          "metadata": {
            "tags": []
          }
        },
        {
          "output_type": "display_data",
          "data": {
            "text/html": [
              ""
            ],
            "text/plain": [
              "<IPython.core.display.HTML object>"
            ]
          },
          "metadata": {
            "tags": []
          }
        },
        {
          "output_type": "display_data",
          "data": {
            "text/html": [
              "\n",
              "    <style>\n",
              "    table.eli5-weights tr:hover {\n",
              "        filter: brightness(85%);\n",
              "    }\n",
              "</style>\n",
              "\n",
              "\n",
              "\n",
              "    \n",
              "\n",
              "    \n",
              "\n",
              "    \n",
              "\n",
              "    \n",
              "\n",
              "    \n",
              "\n",
              "    \n",
              "\n",
              "\n",
              "    \n",
              "\n",
              "    \n",
              "\n",
              "    \n",
              "\n",
              "    \n",
              "        \n",
              "\n",
              "    \n",
              "\n",
              "        \n",
              "\n",
              "        \n",
              "    \n",
              "        \n",
              "        \n",
              "    \n",
              "        <p style=\"margin-bottom: 0.5em; margin-top: 0em\">\n",
              "            <b>\n",
              "    \n",
              "        y=vague\n",
              "    \n",
              "</b>\n",
              "\n",
              "    \n",
              "    (probability <b>0.719</b>, score <b>0.939</b>)\n",
              "\n",
              "top features\n",
              "        </p>\n",
              "    \n",
              "    <table class=\"eli5-weights\"\n",
              "           style=\"border-collapse: collapse; border: none; margin-top: 0em; table-layout: auto; margin-bottom: 2em;\">\n",
              "        <thead>\n",
              "        <tr style=\"border: none;\">\n",
              "            \n",
              "                <th style=\"padding: 0 1em 0 0.5em; text-align: right; border: none;\" title=\"Feature contribution already accounts for the feature value (for linear models, contribution = weight * feature value), and the sum of feature contributions is equal to the score or, for some classifiers, to the probability. Feature values are shown if &quot;show_feature_values&quot; is True.\">\n",
              "                    Contribution<sup>?</sup>\n",
              "                </th>\n",
              "            \n",
              "            <th style=\"padding: 0 0.5em 0 0.5em; text-align: left; border: none;\">Feature</th>\n",
              "            \n",
              "        </tr>\n",
              "        </thead>\n",
              "        <tbody>\n",
              "        \n",
              "            <tr style=\"background-color: hsl(120, 100.00%, 80.00%); border: none;\">\n",
              "    <td style=\"padding: 0 1em 0 0.5em; text-align: right; border: none;\">\n",
              "        +1.088\n",
              "    </td>\n",
              "    <td style=\"padding: 0 0.5em 0 0.5em; text-align: left; border: none;\">\n",
              "        Highlighted in text (sum)\n",
              "    </td>\n",
              "    \n",
              "</tr>\n",
              "        \n",
              "        \n",
              "\n",
              "        \n",
              "        \n",
              "            <tr style=\"background-color: hsl(0, 100.00%, 95.03%); border: none;\">\n",
              "    <td style=\"padding: 0 1em 0 0.5em; text-align: right; border: none;\">\n",
              "        -0.149\n",
              "    </td>\n",
              "    <td style=\"padding: 0 0.5em 0 0.5em; text-align: left; border: none;\">\n",
              "        &lt;BIAS&gt;\n",
              "    </td>\n",
              "    \n",
              "</tr>\n",
              "        \n",
              "\n",
              "        </tbody>\n",
              "    </table>\n",
              "\n",
              "    \n",
              "\n",
              "\n",
              "\n",
              "    <p style=\"margin-bottom: 2.5em; margin-top:-0.5em;\">\n",
              "        <span style=\"background-color: hsl(0, 100.00%, 75.69%); opacity: 0.90\" title=\"-0.213\">these</span><span style=\"opacity: 0.80\"> </span><span style=\"background-color: hsl(120, 100.00%, 88.17%); opacity: 0.84\" title=\"0.076\">analyses</span><span style=\"opacity: 0.80\"> </span><span style=\"background-color: hsl(0, 100.00%, 77.00%); opacity: 0.89\" title=\"-0.196\">shall</span><span style=\"opacity: 0.80\"> </span><span style=\"background-color: hsl(120, 100.00%, 92.14%); opacity: 0.82\" title=\"0.042\">also</span><span style=\"opacity: 0.80\"> </span><span style=\"background-color: hsl(120, 100.00%, 97.34%); opacity: 0.80\" title=\"0.009\">consider</span><span style=\"opacity: 0.80\"> </span><span style=\"background-color: hsl(120, 100.00%, 69.64%); opacity: 0.93\" title=\"0.292\">effects</span><span style=\"opacity: 0.80\"> </span><span style=\"background-color: hsl(120, 100.00%, 89.07%); opacity: 0.83\" title=\"0.068\">of</span><span style=\"opacity: 0.80\"> </span><span style=\"background-color: hsl(0, 100.00%, 75.85%); opacity: 0.90\" title=\"-0.211\">sustained</span><span style=\"opacity: 0.80\"> </span><span style=\"background-color: hsl(120, 100.00%, 97.46%); opacity: 0.80\" title=\"0.008\">and</span><span style=\"opacity: 0.80\"> </span><span style=\"background-color: hsl(120, 100.00%, 80.80%); opacity: 0.87\" title=\"0.152\">continuous</span><span style=\"opacity: 0.80\"> </span><span style=\"background-color: hsl(120, 100.00%, 76.88%); opacity: 0.89\" title=\"0.198\">operations</span><span style=\"opacity: 0.80\"> </span><span style=\"background-color: hsl(120, 100.00%, 88.11%); opacity: 0.84\" title=\"0.077\">on</span><span style=\"opacity: 0.80\"> </span><span style=\"background-color: hsl(120, 100.00%, 73.32%); opacity: 0.91\" title=\"0.243\">human</span><span style=\"opacity: 0.80\"> </span><span style=\"background-color: hsl(120, 100.00%, 60.00%); opacity: 1.00\" title=\"0.433\">performance</span><span style=\"opacity: 0.80\">.</span>\n",
              "    </p>\n",
              "\n",
              "\n",
              "    \n",
              "\n",
              "    \n",
              "\n",
              "    \n",
              "\n",
              "    \n",
              "\n",
              "\n",
              "    \n",
              "\n",
              "    \n",
              "\n",
              "    \n",
              "\n",
              "    \n",
              "\n",
              "    \n",
              "\n",
              "    \n",
              "\n",
              "\n",
              "    \n",
              "\n",
              "    \n",
              "\n",
              "    \n",
              "\n",
              "    \n",
              "\n",
              "    \n",
              "\n",
              "    \n",
              "\n",
              "\n",
              "\n"
            ],
            "text/plain": [
              "<IPython.core.display.HTML object>"
            ]
          },
          "metadata": {
            "tags": []
          }
        },
        {
          "output_type": "display_data",
          "data": {
            "text/html": [
              ""
            ],
            "text/plain": [
              "<IPython.core.display.HTML object>"
            ]
          },
          "metadata": {
            "tags": []
          }
        },
        {
          "output_type": "display_data",
          "data": {
            "text/html": [
              ""
            ],
            "text/plain": [
              "<IPython.core.display.HTML object>"
            ]
          },
          "metadata": {
            "tags": []
          }
        },
        {
          "output_type": "display_data",
          "data": {
            "text/html": [
              "\n",
              "    <style>\n",
              "    table.eli5-weights tr:hover {\n",
              "        filter: brightness(85%);\n",
              "    }\n",
              "</style>\n",
              "\n",
              "\n",
              "\n",
              "    \n",
              "\n",
              "    \n",
              "\n",
              "    \n",
              "\n",
              "    \n",
              "\n",
              "    \n",
              "\n",
              "    \n",
              "\n",
              "\n",
              "    \n",
              "\n",
              "    \n",
              "\n",
              "    \n",
              "\n",
              "    \n",
              "        \n",
              "\n",
              "    \n",
              "\n",
              "        \n",
              "\n",
              "        \n",
              "    \n",
              "        \n",
              "        \n",
              "    \n",
              "        <p style=\"margin-bottom: 0.5em; margin-top: 0em\">\n",
              "            <b>\n",
              "    \n",
              "        y=vague\n",
              "    \n",
              "</b>\n",
              "\n",
              "    \n",
              "    (probability <b>0.815</b>, score <b>1.482</b>)\n",
              "\n",
              "top features\n",
              "        </p>\n",
              "    \n",
              "    <table class=\"eli5-weights\"\n",
              "           style=\"border-collapse: collapse; border: none; margin-top: 0em; table-layout: auto; margin-bottom: 2em;\">\n",
              "        <thead>\n",
              "        <tr style=\"border: none;\">\n",
              "            \n",
              "                <th style=\"padding: 0 1em 0 0.5em; text-align: right; border: none;\" title=\"Feature contribution already accounts for the feature value (for linear models, contribution = weight * feature value), and the sum of feature contributions is equal to the score or, for some classifiers, to the probability. Feature values are shown if &quot;show_feature_values&quot; is True.\">\n",
              "                    Contribution<sup>?</sup>\n",
              "                </th>\n",
              "            \n",
              "            <th style=\"padding: 0 0.5em 0 0.5em; text-align: left; border: none;\">Feature</th>\n",
              "            \n",
              "        </tr>\n",
              "        </thead>\n",
              "        <tbody>\n",
              "        \n",
              "            <tr style=\"background-color: hsl(120, 100.00%, 80.00%); border: none;\">\n",
              "    <td style=\"padding: 0 1em 0 0.5em; text-align: right; border: none;\">\n",
              "        +1.787\n",
              "    </td>\n",
              "    <td style=\"padding: 0 0.5em 0 0.5em; text-align: left; border: none;\">\n",
              "        Highlighted in text (sum)\n",
              "    </td>\n",
              "    \n",
              "</tr>\n",
              "        \n",
              "        \n",
              "\n",
              "        \n",
              "        \n",
              "            <tr style=\"background-color: hsl(0, 100.00%, 94.20%); border: none;\">\n",
              "    <td style=\"padding: 0 1em 0 0.5em; text-align: right; border: none;\">\n",
              "        -0.305\n",
              "    </td>\n",
              "    <td style=\"padding: 0 0.5em 0 0.5em; text-align: left; border: none;\">\n",
              "        &lt;BIAS&gt;\n",
              "    </td>\n",
              "    \n",
              "</tr>\n",
              "        \n",
              "\n",
              "        </tbody>\n",
              "    </table>\n",
              "\n",
              "    \n",
              "\n",
              "\n",
              "\n",
              "    <p style=\"margin-bottom: 2.5em; margin-top:-0.5em;\">\n",
              "        <span style=\"background-color: hsl(120, 100.00%, 89.77%); opacity: 0.83\" title=\"0.046\">the</span><span style=\"opacity: 0.80\"> </span><span style=\"background-color: hsl(120, 100.00%, 95.91%); opacity: 0.81\" title=\"0.013\">complete</span><span style=\"opacity: 0.80\"> </span><span style=\"background-color: hsl(120, 100.00%, 78.13%); opacity: 0.88\" title=\"0.137\">test</span><span style=\"opacity: 0.80\"> </span><span style=\"background-color: hsl(120, 100.00%, 67.45%); opacity: 0.95\" title=\"0.242\">program</span><span style=\"opacity: 0.80\"> </span><span style=\"background-color: hsl(120, 100.00%, 70.93%); opacity: 0.93\" title=\"0.206\">for</span><span style=\"opacity: 0.80\"> </span><span style=\"background-color: hsl(120, 100.00%, 71.81%); opacity: 0.92\" title=\"0.197\">launch</span><span style=\"opacity: 0.80\"> </span><span style=\"background-color: hsl(0, 100.00%, 94.76%); opacity: 0.81\" title=\"-0.018\">vehicles</span><span style=\"opacity: 0.80\">, </span><span style=\"background-color: hsl(120, 100.00%, 80.31%); opacity: 0.87\" title=\"0.118\">upper</span><span style=\"opacity: 0.80\">-</span><span style=\"background-color: hsl(120, 100.00%, 90.83%); opacity: 0.82\" title=\"0.040\">stage</span><span style=\"opacity: 0.80\"> </span><span style=\"background-color: hsl(120, 100.00%, 83.40%); opacity: 0.86\" title=\"0.092\">vehicles</span><span style=\"opacity: 0.80\">, </span><span style=\"background-color: hsl(0, 100.00%, 91.44%); opacity: 0.82\" title=\"-0.036\">and</span><span style=\"opacity: 0.80\"> </span><span style=\"background-color: hsl(120, 100.00%, 73.82%); opacity: 0.91\" title=\"0.177\">space</span><span style=\"opacity: 0.80\"> </span><span style=\"background-color: hsl(120, 100.00%, 78.94%); opacity: 0.88\" title=\"0.130\">vehicles</span><span style=\"opacity: 0.80\"> </span><span style=\"background-color: hsl(0, 100.00%, 60.00%); opacity: 1.00\" title=\"-0.325\">encompasses</span><span style=\"opacity: 0.80\"> </span><span style=\"background-color: hsl(120, 100.00%, 96.45%); opacity: 0.81\" title=\"0.010\">development</span><span style=\"opacity: 0.80\">, </span><span style=\"background-color: hsl(120, 100.00%, 74.77%); opacity: 0.90\" title=\"0.168\">qualification</span><span style=\"opacity: 0.80\">, </span><span style=\"background-color: hsl(120, 100.00%, 85.32%); opacity: 0.85\" title=\"0.078\">acceptance</span><span style=\"opacity: 0.80\">, </span><span style=\"background-color: hsl(120, 100.00%, 77.59%); opacity: 0.89\" title=\"0.142\">system</span><span style=\"opacity: 0.80\">, pre-</span><span style=\"background-color: hsl(120, 100.00%, 93.90%); opacity: 0.81\" title=\"0.022\">launch</span><span style=\"opacity: 0.80\"> </span><span style=\"background-color: hsl(120, 100.00%, 79.38%); opacity: 0.88\" title=\"0.126\">validation</span><span style=\"opacity: 0.80\">, </span><span style=\"background-color: hsl(0, 100.00%, 97.58%); opacity: 0.80\" title=\"-0.006\">and</span><span style=\"opacity: 0.80\"> </span><span style=\"background-color: hsl(120, 100.00%, 83.90%); opacity: 0.85\" title=\"0.088\">post</span><span style=\"opacity: 0.80\">-</span><span style=\"background-color: hsl(120, 100.00%, 84.12%); opacity: 0.85\" title=\"0.087\">launch</span><span style=\"opacity: 0.80\"> </span><span style=\"background-color: hsl(0, 100.00%, 91.17%); opacity: 0.82\" title=\"-0.038\">validation</span><span style=\"opacity: 0.80\"> </span><span style=\"background-color: hsl(120, 100.00%, 95.27%); opacity: 0.81\" title=\"0.015\">tests</span><span style=\"opacity: 0.80\">.</span>\n",
              "    </p>\n",
              "\n",
              "\n",
              "    \n",
              "\n",
              "    \n",
              "\n",
              "    \n",
              "\n",
              "    \n",
              "\n",
              "\n",
              "    \n",
              "\n",
              "    \n",
              "\n",
              "    \n",
              "\n",
              "    \n",
              "\n",
              "    \n",
              "\n",
              "    \n",
              "\n",
              "\n",
              "    \n",
              "\n",
              "    \n",
              "\n",
              "    \n",
              "\n",
              "    \n",
              "\n",
              "    \n",
              "\n",
              "    \n",
              "\n",
              "\n",
              "\n"
            ],
            "text/plain": [
              "<IPython.core.display.HTML object>"
            ]
          },
          "metadata": {
            "tags": []
          }
        },
        {
          "output_type": "display_data",
          "data": {
            "text/html": [
              ""
            ],
            "text/plain": [
              "<IPython.core.display.HTML object>"
            ]
          },
          "metadata": {
            "tags": []
          }
        },
        {
          "output_type": "display_data",
          "data": {
            "text/html": [
              ""
            ],
            "text/plain": [
              "<IPython.core.display.HTML object>"
            ]
          },
          "metadata": {
            "tags": []
          }
        },
        {
          "output_type": "display_data",
          "data": {
            "text/html": [
              "\n",
              "    <style>\n",
              "    table.eli5-weights tr:hover {\n",
              "        filter: brightness(85%);\n",
              "    }\n",
              "</style>\n",
              "\n",
              "\n",
              "\n",
              "    \n",
              "\n",
              "    \n",
              "\n",
              "    \n",
              "\n",
              "    \n",
              "\n",
              "    \n",
              "\n",
              "    \n",
              "\n",
              "\n",
              "    \n",
              "\n",
              "    \n",
              "\n",
              "    \n",
              "\n",
              "    \n",
              "        \n",
              "\n",
              "    \n",
              "\n",
              "        \n",
              "\n",
              "        \n",
              "    \n",
              "        \n",
              "        \n",
              "    \n",
              "        <p style=\"margin-bottom: 0.5em; margin-top: 0em\">\n",
              "            <b>\n",
              "    \n",
              "        y=not-vague\n",
              "    \n",
              "</b>\n",
              "\n",
              "    \n",
              "    (probability <b>0.424</b>, score <b>0.307</b>)\n",
              "\n",
              "top features\n",
              "        </p>\n",
              "    \n",
              "    <table class=\"eli5-weights\"\n",
              "           style=\"border-collapse: collapse; border: none; margin-top: 0em; table-layout: auto; margin-bottom: 2em;\">\n",
              "        <thead>\n",
              "        <tr style=\"border: none;\">\n",
              "            \n",
              "                <th style=\"padding: 0 1em 0 0.5em; text-align: right; border: none;\" title=\"Feature contribution already accounts for the feature value (for linear models, contribution = weight * feature value), and the sum of feature contributions is equal to the score or, for some classifiers, to the probability. Feature values are shown if &quot;show_feature_values&quot; is True.\">\n",
              "                    Contribution<sup>?</sup>\n",
              "                </th>\n",
              "            \n",
              "            <th style=\"padding: 0 0.5em 0 0.5em; text-align: left; border: none;\">Feature</th>\n",
              "            \n",
              "        </tr>\n",
              "        </thead>\n",
              "        <tbody>\n",
              "        \n",
              "            <tr style=\"background-color: hsl(120, 100.00%, 87.88%); border: none;\">\n",
              "    <td style=\"padding: 0 1em 0 0.5em; text-align: right; border: none;\">\n",
              "        +0.294\n",
              "    </td>\n",
              "    <td style=\"padding: 0 0.5em 0 0.5em; text-align: left; border: none;\">\n",
              "        &lt;BIAS&gt;\n",
              "    </td>\n",
              "    \n",
              "</tr>\n",
              "        \n",
              "        \n",
              "\n",
              "        \n",
              "        \n",
              "            <tr style=\"background-color: hsl(0, 100.00%, 80.00%); border: none;\">\n",
              "    <td style=\"padding: 0 1em 0 0.5em; text-align: right; border: none;\">\n",
              "        -0.601\n",
              "    </td>\n",
              "    <td style=\"padding: 0 0.5em 0 0.5em; text-align: left; border: none;\">\n",
              "        Highlighted in text (sum)\n",
              "    </td>\n",
              "    \n",
              "</tr>\n",
              "        \n",
              "\n",
              "        </tbody>\n",
              "    </table>\n",
              "\n",
              "    \n",
              "\n",
              "\n",
              "\n",
              "    <p style=\"margin-bottom: 2.5em; margin-top:-0.5em;\">\n",
              "        <span style=\"background-color: hsl(120, 100.00%, 86.26%); opacity: 0.84\" title=\"0.055\">this</span><span style=\"opacity: 0.80\"> </span><span style=\"background-color: hsl(120, 100.00%, 90.08%); opacity: 0.83\" title=\"0.035\">eurocontrol</span><span style=\"opacity: 0.80\"> </span><span style=\"background-color: hsl(120, 100.00%, 76.79%); opacity: 0.89\" title=\"0.117\">specification</span><span style=\"opacity: 0.80\"> </span><span style=\"background-color: hsl(120, 100.00%, 86.16%); opacity: 0.84\" title=\"0.056\">on</span><span style=\"opacity: 0.80\"> </span><span style=\"background-color: hsl(0, 100.00%, 83.90%); opacity: 0.85\" title=\"-0.069\">the</span><span style=\"opacity: 0.80\"> </span><span style=\"background-color: hsl(0, 100.00%, 89.60%); opacity: 0.83\" title=\"-0.037\">air</span><span style=\"opacity: 0.80\"> </span><span style=\"background-color: hsl(120, 100.00%, 76.12%); opacity: 0.90\" title=\"0.121\">traffic</span><span style=\"opacity: 0.80\"> </span><span style=\"background-color: hsl(120, 100.00%, 93.53%); opacity: 0.81\" title=\"0.019\">services</span><span style=\"opacity: 0.80\"> message </span><span style=\"background-color: hsl(0, 100.00%, 73.38%); opacity: 0.91\" title=\"-0.142\">handling</span><span style=\"opacity: 0.80\"> </span><span style=\"background-color: hsl(0, 100.00%, 77.84%); opacity: 0.89\" title=\"-0.109\">system</span><span style=\"opacity: 0.80\"> (</span><span style=\"background-color: hsl(0, 100.00%, 91.36%); opacity: 0.82\" title=\"-0.028\">amhs</span><span style=\"opacity: 0.80\">) </span><span style=\"background-color: hsl(0, 100.00%, 95.56%); opacity: 0.81\" title=\"-0.011\">is</span><span style=\"opacity: 0.80\"> </span><span style=\"background-color: hsl(0, 100.00%, 60.00%); opacity: 1.00\" title=\"-0.253\">developed</span><span style=\"opacity: 0.80\"> </span><span style=\"background-color: hsl(0, 100.00%, 71.95%); opacity: 0.92\" title=\"-0.153\">to</span><span style=\"opacity: 0.80\"> </span><span style=\"background-color: hsl(120, 100.00%, 86.11%); opacity: 0.84\" title=\"0.056\">complement</span><span style=\"opacity: 0.80\"> </span><span style=\"background-color: hsl(120, 100.00%, 87.29%); opacity: 0.84\" title=\"0.049\">the</span><span style=\"opacity: 0.80\"> </span><span style=\"background-color: hsl(120, 100.00%, 94.58%); opacity: 0.81\" title=\"0.015\">single</span><span style=\"opacity: 0.80\"> </span><span style=\"background-color: hsl(0, 100.00%, 92.90%); opacity: 0.82\" title=\"-0.021\">european</span><span style=\"opacity: 0.80\"> </span><span style=\"background-color: hsl(0, 100.00%, 84.80%); opacity: 0.85\" title=\"-0.064\">sky</span><span style=\"opacity: 0.80\"> (</span><span style=\"background-color: hsl(120, 100.00%, 88.70%); opacity: 0.83\" title=\"0.042\">ses</span><span style=\"opacity: 0.80\">) </span><span style=\"background-color: hsl(0, 100.00%, 71.95%); opacity: 0.92\" title=\"-0.153\">interoperability</span><span style=\"opacity: 0.80\"> </span><span style=\"background-color: hsl(0, 100.00%, 72.26%); opacity: 0.92\" title=\"-0.150\">regulation</span><span style=\"opacity: 0.80\"> [</span><span style=\"background-color: hsl(120, 100.00%, 91.74%); opacity: 0.82\" title=\"0.027\">1</span><span style=\"opacity: 0.80\">] </span><span style=\"background-color: hsl(0, 100.00%, 83.32%); opacity: 0.86\" title=\"-0.073\">in</span><span style=\"opacity: 0.80\"> </span><span style=\"background-color: hsl(0, 100.00%, 81.09%); opacity: 0.87\" title=\"-0.087\">the</span><span style=\"opacity: 0.80\"> </span><span style=\"background-color: hsl(0, 100.00%, 98.07%); opacity: 0.80\" title=\"-0.003\">area</span><span style=\"opacity: 0.80\"> </span><span style=\"background-color: hsl(0, 100.00%, 87.16%); opacity: 0.84\" title=\"-0.050\">of</span><span style=\"opacity: 0.80\"> </span><span style=\"background-color: hsl(0, 100.00%, 84.02%); opacity: 0.85\" title=\"-0.068\">ground</span><span style=\"opacity: 0.80\">-</span><span style=\"background-color: hsl(0, 100.00%, 60.14%); opacity: 1.00\" title=\"-0.252\">ground</span><span style=\"opacity: 0.80\"> </span><span style=\"background-color: hsl(0, 100.00%, 66.57%); opacity: 0.95\" title=\"-0.196\">ats</span><span style=\"opacity: 0.80\"> </span><span style=\"background-color: hsl(0, 100.00%, 70.58%); opacity: 0.93\" title=\"-0.163\">communications</span><span style=\"opacity: 0.80\">.</span>\n",
              "    </p>\n",
              "\n",
              "\n",
              "    \n",
              "\n",
              "    \n",
              "\n",
              "    \n",
              "\n",
              "    \n",
              "\n",
              "\n",
              "    \n",
              "\n",
              "    \n",
              "\n",
              "    \n",
              "\n",
              "    \n",
              "\n",
              "    \n",
              "\n",
              "    \n",
              "\n",
              "\n",
              "    \n",
              "\n",
              "    \n",
              "\n",
              "    \n",
              "\n",
              "    \n",
              "\n",
              "    \n",
              "\n",
              "    \n",
              "\n",
              "\n",
              "\n"
            ],
            "text/plain": [
              "<IPython.core.display.HTML object>"
            ]
          },
          "metadata": {
            "tags": []
          }
        }
      ]
    },
    {
      "cell_type": "markdown",
      "metadata": {
        "id": "mcph2bSLe5cW",
        "colab_type": "text"
      },
      "source": [
        "The words in the darkest shade of green contribute most to the classification and agree with what you would expect for this example."
      ]
    }
  ]
}