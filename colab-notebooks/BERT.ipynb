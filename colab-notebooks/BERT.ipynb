{
  "nbformat": 4,
  "nbformat_minor": 0,
  "metadata": {
    "colab": {
      "name": "vague-requirements-bert.ipynb",
      "provenance": [],
      "collapsed_sections": [],
      "toc_visible": true,
      "include_colab_link": true
    },
    "kernelspec": {
      "name": "python3",
      "display_name": "Python 3"
    },
    "accelerator": "GPU",
    "widgets": {
      "application/vnd.jupyter.widget-state+json": {
        "c7dd4fff6ea34e5c9b60a72f516486ef": {
          "model_module": "@jupyter-widgets/controls",
          "model_name": "HBoxModel",
          "state": {
            "_view_name": "HBoxView",
            "_dom_classes": [],
            "_model_name": "HBoxModel",
            "_view_module": "@jupyter-widgets/controls",
            "_model_module_version": "1.5.0",
            "_view_count": null,
            "_view_module_version": "1.5.0",
            "box_style": "",
            "layout": "IPY_MODEL_8ff86710a8fc4450b912d4b381ae6d19",
            "_model_module": "@jupyter-widgets/controls",
            "children": [
              "IPY_MODEL_adfb56acb31f40589a2c133f3a7532be",
              "IPY_MODEL_fca1038a4cbd47fdb33e08afd1068845"
            ]
          }
        },
        "8ff86710a8fc4450b912d4b381ae6d19": {
          "model_module": "@jupyter-widgets/base",
          "model_name": "LayoutModel",
          "state": {
            "_view_name": "LayoutView",
            "grid_template_rows": null,
            "right": null,
            "justify_content": null,
            "_view_module": "@jupyter-widgets/base",
            "overflow": null,
            "_model_module_version": "1.2.0",
            "_view_count": null,
            "flex_flow": null,
            "width": null,
            "min_width": null,
            "border": null,
            "align_items": null,
            "bottom": null,
            "_model_module": "@jupyter-widgets/base",
            "top": null,
            "grid_column": null,
            "overflow_y": null,
            "overflow_x": null,
            "grid_auto_flow": null,
            "grid_area": null,
            "grid_template_columns": null,
            "flex": null,
            "_model_name": "LayoutModel",
            "justify_items": null,
            "grid_row": null,
            "max_height": null,
            "align_content": null,
            "visibility": null,
            "align_self": null,
            "height": null,
            "min_height": null,
            "padding": null,
            "grid_auto_rows": null,
            "grid_gap": null,
            "max_width": null,
            "order": null,
            "_view_module_version": "1.2.0",
            "grid_template_areas": null,
            "object_position": null,
            "object_fit": null,
            "grid_auto_columns": null,
            "margin": null,
            "display": null,
            "left": null
          }
        },
        "adfb56acb31f40589a2c133f3a7532be": {
          "model_module": "@jupyter-widgets/controls",
          "model_name": "FloatProgressModel",
          "state": {
            "_view_name": "ProgressView",
            "style": "IPY_MODEL_5378a9249c29494e978611fb9d2185cd",
            "_dom_classes": [],
            "description": "Downloading: 100%",
            "_model_name": "FloatProgressModel",
            "bar_style": "success",
            "max": 433,
            "_view_module": "@jupyter-widgets/controls",
            "_model_module_version": "1.5.0",
            "value": 433,
            "_view_count": null,
            "_view_module_version": "1.5.0",
            "orientation": "horizontal",
            "min": 0,
            "description_tooltip": null,
            "_model_module": "@jupyter-widgets/controls",
            "layout": "IPY_MODEL_81b09b76544b40808d163dabe8819522"
          }
        },
        "fca1038a4cbd47fdb33e08afd1068845": {
          "model_module": "@jupyter-widgets/controls",
          "model_name": "HTMLModel",
          "state": {
            "_view_name": "HTMLView",
            "style": "IPY_MODEL_5b27b08335c34d2b9371ef165e23133e",
            "_dom_classes": [],
            "description": "",
            "_model_name": "HTMLModel",
            "placeholder": "​",
            "_view_module": "@jupyter-widgets/controls",
            "_model_module_version": "1.5.0",
            "value": " 433/433 [00:18&lt;00:00, 23.0B/s]",
            "_view_count": null,
            "_view_module_version": "1.5.0",
            "description_tooltip": null,
            "_model_module": "@jupyter-widgets/controls",
            "layout": "IPY_MODEL_9f3167c9e6354793bac1d2544501ae09"
          }
        },
        "5378a9249c29494e978611fb9d2185cd": {
          "model_module": "@jupyter-widgets/controls",
          "model_name": "ProgressStyleModel",
          "state": {
            "_view_name": "StyleView",
            "_model_name": "ProgressStyleModel",
            "description_width": "initial",
            "_view_module": "@jupyter-widgets/base",
            "_model_module_version": "1.5.0",
            "_view_count": null,
            "_view_module_version": "1.2.0",
            "bar_color": null,
            "_model_module": "@jupyter-widgets/controls"
          }
        },
        "81b09b76544b40808d163dabe8819522": {
          "model_module": "@jupyter-widgets/base",
          "model_name": "LayoutModel",
          "state": {
            "_view_name": "LayoutView",
            "grid_template_rows": null,
            "right": null,
            "justify_content": null,
            "_view_module": "@jupyter-widgets/base",
            "overflow": null,
            "_model_module_version": "1.2.0",
            "_view_count": null,
            "flex_flow": null,
            "width": null,
            "min_width": null,
            "border": null,
            "align_items": null,
            "bottom": null,
            "_model_module": "@jupyter-widgets/base",
            "top": null,
            "grid_column": null,
            "overflow_y": null,
            "overflow_x": null,
            "grid_auto_flow": null,
            "grid_area": null,
            "grid_template_columns": null,
            "flex": null,
            "_model_name": "LayoutModel",
            "justify_items": null,
            "grid_row": null,
            "max_height": null,
            "align_content": null,
            "visibility": null,
            "align_self": null,
            "height": null,
            "min_height": null,
            "padding": null,
            "grid_auto_rows": null,
            "grid_gap": null,
            "max_width": null,
            "order": null,
            "_view_module_version": "1.2.0",
            "grid_template_areas": null,
            "object_position": null,
            "object_fit": null,
            "grid_auto_columns": null,
            "margin": null,
            "display": null,
            "left": null
          }
        },
        "5b27b08335c34d2b9371ef165e23133e": {
          "model_module": "@jupyter-widgets/controls",
          "model_name": "DescriptionStyleModel",
          "state": {
            "_view_name": "StyleView",
            "_model_name": "DescriptionStyleModel",
            "description_width": "",
            "_view_module": "@jupyter-widgets/base",
            "_model_module_version": "1.5.0",
            "_view_count": null,
            "_view_module_version": "1.2.0",
            "_model_module": "@jupyter-widgets/controls"
          }
        },
        "9f3167c9e6354793bac1d2544501ae09": {
          "model_module": "@jupyter-widgets/base",
          "model_name": "LayoutModel",
          "state": {
            "_view_name": "LayoutView",
            "grid_template_rows": null,
            "right": null,
            "justify_content": null,
            "_view_module": "@jupyter-widgets/base",
            "overflow": null,
            "_model_module_version": "1.2.0",
            "_view_count": null,
            "flex_flow": null,
            "width": null,
            "min_width": null,
            "border": null,
            "align_items": null,
            "bottom": null,
            "_model_module": "@jupyter-widgets/base",
            "top": null,
            "grid_column": null,
            "overflow_y": null,
            "overflow_x": null,
            "grid_auto_flow": null,
            "grid_area": null,
            "grid_template_columns": null,
            "flex": null,
            "_model_name": "LayoutModel",
            "justify_items": null,
            "grid_row": null,
            "max_height": null,
            "align_content": null,
            "visibility": null,
            "align_self": null,
            "height": null,
            "min_height": null,
            "padding": null,
            "grid_auto_rows": null,
            "grid_gap": null,
            "max_width": null,
            "order": null,
            "_view_module_version": "1.2.0",
            "grid_template_areas": null,
            "object_position": null,
            "object_fit": null,
            "grid_auto_columns": null,
            "margin": null,
            "display": null,
            "left": null
          }
        },
        "223a2d4ad36544ccbbc205d564a40a01": {
          "model_module": "@jupyter-widgets/controls",
          "model_name": "HBoxModel",
          "state": {
            "_view_name": "HBoxView",
            "_dom_classes": [],
            "_model_name": "HBoxModel",
            "_view_module": "@jupyter-widgets/controls",
            "_model_module_version": "1.5.0",
            "_view_count": null,
            "_view_module_version": "1.5.0",
            "box_style": "",
            "layout": "IPY_MODEL_b80cb1573c3849b88a79db94eb342b2f",
            "_model_module": "@jupyter-widgets/controls",
            "children": [
              "IPY_MODEL_2d0fcb69f6c04dbfb70fcc56bccf67f0",
              "IPY_MODEL_3d8f9586d69442b188abd4a295d6a4b7"
            ]
          }
        },
        "b80cb1573c3849b88a79db94eb342b2f": {
          "model_module": "@jupyter-widgets/base",
          "model_name": "LayoutModel",
          "state": {
            "_view_name": "LayoutView",
            "grid_template_rows": null,
            "right": null,
            "justify_content": null,
            "_view_module": "@jupyter-widgets/base",
            "overflow": null,
            "_model_module_version": "1.2.0",
            "_view_count": null,
            "flex_flow": null,
            "width": null,
            "min_width": null,
            "border": null,
            "align_items": null,
            "bottom": null,
            "_model_module": "@jupyter-widgets/base",
            "top": null,
            "grid_column": null,
            "overflow_y": null,
            "overflow_x": null,
            "grid_auto_flow": null,
            "grid_area": null,
            "grid_template_columns": null,
            "flex": null,
            "_model_name": "LayoutModel",
            "justify_items": null,
            "grid_row": null,
            "max_height": null,
            "align_content": null,
            "visibility": null,
            "align_self": null,
            "height": null,
            "min_height": null,
            "padding": null,
            "grid_auto_rows": null,
            "grid_gap": null,
            "max_width": null,
            "order": null,
            "_view_module_version": "1.2.0",
            "grid_template_areas": null,
            "object_position": null,
            "object_fit": null,
            "grid_auto_columns": null,
            "margin": null,
            "display": null,
            "left": null
          }
        },
        "2d0fcb69f6c04dbfb70fcc56bccf67f0": {
          "model_module": "@jupyter-widgets/controls",
          "model_name": "FloatProgressModel",
          "state": {
            "_view_name": "ProgressView",
            "style": "IPY_MODEL_5d85b755591c4e058133cbf4766119ec",
            "_dom_classes": [],
            "description": "Downloading: 100%",
            "_model_name": "FloatProgressModel",
            "bar_style": "success",
            "max": 536063208,
            "_view_module": "@jupyter-widgets/controls",
            "_model_module_version": "1.5.0",
            "value": 536063208,
            "_view_count": null,
            "_view_module_version": "1.5.0",
            "orientation": "horizontal",
            "min": 0,
            "description_tooltip": null,
            "_model_module": "@jupyter-widgets/controls",
            "layout": "IPY_MODEL_e2b882ee413d46d7b1f4a5bab05aa0a7"
          }
        },
        "3d8f9586d69442b188abd4a295d6a4b7": {
          "model_module": "@jupyter-widgets/controls",
          "model_name": "HTMLModel",
          "state": {
            "_view_name": "HTMLView",
            "style": "IPY_MODEL_fa01c4d378694ad198fdfc003ac9fabd",
            "_dom_classes": [],
            "description": "",
            "_model_name": "HTMLModel",
            "placeholder": "​",
            "_view_module": "@jupyter-widgets/controls",
            "_model_module_version": "1.5.0",
            "value": " 536M/536M [00:18&lt;00:00, 28.7MB/s]",
            "_view_count": null,
            "_view_module_version": "1.5.0",
            "description_tooltip": null,
            "_model_module": "@jupyter-widgets/controls",
            "layout": "IPY_MODEL_b539ed491e264332865d76b0eb36b63d"
          }
        },
        "5d85b755591c4e058133cbf4766119ec": {
          "model_module": "@jupyter-widgets/controls",
          "model_name": "ProgressStyleModel",
          "state": {
            "_view_name": "StyleView",
            "_model_name": "ProgressStyleModel",
            "description_width": "initial",
            "_view_module": "@jupyter-widgets/base",
            "_model_module_version": "1.5.0",
            "_view_count": null,
            "_view_module_version": "1.2.0",
            "bar_color": null,
            "_model_module": "@jupyter-widgets/controls"
          }
        },
        "e2b882ee413d46d7b1f4a5bab05aa0a7": {
          "model_module": "@jupyter-widgets/base",
          "model_name": "LayoutModel",
          "state": {
            "_view_name": "LayoutView",
            "grid_template_rows": null,
            "right": null,
            "justify_content": null,
            "_view_module": "@jupyter-widgets/base",
            "overflow": null,
            "_model_module_version": "1.2.0",
            "_view_count": null,
            "flex_flow": null,
            "width": null,
            "min_width": null,
            "border": null,
            "align_items": null,
            "bottom": null,
            "_model_module": "@jupyter-widgets/base",
            "top": null,
            "grid_column": null,
            "overflow_y": null,
            "overflow_x": null,
            "grid_auto_flow": null,
            "grid_area": null,
            "grid_template_columns": null,
            "flex": null,
            "_model_name": "LayoutModel",
            "justify_items": null,
            "grid_row": null,
            "max_height": null,
            "align_content": null,
            "visibility": null,
            "align_self": null,
            "height": null,
            "min_height": null,
            "padding": null,
            "grid_auto_rows": null,
            "grid_gap": null,
            "max_width": null,
            "order": null,
            "_view_module_version": "1.2.0",
            "grid_template_areas": null,
            "object_position": null,
            "object_fit": null,
            "grid_auto_columns": null,
            "margin": null,
            "display": null,
            "left": null
          }
        },
        "fa01c4d378694ad198fdfc003ac9fabd": {
          "model_module": "@jupyter-widgets/controls",
          "model_name": "DescriptionStyleModel",
          "state": {
            "_view_name": "StyleView",
            "_model_name": "DescriptionStyleModel",
            "description_width": "",
            "_view_module": "@jupyter-widgets/base",
            "_model_module_version": "1.5.0",
            "_view_count": null,
            "_view_module_version": "1.2.0",
            "_model_module": "@jupyter-widgets/controls"
          }
        },
        "b539ed491e264332865d76b0eb36b63d": {
          "model_module": "@jupyter-widgets/base",
          "model_name": "LayoutModel",
          "state": {
            "_view_name": "LayoutView",
            "grid_template_rows": null,
            "right": null,
            "justify_content": null,
            "_view_module": "@jupyter-widgets/base",
            "overflow": null,
            "_model_module_version": "1.2.0",
            "_view_count": null,
            "flex_flow": null,
            "width": null,
            "min_width": null,
            "border": null,
            "align_items": null,
            "bottom": null,
            "_model_module": "@jupyter-widgets/base",
            "top": null,
            "grid_column": null,
            "overflow_y": null,
            "overflow_x": null,
            "grid_auto_flow": null,
            "grid_area": null,
            "grid_template_columns": null,
            "flex": null,
            "_model_name": "LayoutModel",
            "justify_items": null,
            "grid_row": null,
            "max_height": null,
            "align_content": null,
            "visibility": null,
            "align_self": null,
            "height": null,
            "min_height": null,
            "padding": null,
            "grid_auto_rows": null,
            "grid_gap": null,
            "max_width": null,
            "order": null,
            "_view_module_version": "1.2.0",
            "grid_template_areas": null,
            "object_position": null,
            "object_fit": null,
            "grid_auto_columns": null,
            "margin": null,
            "display": null,
            "left": null
          }
        }
      }
    }
  },
  "cells": [
    {
      "cell_type": "markdown",
      "metadata": {
        "id": "view-in-github",
        "colab_type": "text"
      },
      "source": [
        "<a href=\"https://colab.research.google.com/github/HaaLeo/vague-requirements-scripts/blob/master/colab-notebooks/BERT.ipynb\" target=\"_parent\"><img src=\"https://colab.research.google.com/assets/colab-badge.svg\" alt=\"Open In Colab\"/></a>"
      ]
    },
    {
      "cell_type": "markdown",
      "metadata": {
        "id": "DgfHNcOPbOk3"
      },
      "source": [
        "# Classify requirements as vague or not using [ktrain](https://github.com/amaiya/ktrain) and tensorflow\n"
      ]
    },
    {
      "cell_type": "markdown",
      "metadata": {
        "id": "6jOLkB2Gyq4e"
      },
      "source": [
        "## Install dependencies\n",
        "*ktrain* requires TensorFlow 2.1. See [amaiya/ktrain#151](https://github.com/amaiya/ktrain/issues/151).\n",
        "Further we install a forked version of eli5lib to gain insights in the model's decision process and some self built helper functions to preprocess MTurk result files."
      ]
    },
    {
      "cell_type": "code",
      "metadata": {
        "id": "BDBNS4iNXuUL",
        "outputId": "693807f4-d1c1-4874-92d2-1dc4f25a6576",
        "colab": {
          "base_uri": "https://localhost:8080/",
          "height": 139
        }
      },
      "source": [
        "%load_ext google.colab.data_table\n",
        "!pip3 install -q -U tensorflow_gpu==2.3.0 ktrain==0.23.0 imbalanced-learn==0.7.0 psutil==5.7.0 transformers==3.0.0\n",
        "!pip3 install -q -U git+https://github.com/HaaLeo/vague-requirements-scripts\n",
        "!pip3 install -q git+https://github.com/amaiya/eli5@tfkeras_0_10_1"
      ],
      "execution_count": 3,
      "outputs": [
        {
          "output_type": "stream",
          "text": [
            "The google.colab.data_table extension is already loaded. To reload it, use:\n",
            "  %reload_ext google.colab.data_table\n",
            "\u001b[K     |████████████████████████████████| 320.4MB 52kB/s \n",
            "\u001b[K     |████████████████████████████████| 460kB 51.8MB/s \n",
            "\u001b[K     |████████████████████████████████| 6.8MB 53.5MB/s \n",
            "\u001b[?25h  Building wheel for vaguerequirementslib (setup.py) ... \u001b[?25l\u001b[?25hdone\n",
            "  Building wheel for eli5 (setup.py) ... \u001b[?25l\u001b[?25hdone\n"
          ],
          "name": "stdout"
        }
      ]
    },
    {
      "cell_type": "code",
      "metadata": {
        "id": "Mbl9-EOofDB2"
      },
      "source": [
        "!pip install -q tensorflow_gpu==2.3.0 --upgrade --force-reinstall"
      ],
      "execution_count": null,
      "outputs": []
    },
    {
      "cell_type": "code",
      "metadata": {
        "id": "cGpzV6ShhPBX"
      },
      "source": [
        "!pip install -q transformers==3.0.0 --upgrade"
      ],
      "execution_count": null,
      "outputs": []
    },
    {
      "cell_type": "markdown",
      "metadata": {
        "id": "5e1XeYJg3e_8"
      },
      "source": [
        "Check versions and enable logging"
      ]
    },
    {
      "cell_type": "code",
      "metadata": {
        "id": "MAA46kq4X0C_",
        "outputId": "13ba7efe-0917-4d40-c817-592d95506e34",
        "colab": {
          "base_uri": "https://localhost:8080/",
          "height": 34
        }
      },
      "source": [
        "import tensorflow as tf\n",
        "import tensorflow.keras\n",
        "import ktrain\n",
        "# import imblearn\n",
        "import psutil\n",
        "import transformers\n",
        "\n",
        "assert tf.__version__ == '2.3.0'\n",
        "assert ktrain.__version__ == '0.23.0'\n",
        "# assert imblearn.__version__ == '0.5.0'\n",
        "assert psutil.__version__ == '5.7.0'\n",
        "assert transformers.__version__ == '3.0.0'\n",
        "import logging\n",
        "import sys\n",
        "\n",
        "logging.basicConfig(\n",
        "    format='%(asctime)s [%(name)-20.20s] [%(levelname)-5.5s]  %(message)s',\n",
        "    stream=sys.stdout,\n",
        "    level=logging.INFO)\n",
        "\n",
        "LOGGER = logging.getLogger('colab-notebook')\n",
        "LOGGER.info('Hello from colab notebook')"
      ],
      "execution_count": 1,
      "outputs": [
        {
          "output_type": "stream",
          "text": [
            "2020-10-24 12:21:25,858 [colab-notebook      ] [INFO ]  Hello from colab notebook\n"
          ],
          "name": "stdout"
        }
      ]
    },
    {
      "cell_type": "markdown",
      "metadata": {
        "id": "n-2kIx7PwCR5"
      },
      "source": [
        "## Set Parameters\n",
        "Set the parameters for this run.\n",
        "Ktrain ignores `max_features` and `ngram_range` in v0.17.5, see [amaiya/ktrain/issues#190](https://github.com/amaiya/ktrain/issues/190)"
      ]
    },
    {
      "cell_type": "code",
      "metadata": {
        "id": "YF_VXFLkwC1s",
        "cellView": "both",
        "outputId": "d535d64d-9064-4a63-a996-70b3a468a203",
        "colab": {
          "base_uri": "https://localhost:8080/",
          "height": 54
        }
      },
      "source": [
        "#@title Set the parameter and hyperparameter \n",
        "#@markdown Set data files and proportion of train, val test set in source code\n",
        "\n",
        "def set_parameters() -> dict:\n",
        "    class_names = ['not-vague', 'vague'] # 0=not-vague 1=vague\n",
        "\n",
        "    # The following parameter can be edited with the form fields\n",
        "    random_state = 1  #@param {type:\"integer\"}\n",
        "\n",
        "    resampling_strategy = 'random_downsampling'#@param [\"random_downsampling\", \"random_upsampling\"]\n",
        "\n",
        "    kfold_splits = 10 #@param {type:\"integer\"}\n",
        "    learning_rate = 1e-5 #@param {type:\"number\"}\n",
        "    epochs =  2#@param {type:\"integer\"}\n",
        "    model_name = 'distilbert-base-uncased' #@param {type:\"string\"}\n",
        "    max_len = 256 #@param {type:\"integer\"}\n",
        "    batch_size = 6 #@param {type:\"integer\"}\n",
        "\n",
        "    return {\n",
        "        'class_names': class_names,\n",
        "\n",
        "        'random_state': random_state,\n",
        "\n",
        "        'resampling_strategy': resampling_strategy,\n",
        "\n",
        "        'kfold_splits': kfold_splits,\n",
        "        'learning_rate': learning_rate,\n",
        "        'epochs': epochs,\n",
        "        'model_name': model_name,\n",
        "        'max_len': max_len,\n",
        "        'batch_size': batch_size\n",
        "    }\n",
        "\n",
        "params = set_parameters()\n",
        "LOGGER.info(f'Sucessfully set parameters=\"{params}\".')"
      ],
      "execution_count": 2,
      "outputs": [
        {
          "output_type": "stream",
          "text": [
            "2020-10-24 12:21:28,346 [colab-notebook      ] [INFO ]  Sucessfully set parameters=\"{'class_names': ['not-vague', 'vague'], 'random_state': 1, 'resampling_strategy': 'random_downsampling', 'kfold_splits': 10, 'learning_rate': 1e-05, 'epochs': 2, 'model_name': 'distilbert-base-uncased', 'max_len': 256, 'batch_size': 6}\".\n"
          ],
          "name": "stdout"
        }
      ]
    },
    {
      "cell_type": "markdown",
      "metadata": {
        "id": "Cdk5lPu3bxze"
      },
      "source": [
        "## Load Dataset"
      ]
    },
    {
      "cell_type": "markdown",
      "metadata": {
        "id": "hl9XSystzRQs"
      },
      "source": [
        "### Mount Google Drive\n",
        "Mount the google drive to access the dataset"
      ]
    },
    {
      "cell_type": "code",
      "metadata": {
        "id": "tPQxmvhazWoy",
        "outputId": "10c7edb4-f226-44ac-9615-df7635e2ef9b",
        "colab": {
          "base_uri": "https://localhost:8080/",
          "height": 34
        }
      },
      "source": [
        "from google.colab import drive\n",
        "drive.mount('/content/drive')"
      ],
      "execution_count": 3,
      "outputs": [
        {
          "output_type": "stream",
          "text": [
            "Drive already mounted at /content/drive; to attempt to forcibly remount, call drive.mount(\"/content/drive\", force_remount=True).\n"
          ],
          "name": "stdout"
        }
      ]
    },
    {
      "cell_type": "markdown",
      "metadata": {
        "id": "s4XQHRbHzbb_"
      },
      "source": [
        "### Load Dataset"
      ]
    },
    {
      "cell_type": "code",
      "metadata": {
        "id": "DL5yXifL0SEh",
        "outputId": "cf792b50-8a2a-401c-a73e-90eac7be1a59",
        "colab": {
          "base_uri": "https://localhost:8080/",
          "height": 241
        }
      },
      "source": [
        "from vaguerequirementslib import read_csv_file\n",
        "\n",
        "train_df = read_csv_file('/content/drive/My Drive/datasets/corpus/train_data.csv')\n",
        "test_df = read_csv_file('/content/drive/My Drive/datasets/corpus/test_data.csv')\n",
        "\n",
        "test_df_vague_count = int(test_df[test_df.majority_label == 1].majority_label.value_counts())\n",
        "test_df_not_vague_count = int(test_df[test_df.majority_label == 0].majority_label.value_counts())\n",
        "LOGGER.info(f'Test data frame consists of {test_df_vague_count} vague data points and {test_df_not_vague_count} not vague data points.')\n",
        "\n",
        "df_vague_count = int(train_df[train_df.majority_label == 1].majority_label.value_counts())\n",
        "df_not_vague_count = int(train_df[train_df.majority_label == 0].majority_label.value_counts())\n",
        "LOGGER.info(f'Train data frame consists of {df_vague_count} vague data points and {df_not_vague_count} not vague data points.')\n",
        "train_df.head()"
      ],
      "execution_count": 4,
      "outputs": [
        {
          "output_type": "stream",
          "text": [
            "2020-10-24 12:21:31,548 [colab-notebook      ] [INFO ]  Test data frame consists of 59 vague data points and 219 not vague data points.\n",
            "2020-10-24 12:21:31,554 [colab-notebook      ] [INFO ]  Train data frame consists of 530 vague data points and 1968 not vague data points.\n"
          ],
          "name": "stdout"
        },
        {
          "output_type": "execute_result",
          "data": {
            "text/html": [
              "<div>\n",
              "<style scoped>\n",
              "    .dataframe tbody tr th:only-of-type {\n",
              "        vertical-align: middle;\n",
              "    }\n",
              "\n",
              "    .dataframe tbody tr th {\n",
              "        vertical-align: top;\n",
              "    }\n",
              "\n",
              "    .dataframe thead th {\n",
              "        text-align: right;\n",
              "    }\n",
              "</style>\n",
              "<table border=\"1\" class=\"dataframe\">\n",
              "  <thead>\n",
              "    <tr style=\"text-align: right;\">\n",
              "      <th></th>\n",
              "      <th>requirement</th>\n",
              "      <th>vague_count</th>\n",
              "      <th>not_vague_count</th>\n",
              "      <th>majority_label</th>\n",
              "    </tr>\n",
              "  </thead>\n",
              "  <tbody>\n",
              "    <tr>\n",
              "      <th>0</th>\n",
              "      <td>User selects a current date of the current all...</td>\n",
              "      <td>1</td>\n",
              "      <td>2</td>\n",
              "      <td>0</td>\n",
              "    </tr>\n",
              "    <tr>\n",
              "      <th>1</th>\n",
              "      <td>For complex systems, a series of PDRs for each...</td>\n",
              "      <td>2</td>\n",
              "      <td>0</td>\n",
              "      <td>1</td>\n",
              "    </tr>\n",
              "    <tr>\n",
              "      <th>2</th>\n",
              "      <td>All instances in which the microcircuit is not...</td>\n",
              "      <td>0</td>\n",
              "      <td>2</td>\n",
              "      <td>0</td>\n",
              "    </tr>\n",
              "    <tr>\n",
              "      <th>3</th>\n",
              "      <td>The cables, their routing and dressing should ...</td>\n",
              "      <td>1</td>\n",
              "      <td>2</td>\n",
              "      <td>0</td>\n",
              "    </tr>\n",
              "    <tr>\n",
              "      <th>4</th>\n",
              "      <td>The step frequencies Fstep,X are defined in ta...</td>\n",
              "      <td>1</td>\n",
              "      <td>2</td>\n",
              "      <td>0</td>\n",
              "    </tr>\n",
              "  </tbody>\n",
              "</table>\n",
              "</div>"
            ],
            "text/plain": [
              "                                         requirement  ...  majority_label\n",
              "0  User selects a current date of the current all...  ...               0\n",
              "1  For complex systems, a series of PDRs for each...  ...               1\n",
              "2  All instances in which the microcircuit is not...  ...               0\n",
              "3  The cables, their routing and dressing should ...  ...               0\n",
              "4  The step frequencies Fstep,X are defined in ta...  ...               0\n",
              "\n",
              "[5 rows x 4 columns]"
            ]
          },
          "metadata": {
            "tags": []
          },
          "execution_count": 4
        }
      ]
    },
    {
      "cell_type": "markdown",
      "metadata": {
        "id": "L1jPjv_sv1QE"
      },
      "source": [
        "## Utility Functions"
      ]
    },
    {
      "cell_type": "markdown",
      "metadata": {
        "id": "u8PnSxyZ87PA"
      },
      "source": [
        "### Clean up disk\n",
        "Remove temporary files and release memory"
      ]
    },
    {
      "cell_type": "code",
      "metadata": {
        "id": "9Ug4rk5h8znz"
      },
      "source": [
        "def cleanup_disk() -> None:\n",
        "    # Try to release memory\n",
        "    tf.keras.backend.clear_session()\n",
        "    # Prevent disk overflow\n",
        "    !rm -r /var/tmp/*\n",
        "    !rm -r /tmp/*"
      ],
      "execution_count": 5,
      "outputs": []
    },
    {
      "cell_type": "markdown",
      "metadata": {
        "id": "fb72So8PKxUF"
      },
      "source": [
        "### Resample and preprocess"
      ]
    },
    {
      "cell_type": "code",
      "metadata": {
        "id": "k4a9O2w4v04v",
        "outputId": "c7571ef0-28cb-4c8a-eb0a-9e621c285054",
        "colab": {
          "base_uri": "https://localhost:8080/",
          "height": 34
        }
      },
      "source": [
        "from typing import Tuple, List\n",
        "\n",
        "from imblearn.over_sampling import RandomOverSampler\n",
        "from imblearn.under_sampling import RandomUnderSampler\n",
        "from ktrain import text as txt\n",
        "import pandas as pd\n",
        "\n",
        "def resample(data_frame: pd.DataFrame, random_state: int, resampling_strategy: str = None) -> pd.DataFrame:\n",
        "    \"\"\"\n",
        "    Re sample the given dataframe to contain equally much samples of vague and not-vague requirements.\n",
        "\n",
        "    Args:\n",
        "        data_frame (pd.DataFrame): The data frame to upsample.\n",
        "        random_state (int): For seeding results\n",
        "        strategy (str): The resampling strategy to use either \"random_downsampling\", \"random_upsampling\" or None.\n",
        "\n",
        "    Returns:\n",
        "        pd.DataFrame: The resampled data frame.\n",
        "    \"\"\"\n",
        "    if resampling_strategy:\n",
        "        if resampling_strategy == 'random_downsampling':\n",
        "            sampler = RandomUnderSampler(sampling_strategy=1., random_state=random_state)\n",
        "        elif resampling_strategy == 'random_upsampling':\n",
        "            sampler = RandomOverSampler(sampling_strategy=1., random_state=random_state)\n",
        "\n",
        "        x, y = sampler.fit_resample(data_frame.requirement.to_numpy().reshape(-1, 1), data_frame.majority_label)\n",
        "        result = pd.DataFrame({'requirement': x.flatten(), 'majority_label': y})\n",
        "\n",
        "        LOGGER.info(f'Resampled dataset with strategy\"{resampling_strategy}\": vague count=\"{result.sum()[\"majority_label\"]}\", not vague count=\"{result.shape[0] - result.sum()[\"majority_label\"]}\"')\n",
        "    \n",
        "    else: \n",
        "        LOGGER.warning('Data frame will not be resampled, because no strategy was provided.')\n",
        "        result = data_frame\n",
        "    return result\n",
        "\n",
        "LOGGER.info('Defined resampling and preprocessing functions.')"
      ],
      "execution_count": 6,
      "outputs": [
        {
          "output_type": "stream",
          "text": [
            "2020-10-24 12:21:32,479 [colab-notebook      ] [INFO ]  Defined resampling and preprocessing functions.\n"
          ],
          "name": "stdout"
        }
      ]
    },
    {
      "cell_type": "markdown",
      "metadata": {
        "id": "4vbRyh4Wyk8Q"
      },
      "source": [
        "### Create result object\n",
        "\n",
        "Gather results, calulate metrics."
      ]
    },
    {
      "cell_type": "code",
      "metadata": {
        "id": "KVD6TnnULNiN",
        "outputId": "c496f79a-91d9-4444-92c5-fd98edcf66c7",
        "colab": {
          "base_uri": "https://localhost:8080/",
          "height": 34
        }
      },
      "source": [
        "import os\n",
        "import json\n",
        "from os import path\n",
        "\n",
        "from vaguerequirementslib import TP, TN, FP, FN, calc_all_metrics, calc_mean_average_precision\n",
        "\n",
        "def calc_metrics(evaluation_result, map_df=None) -> dict:\n",
        "    metrics_dict = {\n",
        "        'vague': {\n",
        "            TP: int(evaluation_result[1][1]),\n",
        "            FP: int(evaluation_result[0][1]),\n",
        "            TN: int(evaluation_result[0][0]),\n",
        "            FN: int(evaluation_result[1][0])\n",
        "        },\n",
        "        'not_vague': {\n",
        "            TP: int(evaluation_result[0][0]),\n",
        "            FP: int(evaluation_result[1][0]),\n",
        "            TN: int(evaluation_result[1][1]),\n",
        "            FN: int(evaluation_result[0][1])\n",
        "        }\n",
        "    }\n",
        "\n",
        "    metrics_dict['not_vague'].update(calc_all_metrics(**metrics_dict['not_vague']))\n",
        "    metrics_dict['vague'].update(calc_all_metrics(**metrics_dict['vague']))\n",
        "\n",
        "    if map_df is not None: # Mean average precision\n",
        "        map = calc_mean_average_precision(map_df)\n",
        "        metrics_dict['mean_average_precision'] = map[0]\n",
        "        metrics_dict['not_vague']['average_precision'] = map[1]\n",
        "        metrics_dict['vague']['average_precision'] = map[2]\n",
        "\n",
        "    return metrics_dict\n",
        "\n",
        "def build_fold_result(train_result, val_result, test_result, learning_history, train_map_df, val_map_df, test_map_df) -> dict:\n",
        "    fold_result = {\n",
        "        'metrics':{\n",
        "        },\n",
        "        'learning_history': learning_history\n",
        "    }\n",
        "\n",
        "    fold_result['metrics']['train'] = calc_metrics(train_result, train_map_df)\n",
        "    fold_result['metrics']['validation'] = calc_metrics(val_result, val_map_df)\n",
        "    fold_result['metrics']['test'] = calc_metrics(test_result, test_map_df)\n",
        "\n",
        "    LOGGER.debug('Successfully built fold result.')\n",
        "\n",
        "    return fold_result\n",
        "\n",
        "\n",
        "def build_result_data(fold_results: List, df_vague_count, df_not_vague_count, test_df_vague_count, test_df_not_vague_count, **kwargs) -> dict:\n",
        "    result_data = {\n",
        "        'misc': {   \n",
        "            'random_state': kwargs['random_state']\n",
        "        },\n",
        "        'data_set':{\n",
        "            'summary': {\n",
        "                'vague_data_points': df_vague_count,\n",
        "                'not_vague_data_points': df_not_vague_count,\n",
        "            },\n",
        "            'test': {\n",
        "                'vague_data_points': test_df_vague_count,\n",
        "                'not_vague_data_points': test_df_not_vague_count\n",
        "            },\n",
        "            'resampling_strategy': kwargs['resampling_strategy']\n",
        "        },\n",
        "        'fold_results': fold_results,\n",
        "        'hyperparameter': {\n",
        "            'learning_rate': kwargs['learning_rate'],\n",
        "            'epochs': kwargs['epochs'],\n",
        "            'model_name': kwargs['model_name'],\n",
        "            'max_len': kwargs['max_len'],\n",
        "            'batch_size': kwargs['batch_size']\n",
        "        }\n",
        "    }\n",
        "\n",
        "    LOGGER.debug('Successfully built result.')\n",
        "    return result_data\n",
        "\n",
        "\n",
        "def insert_probabilities(data_frame: pd.DataFrame, pred) -> None:\n",
        "    predictions = pred.predict_proba(list(data_frame.loc[:, 'requirement'])).transpose()\n",
        "    data_frame.loc[:, 'not_vague_prob'] = predictions[0] \n",
        "    data_frame.loc[:, 'vague_prob'] = predictions[1] \n",
        "\n",
        "LOGGER.info('Created functions for result object creation.')\n"
      ],
      "execution_count": 7,
      "outputs": [
        {
          "output_type": "stream",
          "text": [
            "2020-10-24 12:21:32,725 [colab-notebook      ] [INFO ]  Created functions for result object creation.\n"
          ],
          "name": "stdout"
        }
      ]
    },
    {
      "cell_type": "markdown",
      "metadata": {
        "id": "8JOuRdxKTuVH"
      },
      "source": [
        "### Save evaluation result"
      ]
    },
    {
      "cell_type": "code",
      "metadata": {
        "id": "iMpthouJTqUQ"
      },
      "source": [
        "import os\n",
        "import numpy as np\n",
        "\n",
        "\n",
        "def save_data(data: dict, file_path: str) -> None:\n",
        "    class NumpyJSONEncoder(json.JSONEncoder):\n",
        "        def default(self, obj):\n",
        "            if isinstance(obj, np.integer):\n",
        "                return int(obj)\n",
        "            elif isinstance(obj, np.floating):\n",
        "                return float(obj)\n",
        "            elif isinstance(obj, np.ndarray):\n",
        "                return obj.tolist()\n",
        "            else:\n",
        "                return super(NumpyJSONEncoder, self).default(obj)\n",
        "\n",
        "    # Save the evaluation result (test_data results)\n",
        "    os.makedirs(os.path.dirname(file_path), exist_ok=True)\n",
        "    with open(file_path, mode='w', encoding='utf-8') as json_file:\n",
        "        json.dump(data, json_file, indent=4, cls=NumpyJSONEncoder)\n",
        "    LOGGER.info(f'Successfully saved data to directory=\"{file_path}\".')\n",
        "\n",
        "def load_data(file_path: str) -> dict:\n",
        "    with open(file_path, mode='r', encoding='utf-8') as json_file:\n",
        "        data = json.load(json_file)\n",
        "    return data"
      ],
      "execution_count": 8,
      "outputs": []
    },
    {
      "cell_type": "markdown",
      "metadata": {
        "id": "TbtORRmiw7fx"
      },
      "source": [
        "### K-Fold Cross Validation"
      ]
    },
    {
      "cell_type": "code",
      "metadata": {
        "id": "9GkeZCUozM2U",
        "outputId": "6576002b-2124-4eb3-d160-30626e9048dd",
        "colab": {
          "base_uri": "https://localhost:8080/",
          "height": 34
        }
      },
      "source": [
        "from sklearn.model_selection import StratifiedKFold\n",
        "\n",
        "def perform_kfold_cross_validation(transformer, kfold_df, test_frame, **kwargs):\n",
        "    fold_results = []\n",
        "    fold_counter = 1\n",
        "\n",
        "    # Preprocess test data\n",
        "    test_data = transformer.preprocess_train(list(test_frame['requirement']), list(test_frame['majority_label']))\n",
        "\n",
        "\n",
        "    # Cerate k folds\n",
        "    kfold = StratifiedKFold(n_splits=kwargs['kfold_splits'], shuffle=True, random_state=kwargs['random_state'])\n",
        "    for train_idx, val_idx in kfold.split(kfold_df.requirement, kfold_df.majority_label):\n",
        "        LOGGER.info(f'\\n######################\\n### Process fold {fold_counter} / {kwargs[\"kfold_splits\"]}\\n######################')\n",
        "\n",
        "        # Get training data and validation data for this fold\n",
        "        curr_train_df = kfold_df.iloc[train_idx]\n",
        "        val_df = kfold_df.iloc[val_idx]\n",
        "        LOGGER.info(f'Training dataset: vague count=\"{int(curr_train_df[curr_train_df.majority_label == 1].majority_label.value_counts())}\", not vague count=\"{int(train_df[train_df.majority_label == 0].majority_label.value_counts())}\".')\n",
        "        LOGGER.info(f'Validation dataset: vague count=\"{int(val_df[val_df.majority_label == 1].majority_label.value_counts())}\", not vague count=\"{int(val_df[val_df.majority_label == 0].majority_label.value_counts())}\".')\n",
        "        \n",
        "        # Resample train df \n",
        "        LOGGER.info('Resample training data set.')\n",
        "        curr_train_df = resample(curr_train_df, kwargs['random_state'], kwargs['resampling_strategy'])\n",
        "\n",
        "        LOGGER.info(f'Preprocess training and validation data for the model=\"{kwargs[\"model_name\"]}\".')\n",
        "        train_data = transformer.preprocess_train(list(curr_train_df['requirement']), list(curr_train_df['majority_label']))\n",
        "        val_data = transformer.preprocess_train(list(val_df['requirement']), list(val_df['majority_label']))\n",
        "\n",
        "        # Get the learner for the new fold\n",
        "        LOGGER.info('Fit the model for one cycle.')\n",
        "        learner = ktrain.get_learner(transformer.get_classifier(), train_data=train_data, val_data=val_data, batch_size=kwargs['batch_size'])\n",
        "        learner.model.get_layer(index=0).trainable = False\n",
        "        LOGGER.info('\\n%s',learner.model.summary())\n",
        "        # Find a suitable learning rate\n",
        "        # learner.lr_find(show_plot=True, start_lr=1e-09, max_epochs=kwargs['epochs'])\n",
        "        # print(learner.lr_estimate())\n",
        "        \n",
        "        # Fit the model\n",
        "        learning_history = learner.fit_onecycle(kwargs['learning_rate'], kwargs['epochs']).history\n",
        "        # learner.plot('loss')\n",
        "\n",
        "        # Evaluate the model\n",
        "        train_result = learner.validate(class_names=kwargs['class_names'], val_data=train_data, print_report=False)\n",
        "        val_result = learner.validate(class_names=kwargs['class_names'], val_data=val_data, print_report=False)\n",
        "        test_result = learner.validate(class_names=kwargs['class_names'], val_data=test_data)\n",
        "\n",
        "        # Prepare dfs for map calculation\n",
        "        current_predictor = ktrain.get_predictor(learner.model, preproc=transformer)\n",
        "        insert_probabilities(curr_train_df, current_predictor)\n",
        "        insert_probabilities(val_df, current_predictor)\n",
        "        insert_probabilities(test_df, current_predictor)\n",
        "        \n",
        "        # build fold result\n",
        "        fold_result = build_fold_result(train_result, val_result, test_result, learning_history, curr_train_df, val_df, test_df)\n",
        "        fold_results.append(fold_result)\n",
        "\n",
        "        fold_counter += 1\n",
        "\n",
        "    LOGGER.info('Successfully trained model.')\n",
        "\n",
        "    \n",
        "    return fold_results, learner\n",
        "\n",
        "LOGGER.info('Defined k-fold cross validation.')"
      ],
      "execution_count": 9,
      "outputs": [
        {
          "output_type": "stream",
          "text": [
            "2020-10-24 12:21:33,441 [colab-notebook      ] [INFO ]  Defined k-fold cross validation.\n"
          ],
          "name": "stdout"
        }
      ]
    },
    {
      "cell_type": "markdown",
      "metadata": {
        "id": "qe0zwG-3Wzpx"
      },
      "source": [
        "### Create a Transformer Model and Train it"
      ]
    },
    {
      "cell_type": "code",
      "metadata": {
        "id": "0T2kwCV5Oh_R",
        "outputId": "5a398c3e-09b9-4791-b2a9-61ea718b736d",
        "colab": {
          "base_uri": "https://localhost:8080/",
          "height": 34
        }
      },
      "source": [
        "from datetime import datetime\n",
        "from pytz import timezone\n",
        "\n",
        "def create_train_save(result_file_path, kfold_df, test_df, **kwargs):\n",
        "    \"\"\"Create and train a model. Afterwards save its evaluation results.\"\"\"\n",
        "    # Create the transformer\n",
        "    t = txt.Transformer(kwargs['model_name'], maxlen=kwargs['max_len'], class_names=kwargs['class_names'])\n",
        "\n",
        "    # Perform k fold cross validation\n",
        "    fold_results, learner = perform_kfold_cross_validation(t, kfold_df, test_df, **kwargs)\n",
        "\n",
        "    predictor = ktrain.get_predictor(learner.model, preproc=t)\n",
        "    \n",
        "    # Build and save the evaluation result\n",
        "    eval_result = build_result_data(fold_results, df_vague_count, df_not_vague_count, test_df_vague_count, test_df_not_vague_count, **kwargs)\n",
        "    save_data(eval_result, result_file_path)\n",
        "\n",
        "    return learner, predictor\n",
        "\n",
        "LOGGER.info('Defined method to create and train a model and save its results')"
      ],
      "execution_count": 10,
      "outputs": [
        {
          "output_type": "stream",
          "text": [
            "2020-10-24 12:21:35,034 [colab-notebook      ] [INFO ]  Defined method to create and train a model and save its results\n"
          ],
          "name": "stdout"
        }
      ]
    },
    {
      "cell_type": "markdown",
      "metadata": {
        "id": "pe5xxVPrb4IO"
      },
      "source": [
        "## Main entry points\n",
        "\n",
        "Here are some cells as main entry points, enabling training a single model, grid search or thresholding.\n"
      ]
    },
    {
      "cell_type": "markdown",
      "metadata": {
        "id": "aCRoWu7VWn9l"
      },
      "source": [
        "### Grid Search\n",
        "Perform a grid search to find good hyperparameter"
      ]
    },
    {
      "cell_type": "code",
      "metadata": {
        "id": "x7xHMobyWnmc",
        "outputId": "e06730d8-2302-4703-bcf7-9650ca054abe",
        "colab": {
          "base_uri": "https://localhost:8080/",
          "height": 173
        }
      },
      "source": [
        "from copy import deepcopy\n",
        "from os import path\n",
        "const_params = {\n",
        "    'class_names': ['not-vague', 'vague'],\n",
        "    'random_state': 1,\n",
        "}\n",
        "\n",
        "param_grid = {\n",
        "    'resampling_strategy': ['random_upsampling', 'random_downsampling'],\n",
        "    'kfold_splits': [4, 8],\n",
        "    'learning_rate': [\n",
        "        2e-5, 3e-5,\n",
        "        4e-5, 5e-5, # e-5\n",
        "    ],\n",
        "    'epochs': [1, 2, 3],\n",
        "    'model_name': [\n",
        "        # 'distilbert-base-uncased',\n",
        "        # 'bert-base-uncased';\n",
        "        'nghuyong/ernie-2.0-en'\n",
        "    ],\n",
        "    'max_len': [64, 128],\n",
        "    'batch_size': [16, 32]\n",
        "}\n",
        "\n",
        "LOGGER.info('Start grid search.')\n",
        "LOGGER.info('Search for checkpoint.')\n",
        "\n",
        "checkpoint_found = False\n",
        "checkpoint_data = None\n",
        "skipped_config_counter = 0\n",
        "\n",
        "for model_name in param_grid['model_name']:\n",
        "    for resampling_strategy in param_grid['resampling_strategy']:\n",
        "        for kfold_splits in param_grid['kfold_splits']:\n",
        "            for epochs in param_grid['epochs']:\n",
        "                for max_len in  param_grid['max_len']:\n",
        "                    for batch_size in  param_grid['batch_size']:\n",
        "                        for learning_rate in param_grid['learning_rate']:\n",
        "                            # For every triggered fitting run create a new directory where the results will be saved\n",
        "                            now = datetime.now(timezone('Europe/Berlin'))\n",
        "\n",
        "                            result_dir = f'/content/drive/My Drive/runs/grid-search/earnie2.0'\n",
        "                            eval_file = now.strftime('%Y-%m-%d_%H-%M-%S-evaluation.json')\n",
        "                            result_file_path = path.join(result_dir, eval_file)\n",
        "                            checkpoint_file_path = path.join(result_dir, 'grid-search-checkpoint.json')\n",
        "\n",
        "                            current_params = deepcopy(const_params)\n",
        "                            current_params.update({\n",
        "                                'resampling_strategy': resampling_strategy,\n",
        "\n",
        "                                'kfold_splits': kfold_splits,\n",
        "                                'learning_rate': learning_rate,\n",
        "                                'epochs': epochs,\n",
        "                                'model_name': model_name,\n",
        "                                'max_len': max_len,\n",
        "                                'batch_size': batch_size\n",
        "                            })\n",
        "\n",
        "                            if not checkpoint_found:\n",
        "                                # Load checkpoint once\n",
        "                                if not checkpoint_data:\n",
        "                                    try: \n",
        "                                        checkpoint_data = load_data(checkpoint_file_path)\n",
        "                                    except FileNotFoundError:\n",
        "                                        # Start fresh grid search if no checkpoint was found\n",
        "                                        checkpoint_found = True\n",
        "                                        LOGGER.info(f'No checkpoint exists at path=\"{checkpoint_file_path}\". Start fresh grid search.')\n",
        "                                        save_data(param_grid, path.join(result_dir, 'grid-search-param-grid.json'))\n",
        "                                # Assert whether the checkpoint was reached / the current parameter set was handled.\n",
        "                                # Then continue from the next checkpoint\n",
        "                                if checkpoint_data == current_params:\n",
        "                                    checkpoint_found = True\n",
        "                                    LOGGER.info(f'Checkpoint was found. Skipped {skipped_config_counter} parameter configurations.')\n",
        "                                    continue\n",
        "                                else:\n",
        "                                    skipped_config_counter += 1\n",
        "                                    continue\n",
        "\n",
        "                            elif checkpoint_found:\n",
        "                                LOGGER.info(f'Consuming {psutil.cpu_percent()}% CPU and {psutil.virtual_memory().percent}% RAM.')\n",
        "                                LOGGER.info(f'Grid search with parameters=\"{current_params}\".')\n",
        "                                create_train_save(result_file_path, train_df, test_df, **current_params)\n",
        "\n",
        "                                # Save checkpoint configuration\n",
        "                                LOGGER.info('Save grid-search checkpoint.')\n",
        "                                save_data(current_params, checkpoint_file_path)\n",
        "\n",
        "                                cleanup_disk()"
      ],
      "execution_count": null,
      "outputs": [
        {
          "output_type": "stream",
          "text": [
            "              precision    recall  f1-score   support\n",
            "\n",
            "   not-vague       0.89      0.76      0.82       126\n",
            "       vague       0.36      0.59      0.45        29\n",
            "\n",
            "    accuracy                           0.73       155\n",
            "   macro avg       0.63      0.67      0.63       155\n",
            "weighted avg       0.79      0.73      0.75       155\n",
            "\n"
          ],
          "name": "stdout"
        },
        {
          "output_type": "display_data",
          "data": {
            "text/html": [
              ""
            ],
            "text/plain": [
              "<IPython.core.display.HTML object>"
            ]
          },
          "metadata": {
            "tags": []
          }
        }
      ]
    },
    {
      "cell_type": "markdown",
      "metadata": {
        "id": "T-vHWqidKKC9"
      },
      "source": [
        "### Train single model\n",
        "Create and train a single model"
      ]
    },
    {
      "cell_type": "code",
      "metadata": {
        "id": "CBzoTpaIKJyA",
        "outputId": "0ca9e2a0-f8f5-4459-83ca-43f07f080f2e",
        "colab": {
          "base_uri": "https://localhost:8080/",
          "height": 1000,
          "referenced_widgets": [
            "c7dd4fff6ea34e5c9b60a72f516486ef",
            "8ff86710a8fc4450b912d4b381ae6d19",
            "adfb56acb31f40589a2c133f3a7532be",
            "fca1038a4cbd47fdb33e08afd1068845",
            "5378a9249c29494e978611fb9d2185cd",
            "81b09b76544b40808d163dabe8819522",
            "5b27b08335c34d2b9371ef165e23133e",
            "9f3167c9e6354793bac1d2544501ae09",
            "223a2d4ad36544ccbbc205d564a40a01",
            "b80cb1573c3849b88a79db94eb342b2f",
            "2d0fcb69f6c04dbfb70fcc56bccf67f0",
            "3d8f9586d69442b188abd4a295d6a4b7",
            "5d85b755591c4e058133cbf4766119ec",
            "e2b882ee413d46d7b1f4a5bab05aa0a7",
            "fa01c4d378694ad198fdfc003ac9fabd",
            "b539ed491e264332865d76b0eb36b63d"
          ]
        }
      },
      "source": [
        "from os import path\n",
        "\n",
        "single_train_params = {\n",
        "    'class_names': ['not-vague', 'vague'],\n",
        "    'random_state': None,\n",
        "\n",
        "    # Paramater with highest f-score for BERT\n",
        "    'resampling_strategy': 'random_downsampling',\n",
        "    'kfold_splits': 4,\n",
        "    \n",
        "    'learning_rate': 1e-05,\n",
        "    'epochs': 2,\n",
        "    'model_name': 'bert-base-uncased',\n",
        "    'max_len': 128,\n",
        "    'batch_size': 16\n",
        "}\n",
        "\n",
        "good_model_found = False\n",
        "the_best_predictor = None\n",
        "best_f1_score = 0.\n",
        "the_best_pred_path = None\n",
        "\n",
        "while not good_model_found:     \n",
        "    # Create a new directory for each run\n",
        "    now = datetime.now(timezone('Europe/Berlin'))\n",
        "    result_dir = f'/content/drive/My Drive/runs/bert/3/{now.strftime(\"%Y-%m-%d_%H-%M-%S\")}'\n",
        "    result_file_path = path.join(result_dir, 'evaluation.json')\n",
        "\n",
        "    # Create and train model, save its evaluation\n",
        "    the_learner, the_predictor = create_train_save(result_file_path, train_df, test_df, **single_train_params)\n",
        "\n",
        "    eval_data = load_data(result_file_path)\n",
        "\n",
        "    current_f1_score = eval_data['fold_results'][-1]['metrics']['test']['vague']['f1_score']\n",
        "    if current_f1_score > best_f1_score:\n",
        "        # Remove previous best pred\n",
        "        !rm -r '{the_best_pred_path}'\n",
        "\n",
        "        # Update best predictor and save it\n",
        "        best_f1_score = current_f1_score\n",
        "        the_best_predictor = the_predictor\n",
        "        the_best_pred_path = path.join(result_dir, 'predictor')\n",
        "        \n",
        "        LOGGER.info(f'Save new best predictor who reached f1 score {best_f1_score}.')\n",
        "        the_best_predictor.save(path.join(result_dir, 'predictor'))\n",
        "\n",
        "    good_model_found = eval_data['fold_results'][-1]['metrics']['test']['vague']['f1_score'] >= 0.55 \n",
        "\n",
        "    if good_model_found:\n",
        "        LOGGER.info('Found a good model. Saving its predictor and exit search.')\n",
        "        # Save the corresponding model (predictor)\n",
        "    else:\n",
        "        LOGGER.info('Found no good model yet. Continue search.')\n",
        "\n",
        "    cleanup_disk()"
      ],
      "execution_count": null,
      "outputs": [
        {
          "output_type": "stream",
          "text": [
            "preprocessing train...\n",
            "language: en\n",
            "train sequence lengths:\n",
            "\tmean : 21\n",
            "\t95percentile : 39\n",
            "\t99percentile : 59\n"
          ],
          "name": "stdout"
        },
        {
          "output_type": "display_data",
          "data": {
            "text/html": [
              ""
            ],
            "text/plain": [
              "<IPython.core.display.HTML object>"
            ]
          },
          "metadata": {
            "tags": []
          }
        },
        {
          "output_type": "stream",
          "text": [
            "Is Multi-Label? False\n",
            "2020-08-19 08:35:04,159 [colab-notebook      ] [INFO ]  \n",
            "######################\n",
            "### Process fold 1 / 4\n",
            "######################\n",
            "2020-08-19 08:35:04,168 [colab-notebook      ] [INFO ]  Training dataset: vague count=\"397\", not vague count=\"1968\".\n",
            "2020-08-19 08:35:04,173 [colab-notebook      ] [INFO ]  Validation dataset: vague count=\"133\", not vague count=\"492\".\n",
            "2020-08-19 08:35:04,174 [colab-notebook      ] [INFO ]  Resample training data set.\n",
            "2020-08-19 08:35:04,205 [colab-notebook      ] [INFO ]  Resampled dataset with strategy\"random_downsampling\": vague count=\"397\", not vague count=\"397\"\n",
            "2020-08-19 08:35:04,206 [colab-notebook      ] [INFO ]  Preprocess training and validation data for the model=\"bert-base-uncased\".\n",
            "preprocessing train...\n",
            "language: en\n",
            "train sequence lengths:\n",
            "\tmean : 22\n",
            "\t95percentile : 42\n",
            "\t99percentile : 53\n"
          ],
          "name": "stdout"
        },
        {
          "output_type": "display_data",
          "data": {
            "text/html": [
              ""
            ],
            "text/plain": [
              "<IPython.core.display.HTML object>"
            ]
          },
          "metadata": {
            "tags": []
          }
        },
        {
          "output_type": "stream",
          "text": [
            "Is Multi-Label? False\n",
            "preprocessing train...\n",
            "language: en\n",
            "train sequence lengths:\n",
            "\tmean : 21\n",
            "\t95percentile : 40\n",
            "\t99percentile : 52\n"
          ],
          "name": "stdout"
        },
        {
          "output_type": "display_data",
          "data": {
            "text/html": [
              ""
            ],
            "text/plain": [
              "<IPython.core.display.HTML object>"
            ]
          },
          "metadata": {
            "tags": []
          }
        },
        {
          "output_type": "stream",
          "text": [
            "Is Multi-Label? False\n",
            "2020-08-19 08:35:05,222 [colab-notebook      ] [INFO ]  Fit the model for one cycle.\n",
            "2020-08-19 08:35:05,588 [filelock            ] [INFO ]  Lock 140570251804008 acquired on /root/.cache/torch/transformers/4dad0251492946e18ac39290fcfe91b89d370fee250efe9521476438fe8ca185.7156163d5fdc189c3016baca0775ffce230789d7fa2a42ef516483e4ca884517.lock\n"
          ],
          "name": "stdout"
        },
        {
          "output_type": "display_data",
          "data": {
            "application/vnd.jupyter.widget-view+json": {
              "model_id": "c7dd4fff6ea34e5c9b60a72f516486ef",
              "version_minor": 0,
              "version_major": 2
            },
            "text/plain": [
              "HBox(children=(FloatProgress(value=0.0, description='Downloading', max=433.0, style=ProgressStyle(description_…"
            ]
          },
          "metadata": {
            "tags": []
          }
        },
        {
          "output_type": "stream",
          "text": [
            "\n",
            "2020-08-19 08:35:06,058 [filelock            ] [INFO ]  Lock 140570251804008 released on /root/.cache/torch/transformers/4dad0251492946e18ac39290fcfe91b89d370fee250efe9521476438fe8ca185.7156163d5fdc189c3016baca0775ffce230789d7fa2a42ef516483e4ca884517.lock\n",
            "2020-08-19 08:35:06,140 [filelock            ] [INFO ]  Lock 140570251801936 acquired on /root/.cache/torch/transformers/336363d3718f8cc6432db4a768a053f96a9eae064c8c96aff2bc69fe73929770.4733ec82e81d40e9cf5fd04556267d8958fb150e9339390fc64206b7e5a79c83.h5.lock\n"
          ],
          "name": "stdout"
        },
        {
          "output_type": "display_data",
          "data": {
            "application/vnd.jupyter.widget-view+json": {
              "model_id": "223a2d4ad36544ccbbc205d564a40a01",
              "version_minor": 0,
              "version_major": 2
            },
            "text/plain": [
              "HBox(children=(FloatProgress(value=0.0, description='Downloading', max=536063208.0, style=ProgressStyle(descri…"
            ]
          },
          "metadata": {
            "tags": []
          }
        },
        {
          "output_type": "stream",
          "text": [
            "\n",
            "2020-08-19 08:35:24,839 [filelock            ] [INFO ]  Lock 140570251801936 released on /root/.cache/torch/transformers/336363d3718f8cc6432db4a768a053f96a9eae064c8c96aff2bc69fe73929770.4733ec82e81d40e9cf5fd04556267d8958fb150e9339390fc64206b7e5a79c83.h5.lock\n",
            "Model: \"tf_bert_for_sequence_classification_1\"\n",
            "_________________________________________________________________\n",
            "Layer (type)                 Output Shape              Param #   \n",
            "=================================================================\n",
            "bert (TFBertMainLayer)       multiple                  109482240 \n",
            "_________________________________________________________________\n",
            "dropout_75 (Dropout)         multiple                  0         \n",
            "_________________________________________________________________\n",
            "classifier (Dense)           multiple                  1538      \n",
            "=================================================================\n",
            "Total params: 109,483,778\n",
            "Trainable params: 1,538\n",
            "Non-trainable params: 109,482,240\n",
            "_________________________________________________________________\n",
            "2020-08-19 08:35:27,600 [colab-notebook      ] [INFO ]  \n",
            "None\n",
            "\n",
            "\n",
            "begin training using onecycle policy with max lr of 1e-05...\n",
            "Train for 50 steps, validate for 20 steps\n",
            "Epoch 1/2\n",
            "50/50 [==============================] - 40s 808ms/step - loss: 0.7060 - accuracy: 0.4937 - val_loss: 0.6549 - val_accuracy: 0.7392\n",
            "Epoch 2/2\n",
            "50/50 [==============================] - 25s 501ms/step - loss: 0.7008 - accuracy: 0.5025 - val_loss: 0.6754 - val_accuracy: 0.6256\n",
            "              precision    recall  f1-score   support\n",
            "\n",
            "   not-vague       0.80      0.80      0.80       219\n",
            "       vague       0.24      0.24      0.24        59\n",
            "\n",
            "    accuracy                           0.68       278\n",
            "   macro avg       0.52      0.52      0.52       278\n",
            "weighted avg       0.68      0.68      0.68       278\n",
            "\n"
          ],
          "name": "stdout"
        },
        {
          "output_type": "display_data",
          "data": {
            "text/html": [
              ""
            ],
            "text/plain": [
              "<IPython.core.display.HTML object>"
            ]
          },
          "metadata": {
            "tags": []
          }
        },
        {
          "output_type": "display_data",
          "data": {
            "text/html": [
              ""
            ],
            "text/plain": [
              "<IPython.core.display.HTML object>"
            ]
          },
          "metadata": {
            "tags": []
          }
        },
        {
          "output_type": "stream",
          "text": [
            "/usr/local/lib/python3.6/dist-packages/pandas/core/indexing.py:845: SettingWithCopyWarning: \n",
            "A value is trying to be set on a copy of a slice from a DataFrame.\n",
            "Try using .loc[row_indexer,col_indexer] = value instead\n",
            "\n",
            "See the caveats in the documentation: https://pandas.pydata.org/pandas-docs/stable/user_guide/indexing.html#returning-a-view-versus-a-copy\n",
            "  self.obj[key] = _infer_fill_value(value)\n",
            "/usr/local/lib/python3.6/dist-packages/pandas/core/indexing.py:966: SettingWithCopyWarning: \n",
            "A value is trying to be set on a copy of a slice from a DataFrame.\n",
            "Try using .loc[row_indexer,col_indexer] = value instead\n",
            "\n",
            "See the caveats in the documentation: https://pandas.pydata.org/pandas-docs/stable/user_guide/indexing.html#returning-a-view-versus-a-copy\n",
            "  self.obj[item] = s\n"
          ],
          "name": "stderr"
        },
        {
          "output_type": "display_data",
          "data": {
            "text/html": [
              ""
            ],
            "text/plain": [
              "<IPython.core.display.HTML object>"
            ]
          },
          "metadata": {
            "tags": []
          }
        },
        {
          "output_type": "error",
          "ename": "ValueError",
          "evalue": "ignored",
          "traceback": [
            "\u001b[0;31m---------------------------------------------------------------------------\u001b[0m",
            "\u001b[0;31mValueError\u001b[0m                                Traceback (most recent call last)",
            "\u001b[0;32m<ipython-input-21-c2a43afc0095>\u001b[0m in \u001b[0;36m<module>\u001b[0;34m()\u001b[0m\n\u001b[1;32m     28\u001b[0m \u001b[0;34m\u001b[0m\u001b[0m\n\u001b[1;32m     29\u001b[0m     \u001b[0;31m# Create and train model, save its evaluation\u001b[0m\u001b[0;34m\u001b[0m\u001b[0;34m\u001b[0m\u001b[0;34m\u001b[0m\u001b[0m\n\u001b[0;32m---> 30\u001b[0;31m     \u001b[0mthe_learner\u001b[0m\u001b[0;34m,\u001b[0m \u001b[0mthe_predictor\u001b[0m \u001b[0;34m=\u001b[0m \u001b[0mcreate_train_save\u001b[0m\u001b[0;34m(\u001b[0m\u001b[0mresult_file_path\u001b[0m\u001b[0;34m,\u001b[0m \u001b[0mtrain_df\u001b[0m\u001b[0;34m,\u001b[0m \u001b[0mtest_df\u001b[0m\u001b[0;34m,\u001b[0m \u001b[0;34m**\u001b[0m\u001b[0msingle_train_params\u001b[0m\u001b[0;34m)\u001b[0m\u001b[0;34m\u001b[0m\u001b[0;34m\u001b[0m\u001b[0m\n\u001b[0m\u001b[1;32m     31\u001b[0m \u001b[0;34m\u001b[0m\u001b[0m\n\u001b[1;32m     32\u001b[0m     \u001b[0meval_data\u001b[0m \u001b[0;34m=\u001b[0m \u001b[0mload_data\u001b[0m\u001b[0;34m(\u001b[0m\u001b[0mresult_file_path\u001b[0m\u001b[0;34m)\u001b[0m\u001b[0;34m\u001b[0m\u001b[0;34m\u001b[0m\u001b[0m\n",
            "\u001b[0;32m<ipython-input-12-86448b3baa2c>\u001b[0m in \u001b[0;36mcreate_train_save\u001b[0;34m(result_file_path, kfold_df, test_df, **kwargs)\u001b[0m\n\u001b[1;32m      8\u001b[0m \u001b[0;34m\u001b[0m\u001b[0m\n\u001b[1;32m      9\u001b[0m     \u001b[0;31m# Perform k fold cross validation\u001b[0m\u001b[0;34m\u001b[0m\u001b[0;34m\u001b[0m\u001b[0;34m\u001b[0m\u001b[0m\n\u001b[0;32m---> 10\u001b[0;31m     \u001b[0mfold_results\u001b[0m\u001b[0;34m,\u001b[0m \u001b[0mlearner\u001b[0m \u001b[0;34m=\u001b[0m \u001b[0mperform_kfold_cross_validation\u001b[0m\u001b[0;34m(\u001b[0m\u001b[0mt\u001b[0m\u001b[0;34m,\u001b[0m \u001b[0mkfold_df\u001b[0m\u001b[0;34m,\u001b[0m \u001b[0mtest_df\u001b[0m\u001b[0;34m,\u001b[0m \u001b[0;34m**\u001b[0m\u001b[0mkwargs\u001b[0m\u001b[0;34m)\u001b[0m\u001b[0;34m\u001b[0m\u001b[0;34m\u001b[0m\u001b[0m\n\u001b[0m\u001b[1;32m     11\u001b[0m \u001b[0;34m\u001b[0m\u001b[0m\n\u001b[1;32m     12\u001b[0m     \u001b[0mpredictor\u001b[0m \u001b[0;34m=\u001b[0m \u001b[0mktrain\u001b[0m\u001b[0;34m.\u001b[0m\u001b[0mget_predictor\u001b[0m\u001b[0;34m(\u001b[0m\u001b[0mlearner\u001b[0m\u001b[0;34m.\u001b[0m\u001b[0mmodel\u001b[0m\u001b[0;34m,\u001b[0m \u001b[0mpreproc\u001b[0m\u001b[0;34m=\u001b[0m\u001b[0mt\u001b[0m\u001b[0;34m)\u001b[0m\u001b[0;34m\u001b[0m\u001b[0;34m\u001b[0m\u001b[0m\n",
            "\u001b[0;32m<ipython-input-20-ec808f190b71>\u001b[0m in \u001b[0;36mperform_kfold_cross_validation\u001b[0;34m(transformer, kfold_df, test_frame, **kwargs)\u001b[0m\n\u001b[1;32m     53\u001b[0m \u001b[0;34m\u001b[0m\u001b[0m\n\u001b[1;32m     54\u001b[0m         \u001b[0;31m# build fold result\u001b[0m\u001b[0;34m\u001b[0m\u001b[0;34m\u001b[0m\u001b[0;34m\u001b[0m\u001b[0m\n\u001b[0;32m---> 55\u001b[0;31m         \u001b[0mfold_result\u001b[0m \u001b[0;34m=\u001b[0m \u001b[0mbuild_fold_result\u001b[0m\u001b[0;34m(\u001b[0m\u001b[0mtrain_result\u001b[0m\u001b[0;34m,\u001b[0m \u001b[0mval_result\u001b[0m\u001b[0;34m,\u001b[0m \u001b[0mtest_result\u001b[0m\u001b[0;34m,\u001b[0m \u001b[0mlearning_history\u001b[0m\u001b[0;34m,\u001b[0m \u001b[0mcurr_train_df\u001b[0m\u001b[0;34m,\u001b[0m \u001b[0mval_df\u001b[0m\u001b[0;34m,\u001b[0m \u001b[0mtest_df\u001b[0m\u001b[0;34m)\u001b[0m\u001b[0;34m\u001b[0m\u001b[0;34m\u001b[0m\u001b[0m\n\u001b[0m\u001b[1;32m     56\u001b[0m         \u001b[0mfold_results\u001b[0m\u001b[0;34m.\u001b[0m\u001b[0mappend\u001b[0m\u001b[0;34m(\u001b[0m\u001b[0mfold_result\u001b[0m\u001b[0;34m)\u001b[0m\u001b[0;34m\u001b[0m\u001b[0;34m\u001b[0m\u001b[0m\n\u001b[1;32m     57\u001b[0m \u001b[0;34m\u001b[0m\u001b[0m\n",
            "\u001b[0;32m<ipython-input-9-5f762c502623>\u001b[0m in \u001b[0;36mbuild_fold_result\u001b[0;34m(train_result, val_result, test_result, learning_history, train_map_df, val_map_df, test_map_df)\u001b[0m\n\u001b[1;32m     39\u001b[0m     }\n\u001b[1;32m     40\u001b[0m \u001b[0;34m\u001b[0m\u001b[0m\n\u001b[0;32m---> 41\u001b[0;31m     \u001b[0mfold_result\u001b[0m\u001b[0;34m[\u001b[0m\u001b[0;34m'metrics'\u001b[0m\u001b[0;34m]\u001b[0m\u001b[0;34m[\u001b[0m\u001b[0;34m'train'\u001b[0m\u001b[0;34m]\u001b[0m \u001b[0;34m=\u001b[0m \u001b[0mcalc_metrics\u001b[0m\u001b[0;34m(\u001b[0m\u001b[0mtrain_result\u001b[0m\u001b[0;34m,\u001b[0m \u001b[0mtrain_map_df\u001b[0m\u001b[0;34m)\u001b[0m\u001b[0;34m\u001b[0m\u001b[0;34m\u001b[0m\u001b[0m\n\u001b[0m\u001b[1;32m     42\u001b[0m     \u001b[0mfold_result\u001b[0m\u001b[0;34m[\u001b[0m\u001b[0;34m'metrics'\u001b[0m\u001b[0;34m]\u001b[0m\u001b[0;34m[\u001b[0m\u001b[0;34m'validation'\u001b[0m\u001b[0;34m]\u001b[0m \u001b[0;34m=\u001b[0m \u001b[0mcalc_metrics\u001b[0m\u001b[0;34m(\u001b[0m\u001b[0mval_result\u001b[0m\u001b[0;34m,\u001b[0m \u001b[0mval_map_df\u001b[0m\u001b[0;34m)\u001b[0m\u001b[0;34m\u001b[0m\u001b[0;34m\u001b[0m\u001b[0m\n\u001b[1;32m     43\u001b[0m     \u001b[0mfold_result\u001b[0m\u001b[0;34m[\u001b[0m\u001b[0;34m'metrics'\u001b[0m\u001b[0;34m]\u001b[0m\u001b[0;34m[\u001b[0m\u001b[0;34m'test'\u001b[0m\u001b[0;34m]\u001b[0m \u001b[0;34m=\u001b[0m \u001b[0mcalc_metrics\u001b[0m\u001b[0;34m(\u001b[0m\u001b[0mtest_result\u001b[0m\u001b[0;34m,\u001b[0m \u001b[0mtest_map_df\u001b[0m\u001b[0;34m)\u001b[0m\u001b[0;34m\u001b[0m\u001b[0;34m\u001b[0m\u001b[0m\n",
            "\u001b[0;32m<ipython-input-9-5f762c502623>\u001b[0m in \u001b[0;36mcalc_metrics\u001b[0;34m(evaluation_result, map_df)\u001b[0m\n\u001b[1;32m     24\u001b[0m     \u001b[0mmetrics_dict\u001b[0m\u001b[0;34m[\u001b[0m\u001b[0;34m'vague'\u001b[0m\u001b[0;34m]\u001b[0m\u001b[0;34m.\u001b[0m\u001b[0mupdate\u001b[0m\u001b[0;34m(\u001b[0m\u001b[0mcalc_all_metrics\u001b[0m\u001b[0;34m(\u001b[0m\u001b[0;34m**\u001b[0m\u001b[0mmetrics_dict\u001b[0m\u001b[0;34m[\u001b[0m\u001b[0;34m'vague'\u001b[0m\u001b[0;34m]\u001b[0m\u001b[0;34m)\u001b[0m\u001b[0;34m)\u001b[0m\u001b[0;34m\u001b[0m\u001b[0;34m\u001b[0m\u001b[0m\n\u001b[1;32m     25\u001b[0m \u001b[0;34m\u001b[0m\u001b[0m\n\u001b[0;32m---> 26\u001b[0;31m     \u001b[0;32mif\u001b[0m \u001b[0mmap_df\u001b[0m\u001b[0;34m:\u001b[0m \u001b[0;31m# Mean average precision\u001b[0m\u001b[0;34m\u001b[0m\u001b[0;34m\u001b[0m\u001b[0m\n\u001b[0m\u001b[1;32m     27\u001b[0m         \u001b[0mmap\u001b[0m \u001b[0;34m=\u001b[0m \u001b[0mcalc_mean_average_precision\u001b[0m\u001b[0;34m(\u001b[0m\u001b[0mmap_df\u001b[0m\u001b[0;34m)\u001b[0m\u001b[0;34m\u001b[0m\u001b[0;34m\u001b[0m\u001b[0m\n\u001b[1;32m     28\u001b[0m         \u001b[0mmetrics_dict\u001b[0m\u001b[0;34m[\u001b[0m\u001b[0;34m'mean_average_precision'\u001b[0m\u001b[0;34m]\u001b[0m \u001b[0;34m=\u001b[0m \u001b[0mmap\u001b[0m\u001b[0;34m[\u001b[0m\u001b[0;36m0\u001b[0m\u001b[0;34m]\u001b[0m\u001b[0;34m\u001b[0m\u001b[0;34m\u001b[0m\u001b[0m\n",
            "\u001b[0;32m/usr/local/lib/python3.6/dist-packages/pandas/core/generic.py\u001b[0m in \u001b[0;36m__nonzero__\u001b[0;34m(self)\u001b[0m\n\u001b[1;32m   1477\u001b[0m     \u001b[0;32mdef\u001b[0m \u001b[0m__nonzero__\u001b[0m\u001b[0;34m(\u001b[0m\u001b[0mself\u001b[0m\u001b[0;34m)\u001b[0m\u001b[0;34m:\u001b[0m\u001b[0;34m\u001b[0m\u001b[0;34m\u001b[0m\u001b[0m\n\u001b[1;32m   1478\u001b[0m         raise ValueError(\n\u001b[0;32m-> 1479\u001b[0;31m             \u001b[0;34mf\"The truth value of a {type(self).__name__} is ambiguous. \"\u001b[0m\u001b[0;34m\u001b[0m\u001b[0;34m\u001b[0m\u001b[0m\n\u001b[0m\u001b[1;32m   1480\u001b[0m             \u001b[0;34m\"Use a.empty, a.bool(), a.item(), a.any() or a.all().\"\u001b[0m\u001b[0;34m\u001b[0m\u001b[0;34m\u001b[0m\u001b[0m\n\u001b[1;32m   1481\u001b[0m         )\n",
            "\u001b[0;31mValueError\u001b[0m: The truth value of a DataFrame is ambiguous. Use a.empty, a.bool(), a.item(), a.any() or a.all()."
          ]
        }
      ]
    },
    {
      "cell_type": "markdown",
      "metadata": {
        "id": "X5vA87jaPecu"
      },
      "source": [
        "### Thresholding\n",
        "Search for the best threshold"
      ]
    },
    {
      "cell_type": "code",
      "metadata": {
        "id": "ZIdwy-t3Pe1T"
      },
      "source": [
        "from vaguerequirementslib import predict_with_threshold\n",
        "from sklearn.metrics import confusion_matrix\n",
        "import csv\n",
        "\n",
        "def evaluate_threshold(ground_truth, probabilities, threshold) -> dict:\n",
        "    predictions = predict_with_threshold(probabilities, threshold)\n",
        "\n",
        "    cm = confusion_matrix(ground_truth, predictions)\n",
        "\n",
        "    metrics = calc_metrics(cm)['vague']\n",
        "    metrics['classification_threshold'] = threshold\n",
        "    \n",
        "    return metrics\n",
        "\n",
        "\n",
        "predictors_to_evaluate = [\n",
        "    # Predictors trained using all data\n",
        "    '/content/drive/My Drive/runs/distilbert/2/2020-08-07_09-26-16/predictor',\n",
        "    '/content/drive/My Drive/runs/ernie2.0/1/2020-08-03_20-38-52/predictor',\n",
        "    '/content/drive/My Drive/runs/bert/2/2020-08-03_23-34-43/predictor',\n",
        "\n",
        "    # Only using MTurk Data\n",
        "    '/content/drive/My Drive/runs/bert/1/2020-07-26_03-25-44/predictor',\n",
        "    '/content/drive/My Drive/runs/distilbert/1/2020-07-26_19-27-36/predictor'\n",
        "]\n",
        "\n",
        "thresholds = np.arange(0., 1., .01)\n",
        "\n",
        "for predictor_path in predictors_to_evaluate:\n",
        "    \n",
        "    all_train_threshold_metrics = {}\n",
        "    all_test_threshold_metrics = {}\n",
        "    # Load the predictor\n",
        "    curr_pred = ktrain.load_predictor(predictor_path)\n",
        "\n",
        "    # Predict\n",
        "    curr_train_probs = curr_pred.predict_proba(list(train_df.loc[:, 'requirement'])) # train + val\n",
        "    curr_test_probs = curr_pred.predict_proba(list(test_df.loc[:, 'requirement']))\n",
        "\n",
        "    for threshold in thresholds:\n",
        "        train_metrics = evaluate_threshold(list(train_df.loc[:, 'majority_label']), curr_train_probs, threshold)\n",
        "        test_metrics = evaluate_threshold(list(test_df.loc[:, 'majority_label']), curr_test_probs, threshold)\n",
        "        \n",
        "        if not all_train_threshold_metrics:\n",
        "            all_train_threshold_metrics = {key: [] for key in train_metrics}\n",
        "        if not all_test_threshold_metrics:\n",
        "            all_test_threshold_metrics = {key: [] for key in test_metrics}\n",
        "\n",
        "        for key in train_metrics.keys():\n",
        "            all_train_threshold_metrics[key].append(train_metrics[key])\n",
        "            all_test_threshold_metrics[key].append(test_metrics[key])\n",
        "\n",
        "    pd.DataFrame.from_dict(all_train_threshold_metrics).to_csv(path.join(predictor_path, '../train-thresholds.csv'), sep=';', index=False, quoting=csv.QUOTE_NONNUMERIC)\n",
        "    pd.DataFrame.from_dict(all_test_threshold_metrics).to_csv(path.join(predictor_path, '../test-thresholds.csv'), sep=';', index=False, quoting=csv.QUOTE_NONNUMERIC)\n"
      ],
      "execution_count": null,
      "outputs": []
    },
    {
      "cell_type": "markdown",
      "metadata": {
        "id": "ho6eSo9IcI3_"
      },
      "source": [
        "## STEP 2: Evaluate the model\n",
        "\n",
        "Load the predictor, transformer and learner.\n",
        "\n",
        "Check out the [FAQ](https://github.com/amaiya/ktrain/blob/master/FAQ.md#method-1-using-predictor-api-works-for-any-model) for how to load a model from a predictor.\n"
      ]
    },
    {
      "cell_type": "code",
      "metadata": {
        "id": "8xcLJRdOfyNV",
        "outputId": "3fdf7b5c-a138-4e34-c77d-df9163e5a18e",
        "colab": {
          "base_uri": "https://localhost:8080/",
          "height": 260
        }
      },
      "source": [
        "eval_params = {\n",
        "    'predictor_path': '/content/drive/My Drive/runs/ernie2.0/2/2020-08-03_20-38-52/predictor',\n",
        "    'model_name': 'nghuyong/ernie-2.0-en',\n",
        "    'max_len': 128,\n",
        "    'class_names': params['class_names']\n",
        "}\n",
        "# 'nghuyong/ernie-2.0-en', '/content/drive/My Drive/runs/ernie2.0/2/2020-08-03_20-38-52/predictor', 128\n",
        "# 'distilbert-base-uncased', '/content/drive/My Drive/runs/distilbert/2/2020-08-07_09-26-16/predictor', 64\n",
        "# 'bert-base-uncased', '/content/drive/My Drive/runs/bert/2/2020-08-03_23-34-43/predictor', 128\n",
        "transformer = txt.Transformer(eval_params['model_name'], maxlen=eval_params['max_len'], class_names=eval_params['class_names'])\n",
        "train_data = transformer.preprocess_train(list(train_df['requirement']), list(train_df['majority_label']))\n",
        "test_data = transformer.preprocess_train(list(test_df['requirement']), list(test_df['majority_label']))\n",
        "\n",
        "predictor = ktrain.load_predictor(eval_params['predictor_path'])\n",
        "learner = ktrain.get_learner(predictor.model, train_data=train_data, val_data=test_data)"
      ],
      "execution_count": 12,
      "outputs": [
        {
          "output_type": "stream",
          "text": [
            "preprocessing train...\n",
            "language: en\n",
            "train sequence lengths:\n",
            "\tmean : 22\n",
            "\t95percentile : 42\n",
            "\t99percentile : 57\n"
          ],
          "name": "stdout"
        },
        {
          "output_type": "display_data",
          "data": {
            "text/html": [
              ""
            ],
            "text/plain": [
              "<IPython.core.display.HTML object>"
            ]
          },
          "metadata": {
            "tags": []
          }
        },
        {
          "output_type": "stream",
          "text": [
            "Is Multi-Label? False\n",
            "preprocessing train...\n",
            "language: en\n",
            "train sequence lengths:\n",
            "\tmean : 21\n",
            "\t95percentile : 39\n",
            "\t99percentile : 59\n"
          ],
          "name": "stdout"
        },
        {
          "output_type": "display_data",
          "data": {
            "text/html": [
              ""
            ],
            "text/plain": [
              "<IPython.core.display.HTML object>"
            ]
          },
          "metadata": {
            "tags": []
          }
        },
        {
          "output_type": "stream",
          "text": [
            "Is Multi-Label? False\n"
          ],
          "name": "stdout"
        }
      ]
    },
    {
      "cell_type": "markdown",
      "metadata": {
        "id": "SR3ovLTJAVy7"
      },
      "source": [
        "Evaluate the model using the `test_data`."
      ]
    },
    {
      "cell_type": "code",
      "metadata": {
        "id": "UvcxCvLOcOje",
        "outputId": "17fea732-e20e-43bb-f7bb-7a0e395a925a",
        "colab": {
          "base_uri": "https://localhost:8080/",
          "height": 225
        }
      },
      "source": [
        "test_result = learner.validate(val_data=test_data, class_names=eval_params['class_names'])\n",
        "print(test_result)\n",
        "LOGGER.info('Successfully validated test set.')"
      ],
      "execution_count": null,
      "outputs": [
        {
          "output_type": "stream",
          "text": [
            "              precision    recall  f1-score   support\n",
            "\n",
            "   not-vague       0.85      0.78      0.81       219\n",
            "       vague       0.38      0.51      0.43        59\n",
            "\n",
            "    accuracy                           0.72       278\n",
            "   macro avg       0.62      0.64      0.62       278\n",
            "weighted avg       0.75      0.72      0.73       278\n",
            "\n",
            "[[170  49]\n",
            " [ 29  30]]\n",
            "2020-08-13 08:38:55,868 [colab-notebook      ] [INFO ]  Successfully validated test set.\n"
          ],
          "name": "stdout"
        }
      ]
    },
    {
      "cell_type": "markdown",
      "metadata": {
        "id": "jVwrtVrOPDAR"
      },
      "source": [
        "## Calculate Inter-Rater Agreement"
      ]
    },
    {
      "cell_type": "code",
      "metadata": {
        "id": "-Px0TIlGPDhO",
        "outputId": "84a69c57-bdf6-4056-db08-27a747e43fd0",
        "colab": {
          "base_uri": "https://localhost:8080/",
          "height": 276
        }
      },
      "source": [
        "from vaguerequirementslib import build_confusion_matrix, calculate_free_marginal_kappa\n",
        "test_reqs = list(test_df.loc[:, 'requirement'])\n",
        "predictions = predictor.predict(test_reqs)\n",
        "predictions = [ \n",
        "    1 if label == 'vague'\n",
        "    else 0 if label == 'not-vague'\n",
        "    else 'foo'\n",
        "    for label in predictions\n",
        "]\n",
        "if 'foo' in predictions:\n",
        "    raise Error('Invalid predictions')\n",
        "ira_df = pd.DataFrame({\n",
        "    'requirements': test_reqs + test_reqs,\n",
        "    'label': list(test_df.loc[:, 'majority_label']) + predictions\n",
        "})\n",
        "conf_mat = build_confusion_matrix(ira_df, requirement_column='requirements', answer_column='label', vague_answer_labels=[1],not_vague_answer_labels=[0])\n",
        "LOGGER.info('%s achieved k_free: %s', eval_params['model_name'], calculate_free_marginal_kappa(conf_mat))\n",
        "conf_mat.head()\n"
      ],
      "execution_count": 13,
      "outputs": [
        {
          "output_type": "stream",
          "text": [
            "2020-10-24 12:22:45,642 [vaguerequirementslib] [INFO ]  Build confusion matrix.\n",
            "2020-10-24 12:22:45,684 [vaguerequirementslib] [INFO ]  Built confusion matrix including 278 of 278 requirements. \n",
            "2020-10-24 12:22:45,686 [vaguerequirementslib] [INFO ]  Overall \"vague\" votes count = 186. Overall \"not vague\" votes count = 370\n",
            "2020-10-24 12:22:45,801 [colab-notebook      ] [INFO ]  nghuyong/ernie-2.0-en achieved k_free: 0.39568345323741005\n"
          ],
          "name": "stdout"
        },
        {
          "output_type": "execute_result",
          "data": {
            "text/html": [
              "<div>\n",
              "<style scoped>\n",
              "    .dataframe tbody tr th:only-of-type {\n",
              "        vertical-align: middle;\n",
              "    }\n",
              "\n",
              "    .dataframe tbody tr th {\n",
              "        vertical-align: top;\n",
              "    }\n",
              "\n",
              "    .dataframe thead th {\n",
              "        text-align: right;\n",
              "    }\n",
              "</style>\n",
              "<table border=\"1\" class=\"dataframe\">\n",
              "  <thead>\n",
              "    <tr style=\"text-align: right;\">\n",
              "      <th></th>\n",
              "      <th>requirement</th>\n",
              "      <th>vague_count</th>\n",
              "      <th>not_vague_count</th>\n",
              "    </tr>\n",
              "  </thead>\n",
              "  <tbody>\n",
              "    <tr>\n",
              "      <th>0</th>\n",
              "      <td>A Charge-Through VCONN -Powered USB Device sha...</td>\n",
              "      <td>0</td>\n",
              "      <td>2</td>\n",
              "    </tr>\n",
              "    <tr>\n",
              "      <th>1</th>\n",
              "      <td>A Controller that supports Directed Advertisin...</td>\n",
              "      <td>1</td>\n",
              "      <td>1</td>\n",
              "    </tr>\n",
              "    <tr>\n",
              "      <th>2</th>\n",
              "      <td>A MirrorLink Client shall support VC, if the M...</td>\n",
              "      <td>0</td>\n",
              "      <td>2</td>\n",
              "    </tr>\n",
              "    <tr>\n",
              "      <th>3</th>\n",
              "      <td>A list of students nominated shall be provided...</td>\n",
              "      <td>1</td>\n",
              "      <td>1</td>\n",
              "    </tr>\n",
              "    <tr>\n",
              "      <th>4</th>\n",
              "      <td>A push button with a graphic label does not co...</td>\n",
              "      <td>0</td>\n",
              "      <td>2</td>\n",
              "    </tr>\n",
              "  </tbody>\n",
              "</table>\n",
              "</div>"
            ],
            "text/plain": [
              "                                         requirement  ...  not_vague_count\n",
              "0  A Charge-Through VCONN -Powered USB Device sha...  ...                2\n",
              "1  A Controller that supports Directed Advertisin...  ...                1\n",
              "2  A MirrorLink Client shall support VC, if the M...  ...                2\n",
              "3  A list of students nominated shall be provided...  ...                1\n",
              "4  A push button with a graphic label does not co...  ...                2\n",
              "\n",
              "[5 rows x 3 columns]"
            ]
          },
          "metadata": {
            "tags": []
          },
          "execution_count": 13
        }
      ]
    },
    {
      "cell_type": "markdown",
      "metadata": {
        "id": "eIuTq8eqdXws"
      },
      "source": [
        "## STEP 4 Inspect the Model and its Losses"
      ]
    },
    {
      "cell_type": "markdown",
      "metadata": {
        "id": "yhG3fPtPcVKe"
      },
      "source": [
        "### Check best and worst predictions\n",
        "Let's examine the validation example about which we were the most wrong."
      ]
    },
    {
      "cell_type": "code",
      "metadata": {
        "id": "hNvD36QTAqeu",
        "outputId": "f4bf76ec-8c47-4c0f-dce9-35c15dd2ee2a",
        "colab": {
          "base_uri": "https://localhost:8080/",
          "height": 130
        }
      },
      "source": [
        "import csv\n",
        "insert_probabilities(test_df, predictor)\n"
      ],
      "execution_count": null,
      "outputs": [
        {
          "output_type": "error",
          "ename": "SyntaxError",
          "evalue": "ignored",
          "traceback": [
            "\u001b[0;36m  File \u001b[0;32m\"<ipython-input-39-f0f53fae9860>\"\u001b[0;36m, line \u001b[0;32m7\u001b[0m\n\u001b[0;31m    test_df.to_csv(f'{eval_params['predictor_path']}/prediction_result.csv', sep=',', index=False, quoting=csv.QUOTE_NONNUMERIC)\u001b[0m\n\u001b[0m                                                ^\u001b[0m\n\u001b[0;31mSyntaxError\u001b[0m\u001b[0;31m:\u001b[0m invalid syntax\n"
          ]
        }
      ]
    },
    {
      "cell_type": "code",
      "metadata": {
        "id": "XjcNUcPD9Xba",
        "outputId": "d75fd954-5b0b-41c7-d0b1-a1a1c56b81c6",
        "colab": {
          "base_uri": "https://localhost:8080/",
          "height": 326
        }
      },
      "source": [
        "# A df with the n most falesy classified requirements (majority_label==0 but high vague prob )\n",
        "wrong_vague_df = test_df[(test_df.majority_label==0) & (test_df.vague_prob>=0.5)].nlargest(4, 'vague_prob')\n",
        "# A df with the n most correctly classified requirements (majority_label==1 and high vague prob )\n",
        "right_vague_df = test_df[(test_df.majority_label==1) & (test_df.vague_prob>=0.5)].nlargest(4, 'vague_prob')\n",
        "\n",
        "# A df with the n most falesy classified requirements (majority_label==1 but high not vague prob )\n",
        "wrong_not_vague_df = test_df[(test_df.majority_label==1) & (test_df.not_vague_prob>=0.5)].nlargest(4, 'not_vague_prob')\n",
        "# A df with the n most correctly classified requirements (majority_label==0 and high not vague prob )\n",
        "right_not_vague_df = test_df[(test_df.majority_label==0) & (test_df.not_vague_prob>=0.5)].nlargest(4, 'not_vague_prob')"
      ],
      "execution_count": null,
      "outputs": [
        {
          "output_type": "execute_result",
          "data": {
            "application/vnd.google.colaboratory.module+javascript": "\n      import \"https://ssl.gstatic.com/colaboratory/data_table/a6224c040fa35dcf/data_table.js\";\n\n      window.createDataTable({\n        data: [[{\n            'v': 148,\n            'f': \"148\",\n        },\n\"If the NG-RAN node receives a PDU SESSION RESOURCE MODIFY REQUEST message containing the Delay Critical IE in the Dynamic 5QI Descriptor IE of the QoS Flow Level QoS Parameters IE of the PDU Session Resource Modify Request Transfer IE set to the value \\ufffddelay critical\\ufffd but the Maximum Data Burst Volume IE is not present, the NG-RAN node shall report the addition or modification of the corresponding QoS flow as failed in the PDU Session Resource Modify Response Transfer IE of the PDU SESSION RESOURCE MODIFY RESPONSE message with an appropriate cause value.\",\n{\n            'v': 2,\n            'f': \"2\",\n        },\n{\n            'v': 1,\n            'f': \"1\",\n        },\n{\n            'v': 1,\n            'f': \"1\",\n        },\n{\n            'v': 0.7225705981254578,\n            'f': \"0.7225705981254578\",\n        },\n{\n            'v': 0.27742937207221985,\n            'f': \"0.27742937207221985\",\n        }],\n [{\n            'v': 194,\n            'f': \"194\",\n        },\n\"The Drop-Down scroll State field shall have the updated list of all the States in the Country, with the feature of selecting any one of them based on the user\\ufffds requirement.\",\n{\n            'v': 2,\n            'f': \"2\",\n        },\n{\n            'v': 0,\n            'f': \"0\",\n        },\n{\n            'v': 1,\n            'f': \"1\",\n        },\n{\n            'v': 0.6722469329833984,\n            'f': \"0.6722469329833984\",\n        },\n{\n            'v': 0.32775309681892395,\n            'f': \"0.32775309681892395\",\n        }],\n [{\n            'v': 211,\n            'f': \"211\",\n        },\n\"The MirrorLink Server shall stop using the video frame skipping feature and continue to stream audio and video at the negotiated rates, if the MirrorLink Server had enabled framebuffer skipping.\",\n{\n            'v': 2,\n            'f': \"2\",\n        },\n{\n            'v': 0,\n            'f': \"0\",\n        },\n{\n            'v': 1,\n            'f': \"1\",\n        },\n{\n            'v': 0.6635317206382751,\n            'f': \"0.6635317206382751\",\n        },\n{\n            'v': 0.33646833896636963,\n            'f': \"0.33646833896636963\",\n        }],\n [{\n            'v': 273,\n            'f': \"273\",\n        },\n\"When the sequence selection input is set to slave page response, in order to eliminate the possibility of losing the link due to discrepancies of the native clock CLKN and the master\\ufffds clock estimate CLKE, the four bits shall be frozen at their current value.\",\n{\n            'v': 2,\n            'f': \"2\",\n        },\n{\n            'v': 0,\n            'f': \"0\",\n        },\n{\n            'v': 1,\n            'f': \"1\",\n        },\n{\n            'v': 0.661083459854126,\n            'f': \"0.661083459854126\",\n        },\n{\n            'v': 0.33891651034355164,\n            'f': \"0.33891651034355164\",\n        }]],\n        columns: [[\"number\", \"index\"], [\"string\", \"requirement\"], [\"number\", \"vague_count\"], [\"number\", \"not_vague_count\"], [\"number\", \"majority_label\"], [\"number\", \"not_vague_prob\"], [\"number\", \"vague_prob\"]],\n        columnOptions: [{\"width\": \"1px\", \"className\": \"index_column\"}],\n        rowsPerPage: 25,\n        helpUrl: \"https://colab.research.google.com/notebooks/data_table.ipynb\",\n        suppressOutputScrolling: true,\n        minimumWidth: undefined,\n      });\n    ",
            "text/html": [
              "<div>\n",
              "<style scoped>\n",
              "    .dataframe tbody tr th:only-of-type {\n",
              "        vertical-align: middle;\n",
              "    }\n",
              "\n",
              "    .dataframe tbody tr th {\n",
              "        vertical-align: top;\n",
              "    }\n",
              "\n",
              "    .dataframe thead th {\n",
              "        text-align: right;\n",
              "    }\n",
              "</style>\n",
              "<table border=\"1\" class=\"dataframe\">\n",
              "  <thead>\n",
              "    <tr style=\"text-align: right;\">\n",
              "      <th></th>\n",
              "      <th>requirement</th>\n",
              "      <th>vague_count</th>\n",
              "      <th>not_vague_count</th>\n",
              "      <th>majority_label</th>\n",
              "      <th>not_vague_prob</th>\n",
              "      <th>vague_prob</th>\n",
              "    </tr>\n",
              "  </thead>\n",
              "  <tbody>\n",
              "    <tr>\n",
              "      <th>148</th>\n",
              "      <td>If the NG-RAN node receives a PDU SESSION RESO...</td>\n",
              "      <td>2</td>\n",
              "      <td>1</td>\n",
              "      <td>1</td>\n",
              "      <td>0.722571</td>\n",
              "      <td>0.277429</td>\n",
              "    </tr>\n",
              "    <tr>\n",
              "      <th>194</th>\n",
              "      <td>The Drop-Down scroll State field shall have th...</td>\n",
              "      <td>2</td>\n",
              "      <td>0</td>\n",
              "      <td>1</td>\n",
              "      <td>0.672247</td>\n",
              "      <td>0.327753</td>\n",
              "    </tr>\n",
              "    <tr>\n",
              "      <th>211</th>\n",
              "      <td>The MirrorLink Server shall stop using the vid...</td>\n",
              "      <td>2</td>\n",
              "      <td>0</td>\n",
              "      <td>1</td>\n",
              "      <td>0.663532</td>\n",
              "      <td>0.336468</td>\n",
              "    </tr>\n",
              "    <tr>\n",
              "      <th>273</th>\n",
              "      <td>When the sequence selection input is set to sl...</td>\n",
              "      <td>2</td>\n",
              "      <td>0</td>\n",
              "      <td>1</td>\n",
              "      <td>0.661083</td>\n",
              "      <td>0.338917</td>\n",
              "    </tr>\n",
              "  </tbody>\n",
              "</table>\n",
              "</div>"
            ],
            "text/plain": [
              "                                           requirement  ...  vague_prob\n",
              "148  If the NG-RAN node receives a PDU SESSION RESO...  ...    0.277429\n",
              "194  The Drop-Down scroll State field shall have th...  ...    0.327753\n",
              "211  The MirrorLink Server shall stop using the vid...  ...    0.336468\n",
              "273  When the sequence selection input is set to sl...  ...    0.338917\n",
              "\n",
              "[4 rows x 6 columns]"
            ]
          },
          "metadata": {
            "tags": []
          },
          "execution_count": 28
        }
      ]
    },
    {
      "cell_type": "code",
      "metadata": {
        "id": "TyYtfxNuCX9v",
        "outputId": "84437c06-5340-4933-9830-04bd6e1077d4",
        "colab": {
          "base_uri": "https://localhost:8080/",
          "height": 357
        }
      },
      "source": [
        "def print_explanation(caption, data_frame, pred, n_samples=1_000) -> None:\n",
        "    LOGGER.info('\\n%s', caption)\n",
        "    for _, row in data_frame.iterrows():\n",
        "        display(pred.explain(row.requirement, n_samples=n_samples))\n",
        "\n",
        "print_explanation('### Handle wrong vague classifications', wrong_vague_df, predictor)\n",
        "print_explanation('### Handle right vague classifications', right_vague_df, predictor)\n",
        "print_explanation('### Handle wrong not vague classifications', wrong_not_vague_df, predictor)\n",
        "print_explanation('### Handle right not vague classifications', right_not_vague_df, predictor)"
      ],
      "execution_count": null,
      "outputs": [
        {
          "output_type": "stream",
          "text": [
            "2020-08-13 09:02:03,386 [colab-notebook      ] [INFO ]  \n",
            "### Handle wrong vague classifications\n"
          ],
          "name": "stdout"
        },
        {
          "output_type": "display_data",
          "data": {
            "text/html": [
              ""
            ],
            "text/plain": [
              "<IPython.core.display.HTML object>"
            ]
          },
          "metadata": {
            "tags": []
          }
        },
        {
          "output_type": "display_data",
          "data": {
            "text/html": [
              ""
            ],
            "text/plain": [
              "<IPython.core.display.HTML object>"
            ]
          },
          "metadata": {
            "tags": []
          }
        },
        {
          "output_type": "display_data",
          "data": {
            "text/html": [
              "\n",
              "    <style>\n",
              "    table.eli5-weights tr:hover {\n",
              "        filter: brightness(85%);\n",
              "    }\n",
              "</style>\n",
              "\n",
              "\n",
              "\n",
              "    \n",
              "\n",
              "    \n",
              "\n",
              "    \n",
              "\n",
              "    \n",
              "\n",
              "    \n",
              "\n",
              "    \n",
              "\n",
              "\n",
              "    \n",
              "\n",
              "    \n",
              "\n",
              "    \n",
              "\n",
              "    \n",
              "        \n",
              "\n",
              "    \n",
              "\n",
              "        \n",
              "\n",
              "        \n",
              "    \n",
              "        \n",
              "        \n",
              "    \n",
              "        <p style=\"margin-bottom: 0.5em; margin-top: 0em\">\n",
              "            <b>\n",
              "    \n",
              "        y=vague\n",
              "    \n",
              "</b>\n",
              "\n",
              "    \n",
              "    (probability <b>0.667</b>, score <b>0.696</b>)\n",
              "\n",
              "top features\n",
              "        </p>\n",
              "    \n",
              "    <table class=\"eli5-weights\"\n",
              "           style=\"border-collapse: collapse; border: none; margin-top: 0em; table-layout: auto; margin-bottom: 2em;\">\n",
              "        <thead>\n",
              "        <tr style=\"border: none;\">\n",
              "            \n",
              "                <th style=\"padding: 0 1em 0 0.5em; text-align: right; border: none;\" title=\"Feature contribution already accounts for the feature value (for linear models, contribution = weight * feature value), and the sum of feature contributions is equal to the score or, for some classifiers, to the probability. Feature values are shown if &quot;show_feature_values&quot; is True.\">\n",
              "                    Contribution<sup>?</sup>\n",
              "                </th>\n",
              "            \n",
              "            <th style=\"padding: 0 0.5em 0 0.5em; text-align: left; border: none;\">Feature</th>\n",
              "            \n",
              "        </tr>\n",
              "        </thead>\n",
              "        <tbody>\n",
              "        \n",
              "            <tr style=\"background-color: hsl(120, 100.00%, 80.00%); border: none;\">\n",
              "    <td style=\"padding: 0 1em 0 0.5em; text-align: right; border: none;\">\n",
              "        +0.703\n",
              "    </td>\n",
              "    <td style=\"padding: 0 0.5em 0 0.5em; text-align: left; border: none;\">\n",
              "        Highlighted in text (sum)\n",
              "    </td>\n",
              "    \n",
              "</tr>\n",
              "        \n",
              "        \n",
              "\n",
              "        \n",
              "        \n",
              "            <tr style=\"background-color: hsl(0, 100.00%, 99.21%); border: none;\">\n",
              "    <td style=\"padding: 0 1em 0 0.5em; text-align: right; border: none;\">\n",
              "        -0.007\n",
              "    </td>\n",
              "    <td style=\"padding: 0 0.5em 0 0.5em; text-align: left; border: none;\">\n",
              "        &lt;BIAS&gt;\n",
              "    </td>\n",
              "    \n",
              "</tr>\n",
              "        \n",
              "\n",
              "        </tbody>\n",
              "    </table>\n",
              "\n",
              "    \n",
              "\n",
              "\n",
              "\n",
              "    <p style=\"margin-bottom: 2.5em; margin-top:-0.5em;\">\n",
              "        <span style=\"background-color: hsl(120, 100.00%, 88.31%); opacity: 0.83\" title=\"0.045\">the</span><span style=\"opacity: 0.80\"> </span><span style=\"background-color: hsl(120, 100.00%, 60.00%); opacity: 1.00\" title=\"0.258\">government</span><span style=\"opacity: 0.80\"> (</span><span style=\"background-color: hsl(0, 100.00%, 77.84%); opacity: 0.89\" title=\"-0.111\">spo</span><span style=\"opacity: 0.80\">) </span><span style=\"background-color: hsl(0, 100.00%, 89.16%); opacity: 0.83\" title=\"-0.040\">should</span><span style=\"opacity: 0.80\"> </span><span style=\"background-color: hsl(120, 100.00%, 80.32%); opacity: 0.87\" title=\"0.094\">develop</span><span style=\"opacity: 0.80\"> </span><span style=\"background-color: hsl(0, 100.00%, 74.55%); opacity: 0.90\" title=\"-0.136\">or</span><span style=\"opacity: 0.80\"> </span><span style=\"background-color: hsl(0, 100.00%, 82.06%); opacity: 0.86\" title=\"-0.082\">assemble</span><span style=\"opacity: 0.80\"> </span><span style=\"background-color: hsl(120, 100.00%, 87.41%); opacity: 0.84\" title=\"0.050\">and</span><span style=\"opacity: 0.80\"> </span><span style=\"background-color: hsl(0, 100.00%, 88.95%); opacity: 0.83\" title=\"-0.041\">maintain</span><span style=\"opacity: 0.80\"> </span><span style=\"background-color: hsl(0, 100.00%, 94.85%); opacity: 0.81\" title=\"-0.014\">the</span><span style=\"opacity: 0.80\"> </span><span style=\"background-color: hsl(0, 100.00%, 94.84%); opacity: 0.81\" title=\"-0.014\">following</span><span style=\"opacity: 0.80\"> </span><span style=\"background-color: hsl(0, 100.00%, 67.32%); opacity: 0.95\" title=\"-0.194\">types</span><span style=\"opacity: 0.80\"> </span><span style=\"background-color: hsl(120, 100.00%, 93.39%); opacity: 0.82\" title=\"0.020\">of</span><span style=\"opacity: 0.80\"> </span><span style=\"background-color: hsl(0, 100.00%, 76.47%); opacity: 0.89\" title=\"-0.121\">data</span><span style=\"opacity: 0.80\"> </span><span style=\"background-color: hsl(0, 100.00%, 81.05%); opacity: 0.87\" title=\"-0.089\">over</span><span style=\"opacity: 0.80\"> </span><span style=\"background-color: hsl(0, 100.00%, 90.93%); opacity: 0.82\" title=\"-0.031\">the</span><span style=\"opacity: 0.80\"> </span><span style=\"background-color: hsl(0, 100.00%, 86.67%); opacity: 0.84\" title=\"-0.054\">program</span><span style=\"opacity: 0.80\"> </span><span style=\"background-color: hsl(0, 100.00%, 89.72%); opacity: 0.83\" title=\"-0.037\">life</span><span style=\"opacity: 0.80\"> </span><span style=\"background-color: hsl(120, 100.00%, 75.13%); opacity: 0.90\" title=\"0.131\">cycle</span><span style=\"opacity: 0.80\"> </span><span style=\"background-color: hsl(120, 100.00%, 67.67%); opacity: 0.95\" title=\"0.191\">to</span><span style=\"opacity: 0.80\"> </span><span style=\"background-color: hsl(120, 100.00%, 88.36%); opacity: 0.83\" title=\"0.044\">serve</span><span style=\"opacity: 0.80\"> </span><span style=\"background-color: hsl(0, 100.00%, 81.80%); opacity: 0.86\" title=\"-0.084\">as</span><span style=\"opacity: 0.80\"> </span><span style=\"background-color: hsl(120, 100.00%, 92.56%); opacity: 0.82\" title=\"0.023\">the</span><span style=\"opacity: 0.80\"> </span><span style=\"background-color: hsl(120, 100.00%, 64.84%); opacity: 0.97\" title=\"0.215\">foundation</span><span style=\"opacity: 0.80\"> </span><span style=\"background-color: hsl(120, 100.00%, 73.30%); opacity: 0.91\" title=\"0.145\">for</span><span style=\"opacity: 0.80\"> </span><span style=\"background-color: hsl(120, 100.00%, 87.06%); opacity: 0.84\" title=\"0.052\">the</span><span style=\"opacity: 0.80\"> </span><span style=\"background-color: hsl(120, 100.00%, 70.96%); opacity: 0.93\" title=\"0.164\">systems</span><span style=\"opacity: 0.80\"> </span><span style=\"background-color: hsl(120, 100.00%, 92.64%); opacity: 0.82\" title=\"0.023\">engineering</span><span style=\"opacity: 0.80\"> </span><span style=\"background-color: hsl(120, 100.00%, 77.28%); opacity: 0.89\" title=\"0.115\">process</span><span style=\"opacity: 0.80\">.</span>\n",
              "    </p>\n",
              "\n",
              "\n",
              "    \n",
              "\n",
              "    \n",
              "\n",
              "    \n",
              "\n",
              "    \n",
              "\n",
              "\n",
              "    \n",
              "\n",
              "    \n",
              "\n",
              "    \n",
              "\n",
              "    \n",
              "\n",
              "    \n",
              "\n",
              "    \n",
              "\n",
              "\n",
              "    \n",
              "\n",
              "    \n",
              "\n",
              "    \n",
              "\n",
              "    \n",
              "\n",
              "    \n",
              "\n",
              "    \n",
              "\n",
              "\n",
              "\n"
            ],
            "text/plain": [
              "<IPython.core.display.HTML object>"
            ]
          },
          "metadata": {
            "tags": []
          }
        },
        {
          "output_type": "display_data",
          "data": {
            "text/html": [
              ""
            ],
            "text/plain": [
              "<IPython.core.display.HTML object>"
            ]
          },
          "metadata": {
            "tags": []
          }
        },
        {
          "output_type": "display_data",
          "data": {
            "text/html": [
              ""
            ],
            "text/plain": [
              "<IPython.core.display.HTML object>"
            ]
          },
          "metadata": {
            "tags": []
          }
        },
        {
          "output_type": "display_data",
          "data": {
            "text/html": [
              "\n",
              "    <style>\n",
              "    table.eli5-weights tr:hover {\n",
              "        filter: brightness(85%);\n",
              "    }\n",
              "</style>\n",
              "\n",
              "\n",
              "\n",
              "    \n",
              "\n",
              "    \n",
              "\n",
              "    \n",
              "\n",
              "    \n",
              "\n",
              "    \n",
              "\n",
              "    \n",
              "\n",
              "\n",
              "    \n",
              "\n",
              "    \n",
              "\n",
              "    \n",
              "\n",
              "    \n",
              "        \n",
              "\n",
              "    \n",
              "\n",
              "        \n",
              "\n",
              "        \n",
              "    \n",
              "        \n",
              "        \n",
              "    \n",
              "        <p style=\"margin-bottom: 0.5em; margin-top: 0em\">\n",
              "            <b>\n",
              "    \n",
              "        y=vague\n",
              "    \n",
              "</b>\n",
              "\n",
              "    \n",
              "    (probability <b>0.688</b>, score <b>0.790</b>)\n",
              "\n",
              "top features\n",
              "        </p>\n",
              "    \n",
              "    <table class=\"eli5-weights\"\n",
              "           style=\"border-collapse: collapse; border: none; margin-top: 0em; table-layout: auto; margin-bottom: 2em;\">\n",
              "        <thead>\n",
              "        <tr style=\"border: none;\">\n",
              "            \n",
              "                <th style=\"padding: 0 1em 0 0.5em; text-align: right; border: none;\" title=\"Feature contribution already accounts for the feature value (for linear models, contribution = weight * feature value), and the sum of feature contributions is equal to the score or, for some classifiers, to the probability. Feature values are shown if &quot;show_feature_values&quot; is True.\">\n",
              "                    Contribution<sup>?</sup>\n",
              "                </th>\n",
              "            \n",
              "            <th style=\"padding: 0 0.5em 0 0.5em; text-align: left; border: none;\">Feature</th>\n",
              "            \n",
              "        </tr>\n",
              "        </thead>\n",
              "        <tbody>\n",
              "        \n",
              "            <tr style=\"background-color: hsl(120, 100.00%, 80.00%); border: none;\">\n",
              "    <td style=\"padding: 0 1em 0 0.5em; text-align: right; border: none;\">\n",
              "        +0.612\n",
              "    </td>\n",
              "    <td style=\"padding: 0 0.5em 0 0.5em; text-align: left; border: none;\">\n",
              "        Highlighted in text (sum)\n",
              "    </td>\n",
              "    \n",
              "</tr>\n",
              "        \n",
              "            <tr style=\"background-color: hsl(120, 100.00%, 91.56%); border: none;\">\n",
              "    <td style=\"padding: 0 1em 0 0.5em; text-align: right; border: none;\">\n",
              "        +0.178\n",
              "    </td>\n",
              "    <td style=\"padding: 0 0.5em 0 0.5em; text-align: left; border: none;\">\n",
              "        &lt;BIAS&gt;\n",
              "    </td>\n",
              "    \n",
              "</tr>\n",
              "        \n",
              "        \n",
              "\n",
              "        \n",
              "        \n",
              "\n",
              "        </tbody>\n",
              "    </table>\n",
              "\n",
              "    \n",
              "\n",
              "\n",
              "\n",
              "    <p style=\"margin-bottom: 2.5em; margin-top:-0.5em;\">\n",
              "        <span style=\"background-color: hsl(120, 100.00%, 65.37%); opacity: 0.96\" title=\"0.164\">analyses</span><span style=\"opacity: 0.80\"> </span><span style=\"background-color: hsl(0, 100.00%, 78.87%); opacity: 0.88\" title=\"-0.081\">should</span><span style=\"opacity: 0.80\"> </span><span style=\"background-color: hsl(120, 100.00%, 97.24%); opacity: 0.80\" title=\"0.004\">include</span><span style=\"opacity: 0.80\"> </span><span style=\"background-color: hsl(0, 100.00%, 90.35%); opacity: 0.83\" title=\"-0.026\">prediction</span><span style=\"opacity: 0.80\"> </span><span style=\"background-color: hsl(120, 100.00%, 90.09%); opacity: 0.83\" title=\"0.027\">of</span><span style=\"opacity: 0.80\"> </span><span style=\"background-color: hsl(120, 100.00%, 60.00%); opacity: 1.00\" title=\"0.201\">remaining</span><span style=\"opacity: 0.80\"> </span><span style=\"background-color: hsl(120, 100.00%, 67.57%); opacity: 0.95\" title=\"0.149\">life</span><span style=\"opacity: 0.80\"> </span><span style=\"background-color: hsl(0, 100.00%, 79.34%); opacity: 0.88\" title=\"-0.078\">and</span><span style=\"opacity: 0.80\"> </span><span style=\"background-color: hsl(0, 100.00%, 73.95%); opacity: 0.91\" title=\"-0.109\">reassessment</span><span style=\"opacity: 0.80\"> </span><span style=\"background-color: hsl(0, 100.00%, 78.73%); opacity: 0.88\" title=\"-0.082\">of</span><span style=\"opacity: 0.80\"> </span><span style=\"background-color: hsl(0, 100.00%, 79.01%); opacity: 0.88\" title=\"-0.080\">required</span><span style=\"opacity: 0.80\"> </span><span style=\"background-color: hsl(120, 100.00%, 84.94%); opacity: 0.85\" title=\"0.050\">inspection</span><span style=\"opacity: 0.80\"> </span><span style=\"background-color: hsl(120, 100.00%, 82.25%); opacity: 0.86\" title=\"0.063\">intervals</span><span style=\"opacity: 0.80\">.</span>\n",
              "    </p>\n",
              "\n",
              "\n",
              "    \n",
              "\n",
              "    \n",
              "\n",
              "    \n",
              "\n",
              "    \n",
              "\n",
              "\n",
              "    \n",
              "\n",
              "    \n",
              "\n",
              "    \n",
              "\n",
              "    \n",
              "\n",
              "    \n",
              "\n",
              "    \n",
              "\n",
              "\n",
              "    \n",
              "\n",
              "    \n",
              "\n",
              "    \n",
              "\n",
              "    \n",
              "\n",
              "    \n",
              "\n",
              "    \n",
              "\n",
              "\n",
              "\n"
            ],
            "text/plain": [
              "<IPython.core.display.HTML object>"
            ]
          },
          "metadata": {
            "tags": []
          }
        },
        {
          "output_type": "display_data",
          "data": {
            "text/html": [
              ""
            ],
            "text/plain": [
              "<IPython.core.display.HTML object>"
            ]
          },
          "metadata": {
            "tags": []
          }
        },
        {
          "output_type": "display_data",
          "data": {
            "text/html": [
              ""
            ],
            "text/plain": [
              "<IPython.core.display.HTML object>"
            ]
          },
          "metadata": {
            "tags": []
          }
        }
      ]
    },
    {
      "cell_type": "markdown",
      "metadata": {
        "id": "hB-N-QSBCLeH"
      },
      "source": [
        "### Check top losses"
      ]
    },
    {
      "cell_type": "code",
      "metadata": {
        "id": "mCABLebacTWM"
      },
      "source": [
        "learner.view_top_losses(n=4, preproc=transformer, val_data=test_data)\n",
        "top_losses = learner.top_losses(n=4, preproc=transformer, val_data=test_data)"
      ],
      "execution_count": null,
      "outputs": []
    },
    {
      "cell_type": "code",
      "metadata": {
        "id": "JuMmx8f5dr45"
      },
      "source": [
        "top_loss_req = test_df.iloc[130]['requirement'] # Requirement that produces top loss\n",
        "\n",
        "print(predictor.predict(top_loss_req))\n",
        "\n",
        "# predicted probability scores for each category\n",
        "print(predictor.predict_proba(top_loss_req))\n",
        "print(top_loss_req)"
      ],
      "execution_count": null,
      "outputs": []
    },
    {
      "cell_type": "markdown",
      "metadata": {
        "id": "9tHos7V6d8RQ"
      },
      "source": [
        "Let's invoke the `explain` method to see which words contribute most to the classification."
      ]
    },
    {
      "cell_type": "code",
      "metadata": {
        "id": "3HgZDLYUeVaM",
        "outputId": "4c9a06a9-c5ea-4336-abe8-a56418e8ff52",
        "colab": {
          "base_uri": "https://localhost:8080/",
          "height": 661
        }
      },
      "source": [
        "from IPython.core.display import display\n",
        "\n",
        "print('### Explain correct vague classifications')\n",
        "for id, _, _, _ in top_losses:\n",
        "    top_loss_req = test_df.iloc[id]['requirement'] # Requirement that produces top loss\n",
        "    display(predictor.explain(top_loss_req, n_samples=1_000))"
      ],
      "execution_count": null,
      "outputs": [
        {
          "output_type": "display_data",
          "data": {
            "text/html": [
              ""
            ],
            "text/plain": [
              "<IPython.core.display.HTML object>"
            ]
          },
          "metadata": {
            "tags": []
          }
        },
        {
          "output_type": "display_data",
          "data": {
            "text/html": [
              ""
            ],
            "text/plain": [
              "<IPython.core.display.HTML object>"
            ]
          },
          "metadata": {
            "tags": []
          }
        },
        {
          "output_type": "display_data",
          "data": {
            "text/html": [
              "\n",
              "    <style>\n",
              "    table.eli5-weights tr:hover {\n",
              "        filter: brightness(85%);\n",
              "    }\n",
              "</style>\n",
              "\n",
              "\n",
              "\n",
              "    \n",
              "\n",
              "    \n",
              "\n",
              "    \n",
              "\n",
              "    \n",
              "\n",
              "    \n",
              "\n",
              "    \n",
              "\n",
              "\n",
              "    \n",
              "\n",
              "    \n",
              "\n",
              "    \n",
              "\n",
              "    \n",
              "        \n",
              "\n",
              "    \n",
              "\n",
              "        \n",
              "\n",
              "        \n",
              "    \n",
              "        \n",
              "        \n",
              "    \n",
              "        <p style=\"margin-bottom: 0.5em; margin-top: 0em\">\n",
              "            <b>\n",
              "    \n",
              "        y=vague\n",
              "    \n",
              "</b>\n",
              "\n",
              "    \n",
              "    (probability <b>0.667</b>, score <b>0.696</b>)\n",
              "\n",
              "top features\n",
              "        </p>\n",
              "    \n",
              "    <table class=\"eli5-weights\"\n",
              "           style=\"border-collapse: collapse; border: none; margin-top: 0em; table-layout: auto; margin-bottom: 2em;\">\n",
              "        <thead>\n",
              "        <tr style=\"border: none;\">\n",
              "            \n",
              "                <th style=\"padding: 0 1em 0 0.5em; text-align: right; border: none;\" title=\"Feature contribution already accounts for the feature value (for linear models, contribution = weight * feature value), and the sum of feature contributions is equal to the score or, for some classifiers, to the probability. Feature values are shown if &quot;show_feature_values&quot; is True.\">\n",
              "                    Contribution<sup>?</sup>\n",
              "                </th>\n",
              "            \n",
              "            <th style=\"padding: 0 0.5em 0 0.5em; text-align: left; border: none;\">Feature</th>\n",
              "            \n",
              "        </tr>\n",
              "        </thead>\n",
              "        <tbody>\n",
              "        \n",
              "            <tr style=\"background-color: hsl(120, 100.00%, 80.00%); border: none;\">\n",
              "    <td style=\"padding: 0 1em 0 0.5em; text-align: right; border: none;\">\n",
              "        +0.703\n",
              "    </td>\n",
              "    <td style=\"padding: 0 0.5em 0 0.5em; text-align: left; border: none;\">\n",
              "        Highlighted in text (sum)\n",
              "    </td>\n",
              "    \n",
              "</tr>\n",
              "        \n",
              "        \n",
              "\n",
              "        \n",
              "        \n",
              "            <tr style=\"background-color: hsl(0, 100.00%, 99.21%); border: none;\">\n",
              "    <td style=\"padding: 0 1em 0 0.5em; text-align: right; border: none;\">\n",
              "        -0.007\n",
              "    </td>\n",
              "    <td style=\"padding: 0 0.5em 0 0.5em; text-align: left; border: none;\">\n",
              "        &lt;BIAS&gt;\n",
              "    </td>\n",
              "    \n",
              "</tr>\n",
              "        \n",
              "\n",
              "        </tbody>\n",
              "    </table>\n",
              "\n",
              "    \n",
              "\n",
              "\n",
              "\n",
              "    <p style=\"margin-bottom: 2.5em; margin-top:-0.5em;\">\n",
              "        <span style=\"background-color: hsl(120, 100.00%, 88.31%); opacity: 0.83\" title=\"0.045\">the</span><span style=\"opacity: 0.80\"> </span><span style=\"background-color: hsl(120, 100.00%, 60.00%); opacity: 1.00\" title=\"0.258\">government</span><span style=\"opacity: 0.80\"> (</span><span style=\"background-color: hsl(0, 100.00%, 77.84%); opacity: 0.89\" title=\"-0.111\">spo</span><span style=\"opacity: 0.80\">) </span><span style=\"background-color: hsl(0, 100.00%, 89.16%); opacity: 0.83\" title=\"-0.040\">should</span><span style=\"opacity: 0.80\"> </span><span style=\"background-color: hsl(120, 100.00%, 80.32%); opacity: 0.87\" title=\"0.094\">develop</span><span style=\"opacity: 0.80\"> </span><span style=\"background-color: hsl(0, 100.00%, 74.55%); opacity: 0.90\" title=\"-0.136\">or</span><span style=\"opacity: 0.80\"> </span><span style=\"background-color: hsl(0, 100.00%, 82.06%); opacity: 0.86\" title=\"-0.082\">assemble</span><span style=\"opacity: 0.80\"> </span><span style=\"background-color: hsl(120, 100.00%, 87.41%); opacity: 0.84\" title=\"0.050\">and</span><span style=\"opacity: 0.80\"> </span><span style=\"background-color: hsl(0, 100.00%, 88.95%); opacity: 0.83\" title=\"-0.041\">maintain</span><span style=\"opacity: 0.80\"> </span><span style=\"background-color: hsl(0, 100.00%, 94.85%); opacity: 0.81\" title=\"-0.014\">the</span><span style=\"opacity: 0.80\"> </span><span style=\"background-color: hsl(0, 100.00%, 94.84%); opacity: 0.81\" title=\"-0.014\">following</span><span style=\"opacity: 0.80\"> </span><span style=\"background-color: hsl(0, 100.00%, 67.32%); opacity: 0.95\" title=\"-0.194\">types</span><span style=\"opacity: 0.80\"> </span><span style=\"background-color: hsl(120, 100.00%, 93.39%); opacity: 0.82\" title=\"0.020\">of</span><span style=\"opacity: 0.80\"> </span><span style=\"background-color: hsl(0, 100.00%, 76.47%); opacity: 0.89\" title=\"-0.121\">data</span><span style=\"opacity: 0.80\"> </span><span style=\"background-color: hsl(0, 100.00%, 81.05%); opacity: 0.87\" title=\"-0.089\">over</span><span style=\"opacity: 0.80\"> </span><span style=\"background-color: hsl(0, 100.00%, 90.93%); opacity: 0.82\" title=\"-0.031\">the</span><span style=\"opacity: 0.80\"> </span><span style=\"background-color: hsl(0, 100.00%, 86.67%); opacity: 0.84\" title=\"-0.054\">program</span><span style=\"opacity: 0.80\"> </span><span style=\"background-color: hsl(0, 100.00%, 89.72%); opacity: 0.83\" title=\"-0.037\">life</span><span style=\"opacity: 0.80\"> </span><span style=\"background-color: hsl(120, 100.00%, 75.13%); opacity: 0.90\" title=\"0.131\">cycle</span><span style=\"opacity: 0.80\"> </span><span style=\"background-color: hsl(120, 100.00%, 67.67%); opacity: 0.95\" title=\"0.191\">to</span><span style=\"opacity: 0.80\"> </span><span style=\"background-color: hsl(120, 100.00%, 88.36%); opacity: 0.83\" title=\"0.044\">serve</span><span style=\"opacity: 0.80\"> </span><span style=\"background-color: hsl(0, 100.00%, 81.80%); opacity: 0.86\" title=\"-0.084\">as</span><span style=\"opacity: 0.80\"> </span><span style=\"background-color: hsl(120, 100.00%, 92.56%); opacity: 0.82\" title=\"0.023\">the</span><span style=\"opacity: 0.80\"> </span><span style=\"background-color: hsl(120, 100.00%, 64.84%); opacity: 0.97\" title=\"0.215\">foundation</span><span style=\"opacity: 0.80\"> </span><span style=\"background-color: hsl(120, 100.00%, 73.30%); opacity: 0.91\" title=\"0.145\">for</span><span style=\"opacity: 0.80\"> </span><span style=\"background-color: hsl(120, 100.00%, 87.06%); opacity: 0.84\" title=\"0.052\">the</span><span style=\"opacity: 0.80\"> </span><span style=\"background-color: hsl(120, 100.00%, 70.96%); opacity: 0.93\" title=\"0.164\">systems</span><span style=\"opacity: 0.80\"> </span><span style=\"background-color: hsl(120, 100.00%, 92.64%); opacity: 0.82\" title=\"0.023\">engineering</span><span style=\"opacity: 0.80\"> </span><span style=\"background-color: hsl(120, 100.00%, 77.28%); opacity: 0.89\" title=\"0.115\">process</span><span style=\"opacity: 0.80\">.</span>\n",
              "    </p>\n",
              "\n",
              "\n",
              "    \n",
              "\n",
              "    \n",
              "\n",
              "    \n",
              "\n",
              "    \n",
              "\n",
              "\n",
              "    \n",
              "\n",
              "    \n",
              "\n",
              "    \n",
              "\n",
              "    \n",
              "\n",
              "    \n",
              "\n",
              "    \n",
              "\n",
              "\n",
              "    \n",
              "\n",
              "    \n",
              "\n",
              "    \n",
              "\n",
              "    \n",
              "\n",
              "    \n",
              "\n",
              "    \n",
              "\n",
              "\n",
              "\n"
            ],
            "text/plain": [
              "<IPython.core.display.HTML object>"
            ]
          },
          "metadata": {
            "tags": []
          }
        },
        {
          "output_type": "display_data",
          "data": {
            "text/html": [
              ""
            ],
            "text/plain": [
              "<IPython.core.display.HTML object>"
            ]
          },
          "metadata": {
            "tags": []
          }
        },
        {
          "output_type": "display_data",
          "data": {
            "text/html": [
              ""
            ],
            "text/plain": [
              "<IPython.core.display.HTML object>"
            ]
          },
          "metadata": {
            "tags": []
          }
        },
        {
          "output_type": "display_data",
          "data": {
            "text/html": [
              "\n",
              "    <style>\n",
              "    table.eli5-weights tr:hover {\n",
              "        filter: brightness(85%);\n",
              "    }\n",
              "</style>\n",
              "\n",
              "\n",
              "\n",
              "    \n",
              "\n",
              "    \n",
              "\n",
              "    \n",
              "\n",
              "    \n",
              "\n",
              "    \n",
              "\n",
              "    \n",
              "\n",
              "\n",
              "    \n",
              "\n",
              "    \n",
              "\n",
              "    \n",
              "\n",
              "    \n",
              "        \n",
              "\n",
              "    \n",
              "\n",
              "        \n",
              "\n",
              "        \n",
              "    \n",
              "        \n",
              "        \n",
              "    \n",
              "        <p style=\"margin-bottom: 0.5em; margin-top: 0em\">\n",
              "            <b>\n",
              "    \n",
              "        y=not-vague\n",
              "    \n",
              "</b>\n",
              "\n",
              "    \n",
              "    (probability <b>0.853</b>, score <b>-1.759</b>)\n",
              "\n",
              "top features\n",
              "        </p>\n",
              "    \n",
              "    <table class=\"eli5-weights\"\n",
              "           style=\"border-collapse: collapse; border: none; margin-top: 0em; table-layout: auto; margin-bottom: 2em;\">\n",
              "        <thead>\n",
              "        <tr style=\"border: none;\">\n",
              "            \n",
              "                <th style=\"padding: 0 1em 0 0.5em; text-align: right; border: none;\" title=\"Feature contribution already accounts for the feature value (for linear models, contribution = weight * feature value), and the sum of feature contributions is equal to the score or, for some classifiers, to the probability. Feature values are shown if &quot;show_feature_values&quot; is True.\">\n",
              "                    Contribution<sup>?</sup>\n",
              "                </th>\n",
              "            \n",
              "            <th style=\"padding: 0 0.5em 0 0.5em; text-align: left; border: none;\">Feature</th>\n",
              "            \n",
              "        </tr>\n",
              "        </thead>\n",
              "        <tbody>\n",
              "        \n",
              "            <tr style=\"background-color: hsl(120, 100.00%, 80.00%); border: none;\">\n",
              "    <td style=\"padding: 0 1em 0 0.5em; text-align: right; border: none;\">\n",
              "        +1.758\n",
              "    </td>\n",
              "    <td style=\"padding: 0 0.5em 0 0.5em; text-align: left; border: none;\">\n",
              "        Highlighted in text (sum)\n",
              "    </td>\n",
              "    \n",
              "</tr>\n",
              "        \n",
              "            <tr style=\"background-color: hsl(120, 100.00%, 99.89%); border: none;\">\n",
              "    <td style=\"padding: 0 1em 0 0.5em; text-align: right; border: none;\">\n",
              "        +0.001\n",
              "    </td>\n",
              "    <td style=\"padding: 0 0.5em 0 0.5em; text-align: left; border: none;\">\n",
              "        &lt;BIAS&gt;\n",
              "    </td>\n",
              "    \n",
              "</tr>\n",
              "        \n",
              "        \n",
              "\n",
              "        \n",
              "        \n",
              "\n",
              "        </tbody>\n",
              "    </table>\n",
              "\n",
              "    \n",
              "\n",
              "\n",
              "\n",
              "    <p style=\"margin-bottom: 2.5em; margin-top:-0.5em;\">\n",
              "        <span style=\"background-color: hsl(120, 100.00%, 77.98%); opacity: 0.89\" title=\"0.137\">if</span><span style=\"opacity: 0.80\"> </span><span style=\"background-color: hsl(120, 100.00%, 98.19%); opacity: 0.80\" title=\"0.004\">the</span><span style=\"opacity: 0.80\"> </span><span style=\"background-color: hsl(0, 100.00%, 80.03%); opacity: 0.87\" title=\"-0.119\">ng</span><span style=\"opacity: 0.80\">-</span><span style=\"background-color: hsl(120, 100.00%, 71.03%); opacity: 0.93\" title=\"0.202\">ran</span><span style=\"opacity: 0.80\"> </span><span style=\"background-color: hsl(120, 100.00%, 90.64%); opacity: 0.83\" title=\"0.040\">node</span><span style=\"opacity: 0.80\"> </span><span style=\"background-color: hsl(120, 100.00%, 98.20%); opacity: 0.80\" title=\"0.004\">receives</span><span style=\"opacity: 0.80\"> </span><span style=\"background-color: hsl(0, 100.00%, 69.81%); opacity: 0.93\" title=\"-0.214\">a</span><span style=\"opacity: 0.80\"> </span><span style=\"background-color: hsl(0, 100.00%, 78.15%); opacity: 0.88\" title=\"-0.135\">pdu</span><span style=\"opacity: 0.80\"> </span><span style=\"background-color: hsl(0, 100.00%, 96.65%); opacity: 0.81\" title=\"-0.009\">session</span><span style=\"opacity: 0.80\"> </span><span style=\"background-color: hsl(120, 100.00%, 94.27%); opacity: 0.81\" title=\"0.020\">resource</span><span style=\"opacity: 0.80\"> </span><span style=\"background-color: hsl(0, 100.00%, 91.62%); opacity: 0.82\" title=\"-0.034\">modify</span><span style=\"opacity: 0.80\"> </span><span style=\"background-color: hsl(0, 100.00%, 98.13%); opacity: 0.80\" title=\"-0.004\">request</span><span style=\"opacity: 0.80\"> </span><span style=\"background-color: hsl(120, 100.00%, 80.64%); opacity: 0.87\" title=\"0.114\">message</span><span style=\"opacity: 0.80\"> </span><span style=\"background-color: hsl(120, 100.00%, 88.01%); opacity: 0.84\" title=\"0.057\">containing</span><span style=\"opacity: 0.80\"> </span><span style=\"background-color: hsl(120, 100.00%, 91.97%); opacity: 0.82\" title=\"0.032\">the</span><span style=\"opacity: 0.80\"> </span><span style=\"background-color: hsl(120, 100.00%, 81.23%); opacity: 0.87\" title=\"0.109\">delay</span><span style=\"opacity: 0.80\"> </span><span style=\"background-color: hsl(120, 100.00%, 83.86%); opacity: 0.85\" title=\"0.088\">critical</span><span style=\"opacity: 0.80\"> </span><span style=\"background-color: hsl(0, 100.00%, 97.62%); opacity: 0.80\" title=\"-0.006\">ie</span><span style=\"opacity: 0.80\"> </span><span style=\"background-color: hsl(120, 100.00%, 96.32%); opacity: 0.81\" title=\"0.011\">in</span><span style=\"opacity: 0.80\"> the </span><span style=\"background-color: hsl(0, 100.00%, 90.79%); opacity: 0.82\" title=\"-0.039\">dynamic</span><span style=\"opacity: 0.80\"> </span><span style=\"background-color: hsl(0, 100.00%, 90.35%); opacity: 0.83\" title=\"-0.042\">5qi</span><span style=\"opacity: 0.80\"> </span><span style=\"background-color: hsl(120, 100.00%, 75.04%); opacity: 0.90\" title=\"0.163\">descriptor</span><span style=\"opacity: 0.80\"> </span><span style=\"background-color: hsl(0, 100.00%, 89.55%); opacity: 0.83\" title=\"-0.047\">ie</span><span style=\"opacity: 0.80\"> </span><span style=\"background-color: hsl(120, 100.00%, 95.35%); opacity: 0.81\" title=\"0.015\">of</span><span style=\"opacity: 0.80\"> </span><span style=\"background-color: hsl(0, 100.00%, 93.15%); opacity: 0.82\" title=\"-0.026\">the</span><span style=\"opacity: 0.80\"> </span><span style=\"background-color: hsl(0, 100.00%, 83.70%); opacity: 0.86\" title=\"-0.089\">qos</span><span style=\"opacity: 0.80\"> </span><span style=\"background-color: hsl(0, 100.00%, 92.10%); opacity: 0.82\" title=\"-0.032\">flow</span><span style=\"opacity: 0.80\"> </span><span style=\"background-color: hsl(0, 100.00%, 92.86%); opacity: 0.82\" title=\"-0.027\">level</span><span style=\"opacity: 0.80\"> </span><span style=\"background-color: hsl(120, 100.00%, 66.01%); opacity: 0.96\" title=\"0.254\">qos</span><span style=\"opacity: 0.80\"> </span><span style=\"background-color: hsl(120, 100.00%, 78.58%); opacity: 0.88\" title=\"0.131\">parameters</span><span style=\"opacity: 0.80\"> </span><span style=\"background-color: hsl(0, 100.00%, 74.86%); opacity: 0.90\" title=\"-0.165\">ie</span><span style=\"opacity: 0.80\"> </span><span style=\"background-color: hsl(120, 100.00%, 95.35%); opacity: 0.81\" title=\"0.015\">of</span><span style=\"opacity: 0.80\"> </span><span style=\"background-color: hsl(120, 100.00%, 83.68%); opacity: 0.86\" title=\"0.089\">the</span><span style=\"opacity: 0.80\"> </span><span style=\"background-color: hsl(120, 100.00%, 84.80%); opacity: 0.85\" title=\"0.080\">pdu</span><span style=\"opacity: 0.80\"> </span><span style=\"background-color: hsl(0, 100.00%, 96.65%); opacity: 0.81\" title=\"-0.009\">session</span><span style=\"opacity: 0.80\"> </span><span style=\"background-color: hsl(120, 100.00%, 94.27%); opacity: 0.81\" title=\"0.020\">resource</span><span style=\"opacity: 0.80\"> </span><span style=\"background-color: hsl(0, 100.00%, 91.62%); opacity: 0.82\" title=\"-0.034\">modify</span><span style=\"opacity: 0.80\"> </span><span style=\"background-color: hsl(0, 100.00%, 98.13%); opacity: 0.80\" title=\"-0.004\">request</span><span style=\"opacity: 0.80\"> </span><span style=\"background-color: hsl(120, 100.00%, 88.58%); opacity: 0.83\" title=\"0.053\">transfer</span><span style=\"opacity: 0.80\"> </span><span style=\"background-color: hsl(120, 100.00%, 85.42%); opacity: 0.85\" title=\"0.076\">ie</span><span style=\"opacity: 0.80\"> </span><span style=\"background-color: hsl(120, 100.00%, 85.76%); opacity: 0.85\" title=\"0.073\">set</span><span style=\"opacity: 0.80\"> </span><span style=\"background-color: hsl(0, 100.00%, 81.40%); opacity: 0.87\" title=\"-0.107\">to</span><span style=\"opacity: 0.80\"> </span><span style=\"background-color: hsl(0, 100.00%, 77.95%); opacity: 0.89\" title=\"-0.137\">the</span><span style=\"opacity: 0.80\"> </span><span style=\"background-color: hsl(0, 100.00%, 77.95%); opacity: 0.89\" title=\"-0.137\">value</span><span style=\"opacity: 0.80\"> �</span><span style=\"background-color: hsl(120, 100.00%, 81.23%); opacity: 0.87\" title=\"0.109\">delay</span><span style=\"opacity: 0.80\"> </span><span style=\"background-color: hsl(0, 100.00%, 71.22%); opacity: 0.92\" title=\"-0.200\">critical</span><span style=\"opacity: 0.80\">� </span><span style=\"background-color: hsl(0, 100.00%, 83.73%); opacity: 0.86\" title=\"-0.089\">but</span><span style=\"opacity: 0.80\"> </span><span style=\"background-color: hsl(0, 100.00%, 91.02%); opacity: 0.82\" title=\"-0.038\">the</span><span style=\"opacity: 0.80\"> </span><span style=\"background-color: hsl(0, 100.00%, 92.64%); opacity: 0.82\" title=\"-0.029\">maximum</span><span style=\"opacity: 0.80\"> </span><span style=\"background-color: hsl(120, 100.00%, 88.18%); opacity: 0.84\" title=\"0.056\">data</span><span style=\"opacity: 0.80\"> </span><span style=\"background-color: hsl(0, 100.00%, 79.39%); opacity: 0.88\" title=\"-0.124\">burst</span><span style=\"opacity: 0.80\"> </span><span style=\"background-color: hsl(0, 100.00%, 63.57%); opacity: 0.97\" title=\"-0.280\">volume</span><span style=\"opacity: 0.80\"> </span><span style=\"background-color: hsl(0, 100.00%, 82.71%); opacity: 0.86\" title=\"-0.097\">ie</span><span style=\"opacity: 0.80\"> </span><span style=\"background-color: hsl(120, 100.00%, 92.82%); opacity: 0.82\" title=\"0.028\">is</span><span style=\"opacity: 0.80\"> </span><span style=\"background-color: hsl(120, 100.00%, 86.69%); opacity: 0.84\" title=\"0.067\">not</span><span style=\"opacity: 0.80\"> </span><span style=\"background-color: hsl(0, 100.00%, 86.30%); opacity: 0.84\" title=\"-0.069\">present</span><span style=\"opacity: 0.80\">, </span><span style=\"background-color: hsl(0, 100.00%, 60.00%); opacity: 1.00\" title=\"-0.320\">the</span><span style=\"opacity: 0.80\"> </span><span style=\"background-color: hsl(0, 100.00%, 80.03%); opacity: 0.87\" title=\"-0.119\">ng</span><span style=\"opacity: 0.80\">-</span><span style=\"background-color: hsl(120, 100.00%, 71.03%); opacity: 0.93\" title=\"0.202\">ran</span><span style=\"opacity: 0.80\"> </span><span style=\"background-color: hsl(120, 100.00%, 90.64%); opacity: 0.83\" title=\"0.040\">node</span><span style=\"opacity: 0.80\"> </span><span style=\"background-color: hsl(0, 100.00%, 79.54%); opacity: 0.88\" title=\"-0.123\">shall</span><span style=\"opacity: 0.80\"> </span><span style=\"background-color: hsl(0, 100.00%, 82.87%); opacity: 0.86\" title=\"-0.095\">report</span><span style=\"opacity: 0.80\"> </span><span style=\"background-color: hsl(120, 100.00%, 73.24%); opacity: 0.91\" title=\"0.180\">the</span><span style=\"opacity: 0.80\"> </span><span style=\"background-color: hsl(120, 100.00%, 80.32%); opacity: 0.87\" title=\"0.116\">addition</span><span style=\"opacity: 0.80\"> </span><span style=\"background-color: hsl(120, 100.00%, 89.12%); opacity: 0.83\" title=\"0.050\">or</span><span style=\"opacity: 0.80\"> </span><span style=\"background-color: hsl(0, 100.00%, 89.92%); opacity: 0.83\" title=\"-0.045\">modification</span><span style=\"opacity: 0.80\"> </span><span style=\"background-color: hsl(0, 100.00%, 88.86%); opacity: 0.83\" title=\"-0.052\">of</span><span style=\"opacity: 0.80\"> </span><span style=\"background-color: hsl(0, 100.00%, 93.64%); opacity: 0.81\" title=\"-0.023\">the</span><span style=\"opacity: 0.80\"> </span><span style=\"background-color: hsl(0, 100.00%, 93.64%); opacity: 0.81\" title=\"-0.023\">corresponding</span><span style=\"opacity: 0.80\"> </span><span style=\"background-color: hsl(0, 100.00%, 87.17%); opacity: 0.84\" title=\"-0.063\">qos</span><span style=\"opacity: 0.80\"> </span><span style=\"background-color: hsl(0, 100.00%, 92.10%); opacity: 0.82\" title=\"-0.032\">flow</span><span style=\"opacity: 0.80\"> </span><span style=\"background-color: hsl(120, 100.00%, 76.39%); opacity: 0.89\" title=\"0.151\">as</span><span style=\"opacity: 0.80\"> </span><span style=\"background-color: hsl(120, 100.00%, 94.83%); opacity: 0.81\" title=\"0.017\">failed</span><span style=\"opacity: 0.80\"> </span><span style=\"background-color: hsl(120, 100.00%, 82.79%); opacity: 0.86\" title=\"0.096\">in</span><span style=\"opacity: 0.80\"> </span><span style=\"background-color: hsl(120, 100.00%, 83.68%); opacity: 0.86\" title=\"0.089\">the</span><span style=\"opacity: 0.80\"> </span><span style=\"background-color: hsl(120, 100.00%, 84.80%); opacity: 0.85\" title=\"0.080\">pdu</span><span style=\"opacity: 0.80\"> </span><span style=\"background-color: hsl(0, 100.00%, 96.65%); opacity: 0.81\" title=\"-0.009\">session</span><span style=\"opacity: 0.80\"> </span><span style=\"background-color: hsl(120, 100.00%, 94.27%); opacity: 0.81\" title=\"0.020\">resource</span><span style=\"opacity: 0.80\"> </span><span style=\"background-color: hsl(120, 100.00%, 70.31%); opacity: 0.93\" title=\"0.209\">modify</span><span style=\"opacity: 0.80\"> </span><span style=\"background-color: hsl(0, 100.00%, 96.58%); opacity: 0.81\" title=\"-0.010\">response</span><span style=\"opacity: 0.80\"> </span><span style=\"background-color: hsl(120, 100.00%, 95.00%); opacity: 0.81\" title=\"0.016\">transfer</span><span style=\"opacity: 0.80\"> </span><span style=\"background-color: hsl(120, 100.00%, 86.05%); opacity: 0.84\" title=\"0.071\">ie</span><span style=\"opacity: 0.80\"> </span><span style=\"background-color: hsl(120, 100.00%, 95.35%); opacity: 0.81\" title=\"0.015\">of</span><span style=\"opacity: 0.80\"> </span><span style=\"background-color: hsl(120, 100.00%, 83.68%); opacity: 0.86\" title=\"0.089\">the</span><span style=\"opacity: 0.80\"> </span><span style=\"background-color: hsl(120, 100.00%, 84.80%); opacity: 0.85\" title=\"0.080\">pdu</span><span style=\"opacity: 0.80\"> </span><span style=\"background-color: hsl(0, 100.00%, 96.65%); opacity: 0.81\" title=\"-0.009\">session</span><span style=\"opacity: 0.80\"> </span><span style=\"background-color: hsl(120, 100.00%, 94.27%); opacity: 0.81\" title=\"0.020\">resource</span><span style=\"opacity: 0.80\"> </span><span style=\"background-color: hsl(120, 100.00%, 70.31%); opacity: 0.93\" title=\"0.209\">modify</span><span style=\"opacity: 0.80\"> </span><span style=\"background-color: hsl(120, 100.00%, 92.84%); opacity: 0.82\" title=\"0.027\">response</span><span style=\"opacity: 0.80\"> </span><span style=\"background-color: hsl(120, 100.00%, 82.89%); opacity: 0.86\" title=\"0.095\">message</span><span style=\"opacity: 0.80\"> </span><span style=\"background-color: hsl(120, 100.00%, 84.37%); opacity: 0.85\" title=\"0.084\">with</span><span style=\"opacity: 0.80\"> </span><span style=\"background-color: hsl(0, 100.00%, 95.19%); opacity: 0.81\" title=\"-0.016\">an</span><span style=\"opacity: 0.80\"> </span><span style=\"background-color: hsl(0, 100.00%, 83.38%); opacity: 0.86\" title=\"-0.091\">appropriate</span><span style=\"opacity: 0.80\"> </span><span style=\"background-color: hsl(0, 100.00%, 89.36%); opacity: 0.83\" title=\"-0.048\">cause</span><span style=\"opacity: 0.80\"> </span><span style=\"background-color: hsl(120, 100.00%, 90.19%); opacity: 0.83\" title=\"0.043\">value</span><span style=\"opacity: 0.80\">.</span>\n",
              "    </p>\n",
              "\n",
              "\n",
              "    \n",
              "\n",
              "    \n",
              "\n",
              "    \n",
              "\n",
              "    \n",
              "\n",
              "\n",
              "    \n",
              "\n",
              "    \n",
              "\n",
              "    \n",
              "\n",
              "    \n",
              "\n",
              "    \n",
              "\n",
              "    \n",
              "\n",
              "\n",
              "    \n",
              "\n",
              "    \n",
              "\n",
              "    \n",
              "\n",
              "    \n",
              "\n",
              "    \n",
              "\n",
              "    \n",
              "\n",
              "\n",
              "\n"
            ],
            "text/plain": [
              "<IPython.core.display.HTML object>"
            ]
          },
          "metadata": {
            "tags": []
          }
        },
        {
          "output_type": "display_data",
          "data": {
            "text/html": [
              ""
            ],
            "text/plain": [
              "<IPython.core.display.HTML object>"
            ]
          },
          "metadata": {
            "tags": []
          }
        },
        {
          "output_type": "display_data",
          "data": {
            "text/html": [
              ""
            ],
            "text/plain": [
              "<IPython.core.display.HTML object>"
            ]
          },
          "metadata": {
            "tags": []
          }
        },
        {
          "output_type": "display_data",
          "data": {
            "text/html": [
              "\n",
              "    <style>\n",
              "    table.eli5-weights tr:hover {\n",
              "        filter: brightness(85%);\n",
              "    }\n",
              "</style>\n",
              "\n",
              "\n",
              "\n",
              "    \n",
              "\n",
              "    \n",
              "\n",
              "    \n",
              "\n",
              "    \n",
              "\n",
              "    \n",
              "\n",
              "    \n",
              "\n",
              "\n",
              "    \n",
              "\n",
              "    \n",
              "\n",
              "    \n",
              "\n",
              "    \n",
              "        \n",
              "\n",
              "    \n",
              "\n",
              "        \n",
              "\n",
              "        \n",
              "    \n",
              "        \n",
              "        \n",
              "    \n",
              "        <p style=\"margin-bottom: 0.5em; margin-top: 0em\">\n",
              "            <b>\n",
              "    \n",
              "        y=vague\n",
              "    \n",
              "</b>\n",
              "\n",
              "    \n",
              "    (probability <b>0.688</b>, score <b>0.790</b>)\n",
              "\n",
              "top features\n",
              "        </p>\n",
              "    \n",
              "    <table class=\"eli5-weights\"\n",
              "           style=\"border-collapse: collapse; border: none; margin-top: 0em; table-layout: auto; margin-bottom: 2em;\">\n",
              "        <thead>\n",
              "        <tr style=\"border: none;\">\n",
              "            \n",
              "                <th style=\"padding: 0 1em 0 0.5em; text-align: right; border: none;\" title=\"Feature contribution already accounts for the feature value (for linear models, contribution = weight * feature value), and the sum of feature contributions is equal to the score or, for some classifiers, to the probability. Feature values are shown if &quot;show_feature_values&quot; is True.\">\n",
              "                    Contribution<sup>?</sup>\n",
              "                </th>\n",
              "            \n",
              "            <th style=\"padding: 0 0.5em 0 0.5em; text-align: left; border: none;\">Feature</th>\n",
              "            \n",
              "        </tr>\n",
              "        </thead>\n",
              "        <tbody>\n",
              "        \n",
              "            <tr style=\"background-color: hsl(120, 100.00%, 80.00%); border: none;\">\n",
              "    <td style=\"padding: 0 1em 0 0.5em; text-align: right; border: none;\">\n",
              "        +0.612\n",
              "    </td>\n",
              "    <td style=\"padding: 0 0.5em 0 0.5em; text-align: left; border: none;\">\n",
              "        Highlighted in text (sum)\n",
              "    </td>\n",
              "    \n",
              "</tr>\n",
              "        \n",
              "            <tr style=\"background-color: hsl(120, 100.00%, 91.56%); border: none;\">\n",
              "    <td style=\"padding: 0 1em 0 0.5em; text-align: right; border: none;\">\n",
              "        +0.178\n",
              "    </td>\n",
              "    <td style=\"padding: 0 0.5em 0 0.5em; text-align: left; border: none;\">\n",
              "        &lt;BIAS&gt;\n",
              "    </td>\n",
              "    \n",
              "</tr>\n",
              "        \n",
              "        \n",
              "\n",
              "        \n",
              "        \n",
              "\n",
              "        </tbody>\n",
              "    </table>\n",
              "\n",
              "    \n",
              "\n",
              "\n",
              "\n",
              "    <p style=\"margin-bottom: 2.5em; margin-top:-0.5em;\">\n",
              "        <span style=\"background-color: hsl(120, 100.00%, 65.37%); opacity: 0.96\" title=\"0.164\">analyses</span><span style=\"opacity: 0.80\"> </span><span style=\"background-color: hsl(0, 100.00%, 78.87%); opacity: 0.88\" title=\"-0.081\">should</span><span style=\"opacity: 0.80\"> </span><span style=\"background-color: hsl(120, 100.00%, 97.24%); opacity: 0.80\" title=\"0.004\">include</span><span style=\"opacity: 0.80\"> </span><span style=\"background-color: hsl(0, 100.00%, 90.35%); opacity: 0.83\" title=\"-0.026\">prediction</span><span style=\"opacity: 0.80\"> </span><span style=\"background-color: hsl(120, 100.00%, 90.09%); opacity: 0.83\" title=\"0.027\">of</span><span style=\"opacity: 0.80\"> </span><span style=\"background-color: hsl(120, 100.00%, 60.00%); opacity: 1.00\" title=\"0.201\">remaining</span><span style=\"opacity: 0.80\"> </span><span style=\"background-color: hsl(120, 100.00%, 67.57%); opacity: 0.95\" title=\"0.149\">life</span><span style=\"opacity: 0.80\"> </span><span style=\"background-color: hsl(0, 100.00%, 79.34%); opacity: 0.88\" title=\"-0.078\">and</span><span style=\"opacity: 0.80\"> </span><span style=\"background-color: hsl(0, 100.00%, 73.95%); opacity: 0.91\" title=\"-0.109\">reassessment</span><span style=\"opacity: 0.80\"> </span><span style=\"background-color: hsl(0, 100.00%, 78.73%); opacity: 0.88\" title=\"-0.082\">of</span><span style=\"opacity: 0.80\"> </span><span style=\"background-color: hsl(0, 100.00%, 79.01%); opacity: 0.88\" title=\"-0.080\">required</span><span style=\"opacity: 0.80\"> </span><span style=\"background-color: hsl(120, 100.00%, 84.94%); opacity: 0.85\" title=\"0.050\">inspection</span><span style=\"opacity: 0.80\"> </span><span style=\"background-color: hsl(120, 100.00%, 82.25%); opacity: 0.86\" title=\"0.063\">intervals</span><span style=\"opacity: 0.80\">.</span>\n",
              "    </p>\n",
              "\n",
              "\n",
              "    \n",
              "\n",
              "    \n",
              "\n",
              "    \n",
              "\n",
              "    \n",
              "\n",
              "\n",
              "    \n",
              "\n",
              "    \n",
              "\n",
              "    \n",
              "\n",
              "    \n",
              "\n",
              "    \n",
              "\n",
              "    \n",
              "\n",
              "\n",
              "    \n",
              "\n",
              "    \n",
              "\n",
              "    \n",
              "\n",
              "    \n",
              "\n",
              "    \n",
              "\n",
              "    \n",
              "\n",
              "\n",
              "\n"
            ],
            "text/plain": [
              "<IPython.core.display.HTML object>"
            ]
          },
          "metadata": {
            "tags": []
          }
        },
        {
          "output_type": "display_data",
          "data": {
            "text/html": [
              ""
            ],
            "text/plain": [
              "<IPython.core.display.HTML object>"
            ]
          },
          "metadata": {
            "tags": []
          }
        },
        {
          "output_type": "display_data",
          "data": {
            "text/html": [
              ""
            ],
            "text/plain": [
              "<IPython.core.display.HTML object>"
            ]
          },
          "metadata": {
            "tags": []
          }
        },
        {
          "output_type": "display_data",
          "data": {
            "text/html": [
              "\n",
              "    <style>\n",
              "    table.eli5-weights tr:hover {\n",
              "        filter: brightness(85%);\n",
              "    }\n",
              "</style>\n",
              "\n",
              "\n",
              "\n",
              "    \n",
              "\n",
              "    \n",
              "\n",
              "    \n",
              "\n",
              "    \n",
              "\n",
              "    \n",
              "\n",
              "    \n",
              "\n",
              "\n",
              "    \n",
              "\n",
              "    \n",
              "\n",
              "    \n",
              "\n",
              "    \n",
              "        \n",
              "\n",
              "    \n",
              "\n",
              "        \n",
              "\n",
              "        \n",
              "    \n",
              "        \n",
              "        \n",
              "    \n",
              "        <p style=\"margin-bottom: 0.5em; margin-top: 0em\">\n",
              "            <b>\n",
              "    \n",
              "        y=vague\n",
              "    \n",
              "</b>\n",
              "\n",
              "    \n",
              "    (probability <b>0.614</b>, score <b>0.464</b>)\n",
              "\n",
              "top features\n",
              "        </p>\n",
              "    \n",
              "    <table class=\"eli5-weights\"\n",
              "           style=\"border-collapse: collapse; border: none; margin-top: 0em; table-layout: auto; margin-bottom: 2em;\">\n",
              "        <thead>\n",
              "        <tr style=\"border: none;\">\n",
              "            \n",
              "                <th style=\"padding: 0 1em 0 0.5em; text-align: right; border: none;\" title=\"Feature contribution already accounts for the feature value (for linear models, contribution = weight * feature value), and the sum of feature contributions is equal to the score or, for some classifiers, to the probability. Feature values are shown if &quot;show_feature_values&quot; is True.\">\n",
              "                    Contribution<sup>?</sup>\n",
              "                </th>\n",
              "            \n",
              "            <th style=\"padding: 0 0.5em 0 0.5em; text-align: left; border: none;\">Feature</th>\n",
              "            \n",
              "        </tr>\n",
              "        </thead>\n",
              "        <tbody>\n",
              "        \n",
              "            <tr style=\"background-color: hsl(120, 100.00%, 80.00%); border: none;\">\n",
              "    <td style=\"padding: 0 1em 0 0.5em; text-align: right; border: none;\">\n",
              "        +0.340\n",
              "    </td>\n",
              "    <td style=\"padding: 0 0.5em 0 0.5em; text-align: left; border: none;\">\n",
              "        Highlighted in text (sum)\n",
              "    </td>\n",
              "    \n",
              "</tr>\n",
              "        \n",
              "            <tr style=\"background-color: hsl(120, 100.00%, 90.15%); border: none;\">\n",
              "    <td style=\"padding: 0 1em 0 0.5em; text-align: right; border: none;\">\n",
              "        +0.124\n",
              "    </td>\n",
              "    <td style=\"padding: 0 0.5em 0 0.5em; text-align: left; border: none;\">\n",
              "        &lt;BIAS&gt;\n",
              "    </td>\n",
              "    \n",
              "</tr>\n",
              "        \n",
              "        \n",
              "\n",
              "        \n",
              "        \n",
              "\n",
              "        </tbody>\n",
              "    </table>\n",
              "\n",
              "    \n",
              "\n",
              "\n",
              "\n",
              "    <p style=\"margin-bottom: 2.5em; margin-top:-0.5em;\">\n",
              "        <span style=\"background-color: hsl(120, 100.00%, 60.00%); opacity: 1.00\" title=\"0.254\">ensure</span><span style=\"opacity: 0.80\"> </span><span style=\"background-color: hsl(0, 100.00%, 80.16%); opacity: 0.87\" title=\"-0.093\">that</span><span style=\"opacity: 0.80\"> </span><span style=\"background-color: hsl(0, 100.00%, 74.98%); opacity: 0.90\" title=\"-0.130\">amcs</span><span style=\"opacity: 0.80\"> </span><span style=\"background-color: hsl(0, 100.00%, 94.77%); opacity: 0.81\" title=\"-0.014\">collect</span><span style=\"opacity: 0.80\"> </span><span style=\"background-color: hsl(120, 100.00%, 72.90%); opacity: 0.91\" title=\"0.146\">and</span><span style=\"opacity: 0.80\"> </span><span style=\"background-color: hsl(120, 100.00%, 97.12%); opacity: 0.80\" title=\"0.006\">analyse</span><span style=\"opacity: 0.80\"> </span><span style=\"background-color: hsl(0, 100.00%, 62.18%); opacity: 0.98\" title=\"-0.235\">all</span><span style=\"opacity: 0.80\"> </span><span style=\"background-color: hsl(120, 100.00%, 87.98%); opacity: 0.84\" title=\"0.046\">airspace</span><span style=\"opacity: 0.80\"> </span><span style=\"background-color: hsl(0, 100.00%, 76.24%); opacity: 0.90\" title=\"-0.121\">requests</span><span style=\"opacity: 0.80\"> </span><span style=\"background-color: hsl(120, 100.00%, 89.39%); opacity: 0.83\" title=\"0.038\">and</span><span style=\"opacity: 0.80\"> </span><span style=\"background-color: hsl(120, 100.00%, 79.90%); opacity: 0.87\" title=\"0.095\">decide</span><span style=\"opacity: 0.80\"> </span><span style=\"background-color: hsl(0, 100.00%, 73.04%); opacity: 0.91\" title=\"-0.145\">the</span><span style=\"opacity: 0.80\"> </span><span style=\"background-color: hsl(0, 100.00%, 82.98%); opacity: 0.86\" title=\"-0.075\">daily</span><span style=\"opacity: 0.80\"> </span><span style=\"background-color: hsl(0, 100.00%, 86.59%); opacity: 0.84\" title=\"-0.053\">airspace</span><span style=\"opacity: 0.80\"> </span><span style=\"background-color: hsl(0, 100.00%, 90.39%); opacity: 0.83\" title=\"-0.033\">allocation</span><span style=\"opacity: 0.80\"> </span><span style=\"background-color: hsl(120, 100.00%, 89.56%); opacity: 0.83\" title=\"0.037\">taking</span><span style=\"opacity: 0.80\"> </span><span style=\"background-color: hsl(120, 100.00%, 96.08%); opacity: 0.81\" title=\"0.009\">into</span><span style=\"opacity: 0.80\"> </span><span style=\"background-color: hsl(120, 100.00%, 87.56%); opacity: 0.84\" title=\"0.048\">account</span><span style=\"opacity: 0.80\"> </span><span style=\"background-color: hsl(0, 100.00%, 80.64%); opacity: 0.87\" title=\"-0.090\">the</span><span style=\"opacity: 0.80\"> </span><span style=\"background-color: hsl(0, 100.00%, 67.62%); opacity: 0.95\" title=\"-0.188\">user</span><span style=\"opacity: 0.80\"> </span><span style=\"background-color: hsl(0, 100.00%, 88.90%); opacity: 0.83\" title=\"-0.041\">requirements</span><span style=\"opacity: 0.80\">, </span><span style=\"background-color: hsl(120, 100.00%, 76.35%); opacity: 0.89\" title=\"0.120\">available</span><span style=\"opacity: 0.80\"> </span><span style=\"background-color: hsl(120, 100.00%, 73.64%); opacity: 0.91\" title=\"0.140\">capacity</span><span style=\"opacity: 0.80\"> </span><span style=\"background-color: hsl(120, 100.00%, 66.44%); opacity: 0.96\" title=\"0.198\">and</span><span style=\"opacity: 0.80\"> </span><span style=\"background-color: hsl(0, 100.00%, 86.59%); opacity: 0.84\" title=\"-0.053\">the</span><span style=\"opacity: 0.80\"> </span><span style=\"background-color: hsl(0, 100.00%, 93.83%); opacity: 0.81\" title=\"-0.018\">effect</span><span style=\"opacity: 0.80\"> </span><span style=\"background-color: hsl(120, 100.00%, 70.10%); opacity: 0.93\" title=\"0.168\">on</span><span style=\"opacity: 0.80\"> </span><span style=\"background-color: hsl(120, 100.00%, 91.03%); opacity: 0.82\" title=\"0.030\">the</span><span style=\"opacity: 0.80\"> </span><span style=\"background-color: hsl(120, 100.00%, 92.78%); opacity: 0.82\" title=\"0.022\">network</span><span style=\"opacity: 0.80\">.</span>\n",
              "    </p>\n",
              "\n",
              "\n",
              "    \n",
              "\n",
              "    \n",
              "\n",
              "    \n",
              "\n",
              "    \n",
              "\n",
              "\n",
              "    \n",
              "\n",
              "    \n",
              "\n",
              "    \n",
              "\n",
              "    \n",
              "\n",
              "    \n",
              "\n",
              "    \n",
              "\n",
              "\n",
              "    \n",
              "\n",
              "    \n",
              "\n",
              "    \n",
              "\n",
              "    \n",
              "\n",
              "    \n",
              "\n",
              "    \n",
              "\n",
              "\n",
              "\n"
            ],
            "text/plain": [
              "<IPython.core.display.HTML object>"
            ]
          },
          "metadata": {
            "tags": []
          }
        }
      ]
    },
    {
      "cell_type": "markdown",
      "metadata": {
        "id": "mcph2bSLe5cW"
      },
      "source": [
        "The words in the darkest shade of green contribute most to the classification."
      ]
    }
  ]
}