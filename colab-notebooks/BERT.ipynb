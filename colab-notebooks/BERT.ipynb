{
  "nbformat": 4,
  "nbformat_minor": 0,
  "metadata": {
    "colab": {
      "name": "vague-requirements-bert.ipynb",
      "provenance": [],
      "collapsed_sections": [],
      "include_colab_link": true
    },
    "kernelspec": {
      "name": "python3",
      "display_name": "Python 3"
    },
    "accelerator": "GPU"
  },
  "cells": [
    {
      "cell_type": "markdown",
      "metadata": {
        "id": "view-in-github",
        "colab_type": "text"
      },
      "source": [
        "<a href=\"https://colab.research.google.com/github/HaaLeo/vague-requirements-scripts/blob/master/colab-notebooks/BERT.ipynb\" target=\"_parent\"><img src=\"https://colab.research.google.com/assets/colab-badge.svg\" alt=\"Open In Colab\"/></a>"
      ]
    },
    {
      "cell_type": "markdown",
      "metadata": {
        "id": "DgfHNcOPbOk3",
        "colab_type": "text"
      },
      "source": [
        "# Classify requirements as vague or not using [ktrain](https://github.com/amaiya/ktrain) and tensorflow\n"
      ]
    },
    {
      "cell_type": "markdown",
      "metadata": {
        "id": "6jOLkB2Gyq4e",
        "colab_type": "text"
      },
      "source": [
        "## Install dependencies\n",
        "*ktrain* requires TensorFlow 2.1. See [amaiya/ktrain#151](https://github.com/amaiya/ktrain/issues/151).\n",
        "Further we install a forked version of eli5lib to gain insights in the model's decision process and some self built helper functions to preprocess MTurk result files."
      ]
    },
    {
      "cell_type": "code",
      "metadata": {
        "id": "BDBNS4iNXuUL",
        "colab_type": "code",
        "colab": {
          "base_uri": "https://localhost:8080/",
          "height": 52
        },
        "outputId": "1affe013-269a-42c2-a63a-b341c4b84edf"
      },
      "source": [
        "!pip3 install -q tensorflow_gpu==2.1.0 ktrain==0.17.3\n",
        "!pip3 install -q -U git+https://github.com/HaaLeo/vague-requirements-scripts\n",
        "!pip3 install -q git+https://github.com/amaiya/eli5@tfkeras_0_10_1"
      ],
      "execution_count": 1,
      "outputs": [
        {
          "output_type": "stream",
          "text": [
            "  Building wheel for vaguerequirementslib (setup.py) ... \u001b[?25l\u001b[?25hdone\n",
            "  Building wheel for eli5 (setup.py) ... \u001b[?25l\u001b[?25hdone\n"
          ],
          "name": "stdout"
        }
      ]
    },
    {
      "cell_type": "markdown",
      "metadata": {
        "id": "5e1XeYJg3e_8",
        "colab_type": "text"
      },
      "source": [
        "Check versions and enable logging"
      ]
    },
    {
      "cell_type": "code",
      "metadata": {
        "id": "MAA46kq4X0C_",
        "colab_type": "code",
        "colab": {}
      },
      "source": [
        "import tensorflow as tf\n",
        "import ktrain\n",
        "assert tf.__version__ == '2.1.0'\n",
        "assert ktrain.__version__ == '0.17.3'\n",
        "\n",
        "import logging\n",
        "import sys\n",
        "\n",
        "logging.basicConfig(\n",
        "    format='%(asctime)s [%(threadName)-20.20s] [%(levelname)-5.5s]  %(message)s',\n",
        "    stream=sys.stdout,\n",
        "    level=logging.DEBUG)"
      ],
      "execution_count": 2,
      "outputs": []
    },
    {
      "cell_type": "markdown",
      "metadata": {
        "id": "n-2kIx7PwCR5",
        "colab_type": "text"
      },
      "source": [
        "## Set Parameters\n",
        "Set the parameters for this run.\n",
        "Ktrain ignores `max_features` and `ngram_range` in v0.17.3, see [amaiya/ktrain/issues#190](https://github.com/amaiya/ktrain/issues/190)"
      ]
    },
    {
      "cell_type": "code",
      "metadata": {
        "id": "YF_VXFLkwC1s",
        "colab_type": "code",
        "colab": {}
      },
      "source": [
        "indices_to_read = [0,2,3,4] # indicate which MTurk files shall be read.\n",
        "DATA_FILE_NAMES = [f'corpus-batch-{i}-mturk.csv' for i in indices_to_read]\n",
        "\n",
        "RANDOM_STATE = 1 # for seeding\n",
        "\n",
        "LEARNING_RATE = 5e-5\n",
        "EPOCHS = 4\n",
        "MODEL_NAME = 'distilbert-base-uncased'\n",
        "MAX_LEN = 512\n",
        "BATCH_SIZE = 6\n",
        "\n",
        "# MAX_FEATURES = 35_000\n",
        "# NGRAM_RANGE = 1"
      ],
      "execution_count": 53,
      "outputs": []
    },
    {
      "cell_type": "markdown",
      "metadata": {
        "id": "Cdk5lPu3bxze",
        "colab_type": "text"
      },
      "source": [
        "## Load Dataset"
      ]
    },
    {
      "cell_type": "markdown",
      "metadata": {
        "id": "hl9XSystzRQs",
        "colab_type": "text"
      },
      "source": [
        "### Mount Google Drive\n",
        "Mount the google drive to access the dataset"
      ]
    },
    {
      "cell_type": "code",
      "metadata": {
        "id": "tPQxmvhazWoy",
        "colab_type": "code",
        "colab": {
          "base_uri": "https://localhost:8080/",
          "height": 124
        },
        "outputId": "941c4d20-84da-4964-fd1d-96db3b6f087e"
      },
      "source": [
        "from google.colab import drive\n",
        "drive.mount('/content/drive')"
      ],
      "execution_count": 6,
      "outputs": [
        {
          "output_type": "stream",
          "text": [
            "Go to this URL in a browser: https://accounts.google.com/o/oauth2/auth?client_id=947318989803-6bn6qk8qdgf4n4g3pfee6491hc0brc4i.apps.googleusercontent.com&redirect_uri=urn%3aietf%3awg%3aoauth%3a2.0%3aoob&response_type=code&scope=email%20https%3a%2f%2fwww.googleapis.com%2fauth%2fdocs.test%20https%3a%2f%2fwww.googleapis.com%2fauth%2fdrive%20https%3a%2f%2fwww.googleapis.com%2fauth%2fdrive.photos.readonly%20https%3a%2f%2fwww.googleapis.com%2fauth%2fpeopleapi.readonly\n",
            "\n",
            "Enter your authorization code:\n",
            "··········\n",
            "Mounted at /content/drive\n"
          ],
          "name": "stdout"
        }
      ]
    },
    {
      "cell_type": "markdown",
      "metadata": {
        "id": "s4XQHRbHzbb_",
        "colab_type": "text"
      },
      "source": [
        "### Load Dataset Into Arrays"
      ]
    },
    {
      "cell_type": "code",
      "metadata": {
        "id": "DL5yXifL0SEh",
        "colab_type": "code",
        "colab": {
          "base_uri": "https://localhost:8080/",
          "height": 363
        },
        "outputId": "f10e1baa-4028-4b6b-b945-f2f367c14844"
      },
      "source": [
        "from vaguerequirementslib import read_csv_files, build_confusion_matrix, calc_majority_label\n",
        "import pandas as pd\n",
        "\n",
        "def read_drive_data(files_list: list, separator: str) -> pd.DataFrame:\n",
        "    \"\"\"\n",
        "    Calculate the majority label for the given source file list\n",
        "\n",
        "    Args:\n",
        "        files_list (list): The CSV files to calculate the majority label for\n",
        "        separator (str): The CSV separator\n",
        "        drop_ties (bool): If there is a tie in votes (e.g.: One votes for vague one for not vague) then drop this entry from the confusion matrix.\n",
        "\n",
        "    Returns:\n",
        "        pd.DataFrame: The dataframe containing the majority label.\n",
        "    \"\"\"\n",
        "    df = read_csv_files(files_list, separator)\n",
        "    confusion_matrix = build_confusion_matrix(df, drop_ties=True)\n",
        "    return calc_majority_label(confusion_matrix)\n",
        "\n",
        "# Read all data\n",
        "df = read_drive_data(\n",
        "    [f'/content/drive/My Drive/datasets/corpus/labeled/{file_name}' for file_name in DATA_FILE_NAMES],\n",
        "    ','\n",
        "  )\n",
        "df.head()\n"
      ],
      "execution_count": 14,
      "outputs": [
        {
          "output_type": "stream",
          "text": [
            "2020-07-04 13:27:11,333 [MainThread          ] [DEBUG]  Read file=\"/content/drive/My Drive/datasets/corpus/labeled/corpus-batch-0-mturk.csv\" with 200 rows.\n",
            "2020-07-04 13:27:11,348 [MainThread          ] [DEBUG]  Read file=\"/content/drive/My Drive/datasets/corpus/labeled/corpus-batch-2-mturk.csv\" with 194 rows.\n",
            "2020-07-04 13:27:11,363 [MainThread          ] [DEBUG]  Read file=\"/content/drive/My Drive/datasets/corpus/labeled/corpus-batch-3-mturk.csv\" with 198 rows.\n",
            "2020-07-04 13:27:11,378 [MainThread          ] [DEBUG]  Read file=\"/content/drive/My Drive/datasets/corpus/labeled/corpus-batch-4-mturk.csv\" with 196 rows.\n",
            "2020-07-04 13:27:11,395 [MainThread          ] [INFO ]  Build confusion matrix.\n",
            "2020-07-04 13:27:11,563 [MainThread          ] [INFO ]  Dropped 180 requirements due to ties.\n",
            "2020-07-04 13:27:11,565 [MainThread          ] [INFO ]  Built confusion matrix including 214 of 394 requirements. \n",
            "2020-07-04 13:27:11,570 [MainThread          ] [INFO ]  Overall \"vague\" votes count = 96. Overall \"not vague\" votes count = 332\n",
            "2020-07-04 13:27:11,593 [MainThread          ] [INFO ]  \"vague\" majority label count = 48. \"not vague\" majority label count = 166.\n"
          ],
          "name": "stdout"
        },
        {
          "output_type": "execute_result",
          "data": {
            "text/html": [
              "<div>\n",
              "<style scoped>\n",
              "    .dataframe tbody tr th:only-of-type {\n",
              "        vertical-align: middle;\n",
              "    }\n",
              "\n",
              "    .dataframe tbody tr th {\n",
              "        vertical-align: top;\n",
              "    }\n",
              "\n",
              "    .dataframe thead th {\n",
              "        text-align: right;\n",
              "    }\n",
              "</style>\n",
              "<table border=\"1\" class=\"dataframe\">\n",
              "  <thead>\n",
              "    <tr style=\"text-align: right;\">\n",
              "      <th></th>\n",
              "      <th>requirement</th>\n",
              "      <th>vague_count</th>\n",
              "      <th>not_vague_count</th>\n",
              "      <th>majority_label</th>\n",
              "    </tr>\n",
              "  </thead>\n",
              "  <tbody>\n",
              "    <tr>\n",
              "      <th>0</th>\n",
              "      <td>A fallback per band feature set resulting from...</td>\n",
              "      <td>2</td>\n",
              "      <td>0</td>\n",
              "      <td>1</td>\n",
              "    </tr>\n",
              "    <tr>\n",
              "      <th>1</th>\n",
              "      <td>Actuation of steering shall be possible regard...</td>\n",
              "      <td>0</td>\n",
              "      <td>2</td>\n",
              "      <td>0</td>\n",
              "    </tr>\n",
              "    <tr>\n",
              "      <th>2</th>\n",
              "      <td>Additionally, the ZigBee end device shall then...</td>\n",
              "      <td>0</td>\n",
              "      <td>2</td>\n",
              "      <td>0</td>\n",
              "    </tr>\n",
              "    <tr>\n",
              "      <th>3</th>\n",
              "      <td>Additionally, the plan provides traceability f...</td>\n",
              "      <td>2</td>\n",
              "      <td>0</td>\n",
              "      <td>1</td>\n",
              "    </tr>\n",
              "    <tr>\n",
              "      <th>4</th>\n",
              "      <td>After completion of release of the resources, ...</td>\n",
              "      <td>0</td>\n",
              "      <td>2</td>\n",
              "      <td>0</td>\n",
              "    </tr>\n",
              "  </tbody>\n",
              "</table>\n",
              "</div>"
            ],
            "text/plain": [
              "                                         requirement  ...  majority_label\n",
              "0  A fallback per band feature set resulting from...  ...               1\n",
              "1  Actuation of steering shall be possible regard...  ...               0\n",
              "2  Additionally, the ZigBee end device shall then...  ...               0\n",
              "3  Additionally, the plan provides traceability f...  ...               1\n",
              "4  After completion of release of the resources, ...  ...               0\n",
              "\n",
              "[5 rows x 4 columns]"
            ]
          },
          "metadata": {
            "tags": []
          },
          "execution_count": 14
        }
      ]
    },
    {
      "cell_type": "markdown",
      "metadata": {
        "id": "L1jPjv_sv1QE",
        "colab_type": "text"
      },
      "source": [
        "### Split data set\n"
      ]
    },
    {
      "cell_type": "code",
      "metadata": {
        "id": "k4a9O2w4v04v",
        "colab_type": "code",
        "colab": {
          "base_uri": "https://localhost:8080/",
          "height": 69
        },
        "outputId": "dcd87cf6-58f3-4a89-fdec-ff3e1eb4d703"
      },
      "source": [
        "from sklearn.model_selection import train_test_split\n",
        "from typing import Tuple, List\n",
        "\n",
        "\n",
        "def split_dataset(dataframe: pd.DataFrame) -> Tuple[List[str], List[int], List[str], List[int], List[str], List[int]]:\n",
        "    \"\"\"\n",
        "    Split the dataset into training, validation and test set.\n",
        "\n",
        "    Args:\n",
        "        data_frame (pd.DataFrame): The data frame to generate the data sets from.\n",
        "\n",
        "    Returns:\n",
        "        Tuple[List[str], List[int], List[str], List[int], List[str], List[int]]: x_train, y_train, x_val, y_val, x_test, y_test\n",
        "    \"\"\"\n",
        "    train_df, val_test_df = train_test_split(df, test_size=0.2, random_state=RANDOM_STATE, stratify=df['majority_label'])\n",
        "    val_df, test_df = train_test_split(val_test_df, test_size=0.5, random_state=RANDOM_STATE, stratify=val_test_df['majority_label'])\n",
        "\n",
        "    print(f'Training dataset: vague count=\"{train_df.sum()[\"majority_label\"]}\", not vague count=\"{train_df.shape[0] - train_df.sum()[\"majority_label\"]}\"')\n",
        "    print(f'Validation dataset: vague count=\"{val_df.sum()[\"majority_label\"]}\", not vague count=\"{val_df.shape[0] - val_df.sum()[\"majority_label\"]}\"')\n",
        "    print(f'Test dataset: vague count=\"{test_df.sum()[\"majority_label\"]}\", not vague count=\"{test_df.shape[0] - test_df.sum()[\"majority_label\"]}\"')\n",
        "\n",
        "    # text.texts_from_df(train_df, text_column='requirement', label_columns=['majority_label'],)\n",
        "    x_train = list(train_df['requirement'])\n",
        "    y_train = list(train_df['majority_label'])\n",
        "    x_val = list(val_df['requirement'])\n",
        "    y_val = list(val_df['majority_label'])\n",
        "    x_test = list(test_df['requirement'])\n",
        "    y_test = list(test_df['majority_label'])\n",
        "    \n",
        "    return x_train, y_train, x_val, y_val, x_test, y_test\n",
        "\n",
        "# Split the data set\n",
        "x_train, y_train, x_val, y_val, x_test, y_test = split_dataset(df)\n"
      ],
      "execution_count": 15,
      "outputs": [
        {
          "output_type": "stream",
          "text": [
            "Training dataset: vague count=\"38\", not vague count=\"133\"\n",
            "Validation dataset: vague count=\"5\", not vague count=\"16\"\n",
            "Test dataset: vague count=\"5\", not vague count=\"17\"\n"
          ],
          "name": "stdout"
        }
      ]
    },
    {
      "cell_type": "markdown",
      "metadata": {
        "id": "pe5xxVPrb4IO",
        "colab_type": "text"
      },
      "source": [
        "## STEP 1:  Preprocess Data and Create a Transformer Model\n",
        "\n",
        "We will use [DistilBERT](https://arxiv.org/abs/1910.01108)."
      ]
    },
    {
      "cell_type": "code",
      "metadata": {
        "id": "9GkeZCUozM2U",
        "colab_type": "code",
        "colab": {
          "base_uri": "https://localhost:8080/",
          "height": 451
        },
        "outputId": "db254afb-81fb-4404-8188-b670a0139c57"
      },
      "source": [
        "import ktrain\n",
        "from ktrain import text\n",
        "t = text.Transformer(MODEL_NAME, maxlen=MAX_LEN, class_names=['not-vague', 'vague']) # 0=not-vague 1=vague\n",
        "train_data = t.preprocess_train(x_train, y_train)\n",
        "val_data = t.preprocess_test(x_val, y_val)\n",
        "test_data = t.preprocess_test(x_test, y_test)\n",
        "\n",
        "model = t.get_classifier()\n",
        "learner = ktrain.get_learner(model, train_data=train_data, val_data=val_data, batch_size=BATCH_SIZE)"
      ],
      "execution_count": 54,
      "outputs": [
        {
          "output_type": "stream",
          "text": [
            "preprocessing train...\n",
            "language: en\n",
            "train sequence lengths:\n",
            "\tmean : 21\n",
            "\t95percentile : 40\n",
            "\t99percentile : 63\n",
            "2020-07-04 14:50:55,513 [MainThread          ] [DEBUG]  Starting new HTTPS connection (1): s3.amazonaws.com:443\n",
            "2020-07-04 14:50:55,697 [MainThread          ] [DEBUG]  https://s3.amazonaws.com:443 \"HEAD /models.huggingface.co/bert/bert-base-uncased-vocab.txt HTTP/1.1\" 200 0\n"
          ],
          "name": "stdout"
        },
        {
          "output_type": "display_data",
          "data": {
            "text/html": [
              ""
            ],
            "text/plain": [
              "<IPython.core.display.HTML object>"
            ]
          },
          "metadata": {
            "tags": []
          }
        },
        {
          "output_type": "stream",
          "text": [
            "Is Multi-Label? False\n",
            "preprocessing test...\n",
            "language: en\n",
            "test sequence lengths:\n",
            "\tmean : 22\n",
            "\t95percentile : 38\n",
            "\t99percentile : 46\n"
          ],
          "name": "stdout"
        },
        {
          "output_type": "display_data",
          "data": {
            "text/html": [
              ""
            ],
            "text/plain": [
              "<IPython.core.display.HTML object>"
            ]
          },
          "metadata": {
            "tags": []
          }
        },
        {
          "output_type": "stream",
          "text": [
            "preprocessing test...\n",
            "language: en\n",
            "test sequence lengths:\n",
            "\tmean : 21\n",
            "\t95percentile : 36\n",
            "\t99percentile : 38\n"
          ],
          "name": "stdout"
        },
        {
          "output_type": "display_data",
          "data": {
            "text/html": [
              ""
            ],
            "text/plain": [
              "<IPython.core.display.HTML object>"
            ]
          },
          "metadata": {
            "tags": []
          }
        },
        {
          "output_type": "stream",
          "text": [
            "2020-07-04 14:50:56,016 [MainThread          ] [DEBUG]  Starting new HTTPS connection (1): s3.amazonaws.com:443\n",
            "2020-07-04 14:50:56,159 [MainThread          ] [DEBUG]  https://s3.amazonaws.com:443 \"HEAD /models.huggingface.co/bert/distilbert-base-uncased-config.json HTTP/1.1\" 200 0\n",
            "2020-07-04 14:50:56,166 [MainThread          ] [DEBUG]  Starting new HTTPS connection (1): cdn.huggingface.co:443\n",
            "2020-07-04 14:50:56,388 [MainThread          ] [DEBUG]  https://cdn.huggingface.co:443 \"HEAD /distilbert-base-uncased-tf_model.h5 HTTP/1.1\" 200 0\n"
          ],
          "name": "stdout"
        }
      ]
    },
    {
      "cell_type": "markdown",
      "metadata": {
        "id": "G4sGPJgOcBTd",
        "colab_type": "text"
      },
      "source": [
        "## STEP 2:  Train the Model"
      ]
    },
    {
      "cell_type": "code",
      "metadata": {
        "id": "c_nH_F9yYvCd",
        "colab_type": "code",
        "colab": {
          "base_uri": "https://localhost:8080/",
          "height": 243
        },
        "outputId": "e9cee0af-7f4c-4bfc-a35e-06b1816428ec"
      },
      "source": [
        "learner.fit_onecycle(LEARNING_RATE, EPOCHS)"
      ],
      "execution_count": 55,
      "outputs": [
        {
          "output_type": "stream",
          "text": [
            "\n",
            "\n",
            "begin training using onecycle policy with max lr of 5e-05...\n",
            "Train for 29 steps, validate for 1 steps\n",
            "Epoch 1/4\n",
            "29/29 [==============================] - 30s 1s/step - loss: 0.5909 - accuracy: 0.7076 - val_loss: 0.5602 - val_accuracy: 0.7619\n",
            "Epoch 2/4\n",
            "29/29 [==============================] - 20s 695ms/step - loss: 0.5304 - accuracy: 0.7778 - val_loss: 0.5716 - val_accuracy: 0.7619\n",
            "Epoch 3/4\n",
            "29/29 [==============================] - 20s 692ms/step - loss: 0.4444 - accuracy: 0.7836 - val_loss: 0.7308 - val_accuracy: 0.7619\n",
            "Epoch 4/4\n",
            "29/29 [==============================] - 20s 692ms/step - loss: 0.2536 - accuracy: 0.8830 - val_loss: 0.5832 - val_accuracy: 0.7143\n"
          ],
          "name": "stdout"
        },
        {
          "output_type": "execute_result",
          "data": {
            "text/plain": [
              "<tensorflow.python.keras.callbacks.History at 0x7f2d56679c88>"
            ]
          },
          "metadata": {
            "tags": []
          },
          "execution_count": 55
        }
      ]
    },
    {
      "cell_type": "markdown",
      "metadata": {
        "id": "ho6eSo9IcI3_",
        "colab_type": "text"
      },
      "source": [
        "## STEP 3: Evaluate and Inspect the Model"
      ]
    },
    {
      "cell_type": "code",
      "metadata": {
        "id": "UvcxCvLOcOje",
        "colab_type": "code",
        "colab": {
          "base_uri": "https://localhost:8080/",
          "height": 208
        },
        "outputId": "b84ac7a8-2f4f-4a4a-b92e-0b28e8b2c5dd"
      },
      "source": [
        "test_result = learner.validate(class_names=t.get_classes(), val_data=test_data)\n",
        "print(test_result)"
      ],
      "execution_count": 21,
      "outputs": [
        {
          "output_type": "stream",
          "text": [
            "              precision    recall  f1-score   support\n",
            "\n",
            "   not-vague       0.80      0.24      0.36        17\n",
            "       vague       0.24      0.80      0.36         5\n",
            "\n",
            "    accuracy                           0.36        22\n",
            "   macro avg       0.52      0.52      0.36        22\n",
            "weighted avg       0.67      0.36      0.36        22\n",
            "\n",
            "[[ 4 13]\n",
            " [ 1  4]]\n"
          ],
          "name": "stdout"
        }
      ]
    },
    {
      "cell_type": "markdown",
      "metadata": {
        "id": "yhG3fPtPcVKe",
        "colab_type": "text"
      },
      "source": [
        "Let's examine the validation example about which we were the most wrong."
      ]
    },
    {
      "cell_type": "code",
      "metadata": {
        "id": "mCABLebacTWM",
        "colab_type": "code",
        "colab": {
          "base_uri": "https://localhost:8080/",
          "height": 69
        },
        "outputId": "d29bf92c-adb6-4380-ac98-8c29a1bc0c9f"
      },
      "source": [
        "learner.view_top_losses(n=1, preproc=t)"
      ],
      "execution_count": 19,
      "outputs": [
        {
          "output_type": "stream",
          "text": [
            "----------\n",
            "id:21 | loss:2.63 | true:vague | pred:not-vague)\n",
            "\n"
          ],
          "name": "stdout"
        }
      ]
    },
    {
      "cell_type": "code",
      "metadata": {
        "id": "pHYRBdBycfne",
        "colab_type": "code",
        "colab": {
          "base_uri": "https://localhost:8080/",
          "height": 52
        },
        "outputId": "03c1d018-2cbd-46c4-8fc1-a03277453f6e"
      },
      "source": [
        "top_loss_req = x_test[21] # Requirement that produces top loss\n",
        "print(top_loss_req)\n",
        "print(y_test[21])"
      ],
      "execution_count": 22,
      "outputs": [
        {
          "output_type": "stream",
          "text": [
            "Distance between supports shall not exceed resin is adequate support.\n",
            "1\n"
          ],
          "name": "stdout"
        }
      ]
    },
    {
      "cell_type": "markdown",
      "metadata": {
        "id": "bUBegwcKcyEG",
        "colab_type": "text"
      },
      "source": [
        "This post talks more about computing than `alt.atheism` (the true category), so our model placed it into the only computing category available to it: `comp.graphics`"
      ]
    },
    {
      "cell_type": "markdown",
      "metadata": {
        "id": "4vbRyh4Wyk8Q",
        "colab_type": "text"
      },
      "source": [
        "## STEP 3.1: Gather Results\n",
        "\n",
        "Gather results and write them to the drive."
      ]
    },
    {
      "cell_type": "code",
      "metadata": {
        "id": "8dYROS_Tyqs6",
        "colab_type": "code",
        "colab": {
          "base_uri": "https://localhost:8080/",
          "height": 54
        },
        "outputId": "a56e5fb6-bf1a-4fe2-faee-d5993047f35b"
      },
      "source": [
        "from vaguerequirementslib import TP, TN, FP, FN, calc_all_metrics\n",
        "result_data = {\n",
        "    'metrics':{\n",
        "        'vague': {\n",
        "            TP: test_result[1][1],\n",
        "            FP: test_result[0][1],\n",
        "            TN: test_result[0][0],\n",
        "            FN: test_result[1][0]\n",
        "        },\n",
        "        'not_vague': {\n",
        "            TP: test_result[0][0],\n",
        "            FP: test_result[1][0],\n",
        "            TN: test_result[1][1],\n",
        "            FN: test_result[0][1]\n",
        "        }\n",
        "    },\n",
        "    'misc': {   \n",
        "        'data_files': DATA_FILE_NAMES,\n",
        "        'random_state': RANDOM_STATE\n",
        "    },\n",
        "    'hyperparameter': {\n",
        "        'learning_rate': LEARNING_RATE,\n",
        "        'epochs': EPOCHS\n",
        "        'model_name': MODEL_NAME,\n",
        "        'max_len': MAX_LEN,\n",
        "        'batch_size': BATCH_SIZE\n",
        "        # 'max_features': MAX_FEATURES,\n",
        "        # 'ngram_range': NGRAM_RANGE\n",
        "    }\n",
        "}\n",
        "result_data['metrics']['not_vague'].update(calc_all_metrics(**result_data['metrics']['not_vague']))\n",
        "result_data['metrics']['vague'].update(calc_all_metrics(**result_data['metrics']['vague']))\n",
        "print(result_data)"
      ],
      "execution_count": 24,
      "outputs": [
        {
          "output_type": "stream",
          "text": [
            "{'metrics': {'vague': {'true_positive': 4, 'false_positive': 13, 'true_negative': 4, 'false_negative': 1, 'accuracy': 0.36363636363636365, 'precision': 0.23529411764705882, 'recall': 0.8, 'specificity': 0.23529411764705882, 'false_negative_rate': 0.2, 'false_positive_rate': 0.7647058823529411, 'f1_score': 0.3636363636363636}, 'not_vague': {'true_positive': 4, 'false_positive': 1, 'true_negative': 4, 'false_negative': 13, 'accuracy': 0.36363636363636365, 'precision': 0.8, 'recall': 0.23529411764705882, 'specificity': 0.8, 'false_negative_rate': 0.7647058823529411, 'false_positive_rate': 0.2, 'f1_score': 0.3636363636363636}}}\n"
          ],
          "name": "stdout"
        }
      ]
    },
    {
      "cell_type": "markdown",
      "metadata": {
        "id": "CcZQ6HbqdMcF",
        "colab_type": "text"
      },
      "source": [
        "## STEP 4: Making Predictions on New Data in Deployment"
      ]
    },
    {
      "cell_type": "code",
      "metadata": {
        "id": "hp8tw3Y0cnJa",
        "colab_type": "code",
        "colab": {}
      },
      "source": [
        "predictor = ktrain.get_predictor(learner.model, preproc=t)"
      ],
      "execution_count": 25,
      "outputs": []
    },
    {
      "cell_type": "code",
      "metadata": {
        "id": "LZOeu9cDdguM",
        "colab_type": "code",
        "colab": {
          "base_uri": "https://localhost:8080/",
          "height": 36
        },
        "outputId": "ff86fea6-2f75-4fe5-e2d4-4f8ced1711cf"
      },
      "source": [
        "predictor.predict(top_loss_req)"
      ],
      "execution_count": 26,
      "outputs": [
        {
          "output_type": "display_data",
          "data": {
            "text/html": [
              ""
            ],
            "text/plain": [
              "<IPython.core.display.HTML object>"
            ]
          },
          "metadata": {
            "tags": []
          }
        },
        {
          "output_type": "execute_result",
          "data": {
            "application/vnd.google.colaboratory.intrinsic": {
              "type": "string"
            },
            "text/plain": [
              "'not-vague'"
            ]
          },
          "metadata": {
            "tags": []
          },
          "execution_count": 26
        }
      ]
    },
    {
      "cell_type": "code",
      "metadata": {
        "id": "JuMmx8f5dr45",
        "colab_type": "code",
        "colab": {
          "base_uri": "https://localhost:8080/",
          "height": 34
        },
        "outputId": "dff8f8cc-3821-467e-987c-7c66d4c4051b"
      },
      "source": [
        "# predicted probability scores for each category\n",
        "predictor.predict_proba(top_loss_req)"
      ],
      "execution_count": 27,
      "outputs": [
        {
          "output_type": "display_data",
          "data": {
            "text/html": [
              ""
            ],
            "text/plain": [
              "<IPython.core.display.HTML object>"
            ]
          },
          "metadata": {
            "tags": []
          }
        },
        {
          "output_type": "execute_result",
          "data": {
            "text/plain": [
              "array([0.9278868 , 0.07211317], dtype=float32)"
            ]
          },
          "metadata": {
            "tags": []
          },
          "execution_count": 27
        }
      ]
    },
    {
      "cell_type": "code",
      "metadata": {
        "id": "ldxX1mtLd3Nq",
        "colab_type": "code",
        "colab": {
          "base_uri": "https://localhost:8080/",
          "height": 34
        },
        "outputId": "42eddab8-0c71-46dd-9c09-d1e9ae8d44dd"
      },
      "source": [
        "predictor.get_classes()"
      ],
      "execution_count": 28,
      "outputs": [
        {
          "output_type": "execute_result",
          "data": {
            "text/plain": [
              "['not-vague', 'vague']"
            ]
          },
          "metadata": {
            "tags": []
          },
          "execution_count": 28
        }
      ]
    },
    {
      "cell_type": "markdown",
      "metadata": {
        "id": "9tHos7V6d8RQ",
        "colab_type": "text"
      },
      "source": [
        "As expected, `soc.religion.christian` is assigned the highest probability.\n",
        "\n",
        "Let's invoke the `explain` method to see which words contribute most to the classification.\n",
        "\n"
      ]
    },
    {
      "cell_type": "code",
      "metadata": {
        "id": "3HgZDLYUeVaM",
        "colab_type": "code",
        "colab": {
          "base_uri": "https://localhost:8080/",
          "height": 169
        },
        "outputId": "501a345e-5a1f-4af8-b47e-6abcdfdc4f33"
      },
      "source": [
        "predictor.explain(top_loss_req)"
      ],
      "execution_count": 29,
      "outputs": [
        {
          "output_type": "display_data",
          "data": {
            "text/html": [
              ""
            ],
            "text/plain": [
              "<IPython.core.display.HTML object>"
            ]
          },
          "metadata": {
            "tags": []
          }
        },
        {
          "output_type": "display_data",
          "data": {
            "text/html": [
              ""
            ],
            "text/plain": [
              "<IPython.core.display.HTML object>"
            ]
          },
          "metadata": {
            "tags": []
          }
        },
        {
          "output_type": "execute_result",
          "data": {
            "text/html": [
              "\n",
              "    <style>\n",
              "    table.eli5-weights tr:hover {\n",
              "        filter: brightness(85%);\n",
              "    }\n",
              "</style>\n",
              "\n",
              "\n",
              "\n",
              "    \n",
              "\n",
              "    \n",
              "\n",
              "    \n",
              "\n",
              "    \n",
              "\n",
              "    \n",
              "\n",
              "    \n",
              "\n",
              "\n",
              "    \n",
              "\n",
              "    \n",
              "\n",
              "    \n",
              "\n",
              "    \n",
              "        \n",
              "\n",
              "    \n",
              "\n",
              "        \n",
              "\n",
              "        \n",
              "    \n",
              "        \n",
              "        \n",
              "    \n",
              "        <p style=\"margin-bottom: 0.5em; margin-top: 0em\">\n",
              "            <b>\n",
              "    \n",
              "        y=not-vague\n",
              "    \n",
              "</b>\n",
              "\n",
              "    \n",
              "    (probability <b>0.955</b>, score <b>-3.044</b>)\n",
              "\n",
              "top features\n",
              "        </p>\n",
              "    \n",
              "    <table class=\"eli5-weights\"\n",
              "           style=\"border-collapse: collapse; border: none; margin-top: 0em; table-layout: auto; margin-bottom: 2em;\">\n",
              "        <thead>\n",
              "        <tr style=\"border: none;\">\n",
              "            \n",
              "                <th style=\"padding: 0 1em 0 0.5em; text-align: right; border: none;\" title=\"Feature contribution already accounts for the feature value (for linear models, contribution = weight * feature value), and the sum of feature contributions is equal to the score or, for some classifiers, to the probability. Feature values are shown if &quot;show_feature_values&quot; is True.\">\n",
              "                    Contribution<sup>?</sup>\n",
              "                </th>\n",
              "            \n",
              "            <th style=\"padding: 0 0.5em 0 0.5em; text-align: left; border: none;\">Feature</th>\n",
              "            \n",
              "        </tr>\n",
              "        </thead>\n",
              "        <tbody>\n",
              "        \n",
              "            <tr style=\"background-color: hsl(120, 100.00%, 80.00%); border: none;\">\n",
              "    <td style=\"padding: 0 1em 0 0.5em; text-align: right; border: none;\">\n",
              "        +2.661\n",
              "    </td>\n",
              "    <td style=\"padding: 0 0.5em 0 0.5em; text-align: left; border: none;\">\n",
              "        Highlighted in text (sum)\n",
              "    </td>\n",
              "    \n",
              "</tr>\n",
              "        \n",
              "            <tr style=\"background-color: hsl(120, 100.00%, 94.86%); border: none;\">\n",
              "    <td style=\"padding: 0 1em 0 0.5em; text-align: right; border: none;\">\n",
              "        +0.383\n",
              "    </td>\n",
              "    <td style=\"padding: 0 0.5em 0 0.5em; text-align: left; border: none;\">\n",
              "        &lt;BIAS&gt;\n",
              "    </td>\n",
              "    \n",
              "</tr>\n",
              "        \n",
              "        \n",
              "\n",
              "        \n",
              "        \n",
              "\n",
              "        </tbody>\n",
              "    </table>\n",
              "\n",
              "    \n",
              "\n",
              "\n",
              "\n",
              "    <p style=\"margin-bottom: 2.5em; margin-top:-0.5em;\">\n",
              "        <span style=\"background-color: hsl(120, 100.00%, 87.51%); opacity: 0.84\" title=\"0.177\">distance</span><span style=\"opacity: 0.80\"> </span><span style=\"background-color: hsl(120, 100.00%, 97.66%); opacity: 0.80\" title=\"0.016\">between</span><span style=\"opacity: 0.80\"> </span><span style=\"background-color: hsl(120, 100.00%, 60.00%); opacity: 1.00\" title=\"0.932\">supports</span><span style=\"opacity: 0.80\"> </span><span style=\"background-color: hsl(120, 100.00%, 85.63%); opacity: 0.85\" title=\"0.216\">shall</span><span style=\"opacity: 0.80\"> </span><span style=\"background-color: hsl(120, 100.00%, 94.41%); opacity: 0.81\" title=\"0.056\">not</span><span style=\"opacity: 0.80\"> </span><span style=\"background-color: hsl(120, 100.00%, 93.84%); opacity: 0.81\" title=\"0.064\">exceed</span><span style=\"opacity: 0.80\"> </span><span style=\"background-color: hsl(120, 100.00%, 92.56%); opacity: 0.82\" title=\"0.084\">resin</span><span style=\"opacity: 0.80\"> </span><span style=\"background-color: hsl(0, 100.00%, 99.66%); opacity: 0.80\" title=\"-0.001\">is</span><span style=\"opacity: 0.80\"> </span><span style=\"background-color: hsl(0, 100.00%, 69.28%); opacity: 0.94\" title=\"-0.639\">adequate</span><span style=\"opacity: 0.80\"> </span><span style=\"background-color: hsl(120, 100.00%, 74.99%); opacity: 0.90\" title=\"0.476\">support</span><span style=\"opacity: 0.80\">.</span>\n",
              "    </p>\n",
              "\n",
              "\n",
              "    \n",
              "\n",
              "    \n",
              "\n",
              "    \n",
              "\n",
              "    \n",
              "\n",
              "\n",
              "    \n",
              "\n",
              "    \n",
              "\n",
              "    \n",
              "\n",
              "    \n",
              "\n",
              "    \n",
              "\n",
              "    \n",
              "\n",
              "\n",
              "    \n",
              "\n",
              "    \n",
              "\n",
              "    \n",
              "\n",
              "    \n",
              "\n",
              "    \n",
              "\n",
              "    \n",
              "\n",
              "\n",
              "\n"
            ],
            "text/plain": [
              "<IPython.core.display.HTML object>"
            ]
          },
          "metadata": {
            "tags": []
          },
          "execution_count": 29
        }
      ]
    },
    {
      "cell_type": "markdown",
      "metadata": {
        "id": "mcph2bSLe5cW",
        "colab_type": "text"
      },
      "source": [
        "The words in the darkest shade of green contribute most to the classification and agree with what you would expect for this example.\n",
        "\n",
        "We can save and reload our predictor for later deployment."
      ]
    },
    {
      "cell_type": "code",
      "metadata": {
        "id": "Z1nzxI_Jec-5",
        "colab_type": "code",
        "colab": {}
      },
      "source": [
        "predictor.save('/tmp/my_distilbert_predictor')"
      ],
      "execution_count": null,
      "outputs": []
    },
    {
      "cell_type": "code",
      "metadata": {
        "id": "DDEU2s03fHsw",
        "colab_type": "code",
        "colab": {}
      },
      "source": [
        "reloaded_predictor = ktrain.load_predictor('/tmp/my_distilbert_predictor')"
      ],
      "execution_count": null,
      "outputs": []
    },
    {
      "cell_type": "code",
      "metadata": {
        "id": "B4R1r12rgNlI",
        "colab_type": "code",
        "colab": {
          "base_uri": "https://localhost:8080/",
          "height": 35
        },
        "outputId": "1bd96ed0-4d5d-480d-cc01-e9a2993bf204"
      },
      "source": [
        "reloaded_predictor.predict('My computer monitor is really blurry.')"
      ],
      "execution_count": null,
      "outputs": [
        {
          "output_type": "display_data",
          "data": {
            "text/html": [
              ""
            ],
            "text/plain": [
              "<IPython.core.display.HTML object>"
            ]
          },
          "metadata": {
            "tags": []
          }
        },
        {
          "output_type": "execute_result",
          "data": {
            "text/plain": [
              "'comp.graphics'"
            ]
          },
          "metadata": {
            "tags": []
          },
          "execution_count": 24
        }
      ]
    },
    {
      "cell_type": "code",
      "metadata": {
        "id": "FCJgsiUzg1wg",
        "colab_type": "code",
        "colab": {}
      },
      "source": [
        ""
      ],
      "execution_count": null,
      "outputs": []
    }
  ]
}