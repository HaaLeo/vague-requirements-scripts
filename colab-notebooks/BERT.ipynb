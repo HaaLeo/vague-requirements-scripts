{
  "nbformat": 4,
  "nbformat_minor": 0,
  "metadata": {
    "colab": {
      "name": "vague-requirements-bert.ipynb",
      "provenance": [],
      "collapsed_sections": [],
      "toc_visible": true,
      "include_colab_link": true
    },
    "kernelspec": {
      "name": "python3",
      "display_name": "Python 3"
    },
    "accelerator": "GPU"
  },
  "cells": [
    {
      "cell_type": "markdown",
      "metadata": {
        "id": "view-in-github",
        "colab_type": "text"
      },
      "source": [
        "<a href=\"https://colab.research.google.com/github/HaaLeo/vague-requirements-scripts/blob/master/colab-notebooks/BERT.ipynb\" target=\"_parent\"><img src=\"https://colab.research.google.com/assets/colab-badge.svg\" alt=\"Open In Colab\"/></a>"
      ]
    },
    {
      "cell_type": "markdown",
      "metadata": {
        "id": "DgfHNcOPbOk3",
        "colab_type": "text"
      },
      "source": [
        "# Classify requirements as vague or not using [ktrain](https://github.com/amaiya/ktrain) and tensorflow\n"
      ]
    },
    {
      "cell_type": "markdown",
      "metadata": {
        "id": "6jOLkB2Gyq4e",
        "colab_type": "text"
      },
      "source": [
        "## Install dependencies\n",
        "*ktrain* requires TensorFlow 2.1. See [amaiya/ktrain#151](https://github.com/amaiya/ktrain/issues/151).\n",
        "Further we install a forked version of eli5lib to gain insights in the model's decision process and some self built helper functions to preprocess MTurk result files."
      ]
    },
    {
      "cell_type": "code",
      "metadata": {
        "id": "BDBNS4iNXuUL",
        "colab_type": "code",
        "colab": {
          "base_uri": "https://localhost:8080/",
          "height": 86
        },
        "outputId": "8967fcff-fb7a-4574-cffd-d2253bb7c490"
      },
      "source": [
        "%load_ext google.colab.data_table\n",
        "!pip3 install -q tensorflow_gpu==2.1.0 ktrain==0.17.5 imbalanced-learn==0.5.0 psutil==5.7.0\n",
        "!pip3 install -q -U git+https://github.com/HaaLeo/vague-requirements-scripts\n",
        "!pip3 install -q git+https://github.com/amaiya/eli5@tfkeras_0_10_1"
      ],
      "execution_count": 32,
      "outputs": [
        {
          "output_type": "stream",
          "text": [
            "The google.colab.data_table extension is already loaded. To reload it, use:\n",
            "  %reload_ext google.colab.data_table\n",
            "  Building wheel for vaguerequirementslib (setup.py) ... \u001b[?25l\u001b[?25hdone\n",
            "  Building wheel for eli5 (setup.py) ... \u001b[?25l\u001b[?25hdone\n"
          ],
          "name": "stdout"
        }
      ]
    },
    {
      "cell_type": "markdown",
      "metadata": {
        "id": "5e1XeYJg3e_8",
        "colab_type": "text"
      },
      "source": [
        "Check versions and enable logging"
      ]
    },
    {
      "cell_type": "code",
      "metadata": {
        "id": "MAA46kq4X0C_",
        "colab_type": "code",
        "colab": {
          "base_uri": "https://localhost:8080/",
          "height": 34
        },
        "outputId": "aa1315ee-5424-4fdd-afc9-62a482ef0195"
      },
      "source": [
        "import tensorflow as tf\n",
        "import ktrain\n",
        "import imblearn\n",
        "import psutil\n",
        "\n",
        "assert tf.__version__ == '2.1.0'\n",
        "assert ktrain.__version__ == '0.17.5'\n",
        "assert imblearn.__version__ == '0.5.0'\n",
        "assert psutil.__version__ == '5.7.0'\n",
        "\n",
        "import logging\n",
        "import sys\n",
        "\n",
        "logging.basicConfig(\n",
        "    format='%(asctime)s [%(name)-20.20s] [%(levelname)-5.5s]  %(message)s',\n",
        "    stream=sys.stdout,\n",
        "    level=logging.INFO)\n",
        "\n",
        "LOGGER = logging.getLogger('colab-notebook')\n",
        "LOGGER.info('Hello from colab notebook')"
      ],
      "execution_count": 33,
      "outputs": [
        {
          "output_type": "stream",
          "text": [
            "2020-07-24 12:25:35,987 [colab-notebook      ] [INFO ]  Hello from colab notebook\n"
          ],
          "name": "stdout"
        }
      ]
    },
    {
      "cell_type": "markdown",
      "metadata": {
        "id": "n-2kIx7PwCR5",
        "colab_type": "text"
      },
      "source": [
        "## Set Parameters\n",
        "Set the parameters for this run.\n",
        "Ktrain ignores `max_features` and `ngram_range` in v0.17.5, see [amaiya/ktrain/issues#190](https://github.com/amaiya/ktrain/issues/190)"
      ]
    },
    {
      "cell_type": "code",
      "metadata": {
        "id": "YF_VXFLkwC1s",
        "colab_type": "code",
        "cellView": "both",
        "colab": {
          "base_uri": "https://localhost:8080/",
          "height": 54
        },
        "outputId": "ee4a7b3d-0d22-469c-cb08-8cb161037652"
      },
      "source": [
        "#@title Set the parameter and hyperparameter \n",
        "#@markdown Set data files and proportion of train, val test set in source code\n",
        "\n",
        "def set_parameters() -> dict:\n",
        "    # Lists are not yet supported as form fields\n",
        "    data_file_names = [f'corpus-batch-{i}-mturk.csv' for i in range(5)] + ['corpus-batch-5-27-mturk.csv']\n",
        "    test_proportion = 0.1 # Proportion of the test set of the overall data\n",
        "    class_names = ['not-vague', 'vague'] # 0=not-vague 1=vague\n",
        "\n",
        "    # The following parameter can be edited with the form fields\n",
        "    random_state = 1  #@param {type:\"integer\"}\n",
        "\n",
        "    resampling_strategy = 'random_downsampling'#@param [\"random_downsampling\", \"random_upsampling\"]\n",
        "\n",
        "    kfold_splits = 10 #@param {type:\"integer\"}\n",
        "    learning_rate = 1e-5 #@param {type:\"number\"}\n",
        "    epochs =  2#@param {type:\"integer\"}\n",
        "    model_name = 'distilbert-base-uncased' #@param {type:\"string\"}\n",
        "    max_len = 256 #@param {type:\"integer\"}\n",
        "    batch_size = 6 #@param {type:\"integer\"}\n",
        "    max_features =  35000 #@param {type:\"integer\"}\n",
        "    ngram_range = 1 #@param {type:\"integer\"}\n",
        "\n",
        "\n",
        "    preprocess_mode = 'distilbert' #@param {type:\"string\"}\n",
        "\n",
        "    return {\n",
        "        'data_file_names': data_file_names,\n",
        "        'test_proportion': test_proportion,\n",
        "        'class_names': class_names,\n",
        "\n",
        "        'random_state': random_state,\n",
        "\n",
        "        'resampling_strategy': resampling_strategy,\n",
        "\n",
        "        'kfold_splits': kfold_splits,\n",
        "        'learning_rate': learning_rate,\n",
        "        'epochs': epochs,\n",
        "        'model_name': model_name,\n",
        "        'max_len': max_len,\n",
        "        'batch_size': batch_size,\n",
        "        'max_features': max_features,\n",
        "        'ngram_range': ngram_range,\n",
        "\n",
        "        'preprocess_mode': preprocess_mode\n",
        "    }\n",
        "\n",
        "params = set_parameters()\n",
        "LOGGER.info(f'Sucessfully set parameters=\"{params}\".')"
      ],
      "execution_count": 34,
      "outputs": [
        {
          "output_type": "stream",
          "text": [
            "2020-07-24 12:25:36,019 [colab-notebook      ] [INFO ]  Sucessfully set parameters=\"{'data_file_names': ['corpus-batch-0-mturk.csv', 'corpus-batch-1-mturk.csv', 'corpus-batch-2-mturk.csv', 'corpus-batch-3-mturk.csv', 'corpus-batch-4-mturk.csv', 'corpus-batch-5-27-mturk.csv'], 'test_proportion': 0.1, 'class_names': ['not-vague', 'vague'], 'random_state': 1, 'resampling_strategy': 'random_downsampling', 'kfold_splits': 10, 'learning_rate': 1e-05, 'epochs': 2, 'model_name': 'distilbert-base-uncased', 'max_len': 256, 'batch_size': 6, 'max_features': 35000, 'ngram_range': 1, 'preprocess_mode': 'distilbert'}\".\n"
          ],
          "name": "stdout"
        }
      ]
    },
    {
      "cell_type": "markdown",
      "metadata": {
        "id": "Cdk5lPu3bxze",
        "colab_type": "text"
      },
      "source": [
        "## Load Dataset"
      ]
    },
    {
      "cell_type": "markdown",
      "metadata": {
        "id": "hl9XSystzRQs",
        "colab_type": "text"
      },
      "source": [
        "### Mount Google Drive\n",
        "Mount the google drive to access the dataset"
      ]
    },
    {
      "cell_type": "code",
      "metadata": {
        "id": "tPQxmvhazWoy",
        "colab_type": "code",
        "colab": {
          "base_uri": "https://localhost:8080/",
          "height": 34
        },
        "outputId": "25a568de-ed87-4b2e-a86a-7270fc463921"
      },
      "source": [
        "from google.colab import drive\n",
        "drive.mount('/content/drive')"
      ],
      "execution_count": 35,
      "outputs": [
        {
          "output_type": "stream",
          "text": [
            "Drive already mounted at /content/drive; to attempt to forcibly remount, call drive.mount(\"/content/drive\", force_remount=True).\n"
          ],
          "name": "stdout"
        }
      ]
    },
    {
      "cell_type": "markdown",
      "metadata": {
        "id": "s4XQHRbHzbb_",
        "colab_type": "text"
      },
      "source": [
        "### Load Dataset"
      ]
    },
    {
      "cell_type": "code",
      "metadata": {
        "id": "DL5yXifL0SEh",
        "colab_type": "code",
        "colab": {
          "base_uri": "https://localhost:8080/",
          "height": 352
        },
        "outputId": "0a4b8611-18a9-42a7-9741-bfc40fe80f76"
      },
      "source": [
        "from vaguerequirementslib import read_csv_files, build_confusion_matrix, calc_majority_label\n",
        "import pandas as pd\n",
        "\n",
        "def read_drive_data(files_list: list, separator: str) -> pd.DataFrame:\n",
        "    \"\"\"\n",
        "    Calculate the majority label for the given source file list\n",
        "\n",
        "    Args:\n",
        "        files_list (list): The CSV files to calculate the majority label for\n",
        "        separator (str): The CSV separator\n",
        "        drop_ties (bool): If there is a tie in votes (e.g.: One votes for vague one for not vague) then drop this entry from the confusion matrix.\n",
        "\n",
        "    Returns:\n",
        "        pd.DataFrame: The dataframe containing the majority label.\n",
        "    \"\"\"\n",
        "    frame = read_csv_files(files_list, separator)\n",
        "    confusion_matrix = build_confusion_matrix(frame, drop_ties=True)\n",
        "    return calc_majority_label(confusion_matrix)\n",
        "\n",
        "# Read all data\n",
        "df = read_drive_data(\n",
        "    [f'/content/drive/My Drive/datasets/corpus/labeled/{file_name}' for file_name in params['data_file_names']],\n",
        "    ','\n",
        "  )\n",
        "df_vague_count = int(df[df.majority_label == 1].majority_label.value_counts())\n",
        "df_not_vague_count = int(df[df.majority_label == 0].majority_label.value_counts())\n",
        "LOGGER.info(f'Data frame consists of {df_vague_count} vague data points and {df_not_vague_count} not vague data points.')\n",
        "df.head()"
      ],
      "execution_count": 54,
      "outputs": [
        {
          "output_type": "stream",
          "text": [
            "2020-07-24 12:47:53,401 [vaguerequirementslib] [INFO ]  Build confusion matrix.\n",
            "2020-07-24 12:47:54,515 [vaguerequirementslib] [INFO ]  Dropped 1228 requirements due to ties.\n",
            "2020-07-24 12:47:54,520 [vaguerequirementslib] [INFO ]  Built confusion matrix including 1548 of 2776 requirements. \n",
            "2020-07-24 12:47:54,524 [vaguerequirementslib] [INFO ]  Overall \"vague\" votes count = 576. Overall \"not vague\" votes count = 2520\n",
            "2020-07-24 12:47:54,647 [vaguerequirementslib] [INFO ]  \"vague\" majority label count = 288. \"not vague\" majority label count = 1260.\n",
            "2020-07-24 12:47:54,658 [colab-notebook      ] [INFO ]  Data frame consists of 288 vague data points and 1260 not vague data points.\n"
          ],
          "name": "stdout"
        },
        {
          "output_type": "execute_result",
          "data": {
            "application/vnd.google.colaboratory.module+javascript": "\n      import \"https://ssl.gstatic.com/colaboratory/data_table/a6224c040fa35dcf/data_table.js\";\n\n      window.createDataTable({\n        data: [[{\n            'v': 0,\n            'f': \"0\",\n        },\n\"A COPV representative of the flight COPV (liner material, processing, thickness, configuration, and reinforcing composite stiffness and thickness) should be used.\",\n{\n            'v': 2,\n            'f': \"2\",\n        },\n{\n            'v': 0,\n            'f': \"0\",\n        },\n{\n            'v': 1,\n            'f': \"1\",\n        }],\n [{\n            'v': 1,\n            'f': \"1\",\n        },\n\"A Charge-Through VCONN -Powered USB Device shall discard all USB PD messages while a connection is enabled between the host port CC and Charge -Through port CC.\",\n{\n            'v': 0,\n            'f': \"0\",\n        },\n{\n            'v': 2,\n            'f': \"2\",\n        },\n{\n            'v': 0,\n            'f': \"0\",\n        }],\n [{\n            'v': 2,\n            'f': \"2\",\n        },\n\"A Charge-Through VCONN-Powered USB Device shall transition to Attached.SNK when a Source connection is detected, as indicated by the SNK.Rp state on its Host-side port\\ufffds CC pin.\",\n{\n            'v': 0,\n            'f': \"0\",\n        },\n{\n            'v': 2,\n            'f': \"2\",\n        },\n{\n            'v': 0,\n            'f': \"0\",\n        }],\n [{\n            'v': 3,\n            'f': \"3\",\n        },\n\"A Controller that supports Directed Advertising Report shall support the following sections of this document.\",\n{\n            'v': 0,\n            'f': \"0\",\n        },\n{\n            'v': 2,\n            'f': \"2\",\n        },\n{\n            'v': 0,\n            'f': \"0\",\n        }],\n [{\n            'v': 4,\n            'f': \"4\",\n        },\n\"A DC voltage between 0 V and -66 V may be present on the tip wire and on the ring wire during the application of the AC voltage.\",\n{\n            'v': 0,\n            'f': \"0\",\n        },\n{\n            'v': 2,\n            'f': \"2\",\n        },\n{\n            'v': 0,\n            'f': \"0\",\n        }]],\n        columns: [[\"number\", \"index\"], [\"string\", \"requirement\"], [\"number\", \"vague_count\"], [\"number\", \"not_vague_count\"], [\"number\", \"majority_label\"]],\n        columnOptions: [{\"width\": \"1px\", \"className\": \"index_column\"}],\n        rowsPerPage: 25,\n        helpUrl: \"https://colab.research.google.com/notebooks/data_table.ipynb\",\n        suppressOutputScrolling: true,\n        minimumWidth: undefined,\n      });\n    ",
            "text/html": [
              "<div>\n",
              "<style scoped>\n",
              "    .dataframe tbody tr th:only-of-type {\n",
              "        vertical-align: middle;\n",
              "    }\n",
              "\n",
              "    .dataframe tbody tr th {\n",
              "        vertical-align: top;\n",
              "    }\n",
              "\n",
              "    .dataframe thead th {\n",
              "        text-align: right;\n",
              "    }\n",
              "</style>\n",
              "<table border=\"1\" class=\"dataframe\">\n",
              "  <thead>\n",
              "    <tr style=\"text-align: right;\">\n",
              "      <th></th>\n",
              "      <th>requirement</th>\n",
              "      <th>vague_count</th>\n",
              "      <th>not_vague_count</th>\n",
              "      <th>majority_label</th>\n",
              "    </tr>\n",
              "  </thead>\n",
              "  <tbody>\n",
              "    <tr>\n",
              "      <th>0</th>\n",
              "      <td>A COPV representative of the flight COPV (line...</td>\n",
              "      <td>2</td>\n",
              "      <td>0</td>\n",
              "      <td>1</td>\n",
              "    </tr>\n",
              "    <tr>\n",
              "      <th>1</th>\n",
              "      <td>A Charge-Through VCONN -Powered USB Device sha...</td>\n",
              "      <td>0</td>\n",
              "      <td>2</td>\n",
              "      <td>0</td>\n",
              "    </tr>\n",
              "    <tr>\n",
              "      <th>2</th>\n",
              "      <td>A Charge-Through VCONN-Powered USB Device shal...</td>\n",
              "      <td>0</td>\n",
              "      <td>2</td>\n",
              "      <td>0</td>\n",
              "    </tr>\n",
              "    <tr>\n",
              "      <th>3</th>\n",
              "      <td>A Controller that supports Directed Advertisin...</td>\n",
              "      <td>0</td>\n",
              "      <td>2</td>\n",
              "      <td>0</td>\n",
              "    </tr>\n",
              "    <tr>\n",
              "      <th>4</th>\n",
              "      <td>A DC voltage between 0 V and -66 V may be pres...</td>\n",
              "      <td>0</td>\n",
              "      <td>2</td>\n",
              "      <td>0</td>\n",
              "    </tr>\n",
              "  </tbody>\n",
              "</table>\n",
              "</div>"
            ],
            "text/plain": [
              "                                         requirement  ...  majority_label\n",
              "0  A COPV representative of the flight COPV (line...  ...               1\n",
              "1  A Charge-Through VCONN -Powered USB Device sha...  ...               0\n",
              "2  A Charge-Through VCONN-Powered USB Device shal...  ...               0\n",
              "3  A Controller that supports Directed Advertisin...  ...               0\n",
              "4  A DC voltage between 0 V and -66 V may be pres...  ...               0\n",
              "\n",
              "[5 rows x 4 columns]"
            ]
          },
          "metadata": {
            "tags": []
          },
          "execution_count": 54
        }
      ]
    },
    {
      "cell_type": "markdown",
      "metadata": {
        "id": "L1jPjv_sv1QE",
        "colab_type": "text"
      },
      "source": [
        "## Utility Functions"
      ]
    },
    {
      "cell_type": "markdown",
      "metadata": {
        "id": "fb72So8PKxUF",
        "colab_type": "text"
      },
      "source": [
        "### Resample and preprocess"
      ]
    },
    {
      "cell_type": "code",
      "metadata": {
        "id": "k4a9O2w4v04v",
        "colab_type": "code",
        "colab": {
          "base_uri": "https://localhost:8080/",
          "height": 34
        },
        "outputId": "eda90258-320b-4277-c246-360c4001fd68"
      },
      "source": [
        "from typing import Tuple, List\n",
        "\n",
        "from imblearn.over_sampling import RandomOverSampler\n",
        "from imblearn.under_sampling import RandomUnderSampler\n",
        "from ktrain import text as txt\n",
        "\n",
        "def resample(data_frame: pd.DataFrame, random_state: int, resampling_strategy: str = None) -> pd.DataFrame:\n",
        "    \"\"\"\n",
        "    Re sample the given dataframe to contain equally much samples of vague and not-vague requirements.\n",
        "\n",
        "    Args:\n",
        "        data_frame (pd.DataFrame): The data frame to upsample.\n",
        "        random_state (int): For seeding results\n",
        "        strategy (str): The resampling strategy to use either \"random_downsampling\", \"random_upsampling\" or None.\n",
        "\n",
        "    Returns:\n",
        "        pd.DataFrame: The resampled data frame.\n",
        "    \"\"\"\n",
        "    if resampling_strategy:\n",
        "        if resampling_strategy == 'random_downsampling':\n",
        "            sampler = RandomUnderSampler(sampling_strategy=1., random_state=random_state)\n",
        "        elif resampling_strategy == 'random_upsampling':\n",
        "            sampler = RandomOverSampler(sampling_strategy=1., random_state=random_state)\n",
        "\n",
        "        x, y = sampler.fit_resample(data_frame.requirement.to_numpy().reshape(-1, 1), data_frame.majority_label)\n",
        "        result = pd.DataFrame({'requirement': x.flatten(), 'majority_label': y})\n",
        "\n",
        "        LOGGER.info(f'Resampled dataset with strategy\"{resampling_strategy}\": vague count=\"{result.sum()[\"majority_label\"]}\", not vague count=\"{result.shape[0] - result.sum()[\"majority_label\"]}\"')\n",
        "    \n",
        "    else: \n",
        "        LOGGER.warning('Data frame will not be resampled, because no strategy was provided.')\n",
        "        result = data_frame\n",
        "    return result\n",
        "\n",
        "def preprocess_data(data_frame: pd.DataFrame, **kwargs) -> Tuple:\n",
        "    dummy_df = pd.DataFrame.from_dict({'requirement': ['foo', 'bar'], 'majority_label': [0, 1]})\n",
        "    LOGGER.info(f'Preprocess the data using preprocess-mode=\"{kwargs[\"preprocess_mode\"]}\", max-features=\"{kwargs[\"max_features\"]}\", ngram-range=\"{kwargs[\"ngram_range\"]}\" and max-len=\"{kwargs[\"max_len\"]}\".')\n",
        "    data, _, _ = txt.texts_from_df(\n",
        "        data_frame, \n",
        "        text_column='requirement',\n",
        "        label_columns=['majority_label'], \n",
        "        val_df=dummy_df,  \n",
        "        max_features=kwargs['max_features'],\n",
        "        maxlen=kwargs['max_len'],  \n",
        "        ngram_range=kwargs['ngram_range'],\n",
        "        preprocess_mode=kwargs['preprocess_mode'],\n",
        "        random_state=kwargs['random_state'])\n",
        "    \n",
        "    return data\n",
        "LOGGER.info('Defined resampling and preprocessing functions.')"
      ],
      "execution_count": 37,
      "outputs": [
        {
          "output_type": "stream",
          "text": [
            "2020-07-24 12:25:37,474 [colab-notebook      ] [INFO ]  Defined resampling and preprocessing functions.\n"
          ],
          "name": "stdout"
        }
      ]
    },
    {
      "cell_type": "markdown",
      "metadata": {
        "id": "4vbRyh4Wyk8Q",
        "colab_type": "text"
      },
      "source": [
        "### Create result object\n",
        "\n",
        "Gather results, calulate metrics."
      ]
    },
    {
      "cell_type": "code",
      "metadata": {
        "id": "KVD6TnnULNiN",
        "colab_type": "code",
        "colab": {
          "base_uri": "https://localhost:8080/",
          "height": 34
        },
        "outputId": "48f69488-3a53-4969-952e-01d0fcd85bfa"
      },
      "source": [
        "import os\n",
        "import json\n",
        "from os import path\n",
        "\n",
        "from vaguerequirementslib import TP, TN, FP, FN, calc_all_metrics, calc_mean_average_precision\n",
        "\n",
        "def build_fold_result(train_result, val_result, test_result, learning_history, train_map_df, val_map_df, test_map_df) -> dict:\n",
        "    fold_result = {\n",
        "        'metrics':{\n",
        "            'train': {\n",
        "                'vague': {\n",
        "                    TP: int(train_result[1][1]),\n",
        "                    FP: int(train_result[0][1]),\n",
        "                    TN: int(train_result[0][0]),\n",
        "                    FN: int(train_result[1][0])\n",
        "                },\n",
        "                'not_vague': {\n",
        "                    TP: int(train_result[0][0]),\n",
        "                    FP: int(train_result[1][0]),\n",
        "                    TN: int(train_result[1][1]),\n",
        "                    FN: int(train_result[0][1])\n",
        "                }\n",
        "            },\n",
        "            'validation': {\n",
        "                'vague': {\n",
        "                    TP: int(val_result[1][1]),\n",
        "                    FP: int(val_result[0][1]),\n",
        "                    TN: int(val_result[0][0]),\n",
        "                    FN: int(val_result[1][0])\n",
        "                },\n",
        "                'not_vague': {\n",
        "                    TP: int(val_result[0][0]),\n",
        "                    FP: int(val_result[1][0]),\n",
        "                    TN: int(val_result[1][1]),\n",
        "                    FN: int(val_result[0][1])\n",
        "                }\n",
        "            },\n",
        "            'test': {\n",
        "                'vague': {\n",
        "                    TP: int(test_result[1][1]),\n",
        "                    FP: int(test_result[0][1]),\n",
        "                    TN: int(test_result[0][0]),\n",
        "                    FN: int(test_result[1][0])\n",
        "                },\n",
        "                'not_vague': {\n",
        "                    TP: int(test_result[0][0]),\n",
        "                    FP: int(test_result[1][0]),\n",
        "                    TN: int(test_result[1][1]),\n",
        "                    FN: int(test_result[0][1])\n",
        "                }\n",
        "            }\n",
        "        },\n",
        "        'learning_history': learning_history\n",
        "    }\n",
        "\n",
        "    for key in fold_result['metrics']:\n",
        "        fold_result['metrics'][key]['not_vague'].update(calc_all_metrics(**fold_result['metrics'][key]['not_vague']))\n",
        "        fold_result['metrics'][key]['vague'].update(calc_all_metrics(**fold_result['metrics'][key]['vague']))\n",
        "\n",
        "    # Mean average precision\n",
        "    train_map = calc_mean_average_precision(train_map_df)\n",
        "    fold_result['metrics']['train']['mean_average_precision'] = train_map[0]\n",
        "    fold_result['metrics']['train']['not_vague']['average_precision'] = train_map[1]\n",
        "    fold_result['metrics']['train']['vague']['average_precision'] = train_map[2]\n",
        "    \n",
        "    val_map = calc_mean_average_precision(val_map_df)\n",
        "    fold_result['metrics']['validation']['mean_average_precision'] = val_map[0]\n",
        "    fold_result['metrics']['validation']['not_vague']['average_precision'] = val_map[1]\n",
        "    fold_result['metrics']['validation']['vague']['average_precision'] = val_map[2]\n",
        "    \n",
        "    test_map = calc_mean_average_precision(test_map_df)\n",
        "    fold_result['metrics']['test']['mean_average_precision'] = test_map[0]\n",
        "    fold_result['metrics']['test']['not_vague']['average_precision'] = test_map[1]\n",
        "    fold_result['metrics']['test']['vague']['average_precision'] = test_map[2]\n",
        "\n",
        "\n",
        "    LOGGER.debug('Successfully built fold result.')\n",
        "\n",
        "    return fold_result\n",
        "\n",
        "\n",
        "def build_result_data(fold_results: List, df_vague_count, df_not_vague_count, test_df_vague_count, test_df_not_vague_count, **kwargs) -> dict:\n",
        "    result_data = {\n",
        "        'misc': {   \n",
        "            'random_state': kwargs['random_state']\n",
        "        },\n",
        "        'data_set':{\n",
        "            'summary': {\n",
        "                'data_files': kwargs['data_file_names'],\n",
        "                'vague_data_points': df_vague_count,\n",
        "                'not_vague_data_points': df_not_vague_count,\n",
        "            },\n",
        "            'test': {\n",
        "                'proportion': kwargs['test_proportion'],\n",
        "                'vague_data_points': test_df_vague_count,\n",
        "                'not_vague_data_points': test_df_not_vague_count\n",
        "            },\n",
        "            'resampling_strategy': kwargs['resampling_strategy']\n",
        "        },\n",
        "        'fold_results': fold_results,\n",
        "        'hyperparameter': {\n",
        "            'learning_rate': kwargs['learning_rate'],\n",
        "            'epochs': kwargs['epochs'],\n",
        "            'model_name': kwargs['model_name'],\n",
        "            'max_len': kwargs['max_len'],\n",
        "            'batch_size': kwargs['batch_size'],\n",
        "            'max_features': kwargs['max_features'],\n",
        "            'ngram_range': kwargs['ngram_range'],\n",
        "        }\n",
        "    }\n",
        "\n",
        "    LOGGER.debug('Successfully built result.')\n",
        "    return result_data\n",
        "\n",
        "\n",
        "def insert_probabilities(data_frame: pd.DataFrame, pred) -> None:\n",
        "    print(list(data_frame.loc[:, 'requirement']))\n",
        "    predictions = pred.predict_proba(list(data_frame.loc[:, 'requirement'])).transpose()\n",
        "    data_frame.loc[:, 'not_vague_prob'] = predictions[0] \n",
        "    data_frame.loc[:, 'vague_prob'] = predictions[1] \n",
        "\n",
        "LOGGER.info('Created functions for result object creation.')\n"
      ],
      "execution_count": 62,
      "outputs": [
        {
          "output_type": "stream",
          "text": [
            "2020-07-24 13:02:48,752 [colab-notebook      ] [INFO ]  Created functions for result object creation.\n"
          ],
          "name": "stdout"
        }
      ]
    },
    {
      "cell_type": "markdown",
      "metadata": {
        "id": "8JOuRdxKTuVH",
        "colab_type": "text"
      },
      "source": [
        "### Save evaluation result"
      ]
    },
    {
      "cell_type": "code",
      "metadata": {
        "id": "iMpthouJTqUQ",
        "colab_type": "code",
        "colab": {}
      },
      "source": [
        "import os\n",
        "import numpy as np\n",
        "\n",
        "\n",
        "def save_data(data: dict, file_path: str) -> None:\n",
        "    class NumpyJSONEncoder(json.JSONEncoder):\n",
        "        def default(self, obj):\n",
        "            if isinstance(obj, np.integer):\n",
        "                return int(obj)\n",
        "            elif isinstance(obj, np.floating):\n",
        "                return float(obj)\n",
        "            elif isinstance(obj, np.ndarray):\n",
        "                return obj.tolist()\n",
        "            else:\n",
        "                return super(NumpyJSONEncoder, self).default(obj)\n",
        "\n",
        "    # Save the evaluation result (test_data results)\n",
        "    os.makedirs(os.path.dirname(file_path), exist_ok=True)\n",
        "    with open(file_path, mode='w', encoding='utf-8') as json_file:\n",
        "        json.dump(data, json_file, indent=4, cls=NumpyJSONEncoder)\n",
        "    LOGGER.info(f'Successfully saved data to directory=\"{file_path}\".')\n",
        "\n",
        "def load_data(file_path: str) -> dict:\n",
        "    with open(file_path, mode='r', encoding='utf-8') as json_file:\n",
        "        data = json.load(json_file)\n",
        "    return data"
      ],
      "execution_count": 39,
      "outputs": []
    },
    {
      "cell_type": "markdown",
      "metadata": {
        "id": "TbtORRmiw7fx",
        "colab_type": "text"
      },
      "source": [
        "### K-Fold Cross Validation"
      ]
    },
    {
      "cell_type": "code",
      "metadata": {
        "id": "9GkeZCUozM2U",
        "colab_type": "code",
        "colab": {
          "base_uri": "https://localhost:8080/",
          "height": 34
        },
        "outputId": "6b1b5faf-0de2-4e14-ff79-d00694e6ae3a"
      },
      "source": [
        "from sklearn.model_selection import StratifiedKFold, train_test_split\n",
        "\n",
        "def perform_kfold_cross_validation(transformer, kfold_df, test_df, **kwargs):\n",
        "    fold_results = []\n",
        "    fold_counter = 1\n",
        "\n",
        "    # Preprocess test data\n",
        "    test_data = preprocess_data(test_df, **kwargs)\n",
        "\n",
        "    # Cerate k folds\n",
        "    kfold = StratifiedKFold(n_splits=kwargs['kfold_splits'], shuffle=True, random_state=kwargs['random_state'])\n",
        "    for train_idx, val_idx in kfold.split(kfold_df.requirement, kfold_df.majority_label):\n",
        "        LOGGER.info(f'\\n######################\\n### Process fold {fold_counter} / {kwargs[\"kfold_splits\"]}\\n######################')\n",
        "\n",
        "        # Get training data and validation data for this fold\n",
        "        train_df = kfold_df.iloc[train_idx]\n",
        "        val_df = kfold_df.iloc[val_idx]\n",
        "        LOGGER.info(f'Training dataset: vague count=\"{int(train_df[train_df.majority_label == 1].majority_label.value_counts())}\", not vague count=\"{int(train_df[train_df.majority_label == 0].majority_label.value_counts())}\".')\n",
        "        LOGGER.info(f'Validation dataset: vague count=\"{int(val_df[val_df.majority_label == 1].majority_label.value_counts())}\", not vague count=\"{int(val_df[val_df.majority_label == 0].majority_label.value_counts())}\".')\n",
        "        \n",
        "        # Resample train df \n",
        "        LOGGER.info('Resample training data set.')\n",
        "        train_df = resample(train_df, kwargs['random_state'], kwargs['resampling_strategy'])\n",
        "\n",
        "        LOGGER.info(f'Preprocess training and validation data for the model=\"{kwargs[\"model_name\"]}\".')\n",
        "        train_data = preprocess_data(train_df, **kwargs)\n",
        "        val_data = preprocess_data(val_df, **kwargs)\n",
        "\n",
        "        # Get the learner for the new fold\n",
        "        LOGGER.info('Fit the model for one cycle.')\n",
        "        learner = ktrain.get_learner(transformer.get_classifier(), train_data=train_data, val_data=val_data, batch_size=kwargs['batch_size'])\n",
        "        \n",
        "        # Find a suitable learning rate\n",
        "        # learner.lr_find(show_plot=True, start_lr=1e-09, max_epochs=kwargs['epochs'])\n",
        "        # print(learner.lr_estimate())\n",
        "        \n",
        "        # Fit the model\n",
        "        learning_history = learner.fit_onecycle(kwargs['learning_rate'], kwargs['epochs']).history\n",
        "        # learner.plot('loss')\n",
        "\n",
        "        # Evaluate the model\n",
        "        train_result = learner.validate(class_names=kwargs['class_names'], val_data=train_data, print_report=False)\n",
        "        val_result = learner.validate(class_names=kwargs['class_names'], val_data=val_data, print_report=False)\n",
        "        test_result = learner.validate(class_names=kwargs['class_names'], val_data=test_data)\n",
        "\n",
        "        # Prepare dfs for map calculation\n",
        "        current_predictor = ktrain.get_predictor(learner.model, preproc=transformer)\n",
        "        insert_probabilities(train_df, current_predictor)\n",
        "        insert_probabilities(val_df, current_predictor)\n",
        "        insert_probabilities(test_df, current_predictor)\n",
        "        \n",
        "        # build fold result\n",
        "        fold_result = build_fold_result(train_result, val_result, test_result, learning_history, train_df, val_df, test_df)\n",
        "        fold_results.append(fold_result)\n",
        "\n",
        "        fold_counter += 1\n",
        "\n",
        "    LOGGER.info('Successfully trained model.')\n",
        "\n",
        "    \n",
        "    return fold_results, learner\n",
        "\n",
        "LOGGER.info('Defined k-fold cross validation.')"
      ],
      "execution_count": 63,
      "outputs": [
        {
          "output_type": "stream",
          "text": [
            "2020-07-24 13:04:27,242 [colab-notebook      ] [INFO ]  Defined k-fold cross validation.\n"
          ],
          "name": "stdout"
        }
      ]
    },
    {
      "cell_type": "markdown",
      "metadata": {
        "id": "pe5xxVPrb4IO",
        "colab_type": "text"
      },
      "source": [
        "## STEP 1:  Training\n",
        "\n",
        "We will use [DistilBERT](https://arxiv.org/abs/1910.01108).\n"
      ]
    },
    {
      "cell_type": "markdown",
      "metadata": {
        "id": "qe0zwG-3Wzpx",
        "colab_type": "text"
      },
      "source": [
        "### Create a Transformer Model and Train it"
      ]
    },
    {
      "cell_type": "code",
      "metadata": {
        "id": "0T2kwCV5Oh_R",
        "colab_type": "code",
        "colab": {
          "base_uri": "https://localhost:8080/",
          "height": 34
        },
        "outputId": "825ae0e7-9014-46d4-ebc3-a5f5c4d24807"
      },
      "source": [
        "from datetime import datetime\n",
        "from pytz import timezone\n",
        "\n",
        "def create_train_save(result_file_path, **kwargs):\n",
        "    \"\"\"Create and train a model. Afterwards save its evaluation results.\"\"\"\n",
        "    # Create the transformer\n",
        "    t = txt.Transformer(kwargs['model_name'], maxlen=kwargs['max_len'], class_names=kwargs['class_names'])\n",
        "    t.preprocess_train_called = True # Simulate call to preprocess_train()\n",
        "\n",
        "    # Split data for k-folds and test data\n",
        "    kfold_df, test_df = train_test_split(df, test_size=kwargs['test_proportion'], random_state=kwargs['random_state'], stratify=df['majority_label'])\n",
        "\n",
        "    test_df_vague_count = int(test_df[test_df.majority_label == 1].majority_label.value_counts())\n",
        "    test_df_not_vague_count = int(test_df[test_df.majority_label == 0].majority_label.value_counts())\n",
        "    LOGGER.info(f'Test dataset: vague count=\"{test_df_vague_count}\", not vague count=\"{test_df_not_vague_count}\"')\n",
        "\n",
        "    # Perform k fold cross validation\n",
        "    fold_results, learner = perform_kfold_cross_validation(t, kfold_df, test_df, **kwargs)\n",
        "\n",
        "    predictor = ktrain.get_predictor(learner.model, preproc=t)\n",
        "    \n",
        "    # Build and save the evaluation result\n",
        "    eval_result = build_result_data(fold_results, df_vague_count, df_not_vague_count, test_df_vague_count, test_df_not_vague_count, **kwargs)\n",
        "    save_data(eval_result, result_file_path)\n",
        "\n",
        "    return learner, predictor\n",
        "\n",
        "LOGGER.info('Defined method to create and train a model and save its results')"
      ],
      "execution_count": 64,
      "outputs": [
        {
          "output_type": "stream",
          "text": [
            "2020-07-24 13:04:30,581 [colab-notebook      ] [INFO ]  Defined method to create and train a model and save its results\n"
          ],
          "name": "stdout"
        }
      ]
    },
    {
      "cell_type": "markdown",
      "metadata": {
        "id": "aCRoWu7VWn9l",
        "colab_type": "text"
      },
      "source": [
        "### Grid Search\n",
        "Perform a grid search to find good hyperparameter"
      ]
    },
    {
      "cell_type": "code",
      "metadata": {
        "id": "x7xHMobyWnmc",
        "colab_type": "code",
        "colab": {
          "base_uri": "https://localhost:8080/",
          "height": 69
        },
        "outputId": "a0818fa8-6f58-4664-e6a7-f4498aaf1e3d"
      },
      "source": [
        "from copy import deepcopy\n",
        "from os import path\n",
        "const_params = {\n",
        "        'data_file_names': params['data_file_names'],\n",
        "        'test_proportion': 0.1,\n",
        "        'class_names': ['not-vague', 'vague'],\n",
        "        'random_state': 1,\n",
        "}\n",
        "\n",
        "param_grid = {\n",
        "    'resampling_strategy': ['random_upsampling', 'random_downsampling'],\n",
        "    'kfold_splits': [4, 8],\n",
        "    'learning_rate': [\n",
        "        1e-6, 5e-6, # e-6\n",
        "        1e-5, 5e-5, # e-5\n",
        "    ],\n",
        "    'epochs': [1, 2, 3],\n",
        "    'model_name_preprocessing': [\n",
        "        # ('distilbert-base-uncased', 'distilbert'), \n",
        "        ('bert-base-uncased', 'bert')\n",
        "    ],\n",
        "    'max_len': [64, 128],\n",
        "    'batch_size': [16, 32],\n",
        "    'max_features': [30_000], # ignored anyway for transformers\n",
        "    'ngram_range': [1] # ignored anyway\n",
        "}\n",
        "\n",
        "LOGGER.info('Start grid search.')\n",
        "LOGGER.info('Search for checkpoint.')\n",
        "\n",
        "checkpoint_found = False\n",
        "checkpoint_data = None\n",
        "skipped_config_counter = 0\n",
        "\n",
        "for model_name, preprocess_mode in param_grid['model_name_preprocessing']:\n",
        "    for resampling_strategy in param_grid['resampling_strategy']:\n",
        "        for kfold_splits in param_grid['kfold_splits']:\n",
        "            for ngram_range in param_grid['ngram_range']:\n",
        "                for epochs in param_grid['epochs']:\n",
        "                    for max_len in  param_grid['max_len']:\n",
        "                        for batch_size in  param_grid['batch_size']:\n",
        "                            for max_features in  param_grid['max_features']:\n",
        "                                for learning_rate in param_grid['learning_rate']:\n",
        "                                    # For every triggered fitting run create a new directory where the results will be saved\n",
        "                                    now = datetime.now(timezone('Europe/Berlin'))\n",
        "\n",
        "                                    result_dir = f'/content/drive/My Drive/runs/grid-search/1'\n",
        "                                    eval_file = now.strftime('%Y-%m-%d_%H-%M-%S-evaluation.json')\n",
        "                                    result_file_path = path.join(result_dir, eval_file)\n",
        "                                    checkpoint_file_path = path.join(result_dir, 'grid-search-checkpoint.json')\n",
        "\n",
        "                                    current_params = deepcopy(const_params)\n",
        "                                    current_params.update({\n",
        "                                        'resampling_strategy': resampling_strategy,\n",
        "\n",
        "                                        'kfold_splits': kfold_splits,\n",
        "                                        'learning_rate': learning_rate,\n",
        "                                        'epochs': epochs,\n",
        "                                        'model_name': model_name,\n",
        "                                        'max_len': max_len,\n",
        "                                        'batch_size': batch_size,\n",
        "                                        'max_features': max_features,\n",
        "                                        'ngram_range': ngram_range,\n",
        "\n",
        "                                        'preprocess_mode': preprocess_mode\n",
        "                                    })\n",
        "\n",
        "                                    if not checkpoint_found:\n",
        "                                        # Load checkpoint once\n",
        "                                        if not checkpoint_data:\n",
        "                                            try: \n",
        "                                                checkpoint_data = load_data(checkpoint_file_path)\n",
        "                                            except FileNotFoundError:\n",
        "                                                # Start fresh grid search if no checkpoint was found\n",
        "                                                checkpoint_found = True\n",
        "                                                LOGGER.info(f'No checkpoint exists at path=\"{checkpoint_file_path}\". Start fresh grid search.')\n",
        "                                                save_data(param_grid, path.join(result_dir, 'grid-search-param-grid.json'))\n",
        "                                        # Assert whether the checkpoint was reached / the current parameter set was handled.\n",
        "                                        # Then continue from the next checkpoint\n",
        "                                        if checkpoint_data == current_params:\n",
        "                                            checkpoint_found = True\n",
        "                                            LOGGER.info(f'Checkpoint was found. Skipped {skipped_config_counter} parameter configurations.')\n",
        "                                            continue\n",
        "                                        else:\n",
        "                                            skipped_config_counter += 1\n",
        "                                            continue\n",
        "\n",
        "                                    elif checkpoint_found:\n",
        "                                        LOGGER.info(f'Consuming {psutil.cpu_percent()}% CPU and {psutil.virtual_memory().percent}% RAM.')\n",
        "                                        LOGGER.info(f'Grid search with parameters=\"{current_params}\".')\n",
        "                                        create_train_save(result_file_path, **current_params)\n",
        "\n",
        "                                        # Save checkpoint configuration\n",
        "                                        LOGGER.info('Save grid-search checkpoint.')\n",
        "                                        save_data(current_params, checkpoint_file_path)\n",
        "\n",
        "                                        # Try to release memory\n",
        "                                        tf.keras.backend.clear_session()\n",
        "                                        # Prevent disk overflow\n",
        "                                        !rm -r /var/tmp/*\n",
        "                                        !rm -r /tmp/*"
      ],
      "execution_count": null,
      "outputs": [
        {
          "output_type": "stream",
          "text": [
            "2020-07-14 07:54:25,203 [colab-notebook      ] [INFO ]  Start grid search.\n",
            "2020-07-14 07:54:25,204 [colab-notebook      ] [INFO ]  Search for checkpoint.\n",
            "2020-07-14 07:54:25,222 [colab-notebook      ] [INFO ]  Checkpoint was found. Skipped 191 parameter configurations.\n"
          ],
          "name": "stdout"
        }
      ]
    },
    {
      "cell_type": "markdown",
      "metadata": {
        "id": "T-vHWqidKKC9",
        "colab_type": "text"
      },
      "source": [
        "### Train single model\n",
        "Create and train a single model"
      ]
    },
    {
      "cell_type": "code",
      "metadata": {
        "id": "CBzoTpaIKJyA",
        "colab_type": "code",
        "colab": {
          "base_uri": "https://localhost:8080/",
          "height": 1000
        },
        "outputId": "e2d5c2a0-6375-4e5b-9017-ffff50363c91"
      },
      "source": [
        "single_train_params = {\n",
        "    # const params\n",
        "    'data_file_names': params['data_file_names'],\n",
        "    'test_proportion': 0.1,\n",
        "    'class_names': ['not-vague', 'vague'],\n",
        "    'random_state': None,\n",
        "\n",
        "    # Paramater with highest f-score for BERT\n",
        "    'resampling_strategy': 'random_downsampling',\n",
        "    'kfold_splits': 4,\n",
        "    'preprocess_mode': 'bert',\n",
        "    \n",
        "    'learning_rate': 1e-05,\n",
        "    'epochs': 2,\n",
        "    'model_name': 'bert-base-uncased',\n",
        "    'max_len': 128,\n",
        "    'batch_size': 16,\n",
        "    'max_features': 30000,\n",
        "    'ngram_range': 1\n",
        "}\n",
        "now = datetime.now(timezone('Europe/Berlin'))\n",
        "result_dir = f'/content/drive/My Drive/runs/bert/1/{now.strftime(\"%Y-%m-%d_%H-%M-%S\")}'\n",
        "result_file_path = path.join(result_dir, 'evaluation.json')\n",
        "\n",
        "the_learner, the_predictor = create_train_save(result_file_path, **single_train_params)"
      ],
      "execution_count": 65,
      "outputs": [
        {
          "output_type": "stream",
          "text": [
            "2020-07-24 13:04:33,797 [colab-notebook      ] [INFO ]  Test dataset: vague count=\"29\", not vague count=\"126\"\n",
            "2020-07-24 13:04:33,800 [colab-notebook      ] [INFO ]  Preprocess the data using preprocess-mode=\"bert\", max-features=\"30000\", ngram-range=\"1\" and max-len=\"128\".\n",
            "preprocessing train...\n",
            "language: en\n"
          ],
          "name": "stdout"
        },
        {
          "output_type": "display_data",
          "data": {
            "text/html": [
              "done."
            ],
            "text/plain": [
              "<IPython.core.display.HTML object>"
            ]
          },
          "metadata": {
            "tags": []
          }
        },
        {
          "output_type": "stream",
          "text": [
            "Is Multi-Label? False\n",
            "preprocessing test...\n",
            "language: en\n"
          ],
          "name": "stdout"
        },
        {
          "output_type": "display_data",
          "data": {
            "text/html": [
              "done."
            ],
            "text/plain": [
              "<IPython.core.display.HTML object>"
            ]
          },
          "metadata": {
            "tags": []
          }
        },
        {
          "output_type": "stream",
          "text": [
            "2020-07-24 13:04:34,121 [colab-notebook      ] [INFO ]  \n",
            "######################\n",
            "### Process fold 1 / 4\n",
            "######################\n",
            "2020-07-24 13:04:34,134 [colab-notebook      ] [INFO ]  Training dataset: vague count=\"194\", not vague count=\"850\".\n",
            "2020-07-24 13:04:34,142 [colab-notebook      ] [INFO ]  Validation dataset: vague count=\"65\", not vague count=\"284\".\n",
            "2020-07-24 13:04:34,143 [colab-notebook      ] [INFO ]  Resample training data set.\n",
            "2020-07-24 13:04:34,156 [colab-notebook      ] [INFO ]  Resampled dataset with strategy\"random_downsampling\": vague count=\"194\", not vague count=\"194\"\n",
            "2020-07-24 13:04:34,157 [colab-notebook      ] [INFO ]  Preprocess training and validation data for the model=\"bert-base-uncased\".\n",
            "2020-07-24 13:04:34,160 [colab-notebook      ] [INFO ]  Preprocess the data using preprocess-mode=\"bert\", max-features=\"30000\", ngram-range=\"1\" and max-len=\"128\".\n",
            "preprocessing train...\n",
            "language: en\n"
          ],
          "name": "stdout"
        },
        {
          "output_type": "display_data",
          "data": {
            "text/html": [
              "done."
            ],
            "text/plain": [
              "<IPython.core.display.HTML object>"
            ]
          },
          "metadata": {
            "tags": []
          }
        },
        {
          "output_type": "stream",
          "text": [
            "Is Multi-Label? False\n",
            "preprocessing test...\n",
            "language: en\n"
          ],
          "name": "stdout"
        },
        {
          "output_type": "display_data",
          "data": {
            "text/html": [
              "done."
            ],
            "text/plain": [
              "<IPython.core.display.HTML object>"
            ]
          },
          "metadata": {
            "tags": []
          }
        },
        {
          "output_type": "stream",
          "text": [
            "2020-07-24 13:04:34,568 [colab-notebook      ] [INFO ]  Preprocess the data using preprocess-mode=\"bert\", max-features=\"30000\", ngram-range=\"1\" and max-len=\"128\".\n",
            "preprocessing train...\n",
            "language: en\n"
          ],
          "name": "stdout"
        },
        {
          "output_type": "display_data",
          "data": {
            "text/html": [
              "done."
            ],
            "text/plain": [
              "<IPython.core.display.HTML object>"
            ]
          },
          "metadata": {
            "tags": []
          }
        },
        {
          "output_type": "stream",
          "text": [
            "Is Multi-Label? False\n",
            "preprocessing test...\n",
            "language: en\n"
          ],
          "name": "stdout"
        },
        {
          "output_type": "display_data",
          "data": {
            "text/html": [
              "done."
            ],
            "text/plain": [
              "<IPython.core.display.HTML object>"
            ]
          },
          "metadata": {
            "tags": []
          }
        },
        {
          "output_type": "stream",
          "text": [
            "2020-07-24 13:04:34,961 [colab-notebook      ] [INFO ]  Fit the model for one cycle.\n",
            "\n",
            "\n",
            "begin training using onecycle policy with max lr of 1e-05...\n",
            "Train on 388 samples, validate on 349 samples\n",
            "Epoch 1/2\n",
            "388/388 [==============================] - 47s 120ms/sample - loss: 0.7004 - accuracy: 0.4974 - val_loss: 0.6167 - val_accuracy: 0.7966\n",
            "Epoch 2/2\n",
            "388/388 [==============================] - 26s 67ms/sample - loss: 0.6893 - accuracy: 0.5644 - val_loss: 0.6443 - val_accuracy: 0.7249\n",
            "              precision    recall  f1-score   support\n",
            "\n",
            "   not-vague       0.83      0.77      0.80       126\n",
            "       vague       0.24      0.31      0.27        29\n",
            "\n",
            "    accuracy                           0.68       155\n",
            "   macro avg       0.53      0.54      0.53       155\n",
            "weighted avg       0.72      0.68      0.70       155\n",
            "\n",
            "['The supplier shall assess manufacturer part handling approach.', 'Interfering signals shall be a CW signal and an E-UTRA or UTRA signal as specified in 3GPP TS 37.104 [9], annex A.', 'The dynamic range is specified as a measure of the capability of the receiver to receive a wanted signal in the presence BS channel bandwidth.', 'If an attribute value has a variable length and if the Attribute Value parameter is of zero length, the attribute value will be fully truncated.', 'The terminal simulator shall be capable of communicating with a UICC.', 'For structural margin of safety requirements, ECSS?E?ST?32 shall apply.', 'Ultrasonic cleaning shall not be performed on sealed relays.', 'When the Set_Reserved_LT_ADDR command has completed, a Command Complete event shall be generated.', 'An audio tone with a frequency of 1 000 Hz and a level of -16 dBm shall be applied to the 600 ? line input terminals and the output power measured.', 'Parts sensitive to SEL (Single Event Latchup) with a LET threshold of less than 100 MeV cm2/mg shall not be used.', 'If the connection is encrypted, the Link Layer shall first use the encryption pause procedure followed by the encryption start procedure.', 'If any, ANSPs should disclose approach control sectors at maximum configuration in the first column, approach control sectors potentially available in the second column and the total number of sector-hours open during the year for the approach control sectors in the last column.', 'The telemetry symbol rate shall be within �1 � 10?4 of its nominal value at all times.', 'On the ACL-C, ASB-C, and ASB-U logical links, no flow control is applied and the payload FLOW bit shall always be set to one.', 'The NAS shall acquire status of supplemental navigation guidance.', 'The second signal shall cause a gain compression for the first signal of 1 dB.', 'The traveller goes to its profile section and clicks on the �Request data� button.', 'When encoding an IPv4 address, the uint32 Format type shall be used.', 'The airline and airport provide information about bag tag and bag drop options before passenger transits to the airport.', 'This file shall be present if and only if service n�7 and n�8 are \"available\".', 'The supplier shall monitor all processes used for manufacturing, requirements.', 'On a test site selected from clause 5 of ETSI TS 103 052 [7], the equipment shall be placed on a support in the standard position as described in clause 6.8 of ETSI TS 103 052 [7] for equipment intended to be worn on a person, or that described in annex C for equipment not intended to be worn on a person.', 'For most critical services (e.g. services exchanging classified data) it is necessary to have a stronger authentication mechanism, hardware security tokens add additional layers of protection as they require physical access to the authenticator.', 'The common mode impedance is specified for the DUT�s IEC 60958 transmission in common mode.', 'Any cracks which appear in the surface and all portions, which sound hollow when tapped, or are found to be soft or otherwise defective, shall be cut out in rectangular shape and re-done as directed by the Engineer.', 'This feature indicates whether the device is capable of supporting the HV3 packet type as defined in baseband Section 6.5.2.3 on the SCO logical transport.', 'The data frame shall be formatted as illustrated in Figure 3.9.', 'Recommendation X.419 [18] protocol P7 should be used between MS and UA for message retrieval and indirect submission.', 'The User Permissions Subsystem shall transition to the requested mode of operation when commanded by an authorized System Operator.', 'Business Rules: An inner pack can only contain the same GTIN, and inner pack sizing must be constant.', 'In case there are multiple Immersive Home Screen appications listed, it is MirrorLink Client dependent, which one will be automatically launched.', 'Electrolytic gold surfaces shall have a thin coat of P123 primer applied as described in subclause 5.2.2 followed by P128 primer after a minimum of 8 hours glassfibre-reinforced-resins, a thin coat of P128 primer applied as described in subclause 5.2.4 is sufficient to provide good adhesion.', 'A PDA of greater than 10% shall require lot rejection.', 'The NAS shall store forecast weather data for major international aerodromes.', 'The EUT shall be set in the \"Transmission enabled\" NEST state.', 'At least one endpoint on UICC has been successfully retrieved as defined in clause 4.4.4.2, according to the procedure in clause 6.2.1.2.', 'The vehicle in its ascent configuration shall be installed in an acoustic test facility capable of gener- ating sound fields or fluctuating surface pressures that induce vehicle vibration environments suffi- cient for vehicle qualification.', 'The model shall provide a function, similar to Eurocontrol CRCO, where scenarios could be compared in terms of possible revenue.', \"Validate that the application is certified for the MirrorLink Server's platform and runtime and that their versions are not blacklisted.\", 'The bit positions for each Link Layer Feature shall be as shown in Table 4.4.', 'The Failed_Contact_Counter records the number of consecutive incidents in which either the local or remote device did not respond after the flush timeout had expired, and the L2CAP PDU that was currently being transmitted was automatically �flushed�.', 'Under the col- umn a quartz tube is placed with an inside diameter of 75 mm and a height are used to distribute the gaseous mixture evenly over the section of the tube (no.', 'The release is requested due to inter-RAT redirection or intra- specified in TS 23.401 [11].', 'The ME shall operate in the manner defined in expected sequences 2.4.', 'For each connection the Link Layer has two parameters, transmitSeqNum and nextExpectedSeqNum, each one bit in size.', 'The requirement is applicable from 10 kHz to 40 GHz for transmitters, receivers and amplifiers.', 'Additionally, the ZigBee end device shall then adhere to all frame formats and processing rules supplied by the version of the ZigBee Specification employing that protocol version number.', 'The AR?N shall include the description of the reference conditions used for the analysis.', 'G-REQ3-4: In order to preserve the integrity and the maintenance of the ontology, the ACCESSIBLE ontology based knowledge resource shall include generic and domain-specific ontologies.', 'The supplier shall record the basis for the calculation of the cumulative errors as specified in requirement 5.2.6c.', 'Following exposure to acceptance test environments, cells shall be inspected or tested for signs of electrolyte leakage.', 'This frequency range can correspond to one or several consecutive channels.', 'An audit of the test facilities shall be performed according to ECSS?Q?ST?10 clause 5.2.3 criteria.', 'All GRB link options are shown with power calculated for 8PSK modulation.', 'The family of reports shall be filtered, sorted, grouped, and formatted as specified by the user.', 'The ME shall support the UCS2 alphabet for the coding of the Cyrillic alphabet, as defined in the following technical specification: ISO/IEC 10646 [17].', 'All cell designs shall provide protection against the generation of high pressure during abuse situation (examples: burst disks, heat-sealed pouches).', 'The ACLR absolute basic limit is specified in table 6.6.3.2-2.', 'If the credentials and/or conditions of an accessor are modified, the authentication status of the accessor is not affected.', 'The logical link must be completed before the Logical Link Accept Timeout expires on the local AMP.', 'Sandwich assemblies should conform to the guidelines in MIL- HDBK23 and shall be tested in accordance with SAE-AMS-STD-401.', 'All TM/TC shall be tested with the actual data base used for operations.', 'The coding of EFUST shall conform with the capabilities of the USIM used.', 'Redundancy concepts shall be agreed by the customer.', 'System performance may be decomposed and traced to lower-level subsystem functionality that may define hardware and software requirements.', 'All components, which can be attested from the MirrorLink Server, shall be attested.', 'Any operationally-significant information on the configuration and timing of payload operations should be downlinked in the telemetry.', 'Transmitter and receiver aging factors must be included in the loss budget calculation.', 'The Core2Core Subsystem shall provide information describing the communications that the Core System provides.', 'In case of handover to UTRAN, the information in the Source to Target Transparent Container IE shall be encoded according to the Source RNC to Target RNC Transparent Container IE definition as specified in TS 25.413 [19] and the source eNB shall include the UE History Information IE in the Source RNC to Target RNC Transparent Container IE.', 'This control information shall be sent in a DM1 packet.', 'In the 14,0 GHz to 14,50 GHz band the EIRP spectral density of the spurious radiation outside the nominated bandwidth shall not exceed -11 dBW in any 1 MHz band.', 'The provider shall declare the operating bandwidth of the EUT (Declared Bandwidth, BWd).', 'When in the CTAttached.SNK state, the port is connected to a Charge -Through VCONN- Powered USB Device, which in turn is passing through the connection to a Power Source .', 'The system shall support controlled access to NAS information (security).', 'Racks and panels shall be selected using MIL�STD�454, Requirement 55.', 'If a menu option changes based on the state of an object (e.g., Show Details, Hide Details), the same mnemonic should be used in both versions of the option so users do not have to know the state of the object before they type the mnemonic.', 'The TRS shall list and describe the different chronological situations of the product�s life profile.', 'While an L2CAP (Logical Link Control and Adaptation Protocol) connection is established to a server, a service record handle acquired from the server shall remain valid unless the service record it represents is removed.', 'This IE also indicates that a Primary Notification is included.', 'When a Bluetooth device in security mode 4 transmits data to a remote service via the unicast connectionless L2CAP channel and a sufficient link-key is not available, the local device shall perform pairing procedures and enable encryption before transmitting unicast data on the connectionless L2CAP channel.', 'The data package contents shall be available for review by the customer.', 'The technical specification of each SSP class shall indicate if it is mandatory, optional or forbidden.', 'The Administrator accesses �Users� in the navigation bar.', 'Contractor-appointed personnel shall conduct a material review, in a timely manner, of all remaining nonconforming material.', 'The value of TxWindow shall be in the range of 1 to 63 for Enhanced Retransmission mode.', 'If a default action is assigned to an default action for an object is available as a redundant method for performing the basic action on the object; e.g., users can open a file either by double clicking on its icon or by selecting the Open option in the pop-up menu for the icon.', 'VNC Server and Client shall initialize the VNC session according to the VNC protocol.', 'In this case (which is equivalent to datalink map exit) an aircraft Exit shall be sent and the procedure described in a-d above shall be followed.', 'The government (SPO) should develop or assemble and maintain the following types of data over the program life cycle to serve as the foundation for the systems engineering process.', 'Click on �Circular T� for informa- tion on TAI and UTC.', 'The slave shall report pairs of channels as good, bad or unknown.', 'For intra-band contiguous CA case, a modulated NR downlink signal which equals to the aggregated channel bandwidth of the wanted signal is used.', 'This shall include the configuration controls that ensure the flight devices are form, fit, function, and performance equivalent to the evaluated parts.', 'Specification of equipnent and circuitry that requires the use mechanical interface data shall provide, ls l minimum, l da=ripcion data items specified herein.', 'The system should be capable of inviting children for immunisations, and also able to allocate appointments in the CO clinics and schools or on behalf of practices.', 'Voice Command audio over RTP shall use the RTP header extension with appCategory = 0xF0000010 (Voice Command Engine).', 'The content of any electronic and/or print versions of the present document shall not be modified without the prior written authorization of ETSI.', 'The SBP Source on a MirrorLink Server shall send one or regular SBP Response messages with Error Code indicated the object is not available via the MirrorLink API call 0x0A09 (Set an Object) [5].', 'Exception is if adjacent sub blocks on each side of the sub-block gap, where the spurious emission minimum requirements in subclause 9.7.6 shall be met.', 'User Clicks �Ok� tab, system as actor navigates the User back to previous session on Lender�s Interface.', 'The equipment shall then be activated for a period of 12 hours.', 'For OTA co-location spurious emission, the test purpose is to verify that the emission is within the specified requirement limits at the CLTA conducted output(s).', 'Do not touch the ends of the fiber, as they may be razor sharp.', 'When the user changes a menu language setting on the TV, it shall send a <Set Menu Language> message containing the currently selected menu [Language], as shown below.', \"The PROACTIVE COMMAND: SEND DATA 1.1.1 shall be performed successfully to detect the ME's port number, which has to be addressed by the network simulator when data has to be transmitted to the card.\", 'The design margin shall cover electrical, thermal, mechanical, and radiation performance margin over the worst-case conditions.', 'If the Receiver reports are enabled an HCI AMP Receiver Report event shall be generated.', 'The slave Link Manager shall respond with the LMP_io_capability_res PDU.', 'This message is sent by a neighbouring node to an initiating node, both nodes able to interact for EN-DC, to transfer the initialization information for a TNL association.', 'Design rules shall establish minimum bend radii as given in Table 1.', 'The controller should be able to easily visualise the planned trajectory of a mobile.', \"In order for the grid to reflect the nature of the user's data, the system should allow for the user to specify their own axis.\", 'After exposure, the witness plate shall be packed immediately and sent as soon as possible to the laboratory that performs the analysis.', 'In that case, the OSS/BSS returns a \"204 No Content\" response to indicate success.', 'Solder joints shall not be touched with a soldering iron.', 'To provide cloud profile information to better constrain retrievals.', 'The role and the responsibilities of each key member for the various project phases and steps shall be described.', 'The outputs of the operations teams build?up and training process shall be the ones specified in Table 5?8.', 'But system power quality is unique to the EPS and should therefore be specified in this EPS specification.', 'The radial velocity of the spacecraft is determined by measuring the two?way shift of the Earth?to?Space link carrier frequency, with the aid of a coherent transponder.', 'Pure zinc, cadmium, selenium alloys of zinc, cadmium, selenium element(s) (i.e., lead, silver) shall not be used.', 'Multi-port chargers shall have OEM-designed port labeling consistent with the following rules.', 'Obtain copy of contractor list of reused components.', 'Check unit tests are scriptable i.e. it can be run from command line.', 'Bioburden controlled environments shall be equivalent at least to airborne particulate cleanliness class ISO 7 �in operation� in conformance with ISO 14644? Part 1.', 'The system must ensure that a hard copy of the system change log can be produced.', 'The GlobTemperature Matchup Database (GT_MDB) encompasses datafiles for both in situ validation and multi-sensor intercomparisons.', 'Temperature-controlled irons shall be used and they shall be calibrated at regular intervals.', 'The Contractor shall implement a trace ability system, which shall be maintained throughout all phases of contract performance.', 'The mechanism operation shall be verified by analysis to comply with the specified requirements for induced loads.', 'The system must contain an autotest device, that is automatically launched before any operation starts.', 'The frame for a mechanical system shall be related to its material structure definition.', 'When capacitors are to be used in circuits operating between 10 KHz and 100 KHz, equivalent series resistance measurements shall be read and recorded during Group A testing on a 100% basis for data collection.', 'The duration of burn-in is such that the combined duration of unit thermal cycling, unit thermal vacuum, and the additional burn-in testing shall be at least 200 hours.', 'Repeat for each frequency identified in the approved test procedure.', 'The key expansion function Kexp is based on the Key Expansion function defined in IKE v2 (RFC 4306 [16]) and is designed to produce any required amount of key material from a single cryptographic key.', 'When used in the Configuration Response, the continuation flag shall be set to one if the flag is set to one in the Request.', 'A scatter factor of four (4) shall be applied to the service life.', 'Detailed test and validation documentation (data, procedures and expected results) defined in the ECSS?E?ST?40 DJF shall be consistent with the defined test and validation strategy (see clause 6.3.5 and ECSS? E?ST?40 clauses 5.5.3, 5.5.4, 5.6 and 5.8).', 'The initial TS Sink Power Sub-State is PowerDefaultDeb.SNK.', 'The minimum requirements for single RAT AAS BS transmitter transient period are the same as in 3GPP TS 36.104 [8], subclause 6.4.2.1.', 'The contractor shall provide evidence that proposed previously flown or heritage hardware and software will comply with allocated reliability, derating, and related performance requirements of this standard.', 'The highest frequency of the measurement position in each frequency range should be set at the highest boundary of the frequency range minus MBW/2.', 'The hybrid application in the system shall form the basis for the technical requirements of each hybrid and critical performance parameters.', 'Execution of this tab shall check for the logical condition (see req.', 'This shall be a unique value that identifies that terminal.', 'All ASME code-stamped vessels shall be registered with the National Board of Boiler and Pressure Vessel Inspectors.', 'Uniformity and correct positioning of the wrap on the terminal post shall con- form to the requirements of subclause 6.3.3 and Figure 7.', 'Sources of test signals for application to the receiver input shall be connected through a network such that the impedance presented to the receiver input is equal to that of the artificial antennas specified in clause 6.1.2.', 'The TRR, dry run(s), RFR, and TRB shall be conducted and test report(s) prepared as described in Section 5.2, Qualification Test.', 'The Report Characteristics IE indicates the type of objects eNB2 shall perform measurements on.', 'On an AMP Controller, the Reset command shall reset the service provided at the logical HCI to its initial state, but beyond this the exact effect on the Controller device is implementation defined and should not interrupt the service provided to other protocol stacks.', 'For Rel -13 if the UE supports NB-IoT, this test case shall be verified by accessing the NB System Simulator (NB-SS).', 'For inter-band carrier aggregation, with or without MIMO, OTA TAE shall not exceed 3.025 �s.', 'The change record shall list the successive issues and their release dates since the first formal issue of the document.', 'The logical Iuant interface is an interface internal to the RAN Node and defined to reside between the implementation specific O&M function and the RET antennas and between the implementation specific O&M function and the TMA control unit function.', 'Supplier�s manufacturing process design output shall be expressed in terms that can be verified against manufacturing process design input requirements and validated.', 'Except for this, the MAC layer shall perform all of its other functions.', 'An inspection shall review verification closure of SSP 50833, Section 3.1.1 for the available cargo services and environment.', 'Incoming inspection requirements shall be established consistent with any CSI requirements.', 'LT provides a generic Logging and Tracing functionality for Application�s and the BSW modules RTE, DET and DEM.', 'If there is a development test program, the qualification tests shall be conducted on a minimum of two flight-like articles.', 'G-REQ3-7: All the domain ontologies shall comply with the generic ontology.', 'An administrator should also be able to log in to the web-portal where he/she can administer the system by for instance editing restaurant or user information.', 'The EUT shall be set in the \"Carrier-on\" radio state.', 'Analyses should include prediction of remaining life and reassessment of required inspection intervals.', 'The MirrorLink Server shall include a Nonce extension, with a random nonce value, into the OCSP request to prevent any replay attack.', 'This means that the master shall only stop transmission from the TX ACL buffer corresponding to the slave that momentarily cannot accept data.', 'During mixing, the sides of the mixing bowl shall to be scraped with a spatula.', 'This method shall follow the provisions specified in the Tables 7.4.6.3.2-1 and 7.4.6.3.2-2 for URI query parameters, request and response data structures, and response codes.', 'The application shows list with all services provided via the app or web site he uses.', 'Upon reception, the source eNB may decide to prevent handover for that UE towards CSG (Closed Access Mode) cells with corresponding CSG Id.', 'The NAS shall accept flight plans containing user-preferred routes.', 'Shield and GND grounds shall be connected within the USB Type-C and USB 3.1 Standard-A plugs on both ends of the cable assembly.', 'If the margin is positive, the part is then screened for fracture criticality and for possible inclusion on the fracture�critical list.', 'The MirrorLink Server shall use the IMEI/IMEISV number (or equivalent unique identifier) of the MirrorLink Server device for serverID.', 'The calculated equivalent static loads is applied at any identified critical fixing point of the assembly, whilst the loads are applied the above deck unit is observed and any distortion d.', 'The MirrorLink Client shall have the public key PKCCC available, to be able to validate the MirrorLink Server device manufacturer certificate.', 'The Mode S Radar shall provide continuous, gap-free cover through 360� of azimuth and over a range of 0.5 NM to at least 256 NM.', 'The swath width of the 3MI shall be 2200 km/2400 km (T/B).', 'The CACLR absolute basic limits in table 6.6.3.5.2-5 + X, (where X = 10log10(NTXU,countedpercell)) or the CACLR limits in table 6.6.3.5.2-4, whichever is less stringent, shall apply for each TAB connector TX min cell group.', \"The Retransmission_Effort parameter shall be set to indicate the required behavior, or to don't care.\", 'The FCA for a complex configuration item shall be conducted on a progressive basis, when so specified by the contracting agency, throughout the configuration item�s development and culminates at the completion of the qualification testing of the configuration item with a review of all discrepancies at the final FCA.', 'The mechanical strength margin of all structural components shall be per MIL STD 1540E.', 'No fewer than three samples should be available at each load level.', 'Verify data flow in lab or at an existing installation.', 'When the responding device receives Mconfirm it transmits Sconfirm to the initiating device.', 'The creep tests shall be carried out in accordance with ISO 204.', 'The MirrorLink Client shall validate the received X_Signature.', 'Once in the \"Non Valid\" state, the NEST shall remain in the \"Non Valid\" state until the processor monitoring function has determined that all fault conditions have been cleared.', 'All HDMI Sources shall support either YCBCR 4:2:2 or YCBCR 4:4:4 pixel encoding whenever that device is capable of transmitting a color-difference color space across any other component analog or digital video interface except where that device would be required to convert RGB video to YCBCR in order to meet this requirement.', 'Increase by 25% if a single high resolution channel is on top of the corresponding normal resolution channel.', 'As a rule, solar array conductive structure shall not be bonded.', 'To support content integrity, a recipient must be provided with tools to verify that the content of a message has not been modified during the transfer process.', 'Detail mitigating provision(s) shall be provided for the catastrophic and critical failures.', 'For example: if an LGU selects the amortization schedule, system shall recognize the potential list of Lender�s associated with LGU (that the LGU user generates reports for).', 'If the Guidance Service is implemented then this alert may not be required if the algorithm is capable of automatically switching the TCL in order to avoid such a conflict situation by restricting the movement of one mobile.', 'If an error that terminates a procedure occurs, the returned cause value shall reflect the error that caused the termination of the procedure even if one or more abstract syntax errors with criticality �ignore and notify� have earlier occurred within the same procedure.', 'If the chamber time constant is greater than 0.4 of the pulse width of the modulation waveform, absorber material must be added to the chamber or the pulse width must be increased.', 'The ODE should provide the user with a visual way of modelling datapaths and it should also allow the user to export this model to a ?le for analysis and veri?cation.', 'Under the conditions in column E of Table 4-4 the property in column A in the units in column B shall be between the values in column C (maximum) and column D (minimum).', 'Existing parts and components used in mechanisms shall have been qualification procedure approved by the customer.', 'Requirements for contamination control during the product life cycle as specified in ECSS?Q?ST?70?01 clause 5.2 shall apply.', 'The HDLC parameter negotiation is initiated by the primary station.', 'A COPV representative of the flight COPV (liner material, processing, thickness, configuration, and reinforcing composite stiffness and thickness) should be used.', 'The contractor shall insure that the worst-case conditions include recognition of ground tests performed at the subsequent levels of integration and not only those seen during flight.', 'Each telecommand shall have a functional description with utilization conditions (e.g. pre?transmission validity, criticality level), command parameters (syntax and semantics) and execution verification in telemetry.', 'Mobility aids are to be designed to accommodate a pressurized suited crewmember by providing clearance, non-slip surfaces, and noncircular cross sections.', 'If a potential IC conflict accompanied with the related information has been reported to the MICA Cell but has not been reported on the MICA website, the MICA Cell shall report it on the MICA website accompanied with any related information provided by the Mode S Operator.', 'In those Member States where both civil and military authorities are responsible for or involved in airspace management, this cell shall take the form of a joint civil military cell.', 'The aging factors (deltas) that are incorporated in parameter end-of-life values shall be consistent with the aging factors called out in each element�s corresponding section.', 'Component test requirements should be derived from LRE accelerometer data acquired during engine level testing.', 'All places where it is foreseen that the crew operates either for nominal hour, or 30 minutes if the related task is recurrent, shall be defined as work station.', 'It is trading partner neutral if the trade item/service is public.', 'For purposes of configuration, a device accepts link keys intended for establishing end-to-end security between two devices only from its Trust Center or through application level negotiation using a higher level protocol between the two devices.', 'Particular emphasis shall be made in the area of design, fabrication and installation of parts to prevent the sustained surface tensile stresses from exceeding the stress corrosion threshold limitations for the particular material and grain-flow orientation.', 'Equipment sub-assemblies operating in excesg of 500 volts should be considered guamded from accidental contact only if they are completely enalosed from the remainder of the equipment and are separately protected by nonbypassable interlocks.', 'The design of the display products shall comply with the output of the task analysis.', 'If it is found that synergistic effects exist, separate samples must be used for hardness assurance testing with respect to neutron and total ionizing dose in accordance with Paragraph 4.2.2.3.', 'For some AMP Controllers it may be required to send additional information to the peer AMP Manager.', 'I therefore expect to experiment with models via an intuitive interface, such that I can understand the impact of changes in the environment I am investigating.', 'The GOES-R System shall produce a Total Precipitable Water: CONUS product in accordance with the requirements and qualifiers provided in the product table below.', 'The GET method is used to retrieve information about this subscription.', 'The system engineering organisation shall ensure that validation of systems with man?in?the?loop takes into account the man related limitations.', 'Any other mated pair not monitored for optical signal discontinuity is to be monitored for change in optical transmittance.', 'The credential status should be stored in a private storage assigned to the accessor authentication service.', 'If the eNB receives an E-RAB MODIFY REQUEST message containing several E-RAB ID IEs (in the E-RAB to be Modified List IE) set to the same value, the eNB shall report the modification of the corresponding E-RABs as failed in the E-RAB MODIFY RESPONSE with the appropriate cause value, e.g., �Multiple E-RAB ID instances�.', 'The supplier should ensure that the methods used are appropriate, that the software designs used are accurate and that the analyses are updated along with any modifications to the software design.', 'The respective channel bandwidth of the component carrier under test will be used in the parameter calculations the corresponding pairs shall apply if the minimum gap condition is met.', 'Particular attention shall be given to ensure compatibility of vessel materials with fluids used in cleaning, test, and operation.', 'This assessment shall be used in the evaluation of the results.', 'Post�conditions Administrator successfully updated the evaluation status for a college.', 'The NAS shall update the location and intensity of thunderstorms.', 'Adequate storage facilities which protect components from contamination and damage shall be available.', 'The Contractor shall maintain quality records to provide objective evidence of complete and effective performance of QA tasks and to demonstrate achievement of the required quality.', 'If the NLME has been successful, the Status parameter will be set to SUCCESS.', 'Library� (on left side), then select the �Committee� folder, then �JFOWG� followed by the �Maintenance Documents� folder.', 'For space qualified heritage hardware and software, parameters used in the model and analyses shall be consistent with operational history data or other previously accepted values.', 'There is an additional return parameter that specifies the total number of HCI ACL Data Packets that the Controller may have waiting for transmission in those buffers.', 'If the eNB receives the SON Information IE containing the SON Information Request IE set to �Deactivate Muting�, the eNB may consider deactivating muting for over-the-air synchronisation that was activated by a former muting request from the corresponding eNB.', 'The individual VNF package resource has been created, the operational state of the VNF package is DISABLED, and the usage state of the VNF package is NOT_IN_USE.', 'Define the properties and condition of the components or parts to be tested (if necessary with reference to standardised prototypes statuses in the CRS Module I).', 'Error management must provide a comprehensive way to identify the error type and the criticality of the error.', 'The inspection shall identify the equipment and supplies present in the manifested survival kit are consistent with those determined by the crew survivability analysis developed in 4.3.5.2.4.', 'The recommended general design requirements on strength are stated herein in Section 6.2.1.', 'Hatch operability by a single person from both inside and outside the spacecraft during all flight phases shall be verified by demonstration.', 'The LE_Read_Supported_States command reads the states and state combinations that the link layer supports.', 'At a minimum, the L2CAP Signaling channel (Fixed Channel 0x0001) or the L2CAP LE Signaling channel (Fixed Channel 0x0005) shall be supported.', 'The MirrorLink Server shall stop using the video frame skipping feature and continue to stream audio and video at the negotiated rates, if the MirrorLink Server had enabled framebuffer skipping.', 'When the devices that are performing Dedicated Bonding both support Secure Simple Pairing, the Authentication_Requirements parameter should be set to MITM Protection Not Required � Dedicated Bonding unless the security policy Authentication Required parameter shall be set to MITM Protection Required � Dedicated Bonding.', 'The design of battery charge and discharge equipment should protect against accidental damage to the cells, module, or battery due to any reverse polarity, shorting, overcharging, thermal runaway, or high pressure generation.', 'Conductors shall not ex- tend beyond the diameter of the base except as shown in Figure 15(c), which is ac- ceptable only when physical clearance is adequate for the intended environment and electrical characteristics.', 'The load general requirements of ECSS?E?ST?32, shall apply in?orbit loads.', 'The screws or rivets shall be wet installed with sealant conforming to MIL-PRF-81733 or SAE-AMS3265, and overcoated with the same after installation.', 'It must use, to the extent feasible, industry standard document formats and transmission protocols, and avoid all use of proprietary formats, data structures, or protocols.', 'This type of data is used for testing purpose when no data is available.', 'The specific authentication mechanisms for the Emergency Services IP Network should be that agreed to among public safety agencies.', 'The GOES-R System shall produce a Derived Stability Indices: CONUS product in accordance with the requirements and qualifiers provided in the product table below.', 'The Physical Link Complete event indicates to the Host whether the physical link creation was successful.', 'Two independent set of mechanisms are defined to allow a USB Type-C DRP to functionally swap power and data roles.', 'Once positively identified and safely separated, the smaller formation elements or single aircraft will then be controlled individually and will receive separate IFR clearances.', 'The NAS shall monitor clearance conformance of aircraft.', 'The assembled board shall be free of flux residues and other contaminants.', 'Consequently, random load factors (high frequency load factors) may be developed in coordinate systems which are not parallel to the basic coordinate systems.', 'A margin philosophy shall be applied, with a contingency depletion scheme under control of the ESA project office.', 'Voltage, current, and temperature data shall be recorded at rates sufficient to verify compliance with test requirements and performance specifications.', 'Radiation sensitive components are identified, and it is the user�s responsibility that the chosen component technologies are suitable and that the mitigation factors, such as shielding, meet the customer�s requirement.', 'The systematic analysis of system operation and operating procedures shall be repeated as the design and operational detail evolves, including the system�s operational modes and man?machine interfaces.', 'This requirement is also applicable at specified frequencies falling between 12.5 MHz below the first carrier frequency used and 12.5 MHz above the last carrier frequency used.', 'Additionally, the plan provides traceability from operational and survival requirements in system specifications to individual tests, test plans, procedures, and test reports.', 'Each CI that is designated by the Government for control, tracking and logistics purposes shall be assigned Government type designators and nomenclature in accordance with the requirements of the contract.', 'If the average limit is met when using a quasi-peak detector, the equipment shall be deemed to meet both limits and measurement with the average detector receiver is not necessary.', 'The response times specified for all test cases are TTFF unless otherwise stated, i.e. the UE shall not re-use any information on GNSS time, location or other aiding data that was previously acquired or calculated and stored internally in the UE.', 'If the ARC Rx device has not received a <Report ARC Terminated> message within the required maximum response time specified in CEC 9.2, the ARC Rx device may keep its ARC Rx functionality active or may de-activate the ARC Rx functionality by detecting the de-activation of the ARC Tx functionality, e.g. by loss of an audio signal.', 'SSA-GEN-004 ASM/ATFCM stakeholders SHALL be able to manage any subject to ASM/ATFCM process.', 'The developer shall develop and record plans for conducting the activities required by this standard and by other software-related requirements in the contract.', 'The Gateway shall limit disturbances to the vehicle and robotics, during sensitive External Robotic operations, to a level <TBD-L2-GW-014> that will not affect robot performance and safety, without the need for flight-specific analysis, including after a single failure.', 'The output of the test antenna shall be connected to the spectrum analyser via whatever (fully characterized) equipment is required to render the signal measurable (e.g. amplifiers).', 'Transmitter emissions may be measured in terms of r.m.s.', 'The ontology shall support the SWRL (a Semantic Web Rule Language) rules, which form of an implication between an antecedent (body) and consequent (head).', 'Test conditions and environments shall stress the qualifi- cation hardware to more severe conditions than the maximum conditions expected during service life.', 'The set of supported operations, shall be indicated in the list of operations that is specified in the preservation profile, which refers to this scheme.', 'The description shall include a justification of assumed uncertainties.', 'The battery shall be tested with flight-like charge control electronics to determine whether the charge control method and conditions are consistent with required battery performance throughout mission life.', 'Follow- ing transmission of each block, the APS shall start a timer.', 'All%2010%20measurements%20should%20be%20within%2020%20%%20of%20the%20average%20value.', 'If the consumer is able to manually activate MirrorLink functionality (e.g. when MirrorLink functionality can be switched on using a button) the UI element should bear the MirrorLink logo or the MirrorLink Design-only icon.', 'The supplier shall establish and implement throughout the duration of the con- tract a component programme which ensures full compliance with the require- ments of the project as defined by his customer in line with this standard.', 'The equipment may include glovebox, microscope, video equipment, freezer, centrifuge, etc., in addition to volume allocated for powered payload locations (separate requirement).', 'Improvement projects shall include, as appropriate, external customer, corporate, supplier, safety, and regulatory requirements.', 'By default, Traffic Data Items should be presented under normal (minimum) format.', 'The downlink CSI-RS EPRE can be derived from the SS/PBCH block downlink transmit power given by the parameter ss-PBCH-BlockPower and CSI-RS power offset given by the parameter powerControlOffsetSS provided by higher layers.', 'Acoustic analysis shall be used to calculate the characteristics of the pressure field due to acoustic sources.', 'The position estimates shall meet the accuracy and response time requirements in Table 5.4.', 'The mean and standard deviation for each individual item, for range and azimuth as appropriate, shall be stated over the full range of operating and environmental conditions defined within this specification.', 'The Normal test signal (see clause 6.2.3) shall be applied to the transmitter input and the level adjusted to give a modulation depth of 60 %.', 'The developer shall identify and record information needed by hands-on users of the software (persons who will both operate the software and make use of its results).', 'Vacuum jacketed systems shall be capable of having its vacuum verified and maintained.', 'For EUTs with several available modes (including software controlled operational modes), a sufficient number of modes shall be tested for emissions and susceptibility such that all circuitry is evaluated.', 'The AFTN/AMHS Gateway shall support address conversion of O/R addresses belonging to a non-hierarchical addressing plan, as well as the MF-Addressing Schemes specified in ICAO Doc 9880 Part II [5] section 2.5.1.4.', 'Man?machine interfaces shall be designed and the personnel tasks shall be scoped to reduce the potential for hazardous events resulting from human error to an accepted level.', 'If the equipment must be used inside the enclosure or if testing is being conducted outside of an enclosure, the measurement receiver and accessory equipment should be located as far away from the transducers as practical to minimize any impact.', 'If information element(s) is/are not included in the MME CONFIGURATION UPDATE message, the eNB shall interpret that the corresponding configuration data is not changed and shall continue to operate the S1 with the existing related configuration data.', 'The TRPT shall include the list of deviations to the test procedure, the nonconformance including failures and the problems.', 'In this deliverable, a scientific vision of the project defines the �technological offer� that the system is able to provide to end users and delineates the overall guidelines for user requirement specification.', 'In order to evaluate the space segment equipment integrity a low level acoustic run (?8 dB the qualification level) shall be performed before and after the acoustic qualification run by determining resonant frequencies.', 'Beryllium and Beryllium oxide dust and vapours are toxic: special precau- tions shall be taken when work is done on this material.', 'Shut downs or system downtimes for prolonged periods ( longer than 2 � 4 hours) will require some form of continuity or contingency planning for the generation, by printing, of MCCDs e.g. temporary use of a WORD generated MCCD form completed �outside� the system.', 'Data Item I253/050 is an optional transaction identifier.', 'The user manual shall present all aspects with regard to personnel safety and shall detail all necessary safety precautions.', 'It must be tailored when applied: application guidance is offered in the document.', 'Routing 1500-0100 It shall be possible to change routing may change on short notice due to local conditions, traffic, failures, schedule, etc.', 'IPRs essential or potentially essential to normative deliverables may have been declared to ETSI.', 'If a physical interface provides a clock (for example, the CLK like in the ISO/IEC 7816 [3] interface), this is independent from the internal clock of the SSP and shall not be used for internal processing, but only for the exchange of data over that interface.', 'The RO receiver shall be able to perform tracking in the lower troposphere using advanced tracking methods such as open-loop or improved (*) closed loop tracking in order to deal with multi-path propagation.', 'The!quality!and!safety!management!system!shall!cover!work!carried!out!', 'Lender Organization Name: on the Primary Interface of LGU, displays the name of the Local Government Unit, selected by the Lender, to review information Lender/User shall not have editing rights to this data field on LGU�s Primary Interface.', 'Manufacturing shall include any special instructions in the appropriate planning shop folders, process plans, log books, and related documents controlling the manufacturing and movement applicable to in-house manufacturing.', 'If an L2CAP Configuration Response is received containing the Extended Flow Specification option with the same values sent earlier, the upper layer shall be notified of the error.', 'They shall be considered informative documents to be tailored to the specific needs of the mission.', 'A device which responds during an inquiry or inquiry period should always be reported to the Host in an Inquiry Result, Inquiry Result with RSSI, or Extended Inquiry Result event if the device has not been reported earlier during the current inquiry or inquiry period and the device has not been filtered out using the command Set_Event_Filter.', 'The%20test%20voltage%20for%20equipment%20to%20be%20connected%20to%20an%20AC%20supply%20shall%20be%20the%20nominal%20mains%20voltage%20declared%20by%20the%20manufacturer%20-10%20%%20to%20+10%20%.', 'Cue cards shall be consistent with the related procedure(s).', 'Each task shall be analyzed to determine the human performance parameters; the criticality of the task in accomplishing the objective; the system, equipment, and software and associated user interfaces; and the environmental conditions under which the tasks are conducted.', 'The CI field determines which coding scheme is used for FEC block 2.', 'For purposes of designing and verifying Space Station payload equipment hardware, design load factors shall be determined for the various equipment locations within the Orbiter/payload system for transportation/ground�handling, lift-off, descent, landing, and emergency landing events.', 'For automatic operated devices, either software controlled or pre-programmed devices, the provider shall declare the duty cycle for the equipment under test.', 'The operator should discard any production crimp, which in his judgement is defective.', 'PSAPs should use these requirements as a guide to evaluate such services to see how compatible they may be with other, NENA-defined, databases and services.', 'A set of survivability characteristics and objectives that are critical to the mission are defined.', 'The External Robotics will have the capability to translate along the Gateway infrastructure, by walking to grapple fixtures placed externally along the Gateway modules.', 'The system must allow the establishment of M&M groups, with a list of Consultant staff.', 'If the MME UE S1AP ID 2 IE is contained in the INITIAL CONTEXT SETUP REQUEST message, the eNB shall, if supported, store this information in the UE context and use it for subsequent X2 handovers.', 'The new system will need to migrate legacy data so the interface and reporting tools can be used to seamlessly view legacy UES data with the future UES upgrade data.', 'Successful rollback leads to the NS LCM operation to be reported as rolled back.', 'The compatibility test validates any required compatibility of the upper-stage vehicle, the space vehicle, the on-orbit command and control network, and other elements of the space system.', 'Measurements with the 104 centimeter rod are performed only for vertical polarization.', 'Infrared-transparent windows shall be positioned at, or near, critical locations inside, for example, the compartment, chamber, or cleanroom to be monitored.', 'In case that human error or poor workmanship are the primary or secondary cause for the nonconformance, the supplier shall review all related documents and the competence level of personnel in order to prevent recurrence.', 'Distance between supports shall not exceed resin is adequate support.', 'Environmental conditions for the forms?of?life to support shall be defined at the beginning of the programme (project Phase A).', 'If the frame is a many-to-one route request, the device shall also create a routing table entry with the destination address field equal to the source address of the route request command frame by setting the next hop field to the address of the previous device that transmitted the command frame.', 'This message is used during the Passkey Entry protocol by a device with KeyboardOnly IO capabilities to inform the remote device when keys have been entered or erased.', 'At a minimum, for the purpose of screening flaws, the shank area of these fasteners shall be NDE inspected by the eddy current method or an alternate method.', 'The information related to components developed for reuse in the technical specification, the design justification file, the design definition file and the product assurance file shall be self?contained.', 'This deliverable serves in reaching one of the main goals within the ACCESSIBLE project; the integration of user?s opinion into the project design and development process to guarantee the high user acceptance of project results.', 'Conformance tests shall be carried out in accordance with clause 6.2.', 'The bidding in the buyback auction takes place in a similar fashion as an ordinary auction.', 'ICP procedures for unpressurized COPVs using impact protectors should require controlled access authorized by the jurisdictional authority to work within close proximity of the COPV.', 'The acquisition authority and the contractor shall work together to tailor this standard, to meet the system threat requirements for each particular program unique mission.', \"The information in programmable memory devices and the vessel's identity and information inherent to the DSC process shall be stored in non-volatile memory devices.\", 'As such the ANSP, within the jurisdiction of a Member State which has formally adopted the HL as the basis for compliance with Article 6(1) of the ADQ IR [RD 3], shall put in place the necessary processes to comply with the data quality requirements of the HL.', 'R3.4.2.7.2 Each radio button has an associated label.', 'A fallback per band feature set resulting from the reported UL feature set that has fallback per CC feature set is not signalled but the UE shall support it.', 'BLER using the transport format indicated by the (median CQI 1) shall be greater than 0.1.', 'Requirements in this Standard are defined in terms of what shall be accomplished, rather than in terms of how to organize and perform the necessary work.', 'Follower sends a <Feature Abort> [�Unrecognized opcode�] message or no message within the required maximum response time specified in CEC 9.2, then the ARC Tx device assumes that the Follower does not support the Audio Return Channel feature.', 'In the case of a zero-touch deployment, or to support the POTS Adapter bypass mode, the DPU POTS Adapter-E DC isolation resistance also needs to be measured with idle reverse power feed, no power delivered to the U-O2P interface.', 'Minimum performance of the material shall be as specified in Table I.', 'The system warns the controller where the aircraft speed is deviating from the assigned speed.', 'The user selects a piece of baggage by tapping/clicking on it()1.', 'Variable resistors shall be avoided whenever possible.', 'For complex systems, a series of PDRs for each subsystem or configuration item shall be conducted, leading to an overall system PDR.', 'The failures shall be reported to management in accordance with FRACAS reporting procedures and in accordance with contract provisions requiring delivery of test reports, reliability performance data, and other data deliverables.', 'The WISE Mission Critical Events are cryostat valve opening and cover deployment.', 'Whenever production schedules, alternate practices, or other considerations, require harness storage, the wire harness shall be packaged, handled, and transported in a manner that minimizes possible damage or environmental degradation.', 'Structural analysis reports shall be developed and summarized for the final design configuration documented separately or combined for each piece of payload flight equipment.', 'This EUROCONTROL Specification on the Air Traffic Services Message Handling System (AMHS) is developed to complement the Single European Sky (SES) interoperability Regulation [1] in the area of ground-ground ATS communications.', \"Whenever the receipt of a route reply causes the next hop field of the corresponding routing table entry to be modified, and the routing table entry's GroupId flag is TRUE, the device shall set the expiration time field of the corresponding route discovery table entry to expire in nwkcWaitBeforeValidation OctetDura- tions if the device is the destination of the route reply and nwkcRouteDiscoveryTime OctetDurations if it is not.\", 'The square root of the least squares fit variance of the measurements from the curve-fit function shall not exceed 5 percent of the total aging change allowed during the test period.', 'An effective configuration management scheme shall be established within the Principal Investigator in order to ensure all hardware, software and documentation is fully traceable with history and exact definition of the data or hardware at all times.', 'The food provided shall take into account the physiological changes in the human being in his adaptation to a new gravitational environment and his return to a 1?g environment, and the extra needs related to eventual EVA.', 'Make energy performance optimization a high priority in the development process and develop software which uses the least energy to perform the required task whilst ensuring it meets the organizational needs.', 'In any event, the EUT shall enter the \"emission disabled\" radio state within 1 second of entering the actual area where cessation of emissions is required.', 'Only internal-style tooth lockwasher shall be used to cut through any mounting surface contamination and the lockwasher shall only be inserted between the filter and mounting surface and not between the nut and mounting surface.', 'When the sequence selection input is set to slave page response, in order to eliminate the possibility of losing the link due to discrepancies of the native clock CLKN and the master�s clock estimate CLKE, the four bits shall be frozen at their current value.', 'The Host may set the advertising data in one or more operations using the Operation parameter in the command.', 'Products and services produced by outside sources for incorporation in the contract end item shall be subject to inspection/audit at time of receipt or if further processing is required for acceptance, at a time that does not violate the suppliers contractually specified warranty period.', 'The results of this testing shall be documented in a test report, that, as a minimum, documents the test bias circuit, radiation levels, parametrics to be measured pre/post radiation exposure, statistical analysis, and a summary of the test results.', 'Forms for walls shall be provided with openings or other devices that will permit the concrete to be placed in a manner that will prevent segregation and accumulations of hardened concrete on the formwork When it is necessary to place concrete under water the Contractor shall submit to the Engineer his proposals for the method and equipment to be employed.', 'The composition of gases found shall be in agreement with the supplier�s baseline (approved) processes and gases for backfilling the thermal switches.', 'Once the TS sink enters the DebugAccessory.SNK state, after the vRd on both CC pins is stable for tRpValueChange, it will orient its signal multiplexor based on the detected voltage is the plug CC pin, which establishes the orientation of the DTS plug in the TS receptacle and also indicates the USB-PD CC communication wire.', 'If the set fails then the Controller continues using its current mode.', 'Design the system to limit the negative effects of errors.', 'A-basis strength allowables for composite joints shall be determined from test coupons representative of full-scale joints.', 'The RoE should be consistent with the figures reported in the Performance Plan and the Reporting Tables for charging purposes in the year preceding the start of the Reference Period.', 'The minimum detectable backscatter coefficient (i.e. lidar sensitivity) shall be < 2.6 x 10-6 m-1 sr-1 (equivalent top of atmosphere backscatter) in the cross-polar Mie channel for 100m vertical resolution and 10km horizontal resolution with a radiometric accuracy of < 50%.']\n"
          ],
          "name": "stdout"
        },
        {
          "output_type": "display_data",
          "data": {
            "text/html": [
              ""
            ],
            "text/plain": [
              "<IPython.core.display.HTML object>"
            ]
          },
          "metadata": {
            "tags": []
          }
        },
        {
          "output_type": "error",
          "ename": "ValueError",
          "evalue": "ignored",
          "traceback": [
            "\u001b[0;31m---------------------------------------------------------------------------\u001b[0m",
            "\u001b[0;31mValueError\u001b[0m                                Traceback (most recent call last)",
            "\u001b[0;32m<ipython-input-65-e501bafd90e9>\u001b[0m in \u001b[0;36m<module>\u001b[0;34m()\u001b[0m\n\u001b[1;32m     23\u001b[0m \u001b[0mresult_file_path\u001b[0m \u001b[0;34m=\u001b[0m \u001b[0mpath\u001b[0m\u001b[0;34m.\u001b[0m\u001b[0mjoin\u001b[0m\u001b[0;34m(\u001b[0m\u001b[0mresult_dir\u001b[0m\u001b[0;34m,\u001b[0m \u001b[0;34m'evaluation.json'\u001b[0m\u001b[0;34m)\u001b[0m\u001b[0;34m\u001b[0m\u001b[0;34m\u001b[0m\u001b[0m\n\u001b[1;32m     24\u001b[0m \u001b[0;34m\u001b[0m\u001b[0m\n\u001b[0;32m---> 25\u001b[0;31m \u001b[0mthe_learner\u001b[0m\u001b[0;34m,\u001b[0m \u001b[0mthe_predictor\u001b[0m \u001b[0;34m=\u001b[0m \u001b[0mcreate_train_save\u001b[0m\u001b[0;34m(\u001b[0m\u001b[0mresult_file_path\u001b[0m\u001b[0;34m,\u001b[0m \u001b[0;34m**\u001b[0m\u001b[0msingle_train_params\u001b[0m\u001b[0;34m)\u001b[0m\u001b[0;34m\u001b[0m\u001b[0;34m\u001b[0m\u001b[0m\n\u001b[0m",
            "\u001b[0;32m<ipython-input-64-32727ca0b6a8>\u001b[0m in \u001b[0;36mcreate_train_save\u001b[0;34m(result_file_path, **kwargs)\u001b[0m\n\u001b[1;32m     16\u001b[0m \u001b[0;34m\u001b[0m\u001b[0m\n\u001b[1;32m     17\u001b[0m     \u001b[0;31m# Perform k fold cross validation\u001b[0m\u001b[0;34m\u001b[0m\u001b[0;34m\u001b[0m\u001b[0;34m\u001b[0m\u001b[0m\n\u001b[0;32m---> 18\u001b[0;31m     \u001b[0mfold_results\u001b[0m\u001b[0;34m,\u001b[0m \u001b[0mlearner\u001b[0m \u001b[0;34m=\u001b[0m \u001b[0mperform_kfold_cross_validation\u001b[0m\u001b[0;34m(\u001b[0m\u001b[0mt\u001b[0m\u001b[0;34m,\u001b[0m \u001b[0mkfold_df\u001b[0m\u001b[0;34m,\u001b[0m \u001b[0mtest_df\u001b[0m\u001b[0;34m,\u001b[0m \u001b[0;34m**\u001b[0m\u001b[0mkwargs\u001b[0m\u001b[0;34m)\u001b[0m\u001b[0;34m\u001b[0m\u001b[0;34m\u001b[0m\u001b[0m\n\u001b[0m\u001b[1;32m     19\u001b[0m \u001b[0;34m\u001b[0m\u001b[0m\n\u001b[1;32m     20\u001b[0m     \u001b[0mpredictor\u001b[0m \u001b[0;34m=\u001b[0m \u001b[0mktrain\u001b[0m\u001b[0;34m.\u001b[0m\u001b[0mget_predictor\u001b[0m\u001b[0;34m(\u001b[0m\u001b[0mlearner\u001b[0m\u001b[0;34m.\u001b[0m\u001b[0mmodel\u001b[0m\u001b[0;34m,\u001b[0m \u001b[0mpreproc\u001b[0m\u001b[0;34m=\u001b[0m\u001b[0mt\u001b[0m\u001b[0;34m)\u001b[0m\u001b[0;34m\u001b[0m\u001b[0;34m\u001b[0m\u001b[0m\n",
            "\u001b[0;32m<ipython-input-63-453999cd143d>\u001b[0m in \u001b[0;36mperform_kfold_cross_validation\u001b[0;34m(transformer, kfold_df, test_df, **kwargs)\u001b[0m\n\u001b[1;32m     46\u001b[0m         \u001b[0;31m# Prepare dfs for map calculation\u001b[0m\u001b[0;34m\u001b[0m\u001b[0;34m\u001b[0m\u001b[0;34m\u001b[0m\u001b[0m\n\u001b[1;32m     47\u001b[0m         \u001b[0mcurrent_predictor\u001b[0m \u001b[0;34m=\u001b[0m \u001b[0mktrain\u001b[0m\u001b[0;34m.\u001b[0m\u001b[0mget_predictor\u001b[0m\u001b[0;34m(\u001b[0m\u001b[0mlearner\u001b[0m\u001b[0;34m.\u001b[0m\u001b[0mmodel\u001b[0m\u001b[0;34m,\u001b[0m \u001b[0mpreproc\u001b[0m\u001b[0;34m=\u001b[0m\u001b[0mtransformer\u001b[0m\u001b[0;34m)\u001b[0m\u001b[0;34m\u001b[0m\u001b[0;34m\u001b[0m\u001b[0m\n\u001b[0;32m---> 48\u001b[0;31m         \u001b[0minsert_probabilities\u001b[0m\u001b[0;34m(\u001b[0m\u001b[0mtrain_df\u001b[0m\u001b[0;34m,\u001b[0m \u001b[0mcurrent_predictor\u001b[0m\u001b[0;34m)\u001b[0m\u001b[0;34m\u001b[0m\u001b[0;34m\u001b[0m\u001b[0m\n\u001b[0m\u001b[1;32m     49\u001b[0m         \u001b[0minsert_probabilities\u001b[0m\u001b[0;34m(\u001b[0m\u001b[0mval_df\u001b[0m\u001b[0;34m,\u001b[0m \u001b[0mcurrent_predictor\u001b[0m\u001b[0;34m)\u001b[0m\u001b[0;34m\u001b[0m\u001b[0;34m\u001b[0m\u001b[0m\n\u001b[1;32m     50\u001b[0m         \u001b[0minsert_probabilities\u001b[0m\u001b[0;34m(\u001b[0m\u001b[0mtest_df\u001b[0m\u001b[0;34m,\u001b[0m \u001b[0mcurrent_predictor\u001b[0m\u001b[0;34m)\u001b[0m\u001b[0;34m\u001b[0m\u001b[0;34m\u001b[0m\u001b[0m\n",
            "\u001b[0;32m<ipython-input-62-6d1c1923a382>\u001b[0m in \u001b[0;36minsert_probabilities\u001b[0;34m(data_frame, pred)\u001b[0m\n\u001b[1;32m    116\u001b[0m \u001b[0;32mdef\u001b[0m \u001b[0minsert_probabilities\u001b[0m\u001b[0;34m(\u001b[0m\u001b[0mdata_frame\u001b[0m\u001b[0;34m:\u001b[0m \u001b[0mpd\u001b[0m\u001b[0;34m.\u001b[0m\u001b[0mDataFrame\u001b[0m\u001b[0;34m,\u001b[0m \u001b[0mpred\u001b[0m\u001b[0;34m)\u001b[0m \u001b[0;34m->\u001b[0m \u001b[0;32mNone\u001b[0m\u001b[0;34m:\u001b[0m\u001b[0;34m\u001b[0m\u001b[0;34m\u001b[0m\u001b[0m\n\u001b[1;32m    117\u001b[0m     \u001b[0mprint\u001b[0m\u001b[0;34m(\u001b[0m\u001b[0mlist\u001b[0m\u001b[0;34m(\u001b[0m\u001b[0mdata_frame\u001b[0m\u001b[0;34m.\u001b[0m\u001b[0mloc\u001b[0m\u001b[0;34m[\u001b[0m\u001b[0;34m:\u001b[0m\u001b[0;34m,\u001b[0m \u001b[0;34m'requirement'\u001b[0m\u001b[0;34m]\u001b[0m\u001b[0;34m)\u001b[0m\u001b[0;34m)\u001b[0m\u001b[0;34m\u001b[0m\u001b[0;34m\u001b[0m\u001b[0m\n\u001b[0;32m--> 118\u001b[0;31m     \u001b[0mpredictions\u001b[0m \u001b[0;34m=\u001b[0m \u001b[0mpred\u001b[0m\u001b[0;34m.\u001b[0m\u001b[0mpredict_proba\u001b[0m\u001b[0;34m(\u001b[0m\u001b[0mlist\u001b[0m\u001b[0;34m(\u001b[0m\u001b[0mdata_frame\u001b[0m\u001b[0;34m.\u001b[0m\u001b[0mloc\u001b[0m\u001b[0;34m[\u001b[0m\u001b[0;34m:\u001b[0m\u001b[0;34m,\u001b[0m \u001b[0;34m'requirement'\u001b[0m\u001b[0;34m]\u001b[0m\u001b[0;34m)\u001b[0m\u001b[0;34m)\u001b[0m\u001b[0;34m.\u001b[0m\u001b[0mtranspose\u001b[0m\u001b[0;34m(\u001b[0m\u001b[0;34m)\u001b[0m\u001b[0;34m\u001b[0m\u001b[0;34m\u001b[0m\u001b[0m\n\u001b[0m\u001b[1;32m    119\u001b[0m     \u001b[0mdata_frame\u001b[0m\u001b[0;34m.\u001b[0m\u001b[0mloc\u001b[0m\u001b[0;34m[\u001b[0m\u001b[0;34m:\u001b[0m\u001b[0;34m,\u001b[0m \u001b[0;34m'not_vague_prob'\u001b[0m\u001b[0;34m]\u001b[0m \u001b[0;34m=\u001b[0m \u001b[0mpredictions\u001b[0m\u001b[0;34m[\u001b[0m\u001b[0;36m0\u001b[0m\u001b[0;34m]\u001b[0m\u001b[0;34m\u001b[0m\u001b[0;34m\u001b[0m\u001b[0m\n\u001b[1;32m    120\u001b[0m     \u001b[0mdata_frame\u001b[0m\u001b[0;34m.\u001b[0m\u001b[0mloc\u001b[0m\u001b[0;34m[\u001b[0m\u001b[0;34m:\u001b[0m\u001b[0;34m,\u001b[0m \u001b[0;34m'vague_prob'\u001b[0m\u001b[0;34m]\u001b[0m \u001b[0;34m=\u001b[0m \u001b[0mpredictions\u001b[0m\u001b[0;34m[\u001b[0m\u001b[0;36m1\u001b[0m\u001b[0;34m]\u001b[0m\u001b[0;34m\u001b[0m\u001b[0;34m\u001b[0m\u001b[0m\n",
            "\u001b[0;32m/usr/local/lib/python3.6/dist-packages/ktrain/text/predictor.py\u001b[0m in \u001b[0;36mpredict_proba\u001b[0;34m(self, texts)\u001b[0m\n\u001b[1;32m     80\u001b[0m         \u001b[0mReturns\u001b[0m \u001b[0mprobabilities\u001b[0m \u001b[0mof\u001b[0m \u001b[0meach\u001b[0m \u001b[0;32mclass\u001b[0m\u001b[0;34m.\u001b[0m\u001b[0;34m\u001b[0m\u001b[0;34m\u001b[0m\u001b[0m\n\u001b[1;32m     81\u001b[0m         \"\"\"\n\u001b[0;32m---> 82\u001b[0;31m         \u001b[0;32mreturn\u001b[0m \u001b[0mself\u001b[0m\u001b[0;34m.\u001b[0m\u001b[0mpredict\u001b[0m\u001b[0;34m(\u001b[0m\u001b[0mtexts\u001b[0m\u001b[0;34m,\u001b[0m \u001b[0mreturn_proba\u001b[0m\u001b[0;34m=\u001b[0m\u001b[0;32mTrue\u001b[0m\u001b[0;34m)\u001b[0m\u001b[0;34m\u001b[0m\u001b[0;34m\u001b[0m\u001b[0m\n\u001b[0m\u001b[1;32m     83\u001b[0m \u001b[0;34m\u001b[0m\u001b[0m\n\u001b[1;32m     84\u001b[0m \u001b[0;34m\u001b[0m\u001b[0m\n",
            "\u001b[0;32m/usr/local/lib/python3.6/dist-packages/ktrain/text/predictor.py\u001b[0m in \u001b[0;36mpredict\u001b[0;34m(self, texts, return_proba)\u001b[0m\n\u001b[1;32m     51\u001b[0m             \u001b[0mtseq\u001b[0m\u001b[0;34m.\u001b[0m\u001b[0mbatch_size\u001b[0m \u001b[0;34m=\u001b[0m \u001b[0mself\u001b[0m\u001b[0;34m.\u001b[0m\u001b[0mbatch_size\u001b[0m\u001b[0;34m\u001b[0m\u001b[0;34m\u001b[0m\u001b[0m\n\u001b[1;32m     52\u001b[0m             \u001b[0mtexts\u001b[0m \u001b[0;34m=\u001b[0m \u001b[0mtseq\u001b[0m\u001b[0;34m.\u001b[0m\u001b[0mto_tfdataset\u001b[0m\u001b[0;34m(\u001b[0m\u001b[0mtrain\u001b[0m\u001b[0;34m=\u001b[0m\u001b[0;32mFalse\u001b[0m\u001b[0;34m)\u001b[0m\u001b[0;34m\u001b[0m\u001b[0;34m\u001b[0m\u001b[0m\n\u001b[0;32m---> 53\u001b[0;31m             \u001b[0mpreds\u001b[0m \u001b[0;34m=\u001b[0m \u001b[0mself\u001b[0m\u001b[0;34m.\u001b[0m\u001b[0mmodel\u001b[0m\u001b[0;34m.\u001b[0m\u001b[0mpredict\u001b[0m\u001b[0;34m(\u001b[0m\u001b[0mtexts\u001b[0m\u001b[0;34m)\u001b[0m\u001b[0;34m\u001b[0m\u001b[0;34m\u001b[0m\u001b[0m\n\u001b[0m\u001b[1;32m     54\u001b[0m         \u001b[0;32melse\u001b[0m\u001b[0;34m:\u001b[0m\u001b[0;34m\u001b[0m\u001b[0;34m\u001b[0m\u001b[0m\n\u001b[1;32m     55\u001b[0m             \u001b[0mtexts\u001b[0m \u001b[0;34m=\u001b[0m \u001b[0mself\u001b[0m\u001b[0;34m.\u001b[0m\u001b[0mpreproc\u001b[0m\u001b[0;34m.\u001b[0m\u001b[0mpreprocess\u001b[0m\u001b[0;34m(\u001b[0m\u001b[0mtexts\u001b[0m\u001b[0;34m)\u001b[0m\u001b[0;34m\u001b[0m\u001b[0;34m\u001b[0m\u001b[0m\n",
            "\u001b[0;32m/usr/local/lib/python3.6/dist-packages/tensorflow_core/python/keras/engine/training.py\u001b[0m in \u001b[0;36mpredict\u001b[0;34m(self, x, batch_size, verbose, steps, callbacks, max_queue_size, workers, use_multiprocessing)\u001b[0m\n\u001b[1;32m   1011\u001b[0m         \u001b[0mmax_queue_size\u001b[0m\u001b[0;34m=\u001b[0m\u001b[0mmax_queue_size\u001b[0m\u001b[0;34m,\u001b[0m\u001b[0;34m\u001b[0m\u001b[0;34m\u001b[0m\u001b[0m\n\u001b[1;32m   1012\u001b[0m         \u001b[0mworkers\u001b[0m\u001b[0;34m=\u001b[0m\u001b[0mworkers\u001b[0m\u001b[0;34m,\u001b[0m\u001b[0;34m\u001b[0m\u001b[0;34m\u001b[0m\u001b[0m\n\u001b[0;32m-> 1013\u001b[0;31m         use_multiprocessing=use_multiprocessing)\n\u001b[0m\u001b[1;32m   1014\u001b[0m \u001b[0;34m\u001b[0m\u001b[0m\n\u001b[1;32m   1015\u001b[0m   \u001b[0;32mdef\u001b[0m \u001b[0mreset_metrics\u001b[0m\u001b[0;34m(\u001b[0m\u001b[0mself\u001b[0m\u001b[0;34m)\u001b[0m\u001b[0;34m:\u001b[0m\u001b[0;34m\u001b[0m\u001b[0;34m\u001b[0m\u001b[0m\n",
            "\u001b[0;32m/usr/local/lib/python3.6/dist-packages/tensorflow_core/python/keras/engine/training_v2.py\u001b[0m in \u001b[0;36mpredict\u001b[0;34m(self, model, x, batch_size, verbose, steps, callbacks, max_queue_size, workers, use_multiprocessing, **kwargs)\u001b[0m\n\u001b[1;32m    496\u001b[0m         \u001b[0mmodel\u001b[0m\u001b[0;34m,\u001b[0m \u001b[0mModeKeys\u001b[0m\u001b[0;34m.\u001b[0m\u001b[0mPREDICT\u001b[0m\u001b[0;34m,\u001b[0m \u001b[0mx\u001b[0m\u001b[0;34m=\u001b[0m\u001b[0mx\u001b[0m\u001b[0;34m,\u001b[0m \u001b[0mbatch_size\u001b[0m\u001b[0;34m=\u001b[0m\u001b[0mbatch_size\u001b[0m\u001b[0;34m,\u001b[0m \u001b[0mverbose\u001b[0m\u001b[0;34m=\u001b[0m\u001b[0mverbose\u001b[0m\u001b[0;34m,\u001b[0m\u001b[0;34m\u001b[0m\u001b[0;34m\u001b[0m\u001b[0m\n\u001b[1;32m    497\u001b[0m         \u001b[0msteps\u001b[0m\u001b[0;34m=\u001b[0m\u001b[0msteps\u001b[0m\u001b[0;34m,\u001b[0m \u001b[0mcallbacks\u001b[0m\u001b[0;34m=\u001b[0m\u001b[0mcallbacks\u001b[0m\u001b[0;34m,\u001b[0m \u001b[0mmax_queue_size\u001b[0m\u001b[0;34m=\u001b[0m\u001b[0mmax_queue_size\u001b[0m\u001b[0;34m,\u001b[0m\u001b[0;34m\u001b[0m\u001b[0;34m\u001b[0m\u001b[0m\n\u001b[0;32m--> 498\u001b[0;31m         workers=workers, use_multiprocessing=use_multiprocessing, **kwargs)\n\u001b[0m\u001b[1;32m    499\u001b[0m \u001b[0;34m\u001b[0m\u001b[0m\n\u001b[1;32m    500\u001b[0m \u001b[0;34m\u001b[0m\u001b[0m\n",
            "\u001b[0;32m/usr/local/lib/python3.6/dist-packages/tensorflow_core/python/keras/engine/training_v2.py\u001b[0m in \u001b[0;36m_model_iteration\u001b[0;34m(self, model, mode, x, y, batch_size, verbose, sample_weight, steps, callbacks, max_queue_size, workers, use_multiprocessing, **kwargs)\u001b[0m\n\u001b[1;32m    424\u001b[0m           \u001b[0mmax_queue_size\u001b[0m\u001b[0;34m=\u001b[0m\u001b[0mmax_queue_size\u001b[0m\u001b[0;34m,\u001b[0m\u001b[0;34m\u001b[0m\u001b[0;34m\u001b[0m\u001b[0m\n\u001b[1;32m    425\u001b[0m           \u001b[0mworkers\u001b[0m\u001b[0;34m=\u001b[0m\u001b[0mworkers\u001b[0m\u001b[0;34m,\u001b[0m\u001b[0;34m\u001b[0m\u001b[0;34m\u001b[0m\u001b[0m\n\u001b[0;32m--> 426\u001b[0;31m           use_multiprocessing=use_multiprocessing)\n\u001b[0m\u001b[1;32m    427\u001b[0m       \u001b[0mtotal_samples\u001b[0m \u001b[0;34m=\u001b[0m \u001b[0m_get_total_number_of_samples\u001b[0m\u001b[0;34m(\u001b[0m\u001b[0madapter\u001b[0m\u001b[0;34m)\u001b[0m\u001b[0;34m\u001b[0m\u001b[0;34m\u001b[0m\u001b[0m\n\u001b[1;32m    428\u001b[0m       \u001b[0muse_sample\u001b[0m \u001b[0;34m=\u001b[0m \u001b[0mtotal_samples\u001b[0m \u001b[0;32mis\u001b[0m \u001b[0;32mnot\u001b[0m \u001b[0;32mNone\u001b[0m\u001b[0;34m\u001b[0m\u001b[0;34m\u001b[0m\u001b[0m\n",
            "\u001b[0;32m/usr/local/lib/python3.6/dist-packages/tensorflow_core/python/keras/engine/training_v2.py\u001b[0m in \u001b[0;36m_process_inputs\u001b[0;34m(model, mode, x, y, batch_size, epochs, sample_weights, class_weights, shuffle, steps, distribution_strategy, max_queue_size, workers, use_multiprocessing)\u001b[0m\n\u001b[1;32m    704\u001b[0m       \u001b[0mmax_queue_size\u001b[0m\u001b[0;34m=\u001b[0m\u001b[0mmax_queue_size\u001b[0m\u001b[0;34m,\u001b[0m\u001b[0;34m\u001b[0m\u001b[0;34m\u001b[0m\u001b[0m\n\u001b[1;32m    705\u001b[0m       \u001b[0mworkers\u001b[0m\u001b[0;34m=\u001b[0m\u001b[0mworkers\u001b[0m\u001b[0;34m,\u001b[0m\u001b[0;34m\u001b[0m\u001b[0;34m\u001b[0m\u001b[0m\n\u001b[0;32m--> 706\u001b[0;31m       use_multiprocessing=use_multiprocessing)\n\u001b[0m\u001b[1;32m    707\u001b[0m \u001b[0;34m\u001b[0m\u001b[0m\n\u001b[1;32m    708\u001b[0m   \u001b[0;32mreturn\u001b[0m \u001b[0madapter\u001b[0m\u001b[0;34m\u001b[0m\u001b[0;34m\u001b[0m\u001b[0m\n",
            "\u001b[0;32m/usr/local/lib/python3.6/dist-packages/tensorflow_core/python/keras/engine/data_adapter.py\u001b[0m in \u001b[0;36m__init__\u001b[0;34m(self, x, y, sample_weights, standardize_function, **kwargs)\u001b[0m\n\u001b[1;32m    700\u001b[0m \u001b[0;34m\u001b[0m\u001b[0m\n\u001b[1;32m    701\u001b[0m     \u001b[0;32mif\u001b[0m \u001b[0mstandardize_function\u001b[0m \u001b[0;32mis\u001b[0m \u001b[0;32mnot\u001b[0m \u001b[0;32mNone\u001b[0m\u001b[0;34m:\u001b[0m\u001b[0;34m\u001b[0m\u001b[0;34m\u001b[0m\u001b[0m\n\u001b[0;32m--> 702\u001b[0;31m       \u001b[0mx\u001b[0m \u001b[0;34m=\u001b[0m \u001b[0mstandardize_function\u001b[0m\u001b[0;34m(\u001b[0m\u001b[0mx\u001b[0m\u001b[0;34m)\u001b[0m\u001b[0;34m\u001b[0m\u001b[0;34m\u001b[0m\u001b[0m\n\u001b[0m\u001b[1;32m    703\u001b[0m \u001b[0;34m\u001b[0m\u001b[0m\n\u001b[1;32m    704\u001b[0m     \u001b[0;31m# Note that the dataset instance is immutable, its fine to reusing the user\u001b[0m\u001b[0;34m\u001b[0m\u001b[0;34m\u001b[0m\u001b[0;34m\u001b[0m\u001b[0m\n",
            "\u001b[0;32m/usr/local/lib/python3.6/dist-packages/tensorflow_core/python/keras/engine/training_v2.py\u001b[0m in \u001b[0;36mstandardize_function\u001b[0;34m(dataset)\u001b[0m\n\u001b[1;32m    682\u001b[0m           \u001b[0;32mreturn\u001b[0m \u001b[0mx\u001b[0m\u001b[0;34m,\u001b[0m \u001b[0my\u001b[0m\u001b[0;34m\u001b[0m\u001b[0;34m\u001b[0m\u001b[0m\n\u001b[1;32m    683\u001b[0m         \u001b[0;32mreturn\u001b[0m \u001b[0mx\u001b[0m\u001b[0;34m,\u001b[0m \u001b[0my\u001b[0m\u001b[0;34m,\u001b[0m \u001b[0msample_weights\u001b[0m\u001b[0;34m\u001b[0m\u001b[0;34m\u001b[0m\u001b[0m\n\u001b[0;32m--> 684\u001b[0;31m       \u001b[0;32mreturn\u001b[0m \u001b[0mdataset\u001b[0m\u001b[0;34m.\u001b[0m\u001b[0mmap\u001b[0m\u001b[0;34m(\u001b[0m\u001b[0mmap_fn\u001b[0m\u001b[0;34m,\u001b[0m \u001b[0mnum_parallel_calls\u001b[0m\u001b[0;34m=\u001b[0m\u001b[0mdataset_ops\u001b[0m\u001b[0;34m.\u001b[0m\u001b[0mAUTOTUNE\u001b[0m\u001b[0;34m)\u001b[0m\u001b[0;34m\u001b[0m\u001b[0;34m\u001b[0m\u001b[0m\n\u001b[0m\u001b[1;32m    685\u001b[0m \u001b[0;34m\u001b[0m\u001b[0m\n\u001b[1;32m    686\u001b[0m   \u001b[0;32mif\u001b[0m \u001b[0mmode\u001b[0m \u001b[0;34m==\u001b[0m \u001b[0mModeKeys\u001b[0m\u001b[0;34m.\u001b[0m\u001b[0mPREDICT\u001b[0m\u001b[0;34m:\u001b[0m\u001b[0;34m\u001b[0m\u001b[0;34m\u001b[0m\u001b[0m\n",
            "\u001b[0;32m/usr/local/lib/python3.6/dist-packages/tensorflow_core/python/data/ops/dataset_ops.py\u001b[0m in \u001b[0;36mmap\u001b[0;34m(self, map_func, num_parallel_calls)\u001b[0m\n\u001b[1;32m   1589\u001b[0m     \u001b[0;32melse\u001b[0m\u001b[0;34m:\u001b[0m\u001b[0;34m\u001b[0m\u001b[0;34m\u001b[0m\u001b[0m\n\u001b[1;32m   1590\u001b[0m       return ParallelMapDataset(\n\u001b[0;32m-> 1591\u001b[0;31m           self, map_func, num_parallel_calls, preserve_cardinality=True)\n\u001b[0m\u001b[1;32m   1592\u001b[0m \u001b[0;34m\u001b[0m\u001b[0m\n\u001b[1;32m   1593\u001b[0m   \u001b[0;32mdef\u001b[0m \u001b[0mflat_map\u001b[0m\u001b[0;34m(\u001b[0m\u001b[0mself\u001b[0m\u001b[0;34m,\u001b[0m \u001b[0mmap_func\u001b[0m\u001b[0;34m)\u001b[0m\u001b[0;34m:\u001b[0m\u001b[0;34m\u001b[0m\u001b[0;34m\u001b[0m\u001b[0m\n",
            "\u001b[0;32m/usr/local/lib/python3.6/dist-packages/tensorflow_core/python/data/ops/dataset_ops.py\u001b[0m in \u001b[0;36m__init__\u001b[0;34m(self, input_dataset, map_func, num_parallel_calls, use_inter_op_parallelism, preserve_cardinality, use_legacy_function)\u001b[0m\n\u001b[1;32m   3924\u001b[0m         \u001b[0mself\u001b[0m\u001b[0;34m.\u001b[0m\u001b[0m_transformation_name\u001b[0m\u001b[0;34m(\u001b[0m\u001b[0;34m)\u001b[0m\u001b[0;34m,\u001b[0m\u001b[0;34m\u001b[0m\u001b[0;34m\u001b[0m\u001b[0m\n\u001b[1;32m   3925\u001b[0m         \u001b[0mdataset\u001b[0m\u001b[0;34m=\u001b[0m\u001b[0minput_dataset\u001b[0m\u001b[0;34m,\u001b[0m\u001b[0;34m\u001b[0m\u001b[0;34m\u001b[0m\u001b[0m\n\u001b[0;32m-> 3926\u001b[0;31m         use_legacy_function=use_legacy_function)\n\u001b[0m\u001b[1;32m   3927\u001b[0m     self._num_parallel_calls = ops.convert_to_tensor(\n\u001b[1;32m   3928\u001b[0m         num_parallel_calls, dtype=dtypes.int32, name=\"num_parallel_calls\")\n",
            "\u001b[0;32m/usr/local/lib/python3.6/dist-packages/tensorflow_core/python/data/ops/dataset_ops.py\u001b[0m in \u001b[0;36m__init__\u001b[0;34m(self, func, transformation_name, dataset, input_classes, input_shapes, input_types, input_structure, add_to_graph, use_legacy_function, defun_kwargs)\u001b[0m\n\u001b[1;32m   3145\u001b[0m       \u001b[0;32mwith\u001b[0m \u001b[0mtracking\u001b[0m\u001b[0;34m.\u001b[0m\u001b[0mresource_tracker_scope\u001b[0m\u001b[0;34m(\u001b[0m\u001b[0mresource_tracker\u001b[0m\u001b[0;34m)\u001b[0m\u001b[0;34m:\u001b[0m\u001b[0;34m\u001b[0m\u001b[0;34m\u001b[0m\u001b[0m\n\u001b[1;32m   3146\u001b[0m         \u001b[0;31m# TODO(b/141462134): Switch to using garbage collection.\u001b[0m\u001b[0;34m\u001b[0m\u001b[0;34m\u001b[0m\u001b[0;34m\u001b[0m\u001b[0m\n\u001b[0;32m-> 3147\u001b[0;31m         \u001b[0mself\u001b[0m\u001b[0;34m.\u001b[0m\u001b[0m_function\u001b[0m \u001b[0;34m=\u001b[0m \u001b[0mwrapper_fn\u001b[0m\u001b[0;34m.\u001b[0m\u001b[0m_get_concrete_function_internal\u001b[0m\u001b[0;34m(\u001b[0m\u001b[0;34m)\u001b[0m\u001b[0;34m\u001b[0m\u001b[0;34m\u001b[0m\u001b[0m\n\u001b[0m\u001b[1;32m   3148\u001b[0m \u001b[0;34m\u001b[0m\u001b[0m\n\u001b[1;32m   3149\u001b[0m         \u001b[0;32mif\u001b[0m \u001b[0madd_to_graph\u001b[0m\u001b[0;34m:\u001b[0m\u001b[0;34m\u001b[0m\u001b[0;34m\u001b[0m\u001b[0m\n",
            "\u001b[0;32m/usr/local/lib/python3.6/dist-packages/tensorflow_core/python/eager/function.py\u001b[0m in \u001b[0;36m_get_concrete_function_internal\u001b[0;34m(self, *args, **kwargs)\u001b[0m\n\u001b[1;32m   2393\u001b[0m     \u001b[0;34m\"\"\"Bypasses error checking when getting a graph function.\"\"\"\u001b[0m\u001b[0;34m\u001b[0m\u001b[0;34m\u001b[0m\u001b[0m\n\u001b[1;32m   2394\u001b[0m     graph_function = self._get_concrete_function_internal_garbage_collected(\n\u001b[0;32m-> 2395\u001b[0;31m         *args, **kwargs)\n\u001b[0m\u001b[1;32m   2396\u001b[0m     \u001b[0;31m# We're returning this concrete function to someone, and they may keep a\u001b[0m\u001b[0;34m\u001b[0m\u001b[0;34m\u001b[0m\u001b[0;34m\u001b[0m\u001b[0m\n\u001b[1;32m   2397\u001b[0m     \u001b[0;31m# reference to the FuncGraph without keeping a reference to the\u001b[0m\u001b[0;34m\u001b[0m\u001b[0;34m\u001b[0m\u001b[0;34m\u001b[0m\u001b[0m\n",
            "\u001b[0;32m/usr/local/lib/python3.6/dist-packages/tensorflow_core/python/eager/function.py\u001b[0m in \u001b[0;36m_get_concrete_function_internal_garbage_collected\u001b[0;34m(self, *args, **kwargs)\u001b[0m\n\u001b[1;32m   2387\u001b[0m       \u001b[0margs\u001b[0m\u001b[0;34m,\u001b[0m \u001b[0mkwargs\u001b[0m \u001b[0;34m=\u001b[0m \u001b[0;32mNone\u001b[0m\u001b[0;34m,\u001b[0m \u001b[0;32mNone\u001b[0m\u001b[0;34m\u001b[0m\u001b[0;34m\u001b[0m\u001b[0m\n\u001b[1;32m   2388\u001b[0m     \u001b[0;32mwith\u001b[0m \u001b[0mself\u001b[0m\u001b[0;34m.\u001b[0m\u001b[0m_lock\u001b[0m\u001b[0;34m:\u001b[0m\u001b[0;34m\u001b[0m\u001b[0;34m\u001b[0m\u001b[0m\n\u001b[0;32m-> 2389\u001b[0;31m       \u001b[0mgraph_function\u001b[0m\u001b[0;34m,\u001b[0m \u001b[0m_\u001b[0m\u001b[0;34m,\u001b[0m \u001b[0m_\u001b[0m \u001b[0;34m=\u001b[0m \u001b[0mself\u001b[0m\u001b[0;34m.\u001b[0m\u001b[0m_maybe_define_function\u001b[0m\u001b[0;34m(\u001b[0m\u001b[0margs\u001b[0m\u001b[0;34m,\u001b[0m \u001b[0mkwargs\u001b[0m\u001b[0;34m)\u001b[0m\u001b[0;34m\u001b[0m\u001b[0;34m\u001b[0m\u001b[0m\n\u001b[0m\u001b[1;32m   2390\u001b[0m     \u001b[0;32mreturn\u001b[0m \u001b[0mgraph_function\u001b[0m\u001b[0;34m\u001b[0m\u001b[0;34m\u001b[0m\u001b[0m\n\u001b[1;32m   2391\u001b[0m \u001b[0;34m\u001b[0m\u001b[0m\n",
            "\u001b[0;32m/usr/local/lib/python3.6/dist-packages/tensorflow_core/python/eager/function.py\u001b[0m in \u001b[0;36m_maybe_define_function\u001b[0;34m(self, args, kwargs)\u001b[0m\n\u001b[1;32m   2701\u001b[0m \u001b[0;34m\u001b[0m\u001b[0m\n\u001b[1;32m   2702\u001b[0m       \u001b[0mself\u001b[0m\u001b[0;34m.\u001b[0m\u001b[0m_function_cache\u001b[0m\u001b[0;34m.\u001b[0m\u001b[0mmissed\u001b[0m\u001b[0;34m.\u001b[0m\u001b[0madd\u001b[0m\u001b[0;34m(\u001b[0m\u001b[0mcall_context_key\u001b[0m\u001b[0;34m)\u001b[0m\u001b[0;34m\u001b[0m\u001b[0;34m\u001b[0m\u001b[0m\n\u001b[0;32m-> 2703\u001b[0;31m       \u001b[0mgraph_function\u001b[0m \u001b[0;34m=\u001b[0m \u001b[0mself\u001b[0m\u001b[0;34m.\u001b[0m\u001b[0m_create_graph_function\u001b[0m\u001b[0;34m(\u001b[0m\u001b[0margs\u001b[0m\u001b[0;34m,\u001b[0m \u001b[0mkwargs\u001b[0m\u001b[0;34m)\u001b[0m\u001b[0;34m\u001b[0m\u001b[0;34m\u001b[0m\u001b[0m\n\u001b[0m\u001b[1;32m   2704\u001b[0m       \u001b[0mself\u001b[0m\u001b[0;34m.\u001b[0m\u001b[0m_function_cache\u001b[0m\u001b[0;34m.\u001b[0m\u001b[0mprimary\u001b[0m\u001b[0;34m[\u001b[0m\u001b[0mcache_key\u001b[0m\u001b[0;34m]\u001b[0m \u001b[0;34m=\u001b[0m \u001b[0mgraph_function\u001b[0m\u001b[0;34m\u001b[0m\u001b[0;34m\u001b[0m\u001b[0m\n\u001b[1;32m   2705\u001b[0m       \u001b[0;32mreturn\u001b[0m \u001b[0mgraph_function\u001b[0m\u001b[0;34m,\u001b[0m \u001b[0margs\u001b[0m\u001b[0;34m,\u001b[0m \u001b[0mkwargs\u001b[0m\u001b[0;34m\u001b[0m\u001b[0;34m\u001b[0m\u001b[0m\n",
            "\u001b[0;32m/usr/local/lib/python3.6/dist-packages/tensorflow_core/python/eager/function.py\u001b[0m in \u001b[0;36m_create_graph_function\u001b[0;34m(self, args, kwargs, override_flat_arg_shapes)\u001b[0m\n\u001b[1;32m   2591\u001b[0m             \u001b[0marg_names\u001b[0m\u001b[0;34m=\u001b[0m\u001b[0marg_names\u001b[0m\u001b[0;34m,\u001b[0m\u001b[0;34m\u001b[0m\u001b[0;34m\u001b[0m\u001b[0m\n\u001b[1;32m   2592\u001b[0m             \u001b[0moverride_flat_arg_shapes\u001b[0m\u001b[0;34m=\u001b[0m\u001b[0moverride_flat_arg_shapes\u001b[0m\u001b[0;34m,\u001b[0m\u001b[0;34m\u001b[0m\u001b[0;34m\u001b[0m\u001b[0m\n\u001b[0;32m-> 2593\u001b[0;31m             capture_by_value=self._capture_by_value),\n\u001b[0m\u001b[1;32m   2594\u001b[0m         \u001b[0mself\u001b[0m\u001b[0;34m.\u001b[0m\u001b[0m_function_attributes\u001b[0m\u001b[0;34m,\u001b[0m\u001b[0;34m\u001b[0m\u001b[0;34m\u001b[0m\u001b[0m\n\u001b[1;32m   2595\u001b[0m         \u001b[0;31m# Tell the ConcreteFunction to clean up its graph once it goes out of\u001b[0m\u001b[0;34m\u001b[0m\u001b[0;34m\u001b[0m\u001b[0;34m\u001b[0m\u001b[0m\n",
            "\u001b[0;32m/usr/local/lib/python3.6/dist-packages/tensorflow_core/python/framework/func_graph.py\u001b[0m in \u001b[0;36mfunc_graph_from_py_func\u001b[0;34m(name, python_func, args, kwargs, signature, func_graph, autograph, autograph_options, add_control_dependencies, arg_names, op_return_value, collections, capture_by_value, override_flat_arg_shapes)\u001b[0m\n\u001b[1;32m    976\u001b[0m                                           converted_func)\n\u001b[1;32m    977\u001b[0m \u001b[0;34m\u001b[0m\u001b[0m\n\u001b[0;32m--> 978\u001b[0;31m       \u001b[0mfunc_outputs\u001b[0m \u001b[0;34m=\u001b[0m \u001b[0mpython_func\u001b[0m\u001b[0;34m(\u001b[0m\u001b[0;34m*\u001b[0m\u001b[0mfunc_args\u001b[0m\u001b[0;34m,\u001b[0m \u001b[0;34m**\u001b[0m\u001b[0mfunc_kwargs\u001b[0m\u001b[0;34m)\u001b[0m\u001b[0;34m\u001b[0m\u001b[0;34m\u001b[0m\u001b[0m\n\u001b[0m\u001b[1;32m    979\u001b[0m \u001b[0;34m\u001b[0m\u001b[0m\n\u001b[1;32m    980\u001b[0m       \u001b[0;31m# invariant: `func_outputs` contains only Tensors, CompositeTensors,\u001b[0m\u001b[0;34m\u001b[0m\u001b[0;34m\u001b[0m\u001b[0;34m\u001b[0m\u001b[0m\n",
            "\u001b[0;32m/usr/local/lib/python3.6/dist-packages/tensorflow_core/python/data/ops/dataset_ops.py\u001b[0m in \u001b[0;36mwrapper_fn\u001b[0;34m(*args)\u001b[0m\n\u001b[1;32m   3138\u001b[0m           attributes=defun_kwargs)\n\u001b[1;32m   3139\u001b[0m       \u001b[0;32mdef\u001b[0m \u001b[0mwrapper_fn\u001b[0m\u001b[0;34m(\u001b[0m\u001b[0;34m*\u001b[0m\u001b[0margs\u001b[0m\u001b[0;34m)\u001b[0m\u001b[0;34m:\u001b[0m  \u001b[0;31m# pylint: disable=missing-docstring\u001b[0m\u001b[0;34m\u001b[0m\u001b[0;34m\u001b[0m\u001b[0m\n\u001b[0;32m-> 3140\u001b[0;31m         \u001b[0mret\u001b[0m \u001b[0;34m=\u001b[0m \u001b[0m_wrapper_helper\u001b[0m\u001b[0;34m(\u001b[0m\u001b[0;34m*\u001b[0m\u001b[0margs\u001b[0m\u001b[0;34m)\u001b[0m\u001b[0;34m\u001b[0m\u001b[0;34m\u001b[0m\u001b[0m\n\u001b[0m\u001b[1;32m   3141\u001b[0m         \u001b[0mret\u001b[0m \u001b[0;34m=\u001b[0m \u001b[0mstructure\u001b[0m\u001b[0;34m.\u001b[0m\u001b[0mto_tensor_list\u001b[0m\u001b[0;34m(\u001b[0m\u001b[0mself\u001b[0m\u001b[0;34m.\u001b[0m\u001b[0m_output_structure\u001b[0m\u001b[0;34m,\u001b[0m \u001b[0mret\u001b[0m\u001b[0;34m)\u001b[0m\u001b[0;34m\u001b[0m\u001b[0;34m\u001b[0m\u001b[0m\n\u001b[1;32m   3142\u001b[0m         \u001b[0;32mreturn\u001b[0m \u001b[0;34m[\u001b[0m\u001b[0mops\u001b[0m\u001b[0;34m.\u001b[0m\u001b[0mconvert_to_tensor\u001b[0m\u001b[0;34m(\u001b[0m\u001b[0mt\u001b[0m\u001b[0;34m)\u001b[0m \u001b[0;32mfor\u001b[0m \u001b[0mt\u001b[0m \u001b[0;32min\u001b[0m \u001b[0mret\u001b[0m\u001b[0;34m]\u001b[0m\u001b[0;34m\u001b[0m\u001b[0;34m\u001b[0m\u001b[0m\n",
            "\u001b[0;32m/usr/local/lib/python3.6/dist-packages/tensorflow_core/python/data/ops/dataset_ops.py\u001b[0m in \u001b[0;36m_wrapper_helper\u001b[0;34m(*args)\u001b[0m\n\u001b[1;32m   3080\u001b[0m         \u001b[0mnested_args\u001b[0m \u001b[0;34m=\u001b[0m \u001b[0;34m(\u001b[0m\u001b[0mnested_args\u001b[0m\u001b[0;34m,\u001b[0m\u001b[0;34m)\u001b[0m\u001b[0;34m\u001b[0m\u001b[0;34m\u001b[0m\u001b[0m\n\u001b[1;32m   3081\u001b[0m \u001b[0;34m\u001b[0m\u001b[0m\n\u001b[0;32m-> 3082\u001b[0;31m       \u001b[0mret\u001b[0m \u001b[0;34m=\u001b[0m \u001b[0mautograph\u001b[0m\u001b[0;34m.\u001b[0m\u001b[0mtf_convert\u001b[0m\u001b[0;34m(\u001b[0m\u001b[0mfunc\u001b[0m\u001b[0;34m,\u001b[0m \u001b[0mag_ctx\u001b[0m\u001b[0;34m)\u001b[0m\u001b[0;34m(\u001b[0m\u001b[0;34m*\u001b[0m\u001b[0mnested_args\u001b[0m\u001b[0;34m)\u001b[0m\u001b[0;34m\u001b[0m\u001b[0;34m\u001b[0m\u001b[0m\n\u001b[0m\u001b[1;32m   3083\u001b[0m       \u001b[0;31m# If `func` returns a list of tensors, `nest.flatten()` and\u001b[0m\u001b[0;34m\u001b[0m\u001b[0;34m\u001b[0m\u001b[0;34m\u001b[0m\u001b[0m\n\u001b[1;32m   3084\u001b[0m       \u001b[0;31m# `ops.convert_to_tensor()` would conspire to attempt to stack\u001b[0m\u001b[0;34m\u001b[0m\u001b[0;34m\u001b[0m\u001b[0;34m\u001b[0m\u001b[0m\n",
            "\u001b[0;32m/usr/local/lib/python3.6/dist-packages/tensorflow_core/python/autograph/impl/api.py\u001b[0m in \u001b[0;36mwrapper\u001b[0;34m(*args, **kwargs)\u001b[0m\n\u001b[1;32m    235\u001b[0m       \u001b[0;32mexcept\u001b[0m \u001b[0mException\u001b[0m \u001b[0;32mas\u001b[0m \u001b[0me\u001b[0m\u001b[0;34m:\u001b[0m  \u001b[0;31m# pylint:disable=broad-except\u001b[0m\u001b[0;34m\u001b[0m\u001b[0;34m\u001b[0m\u001b[0m\n\u001b[1;32m    236\u001b[0m         \u001b[0;32mif\u001b[0m \u001b[0mhasattr\u001b[0m\u001b[0;34m(\u001b[0m\u001b[0me\u001b[0m\u001b[0;34m,\u001b[0m \u001b[0;34m'ag_error_metadata'\u001b[0m\u001b[0;34m)\u001b[0m\u001b[0;34m:\u001b[0m\u001b[0;34m\u001b[0m\u001b[0;34m\u001b[0m\u001b[0m\n\u001b[0;32m--> 237\u001b[0;31m           \u001b[0;32mraise\u001b[0m \u001b[0me\u001b[0m\u001b[0;34m.\u001b[0m\u001b[0mag_error_metadata\u001b[0m\u001b[0;34m.\u001b[0m\u001b[0mto_exception\u001b[0m\u001b[0;34m(\u001b[0m\u001b[0me\u001b[0m\u001b[0;34m)\u001b[0m\u001b[0;34m\u001b[0m\u001b[0;34m\u001b[0m\u001b[0m\n\u001b[0m\u001b[1;32m    238\u001b[0m         \u001b[0;32melse\u001b[0m\u001b[0;34m:\u001b[0m\u001b[0;34m\u001b[0m\u001b[0;34m\u001b[0m\u001b[0m\n\u001b[1;32m    239\u001b[0m           \u001b[0;32mraise\u001b[0m\u001b[0;34m\u001b[0m\u001b[0;34m\u001b[0m\u001b[0m\n",
            "\u001b[0;31mValueError\u001b[0m: in converted code:\n\n    /usr/local/lib/python3.6/dist-packages/tensorflow_core/python/keras/engine/training_v2.py:677 map_fn\n        batch_size=None)\n    /usr/local/lib/python3.6/dist-packages/tensorflow_core/python/keras/engine/training.py:2410 _standardize_tensors\n        exception_prefix='input')\n    /usr/local/lib/python3.6/dist-packages/tensorflow_core/python/keras/engine/training_utils.py:510 standardize_input_data\n        'for each key in: ' + str(names))\n\n    ValueError: No data provided for \"input_1\". Need data for each key in: ['input_1', 'input_2']\n"
          ]
        }
      ]
    },
    {
      "cell_type": "markdown",
      "metadata": {
        "id": "ho6eSo9IcI3_",
        "colab_type": "text"
      },
      "source": [
        "## STEP 2: Evaluate the model\n"
      ]
    },
    {
      "cell_type": "markdown",
      "metadata": {
        "id": "ZJqnDoejAY6V",
        "colab_type": "text"
      },
      "source": [
        "### Mean average precision"
      ]
    },
    {
      "cell_type": "code",
      "metadata": {
        "id": "Li5MXUHiAZQi",
        "colab_type": "code",
        "colab": {}
      },
      "source": [
        "# predictor.predict() # TBD"
      ],
      "execution_count": null,
      "outputs": []
    },
    {
      "cell_type": "markdown",
      "metadata": {
        "id": "SR3ovLTJAVy7",
        "colab_type": "text"
      },
      "source": [
        "Evaluate the model using the `test_data`."
      ]
    },
    {
      "cell_type": "code",
      "metadata": {
        "id": "UvcxCvLOcOje",
        "colab_type": "code",
        "colab": {}
      },
      "source": [
        "test_result = learner.validate(class_names=params['class_names'], val_data=test_data)\n",
        "print(test_result)\n",
        "learner.plot('loss')\n",
        "LOGGER.info('Successfully validated test set.')"
      ],
      "execution_count": null,
      "outputs": []
    },
    {
      "cell_type": "markdown",
      "metadata": {
        "id": "LdbYfab8cEVu",
        "colab_type": "text"
      },
      "source": [
        "## STEP 3.1 Save the predictor\n",
        "Check out the [FAQ](https://github.com/amaiya/ktrain/blob/master/FAQ.md#method-1-using-predictor-api-works-for-any-model) for how to load a model from a predictor."
      ]
    },
    {
      "cell_type": "code",
      "metadata": {
        "id": "tF3XGeIecKer",
        "colab_type": "code",
        "colab": {}
      },
      "source": [
        "from os import path\n",
        "\n",
        "# Save the corresponding model (predictor)\n",
        "predictor.save(path.join(result_dir, 'predictor'))"
      ],
      "execution_count": null,
      "outputs": []
    },
    {
      "cell_type": "markdown",
      "metadata": {
        "id": "rJdjiF_fdUAd",
        "colab_type": "text"
      },
      "source": [
        "Load predictor"
      ]
    },
    {
      "cell_type": "code",
      "metadata": {
        "id": "8xcLJRdOfyNV",
        "colab_type": "code",
        "colab": {}
      },
      "source": [
        "predictor_path = '/content/drive/My Drive/runs/bert/1/2020-07-22_16-37-07/predictor'\n",
        "predictor = ktrain.load_predictor(predictor_path)"
      ],
      "execution_count": 11,
      "outputs": []
    },
    {
      "cell_type": "code",
      "metadata": {
        "id": "2tBsLkARdTsi",
        "colab_type": "code",
        "colab": {
          "base_uri": "https://localhost:8080/",
          "height": 263
        },
        "outputId": "c13827ae-401d-4ce1-8f5f-c39b4c81ceb8"
      },
      "source": [
        "# Playing around\n",
        "my_tryout_df = df[:5]\n",
        "# print(predictor.predict(list(my_tryout_df.loc[:,'requirement'])))\n",
        "# result = predictor.predict_proba(list(my_tryout_df['requirement']))\n",
        "# print(result)\n",
        "# result.transpose()[0]\n",
        "# my_tryout_df.loc[:, 'not_vague_prob'] = result.transpose()[0]\n",
        "# my_tryout_df.loc[:, 'vague_prob'] = result.transpose()[1]\n",
        "# my_tryout_df\n",
        "\n",
        "insert_probabilities(my_tryout_df, predictor)"
      ],
      "execution_count": 56,
      "outputs": [
        {
          "output_type": "stream",
          "text": [
            "['A COPV representative of the flight COPV (liner material, processing, thickness, configuration, and reinforcing composite stiffness and thickness) should be used.', 'A Charge-Through VCONN -Powered USB Device shall discard all USB PD messages while a connection is enabled between the host port CC and Charge -Through port CC.', 'A Charge-Through VCONN-Powered USB Device shall transition to Attached.SNK when a Source connection is detected, as indicated by the SNK.Rp state on its Host-side port�s CC pin.', 'A Controller that supports Directed Advertising Report shall support the following sections of this document.', 'A DC voltage between 0 V and -66 V may be present on the tip wire and on the ring wire during the application of the AC voltage.']\n"
          ],
          "name": "stdout"
        },
        {
          "output_type": "display_data",
          "data": {
            "text/html": [
              ""
            ],
            "text/plain": [
              "<IPython.core.display.HTML object>"
            ]
          },
          "metadata": {
            "tags": []
          }
        },
        {
          "output_type": "stream",
          "text": [
            "/usr/local/lib/python3.6/dist-packages/pandas/core/indexing.py:845: SettingWithCopyWarning: \n",
            "A value is trying to be set on a copy of a slice from a DataFrame.\n",
            "Try using .loc[row_indexer,col_indexer] = value instead\n",
            "\n",
            "See the caveats in the documentation: https://pandas.pydata.org/pandas-docs/stable/user_guide/indexing.html#returning-a-view-versus-a-copy\n",
            "  self.obj[key] = _infer_fill_value(value)\n",
            "/usr/local/lib/python3.6/dist-packages/pandas/core/indexing.py:966: SettingWithCopyWarning: \n",
            "A value is trying to be set on a copy of a slice from a DataFrame.\n",
            "Try using .loc[row_indexer,col_indexer] = value instead\n",
            "\n",
            "See the caveats in the documentation: https://pandas.pydata.org/pandas-docs/stable/user_guide/indexing.html#returning-a-view-versus-a-copy\n",
            "  self.obj[item] = s\n"
          ],
          "name": "stderr"
        }
      ]
    },
    {
      "cell_type": "code",
      "metadata": {
        "id": "hOCjfX3Eh-yg",
        "colab_type": "code",
        "colab": {
          "base_uri": "https://localhost:8080/",
          "height": 352
        },
        "outputId": "c25ab6e7-9373-4060-8edb-853f04ac83ba"
      },
      "source": [
        "my_tryout_df.loc[:,'vague_prob'] = [0,0,0,0,0]\n",
        "my_tryout_df\n",
        "df.head()"
      ],
      "execution_count": 28,
      "outputs": [
        {
          "output_type": "stream",
          "text": [
            "/usr/local/lib/python3.6/dist-packages/pandas/core/indexing.py:966: SettingWithCopyWarning: \n",
            "A value is trying to be set on a copy of a slice from a DataFrame.\n",
            "Try using .loc[row_indexer,col_indexer] = value instead\n",
            "\n",
            "See the caveats in the documentation: https://pandas.pydata.org/pandas-docs/stable/user_guide/indexing.html#returning-a-view-versus-a-copy\n",
            "  self.obj[item] = s\n"
          ],
          "name": "stderr"
        },
        {
          "output_type": "execute_result",
          "data": {
            "application/vnd.google.colaboratory.module+javascript": "\n      import \"https://ssl.gstatic.com/colaboratory/data_table/a6224c040fa35dcf/data_table.js\";\n\n      window.createDataTable({\n        data: [[{\n            'v': 0,\n            'f': \"0\",\n        },\n\"A COPV representative of the flight COPV (liner material, processing, thickness, configuration, and reinforcing composite stiffness and thickness) should be used.\",\n{\n            'v': 2,\n            'f': \"2\",\n        },\n{\n            'v': 0,\n            'f': \"0\",\n        },\n{\n            'v': 1,\n            'f': \"1\",\n        }],\n [{\n            'v': 1,\n            'f': \"1\",\n        },\n\"A Charge-Through VCONN -Powered USB Device shall discard all USB PD messages while a connection is enabled between the host port CC and Charge -Through port CC.\",\n{\n            'v': 0,\n            'f': \"0\",\n        },\n{\n            'v': 2,\n            'f': \"2\",\n        },\n{\n            'v': 0,\n            'f': \"0\",\n        }],\n [{\n            'v': 2,\n            'f': \"2\",\n        },\n\"A Charge-Through VCONN-Powered USB Device shall transition to Attached.SNK when a Source connection is detected, as indicated by the SNK.Rp state on its Host-side port\\ufffds CC pin.\",\n{\n            'v': 0,\n            'f': \"0\",\n        },\n{\n            'v': 2,\n            'f': \"2\",\n        },\n{\n            'v': 0,\n            'f': \"0\",\n        }],\n [{\n            'v': 3,\n            'f': \"3\",\n        },\n\"A Controller that supports Directed Advertising Report shall support the following sections of this document.\",\n{\n            'v': 0,\n            'f': \"0\",\n        },\n{\n            'v': 2,\n            'f': \"2\",\n        },\n{\n            'v': 0,\n            'f': \"0\",\n        }],\n [{\n            'v': 4,\n            'f': \"4\",\n        },\n\"A DC voltage between 0 V and -66 V may be present on the tip wire and on the ring wire during the application of the AC voltage.\",\n{\n            'v': 0,\n            'f': \"0\",\n        },\n{\n            'v': 2,\n            'f': \"2\",\n        },\n{\n            'v': 0,\n            'f': \"0\",\n        }]],\n        columns: [[\"number\", \"index\"], [\"string\", \"requirement\"], [\"number\", \"vague_count\"], [\"number\", \"not_vague_count\"], [\"number\", \"majority_label\"]],\n        columnOptions: [{\"width\": \"1px\", \"className\": \"index_column\"}],\n        rowsPerPage: 25,\n        helpUrl: \"https://colab.research.google.com/notebooks/data_table.ipynb\",\n        suppressOutputScrolling: true,\n        minimumWidth: undefined,\n      });\n    ",
            "text/html": [
              "<div>\n",
              "<style scoped>\n",
              "    .dataframe tbody tr th:only-of-type {\n",
              "        vertical-align: middle;\n",
              "    }\n",
              "\n",
              "    .dataframe tbody tr th {\n",
              "        vertical-align: top;\n",
              "    }\n",
              "\n",
              "    .dataframe thead th {\n",
              "        text-align: right;\n",
              "    }\n",
              "</style>\n",
              "<table border=\"1\" class=\"dataframe\">\n",
              "  <thead>\n",
              "    <tr style=\"text-align: right;\">\n",
              "      <th></th>\n",
              "      <th>requirement</th>\n",
              "      <th>vague_count</th>\n",
              "      <th>not_vague_count</th>\n",
              "      <th>majority_label</th>\n",
              "    </tr>\n",
              "  </thead>\n",
              "  <tbody>\n",
              "    <tr>\n",
              "      <th>0</th>\n",
              "      <td>A COPV representative of the flight COPV (line...</td>\n",
              "      <td>2</td>\n",
              "      <td>0</td>\n",
              "      <td>1</td>\n",
              "    </tr>\n",
              "    <tr>\n",
              "      <th>1</th>\n",
              "      <td>A Charge-Through VCONN -Powered USB Device sha...</td>\n",
              "      <td>0</td>\n",
              "      <td>2</td>\n",
              "      <td>0</td>\n",
              "    </tr>\n",
              "    <tr>\n",
              "      <th>2</th>\n",
              "      <td>A Charge-Through VCONN-Powered USB Device shal...</td>\n",
              "      <td>0</td>\n",
              "      <td>2</td>\n",
              "      <td>0</td>\n",
              "    </tr>\n",
              "    <tr>\n",
              "      <th>3</th>\n",
              "      <td>A Controller that supports Directed Advertisin...</td>\n",
              "      <td>0</td>\n",
              "      <td>2</td>\n",
              "      <td>0</td>\n",
              "    </tr>\n",
              "    <tr>\n",
              "      <th>4</th>\n",
              "      <td>A DC voltage between 0 V and -66 V may be pres...</td>\n",
              "      <td>0</td>\n",
              "      <td>2</td>\n",
              "      <td>0</td>\n",
              "    </tr>\n",
              "  </tbody>\n",
              "</table>\n",
              "</div>"
            ],
            "text/plain": [
              "                                         requirement  ...  majority_label\n",
              "0  A COPV representative of the flight COPV (line...  ...               1\n",
              "1  A Charge-Through VCONN -Powered USB Device sha...  ...               0\n",
              "2  A Charge-Through VCONN-Powered USB Device shal...  ...               0\n",
              "3  A Controller that supports Directed Advertisin...  ...               0\n",
              "4  A DC voltage between 0 V and -66 V may be pres...  ...               0\n",
              "\n",
              "[5 rows x 4 columns]"
            ]
          },
          "metadata": {
            "tags": []
          },
          "execution_count": 28
        }
      ]
    },
    {
      "cell_type": "markdown",
      "metadata": {
        "id": "eIuTq8eqdXws",
        "colab_type": "text"
      },
      "source": [
        "## STEP 4 Inspect the Model and its Losses"
      ]
    },
    {
      "cell_type": "markdown",
      "metadata": {
        "id": "yhG3fPtPcVKe",
        "colab_type": "text"
      },
      "source": [
        "Let's examine the validation example about which we were the most wrong."
      ]
    },
    {
      "cell_type": "code",
      "metadata": {
        "id": "mCABLebacTWM",
        "colab_type": "code",
        "colab": {
          "base_uri": "https://localhost:8080/",
          "height": 225
        },
        "outputId": "f9627d03-fd6d-4732-a1e6-676d27ff7756"
      },
      "source": [
        "learner.view_top_losses(n=4, preproc=t, val_data=test_data)\n",
        "top_losses = learner.top_losses(n=4, preproc=t, val_data=test_data)"
      ],
      "execution_count": null,
      "outputs": [
        {
          "output_type": "stream",
          "text": [
            "----------\n",
            "id:16 | loss:1.26 | true:not-vague | pred:vague)\n",
            "\n",
            "----------\n",
            "id:22 | loss:1.2 | true:not-vague | pred:vague)\n",
            "\n",
            "----------\n",
            "id:12 | loss:1.18 | true:not-vague | pred:vague)\n",
            "\n",
            "----------\n",
            "id:8 | loss:0.99 | true:vague | pred:not-vague)\n",
            "\n"
          ],
          "name": "stdout"
        }
      ]
    },
    {
      "cell_type": "code",
      "metadata": {
        "id": "JuMmx8f5dr45",
        "colab_type": "code",
        "colab": {
          "base_uri": "https://localhost:8080/",
          "height": 124
        },
        "outputId": "b2f7df3c-d348-4aec-c75c-0d20d1d048e7"
      },
      "source": [
        "top_loss_req = test_df.iloc[16]['requirement'] # Requirement that produces top loss\n",
        "\n",
        "print(predictor.predict(top_loss_req))\n",
        "\n",
        "# predicted probability scores for each category\n",
        "print(predictor.predict_proba(top_loss_req))\n",
        "print(top_loss_req)"
      ],
      "execution_count": null,
      "outputs": [
        {
          "output_type": "stream",
          "text": [
            "2020-07-07 07:56:25,775 [MainThread          ] [DEBUG]  Starting new HTTPS connection (1): s3.amazonaws.com:443\n",
            "2020-07-07 07:56:26,194 [MainThread          ] [DEBUG]  https://s3.amazonaws.com:443 \"HEAD /models.huggingface.co/bert/bert-base-uncased-vocab.txt HTTP/1.1\" 200 0\n"
          ],
          "name": "stdout"
        },
        {
          "output_type": "display_data",
          "data": {
            "text/html": [
              ""
            ],
            "text/plain": [
              "<IPython.core.display.HTML object>"
            ]
          },
          "metadata": {
            "tags": []
          }
        },
        {
          "output_type": "stream",
          "text": [
            "vague\n"
          ],
          "name": "stdout"
        },
        {
          "output_type": "display_data",
          "data": {
            "text/html": [
              ""
            ],
            "text/plain": [
              "<IPython.core.display.HTML object>"
            ]
          },
          "metadata": {
            "tags": []
          }
        },
        {
          "output_type": "stream",
          "text": [
            "[0.28304783 0.71695215]\n",
            "The developer shall establish, control, and maintain a software test environment to perform integration and qualification testing of software.\n"
          ],
          "name": "stdout"
        }
      ]
    },
    {
      "cell_type": "markdown",
      "metadata": {
        "id": "9tHos7V6d8RQ",
        "colab_type": "text"
      },
      "source": [
        "Let's invoke the `explain` method to see which words contribute most to the classification."
      ]
    },
    {
      "cell_type": "code",
      "metadata": {
        "id": "3HgZDLYUeVaM",
        "colab_type": "code",
        "colab": {
          "base_uri": "https://localhost:8080/",
          "height": 644
        },
        "outputId": "c350edd0-49cd-4916-f167-41c7512310a9"
      },
      "source": [
        "from IPython.core.display import display\n",
        "\n",
        "for id, _, _, _ in top_losses:\n",
        "    top_loss_req = test_df.iloc[id]['requirement'] # Requirement that produces top loss\n",
        "    display(predictor.explain(top_loss_req, n_samples=1_000))"
      ],
      "execution_count": null,
      "outputs": [
        {
          "output_type": "display_data",
          "data": {
            "text/html": [
              ""
            ],
            "text/plain": [
              "<IPython.core.display.HTML object>"
            ]
          },
          "metadata": {
            "tags": []
          }
        },
        {
          "output_type": "display_data",
          "data": {
            "text/html": [
              ""
            ],
            "text/plain": [
              "<IPython.core.display.HTML object>"
            ]
          },
          "metadata": {
            "tags": []
          }
        },
        {
          "output_type": "display_data",
          "data": {
            "text/html": [
              "\n",
              "    <style>\n",
              "    table.eli5-weights tr:hover {\n",
              "        filter: brightness(85%);\n",
              "    }\n",
              "</style>\n",
              "\n",
              "\n",
              "\n",
              "    \n",
              "\n",
              "    \n",
              "\n",
              "    \n",
              "\n",
              "    \n",
              "\n",
              "    \n",
              "\n",
              "    \n",
              "\n",
              "\n",
              "    \n",
              "\n",
              "    \n",
              "\n",
              "    \n",
              "\n",
              "    \n",
              "        \n",
              "\n",
              "    \n",
              "\n",
              "        \n",
              "\n",
              "        \n",
              "    \n",
              "        \n",
              "        \n",
              "    \n",
              "        <p style=\"margin-bottom: 0.5em; margin-top: 0em\">\n",
              "            <b>\n",
              "    \n",
              "        y=vague\n",
              "    \n",
              "</b>\n",
              "\n",
              "    \n",
              "    (probability <b>0.611</b>, score <b>0.451</b>)\n",
              "\n",
              "top features\n",
              "        </p>\n",
              "    \n",
              "    <table class=\"eli5-weights\"\n",
              "           style=\"border-collapse: collapse; border: none; margin-top: 0em; table-layout: auto; margin-bottom: 2em;\">\n",
              "        <thead>\n",
              "        <tr style=\"border: none;\">\n",
              "            \n",
              "                <th style=\"padding: 0 1em 0 0.5em; text-align: right; border: none;\" title=\"Feature contribution already accounts for the feature value (for linear models, contribution = weight * feature value), and the sum of feature contributions is equal to the score or, for some classifiers, to the probability. Feature values are shown if &quot;show_feature_values&quot; is True.\">\n",
              "                    Contribution<sup>?</sup>\n",
              "                </th>\n",
              "            \n",
              "            <th style=\"padding: 0 0.5em 0 0.5em; text-align: left; border: none;\">Feature</th>\n",
              "            \n",
              "        </tr>\n",
              "        </thead>\n",
              "        <tbody>\n",
              "        \n",
              "            <tr style=\"background-color: hsl(120, 100.00%, 80.00%); border: none;\">\n",
              "    <td style=\"padding: 0 1em 0 0.5em; text-align: right; border: none;\">\n",
              "        +0.641\n",
              "    </td>\n",
              "    <td style=\"padding: 0 0.5em 0 0.5em; text-align: left; border: none;\">\n",
              "        Highlighted in text (sum)\n",
              "    </td>\n",
              "    \n",
              "</tr>\n",
              "        \n",
              "        \n",
              "\n",
              "        \n",
              "        \n",
              "            <tr style=\"background-color: hsl(0, 100.00%, 91.47%); border: none;\">\n",
              "    <td style=\"padding: 0 1em 0 0.5em; text-align: right; border: none;\">\n",
              "        -0.190\n",
              "    </td>\n",
              "    <td style=\"padding: 0 0.5em 0 0.5em; text-align: left; border: none;\">\n",
              "        &lt;BIAS&gt;\n",
              "    </td>\n",
              "    \n",
              "</tr>\n",
              "        \n",
              "\n",
              "        </tbody>\n",
              "    </table>\n",
              "\n",
              "    \n",
              "\n",
              "\n",
              "\n",
              "    <p style=\"margin-bottom: 2.5em; margin-top:-0.5em;\">\n",
              "        <span style=\"background-color: hsl(120, 100.00%, 94.28%); opacity: 0.81\" title=\"0.036\">the</span><span style=\"opacity: 0.80\"> </span><span style=\"background-color: hsl(120, 100.00%, 80.17%); opacity: 0.87\" title=\"0.215\">developer</span><span style=\"opacity: 0.80\"> </span><span style=\"background-color: hsl(0, 100.00%, 60.00%); opacity: 1.00\" title=\"-0.585\">shall</span><span style=\"opacity: 0.80\"> </span><span style=\"background-color: hsl(0, 100.00%, 73.58%); opacity: 0.91\" title=\"-0.324\">establish</span><span style=\"opacity: 0.80\">, </span><span style=\"background-color: hsl(120, 100.00%, 88.10%); opacity: 0.84\" title=\"0.104\">control</span><span style=\"opacity: 0.80\">, </span><span style=\"background-color: hsl(120, 100.00%, 95.70%); opacity: 0.81\" title=\"0.024\">and</span><span style=\"opacity: 0.80\"> </span><span style=\"background-color: hsl(120, 100.00%, 89.00%); opacity: 0.83\" title=\"0.093\">maintain</span><span style=\"opacity: 0.80\"> </span><span style=\"background-color: hsl(0, 100.00%, 88.16%); opacity: 0.84\" title=\"-0.103\">a</span><span style=\"opacity: 0.80\"> </span><span style=\"background-color: hsl(0, 100.00%, 85.55%); opacity: 0.85\" title=\"-0.137\">software</span><span style=\"opacity: 0.80\"> </span><span style=\"background-color: hsl(120, 100.00%, 93.63%); opacity: 0.81\" title=\"0.042\">test</span><span style=\"opacity: 0.80\"> </span><span style=\"background-color: hsl(120, 100.00%, 92.80%); opacity: 0.82\" title=\"0.050\">environment</span><span style=\"opacity: 0.80\"> </span><span style=\"background-color: hsl(0, 100.00%, 92.19%); opacity: 0.82\" title=\"-0.057\">to</span><span style=\"opacity: 0.80\"> </span><span style=\"background-color: hsl(120, 100.00%, 84.40%); opacity: 0.85\" title=\"0.152\">perform</span><span style=\"opacity: 0.80\"> </span><span style=\"background-color: hsl(0, 100.00%, 94.63%); opacity: 0.81\" title=\"-0.033\">integration</span><span style=\"opacity: 0.80\"> </span><span style=\"background-color: hsl(0, 100.00%, 93.77%); opacity: 0.81\" title=\"-0.041\">and</span><span style=\"opacity: 0.80\"> </span><span style=\"background-color: hsl(0, 100.00%, 98.46%); opacity: 0.80\" title=\"-0.006\">qualification</span><span style=\"opacity: 0.80\"> </span><span style=\"background-color: hsl(120, 100.00%, 90.64%); opacity: 0.83\" title=\"0.073\">testing</span><span style=\"opacity: 0.80\"> </span><span style=\"background-color: hsl(0, 100.00%, 95.95%); opacity: 0.81\" title=\"-0.022\">of</span><span style=\"opacity: 0.80\"> </span><span style=\"background-color: hsl(120, 100.00%, 76.66%); opacity: 0.89\" title=\"0.271\">software</span><span style=\"opacity: 0.80\">.</span>\n",
              "    </p>\n",
              "\n",
              "\n",
              "    \n",
              "\n",
              "    \n",
              "\n",
              "    \n",
              "\n",
              "    \n",
              "\n",
              "\n",
              "    \n",
              "\n",
              "    \n",
              "\n",
              "    \n",
              "\n",
              "    \n",
              "\n",
              "    \n",
              "\n",
              "    \n",
              "\n",
              "\n",
              "    \n",
              "\n",
              "    \n",
              "\n",
              "    \n",
              "\n",
              "    \n",
              "\n",
              "    \n",
              "\n",
              "    \n",
              "\n",
              "\n",
              "\n"
            ],
            "text/plain": [
              "<IPython.core.display.HTML object>"
            ]
          },
          "metadata": {
            "tags": []
          }
        },
        {
          "output_type": "display_data",
          "data": {
            "text/html": [
              ""
            ],
            "text/plain": [
              "<IPython.core.display.HTML object>"
            ]
          },
          "metadata": {
            "tags": []
          }
        },
        {
          "output_type": "display_data",
          "data": {
            "text/html": [
              ""
            ],
            "text/plain": [
              "<IPython.core.display.HTML object>"
            ]
          },
          "metadata": {
            "tags": []
          }
        },
        {
          "output_type": "display_data",
          "data": {
            "text/html": [
              "\n",
              "    <style>\n",
              "    table.eli5-weights tr:hover {\n",
              "        filter: brightness(85%);\n",
              "    }\n",
              "</style>\n",
              "\n",
              "\n",
              "\n",
              "    \n",
              "\n",
              "    \n",
              "\n",
              "    \n",
              "\n",
              "    \n",
              "\n",
              "    \n",
              "\n",
              "    \n",
              "\n",
              "\n",
              "    \n",
              "\n",
              "    \n",
              "\n",
              "    \n",
              "\n",
              "    \n",
              "        \n",
              "\n",
              "    \n",
              "\n",
              "        \n",
              "\n",
              "        \n",
              "    \n",
              "        \n",
              "        \n",
              "    \n",
              "        <p style=\"margin-bottom: 0.5em; margin-top: 0em\">\n",
              "            <b>\n",
              "    \n",
              "        y=vague\n",
              "    \n",
              "</b>\n",
              "\n",
              "    \n",
              "    (probability <b>0.719</b>, score <b>0.939</b>)\n",
              "\n",
              "top features\n",
              "        </p>\n",
              "    \n",
              "    <table class=\"eli5-weights\"\n",
              "           style=\"border-collapse: collapse; border: none; margin-top: 0em; table-layout: auto; margin-bottom: 2em;\">\n",
              "        <thead>\n",
              "        <tr style=\"border: none;\">\n",
              "            \n",
              "                <th style=\"padding: 0 1em 0 0.5em; text-align: right; border: none;\" title=\"Feature contribution already accounts for the feature value (for linear models, contribution = weight * feature value), and the sum of feature contributions is equal to the score or, for some classifiers, to the probability. Feature values are shown if &quot;show_feature_values&quot; is True.\">\n",
              "                    Contribution<sup>?</sup>\n",
              "                </th>\n",
              "            \n",
              "            <th style=\"padding: 0 0.5em 0 0.5em; text-align: left; border: none;\">Feature</th>\n",
              "            \n",
              "        </tr>\n",
              "        </thead>\n",
              "        <tbody>\n",
              "        \n",
              "            <tr style=\"background-color: hsl(120, 100.00%, 80.00%); border: none;\">\n",
              "    <td style=\"padding: 0 1em 0 0.5em; text-align: right; border: none;\">\n",
              "        +1.088\n",
              "    </td>\n",
              "    <td style=\"padding: 0 0.5em 0 0.5em; text-align: left; border: none;\">\n",
              "        Highlighted in text (sum)\n",
              "    </td>\n",
              "    \n",
              "</tr>\n",
              "        \n",
              "        \n",
              "\n",
              "        \n",
              "        \n",
              "            <tr style=\"background-color: hsl(0, 100.00%, 95.03%); border: none;\">\n",
              "    <td style=\"padding: 0 1em 0 0.5em; text-align: right; border: none;\">\n",
              "        -0.149\n",
              "    </td>\n",
              "    <td style=\"padding: 0 0.5em 0 0.5em; text-align: left; border: none;\">\n",
              "        &lt;BIAS&gt;\n",
              "    </td>\n",
              "    \n",
              "</tr>\n",
              "        \n",
              "\n",
              "        </tbody>\n",
              "    </table>\n",
              "\n",
              "    \n",
              "\n",
              "\n",
              "\n",
              "    <p style=\"margin-bottom: 2.5em; margin-top:-0.5em;\">\n",
              "        <span style=\"background-color: hsl(0, 100.00%, 75.69%); opacity: 0.90\" title=\"-0.213\">these</span><span style=\"opacity: 0.80\"> </span><span style=\"background-color: hsl(120, 100.00%, 88.17%); opacity: 0.84\" title=\"0.076\">analyses</span><span style=\"opacity: 0.80\"> </span><span style=\"background-color: hsl(0, 100.00%, 77.00%); opacity: 0.89\" title=\"-0.196\">shall</span><span style=\"opacity: 0.80\"> </span><span style=\"background-color: hsl(120, 100.00%, 92.14%); opacity: 0.82\" title=\"0.042\">also</span><span style=\"opacity: 0.80\"> </span><span style=\"background-color: hsl(120, 100.00%, 97.34%); opacity: 0.80\" title=\"0.009\">consider</span><span style=\"opacity: 0.80\"> </span><span style=\"background-color: hsl(120, 100.00%, 69.64%); opacity: 0.93\" title=\"0.292\">effects</span><span style=\"opacity: 0.80\"> </span><span style=\"background-color: hsl(120, 100.00%, 89.07%); opacity: 0.83\" title=\"0.068\">of</span><span style=\"opacity: 0.80\"> </span><span style=\"background-color: hsl(0, 100.00%, 75.85%); opacity: 0.90\" title=\"-0.211\">sustained</span><span style=\"opacity: 0.80\"> </span><span style=\"background-color: hsl(120, 100.00%, 97.46%); opacity: 0.80\" title=\"0.008\">and</span><span style=\"opacity: 0.80\"> </span><span style=\"background-color: hsl(120, 100.00%, 80.80%); opacity: 0.87\" title=\"0.152\">continuous</span><span style=\"opacity: 0.80\"> </span><span style=\"background-color: hsl(120, 100.00%, 76.88%); opacity: 0.89\" title=\"0.198\">operations</span><span style=\"opacity: 0.80\"> </span><span style=\"background-color: hsl(120, 100.00%, 88.11%); opacity: 0.84\" title=\"0.077\">on</span><span style=\"opacity: 0.80\"> </span><span style=\"background-color: hsl(120, 100.00%, 73.32%); opacity: 0.91\" title=\"0.243\">human</span><span style=\"opacity: 0.80\"> </span><span style=\"background-color: hsl(120, 100.00%, 60.00%); opacity: 1.00\" title=\"0.433\">performance</span><span style=\"opacity: 0.80\">.</span>\n",
              "    </p>\n",
              "\n",
              "\n",
              "    \n",
              "\n",
              "    \n",
              "\n",
              "    \n",
              "\n",
              "    \n",
              "\n",
              "\n",
              "    \n",
              "\n",
              "    \n",
              "\n",
              "    \n",
              "\n",
              "    \n",
              "\n",
              "    \n",
              "\n",
              "    \n",
              "\n",
              "\n",
              "    \n",
              "\n",
              "    \n",
              "\n",
              "    \n",
              "\n",
              "    \n",
              "\n",
              "    \n",
              "\n",
              "    \n",
              "\n",
              "\n",
              "\n"
            ],
            "text/plain": [
              "<IPython.core.display.HTML object>"
            ]
          },
          "metadata": {
            "tags": []
          }
        },
        {
          "output_type": "display_data",
          "data": {
            "text/html": [
              ""
            ],
            "text/plain": [
              "<IPython.core.display.HTML object>"
            ]
          },
          "metadata": {
            "tags": []
          }
        },
        {
          "output_type": "display_data",
          "data": {
            "text/html": [
              ""
            ],
            "text/plain": [
              "<IPython.core.display.HTML object>"
            ]
          },
          "metadata": {
            "tags": []
          }
        },
        {
          "output_type": "display_data",
          "data": {
            "text/html": [
              "\n",
              "    <style>\n",
              "    table.eli5-weights tr:hover {\n",
              "        filter: brightness(85%);\n",
              "    }\n",
              "</style>\n",
              "\n",
              "\n",
              "\n",
              "    \n",
              "\n",
              "    \n",
              "\n",
              "    \n",
              "\n",
              "    \n",
              "\n",
              "    \n",
              "\n",
              "    \n",
              "\n",
              "\n",
              "    \n",
              "\n",
              "    \n",
              "\n",
              "    \n",
              "\n",
              "    \n",
              "        \n",
              "\n",
              "    \n",
              "\n",
              "        \n",
              "\n",
              "        \n",
              "    \n",
              "        \n",
              "        \n",
              "    \n",
              "        <p style=\"margin-bottom: 0.5em; margin-top: 0em\">\n",
              "            <b>\n",
              "    \n",
              "        y=vague\n",
              "    \n",
              "</b>\n",
              "\n",
              "    \n",
              "    (probability <b>0.815</b>, score <b>1.482</b>)\n",
              "\n",
              "top features\n",
              "        </p>\n",
              "    \n",
              "    <table class=\"eli5-weights\"\n",
              "           style=\"border-collapse: collapse; border: none; margin-top: 0em; table-layout: auto; margin-bottom: 2em;\">\n",
              "        <thead>\n",
              "        <tr style=\"border: none;\">\n",
              "            \n",
              "                <th style=\"padding: 0 1em 0 0.5em; text-align: right; border: none;\" title=\"Feature contribution already accounts for the feature value (for linear models, contribution = weight * feature value), and the sum of feature contributions is equal to the score or, for some classifiers, to the probability. Feature values are shown if &quot;show_feature_values&quot; is True.\">\n",
              "                    Contribution<sup>?</sup>\n",
              "                </th>\n",
              "            \n",
              "            <th style=\"padding: 0 0.5em 0 0.5em; text-align: left; border: none;\">Feature</th>\n",
              "            \n",
              "        </tr>\n",
              "        </thead>\n",
              "        <tbody>\n",
              "        \n",
              "            <tr style=\"background-color: hsl(120, 100.00%, 80.00%); border: none;\">\n",
              "    <td style=\"padding: 0 1em 0 0.5em; text-align: right; border: none;\">\n",
              "        +1.787\n",
              "    </td>\n",
              "    <td style=\"padding: 0 0.5em 0 0.5em; text-align: left; border: none;\">\n",
              "        Highlighted in text (sum)\n",
              "    </td>\n",
              "    \n",
              "</tr>\n",
              "        \n",
              "        \n",
              "\n",
              "        \n",
              "        \n",
              "            <tr style=\"background-color: hsl(0, 100.00%, 94.20%); border: none;\">\n",
              "    <td style=\"padding: 0 1em 0 0.5em; text-align: right; border: none;\">\n",
              "        -0.305\n",
              "    </td>\n",
              "    <td style=\"padding: 0 0.5em 0 0.5em; text-align: left; border: none;\">\n",
              "        &lt;BIAS&gt;\n",
              "    </td>\n",
              "    \n",
              "</tr>\n",
              "        \n",
              "\n",
              "        </tbody>\n",
              "    </table>\n",
              "\n",
              "    \n",
              "\n",
              "\n",
              "\n",
              "    <p style=\"margin-bottom: 2.5em; margin-top:-0.5em;\">\n",
              "        <span style=\"background-color: hsl(120, 100.00%, 89.77%); opacity: 0.83\" title=\"0.046\">the</span><span style=\"opacity: 0.80\"> </span><span style=\"background-color: hsl(120, 100.00%, 95.91%); opacity: 0.81\" title=\"0.013\">complete</span><span style=\"opacity: 0.80\"> </span><span style=\"background-color: hsl(120, 100.00%, 78.13%); opacity: 0.88\" title=\"0.137\">test</span><span style=\"opacity: 0.80\"> </span><span style=\"background-color: hsl(120, 100.00%, 67.45%); opacity: 0.95\" title=\"0.242\">program</span><span style=\"opacity: 0.80\"> </span><span style=\"background-color: hsl(120, 100.00%, 70.93%); opacity: 0.93\" title=\"0.206\">for</span><span style=\"opacity: 0.80\"> </span><span style=\"background-color: hsl(120, 100.00%, 71.81%); opacity: 0.92\" title=\"0.197\">launch</span><span style=\"opacity: 0.80\"> </span><span style=\"background-color: hsl(0, 100.00%, 94.76%); opacity: 0.81\" title=\"-0.018\">vehicles</span><span style=\"opacity: 0.80\">, </span><span style=\"background-color: hsl(120, 100.00%, 80.31%); opacity: 0.87\" title=\"0.118\">upper</span><span style=\"opacity: 0.80\">-</span><span style=\"background-color: hsl(120, 100.00%, 90.83%); opacity: 0.82\" title=\"0.040\">stage</span><span style=\"opacity: 0.80\"> </span><span style=\"background-color: hsl(120, 100.00%, 83.40%); opacity: 0.86\" title=\"0.092\">vehicles</span><span style=\"opacity: 0.80\">, </span><span style=\"background-color: hsl(0, 100.00%, 91.44%); opacity: 0.82\" title=\"-0.036\">and</span><span style=\"opacity: 0.80\"> </span><span style=\"background-color: hsl(120, 100.00%, 73.82%); opacity: 0.91\" title=\"0.177\">space</span><span style=\"opacity: 0.80\"> </span><span style=\"background-color: hsl(120, 100.00%, 78.94%); opacity: 0.88\" title=\"0.130\">vehicles</span><span style=\"opacity: 0.80\"> </span><span style=\"background-color: hsl(0, 100.00%, 60.00%); opacity: 1.00\" title=\"-0.325\">encompasses</span><span style=\"opacity: 0.80\"> </span><span style=\"background-color: hsl(120, 100.00%, 96.45%); opacity: 0.81\" title=\"0.010\">development</span><span style=\"opacity: 0.80\">, </span><span style=\"background-color: hsl(120, 100.00%, 74.77%); opacity: 0.90\" title=\"0.168\">qualification</span><span style=\"opacity: 0.80\">, </span><span style=\"background-color: hsl(120, 100.00%, 85.32%); opacity: 0.85\" title=\"0.078\">acceptance</span><span style=\"opacity: 0.80\">, </span><span style=\"background-color: hsl(120, 100.00%, 77.59%); opacity: 0.89\" title=\"0.142\">system</span><span style=\"opacity: 0.80\">, pre-</span><span style=\"background-color: hsl(120, 100.00%, 93.90%); opacity: 0.81\" title=\"0.022\">launch</span><span style=\"opacity: 0.80\"> </span><span style=\"background-color: hsl(120, 100.00%, 79.38%); opacity: 0.88\" title=\"0.126\">validation</span><span style=\"opacity: 0.80\">, </span><span style=\"background-color: hsl(0, 100.00%, 97.58%); opacity: 0.80\" title=\"-0.006\">and</span><span style=\"opacity: 0.80\"> </span><span style=\"background-color: hsl(120, 100.00%, 83.90%); opacity: 0.85\" title=\"0.088\">post</span><span style=\"opacity: 0.80\">-</span><span style=\"background-color: hsl(120, 100.00%, 84.12%); opacity: 0.85\" title=\"0.087\">launch</span><span style=\"opacity: 0.80\"> </span><span style=\"background-color: hsl(0, 100.00%, 91.17%); opacity: 0.82\" title=\"-0.038\">validation</span><span style=\"opacity: 0.80\"> </span><span style=\"background-color: hsl(120, 100.00%, 95.27%); opacity: 0.81\" title=\"0.015\">tests</span><span style=\"opacity: 0.80\">.</span>\n",
              "    </p>\n",
              "\n",
              "\n",
              "    \n",
              "\n",
              "    \n",
              "\n",
              "    \n",
              "\n",
              "    \n",
              "\n",
              "\n",
              "    \n",
              "\n",
              "    \n",
              "\n",
              "    \n",
              "\n",
              "    \n",
              "\n",
              "    \n",
              "\n",
              "    \n",
              "\n",
              "\n",
              "    \n",
              "\n",
              "    \n",
              "\n",
              "    \n",
              "\n",
              "    \n",
              "\n",
              "    \n",
              "\n",
              "    \n",
              "\n",
              "\n",
              "\n"
            ],
            "text/plain": [
              "<IPython.core.display.HTML object>"
            ]
          },
          "metadata": {
            "tags": []
          }
        },
        {
          "output_type": "display_data",
          "data": {
            "text/html": [
              ""
            ],
            "text/plain": [
              "<IPython.core.display.HTML object>"
            ]
          },
          "metadata": {
            "tags": []
          }
        },
        {
          "output_type": "display_data",
          "data": {
            "text/html": [
              ""
            ],
            "text/plain": [
              "<IPython.core.display.HTML object>"
            ]
          },
          "metadata": {
            "tags": []
          }
        },
        {
          "output_type": "display_data",
          "data": {
            "text/html": [
              "\n",
              "    <style>\n",
              "    table.eli5-weights tr:hover {\n",
              "        filter: brightness(85%);\n",
              "    }\n",
              "</style>\n",
              "\n",
              "\n",
              "\n",
              "    \n",
              "\n",
              "    \n",
              "\n",
              "    \n",
              "\n",
              "    \n",
              "\n",
              "    \n",
              "\n",
              "    \n",
              "\n",
              "\n",
              "    \n",
              "\n",
              "    \n",
              "\n",
              "    \n",
              "\n",
              "    \n",
              "        \n",
              "\n",
              "    \n",
              "\n",
              "        \n",
              "\n",
              "        \n",
              "    \n",
              "        \n",
              "        \n",
              "    \n",
              "        <p style=\"margin-bottom: 0.5em; margin-top: 0em\">\n",
              "            <b>\n",
              "    \n",
              "        y=not-vague\n",
              "    \n",
              "</b>\n",
              "\n",
              "    \n",
              "    (probability <b>0.424</b>, score <b>0.307</b>)\n",
              "\n",
              "top features\n",
              "        </p>\n",
              "    \n",
              "    <table class=\"eli5-weights\"\n",
              "           style=\"border-collapse: collapse; border: none; margin-top: 0em; table-layout: auto; margin-bottom: 2em;\">\n",
              "        <thead>\n",
              "        <tr style=\"border: none;\">\n",
              "            \n",
              "                <th style=\"padding: 0 1em 0 0.5em; text-align: right; border: none;\" title=\"Feature contribution already accounts for the feature value (for linear models, contribution = weight * feature value), and the sum of feature contributions is equal to the score or, for some classifiers, to the probability. Feature values are shown if &quot;show_feature_values&quot; is True.\">\n",
              "                    Contribution<sup>?</sup>\n",
              "                </th>\n",
              "            \n",
              "            <th style=\"padding: 0 0.5em 0 0.5em; text-align: left; border: none;\">Feature</th>\n",
              "            \n",
              "        </tr>\n",
              "        </thead>\n",
              "        <tbody>\n",
              "        \n",
              "            <tr style=\"background-color: hsl(120, 100.00%, 87.88%); border: none;\">\n",
              "    <td style=\"padding: 0 1em 0 0.5em; text-align: right; border: none;\">\n",
              "        +0.294\n",
              "    </td>\n",
              "    <td style=\"padding: 0 0.5em 0 0.5em; text-align: left; border: none;\">\n",
              "        &lt;BIAS&gt;\n",
              "    </td>\n",
              "    \n",
              "</tr>\n",
              "        \n",
              "        \n",
              "\n",
              "        \n",
              "        \n",
              "            <tr style=\"background-color: hsl(0, 100.00%, 80.00%); border: none;\">\n",
              "    <td style=\"padding: 0 1em 0 0.5em; text-align: right; border: none;\">\n",
              "        -0.601\n",
              "    </td>\n",
              "    <td style=\"padding: 0 0.5em 0 0.5em; text-align: left; border: none;\">\n",
              "        Highlighted in text (sum)\n",
              "    </td>\n",
              "    \n",
              "</tr>\n",
              "        \n",
              "\n",
              "        </tbody>\n",
              "    </table>\n",
              "\n",
              "    \n",
              "\n",
              "\n",
              "\n",
              "    <p style=\"margin-bottom: 2.5em; margin-top:-0.5em;\">\n",
              "        <span style=\"background-color: hsl(120, 100.00%, 86.26%); opacity: 0.84\" title=\"0.055\">this</span><span style=\"opacity: 0.80\"> </span><span style=\"background-color: hsl(120, 100.00%, 90.08%); opacity: 0.83\" title=\"0.035\">eurocontrol</span><span style=\"opacity: 0.80\"> </span><span style=\"background-color: hsl(120, 100.00%, 76.79%); opacity: 0.89\" title=\"0.117\">specification</span><span style=\"opacity: 0.80\"> </span><span style=\"background-color: hsl(120, 100.00%, 86.16%); opacity: 0.84\" title=\"0.056\">on</span><span style=\"opacity: 0.80\"> </span><span style=\"background-color: hsl(0, 100.00%, 83.90%); opacity: 0.85\" title=\"-0.069\">the</span><span style=\"opacity: 0.80\"> </span><span style=\"background-color: hsl(0, 100.00%, 89.60%); opacity: 0.83\" title=\"-0.037\">air</span><span style=\"opacity: 0.80\"> </span><span style=\"background-color: hsl(120, 100.00%, 76.12%); opacity: 0.90\" title=\"0.121\">traffic</span><span style=\"opacity: 0.80\"> </span><span style=\"background-color: hsl(120, 100.00%, 93.53%); opacity: 0.81\" title=\"0.019\">services</span><span style=\"opacity: 0.80\"> message </span><span style=\"background-color: hsl(0, 100.00%, 73.38%); opacity: 0.91\" title=\"-0.142\">handling</span><span style=\"opacity: 0.80\"> </span><span style=\"background-color: hsl(0, 100.00%, 77.84%); opacity: 0.89\" title=\"-0.109\">system</span><span style=\"opacity: 0.80\"> (</span><span style=\"background-color: hsl(0, 100.00%, 91.36%); opacity: 0.82\" title=\"-0.028\">amhs</span><span style=\"opacity: 0.80\">) </span><span style=\"background-color: hsl(0, 100.00%, 95.56%); opacity: 0.81\" title=\"-0.011\">is</span><span style=\"opacity: 0.80\"> </span><span style=\"background-color: hsl(0, 100.00%, 60.00%); opacity: 1.00\" title=\"-0.253\">developed</span><span style=\"opacity: 0.80\"> </span><span style=\"background-color: hsl(0, 100.00%, 71.95%); opacity: 0.92\" title=\"-0.153\">to</span><span style=\"opacity: 0.80\"> </span><span style=\"background-color: hsl(120, 100.00%, 86.11%); opacity: 0.84\" title=\"0.056\">complement</span><span style=\"opacity: 0.80\"> </span><span style=\"background-color: hsl(120, 100.00%, 87.29%); opacity: 0.84\" title=\"0.049\">the</span><span style=\"opacity: 0.80\"> </span><span style=\"background-color: hsl(120, 100.00%, 94.58%); opacity: 0.81\" title=\"0.015\">single</span><span style=\"opacity: 0.80\"> </span><span style=\"background-color: hsl(0, 100.00%, 92.90%); opacity: 0.82\" title=\"-0.021\">european</span><span style=\"opacity: 0.80\"> </span><span style=\"background-color: hsl(0, 100.00%, 84.80%); opacity: 0.85\" title=\"-0.064\">sky</span><span style=\"opacity: 0.80\"> (</span><span style=\"background-color: hsl(120, 100.00%, 88.70%); opacity: 0.83\" title=\"0.042\">ses</span><span style=\"opacity: 0.80\">) </span><span style=\"background-color: hsl(0, 100.00%, 71.95%); opacity: 0.92\" title=\"-0.153\">interoperability</span><span style=\"opacity: 0.80\"> </span><span style=\"background-color: hsl(0, 100.00%, 72.26%); opacity: 0.92\" title=\"-0.150\">regulation</span><span style=\"opacity: 0.80\"> [</span><span style=\"background-color: hsl(120, 100.00%, 91.74%); opacity: 0.82\" title=\"0.027\">1</span><span style=\"opacity: 0.80\">] </span><span style=\"background-color: hsl(0, 100.00%, 83.32%); opacity: 0.86\" title=\"-0.073\">in</span><span style=\"opacity: 0.80\"> </span><span style=\"background-color: hsl(0, 100.00%, 81.09%); opacity: 0.87\" title=\"-0.087\">the</span><span style=\"opacity: 0.80\"> </span><span style=\"background-color: hsl(0, 100.00%, 98.07%); opacity: 0.80\" title=\"-0.003\">area</span><span style=\"opacity: 0.80\"> </span><span style=\"background-color: hsl(0, 100.00%, 87.16%); opacity: 0.84\" title=\"-0.050\">of</span><span style=\"opacity: 0.80\"> </span><span style=\"background-color: hsl(0, 100.00%, 84.02%); opacity: 0.85\" title=\"-0.068\">ground</span><span style=\"opacity: 0.80\">-</span><span style=\"background-color: hsl(0, 100.00%, 60.14%); opacity: 1.00\" title=\"-0.252\">ground</span><span style=\"opacity: 0.80\"> </span><span style=\"background-color: hsl(0, 100.00%, 66.57%); opacity: 0.95\" title=\"-0.196\">ats</span><span style=\"opacity: 0.80\"> </span><span style=\"background-color: hsl(0, 100.00%, 70.58%); opacity: 0.93\" title=\"-0.163\">communications</span><span style=\"opacity: 0.80\">.</span>\n",
              "    </p>\n",
              "\n",
              "\n",
              "    \n",
              "\n",
              "    \n",
              "\n",
              "    \n",
              "\n",
              "    \n",
              "\n",
              "\n",
              "    \n",
              "\n",
              "    \n",
              "\n",
              "    \n",
              "\n",
              "    \n",
              "\n",
              "    \n",
              "\n",
              "    \n",
              "\n",
              "\n",
              "    \n",
              "\n",
              "    \n",
              "\n",
              "    \n",
              "\n",
              "    \n",
              "\n",
              "    \n",
              "\n",
              "    \n",
              "\n",
              "\n",
              "\n"
            ],
            "text/plain": [
              "<IPython.core.display.HTML object>"
            ]
          },
          "metadata": {
            "tags": []
          }
        }
      ]
    },
    {
      "cell_type": "markdown",
      "metadata": {
        "id": "mcph2bSLe5cW",
        "colab_type": "text"
      },
      "source": [
        "The words in the darkest shade of green contribute most to the classification and agree with what you would expect for this example."
      ]
    }
  ]
}