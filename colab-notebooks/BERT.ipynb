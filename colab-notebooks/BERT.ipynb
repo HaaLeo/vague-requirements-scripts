{
  "nbformat": 4,
  "nbformat_minor": 0,
  "metadata": {
    "colab": {
      "name": "vague-requirements-bert.ipynb",
      "provenance": [],
      "collapsed_sections": [],
      "toc_visible": true,
      "include_colab_link": true
    },
    "kernelspec": {
      "name": "python3",
      "display_name": "Python 3"
    },
    "accelerator": "GPU"
  },
  "cells": [
    {
      "cell_type": "markdown",
      "metadata": {
        "id": "view-in-github",
        "colab_type": "text"
      },
      "source": [
        "<a href=\"https://colab.research.google.com/github/HaaLeo/vague-requirements-scripts/blob/master/colab-notebooks/BERT.ipynb\" target=\"_parent\"><img src=\"https://colab.research.google.com/assets/colab-badge.svg\" alt=\"Open In Colab\"/></a>"
      ]
    },
    {
      "cell_type": "markdown",
      "metadata": {
        "id": "DgfHNcOPbOk3",
        "colab_type": "text"
      },
      "source": [
        "# Classify requirements as vague or not using [ktrain](https://github.com/amaiya/ktrain) and tensorflow\n"
      ]
    },
    {
      "cell_type": "markdown",
      "metadata": {
        "id": "6jOLkB2Gyq4e",
        "colab_type": "text"
      },
      "source": [
        "## Install dependencies\n",
        "*ktrain* requires TensorFlow 2.1. See [amaiya/ktrain#151](https://github.com/amaiya/ktrain/issues/151).\n",
        "Further we install a forked version of eli5lib to gain insights in the model's decision process and some self built helper functions to preprocess MTurk result files."
      ]
    },
    {
      "cell_type": "code",
      "metadata": {
        "id": "BDBNS4iNXuUL",
        "colab_type": "code",
        "colab": {
          "base_uri": "https://localhost:8080/",
          "height": 538
        },
        "outputId": "f2c74c33-9f72-4b62-b03f-680c861f75b7"
      },
      "source": [
        "!pip3 install -q tensorflow_gpu==2.1.0 ktrain==0.17.5\n",
        "!pip3 install -q -U git+https://github.com/HaaLeo/vague-requirements-scripts\n",
        "!pip3 install -q git+https://github.com/amaiya/eli5@tfkeras_0_10_1"
      ],
      "execution_count": 1,
      "outputs": [
        {
          "output_type": "stream",
          "text": [
            "\u001b[K     |████████████████████████████████| 421.8MB 31kB/s \n",
            "\u001b[K     |████████████████████████████████| 25.2MB 130kB/s \n",
            "\u001b[K     |████████████████████████████████| 450kB 57.7MB/s \n",
            "\u001b[K     |████████████████████████████████| 3.9MB 59.5MB/s \n",
            "\u001b[K     |████████████████████████████████| 421.8MB 42kB/s \n",
            "\u001b[K     |████████████████████████████████| 6.7MB 55.0MB/s \n",
            "\u001b[K     |████████████████████████████████| 983kB 51.5MB/s \n",
            "\u001b[K     |████████████████████████████████| 245kB 49.3MB/s \n",
            "\u001b[K     |████████████████████████████████| 778kB 51.5MB/s \n",
            "\u001b[K     |████████████████████████████████| 471kB 50.4MB/s \n",
            "\u001b[K     |████████████████████████████████| 1.1MB 45.4MB/s \n",
            "\u001b[K     |████████████████████████████████| 3.0MB 49.8MB/s \n",
            "\u001b[K     |████████████████████████████████| 890kB 47.9MB/s \n",
            "\u001b[?25h  Building wheel for ktrain (setup.py) ... \u001b[?25l\u001b[?25hdone\n",
            "  Building wheel for gast (setup.py) ... \u001b[?25l\u001b[?25hdone\n",
            "  Building wheel for keras-bert (setup.py) ... \u001b[?25l\u001b[?25hdone\n",
            "  Building wheel for langdetect (setup.py) ... \u001b[?25l\u001b[?25hdone\n",
            "  Building wheel for seqeval (setup.py) ... \u001b[?25l\u001b[?25hdone\n",
            "  Building wheel for syntok (setup.py) ... \u001b[?25l\u001b[?25hdone\n",
            "  Building wheel for keras-transformer (setup.py) ... \u001b[?25l\u001b[?25hdone\n",
            "  Building wheel for sacremoses (setup.py) ... \u001b[?25l\u001b[?25hdone\n",
            "  Building wheel for keras-pos-embd (setup.py) ... \u001b[?25l\u001b[?25hdone\n",
            "  Building wheel for keras-multi-head (setup.py) ... \u001b[?25l\u001b[?25hdone\n",
            "  Building wheel for keras-layer-normalization (setup.py) ... \u001b[?25l\u001b[?25hdone\n",
            "  Building wheel for keras-position-wise-feed-forward (setup.py) ... \u001b[?25l\u001b[?25hdone\n",
            "  Building wheel for keras-embed-sim (setup.py) ... \u001b[?25l\u001b[?25hdone\n",
            "  Building wheel for keras-self-attention (setup.py) ... \u001b[?25l\u001b[?25hdone\n",
            "\u001b[31mERROR: tensorflow-probability 0.10.0 has requirement gast>=0.3.2, but you'll have gast 0.2.2 which is incompatible.\u001b[0m\n",
            "  Building wheel for vaguerequirementslib (setup.py) ... \u001b[?25l\u001b[?25hdone\n",
            "  Building wheel for eli5 (setup.py) ... \u001b[?25l\u001b[?25hdone\n"
          ],
          "name": "stdout"
        }
      ]
    },
    {
      "cell_type": "markdown",
      "metadata": {
        "id": "5e1XeYJg3e_8",
        "colab_type": "text"
      },
      "source": [
        "Check versions and enable logging"
      ]
    },
    {
      "cell_type": "code",
      "metadata": {
        "id": "MAA46kq4X0C_",
        "colab_type": "code",
        "colab": {
          "base_uri": "https://localhost:8080/",
          "height": 34
        },
        "outputId": "04929c67-81af-419e-fcf9-75fe0e00a233"
      },
      "source": [
        "import tensorflow as tf\n",
        "import ktrain\n",
        "assert tf.__version__ == '2.1.0'\n",
        "assert ktrain.__version__ == '0.17.5'\n",
        "\n",
        "import logging\n",
        "import sys\n",
        "\n",
        "logging.basicConfig(\n",
        "    format='%(asctime)s [%(name)-20.20s] [%(levelname)-5.5s]  %(message)s',\n",
        "    stream=sys.stdout,\n",
        "    level=logging.INFO)\n",
        "\n",
        "LOGGER = logging.getLogger(__name__)\n",
        "LOGGER.info('Hello from colab notebook')"
      ],
      "execution_count": 24,
      "outputs": [
        {
          "output_type": "stream",
          "text": [
            "2020-07-07 08:15:39,090 [MainThread          ] [DEBUG]  Hello from colab notebook\n"
          ],
          "name": "stdout"
        }
      ]
    },
    {
      "cell_type": "markdown",
      "metadata": {
        "id": "n-2kIx7PwCR5",
        "colab_type": "text"
      },
      "source": [
        "## Set Parameters\n",
        "Set the parameters for this run.\n",
        "Ktrain ignores `max_features` and `ngram_range` in v0.17.5, see [amaiya/ktrain/issues#190](https://github.com/amaiya/ktrain/issues/190)"
      ]
    },
    {
      "cell_type": "code",
      "metadata": {
        "id": "YF_VXFLkwC1s",
        "colab_type": "code",
        "colab": {
          "base_uri": "https://localhost:8080/",
          "height": 34
        },
        "outputId": "c7334772-3501-4e50-d940-8cbb333d3768"
      },
      "source": [
        "DATA_FILE_NAMES = [f'corpus-batch-{i}-mturk.csv' for i in range(5)]\n",
        "\n",
        "RANDOM_STATE = 1 # for seeding\n",
        "\n",
        "UPSAMPLING_STRATEGY = 'resample_with_replacement' # resample_with_replacement or SMOTE\n",
        "TRAIN_VAL_TEST_PROPORTION = [0.8, 0.1, 0.1] # [TestProportion, ValProportion, TestProportion]\n",
        "\n",
        "LEARNING_RATE = 1e-5\n",
        "EPOCHS = 2\n",
        "MODEL_NAME = 'distilbert-base-uncased'\n",
        "MAX_LEN = 512\n",
        "BATCH_SIZE = 6\n",
        "MAX_FEATURES = 35_000\n",
        "NGRAM_RANGE = 1\n",
        "\n",
        "CLASS_NAMES = ['not-vague', 'vague'] # 0=not-vague 1=vague\n",
        "\n",
        "PREPROCESS_MODE = 'distilbert'\n",
        "LOGGER.info('Set parameter successfully')"
      ],
      "execution_count": 83,
      "outputs": [
        {
          "output_type": "stream",
          "text": [
            "2020-07-07 09:42:45,032 [MainThread          ] [INFO ]  Set parameter successfully\n"
          ],
          "name": "stdout"
        }
      ]
    },
    {
      "cell_type": "markdown",
      "metadata": {
        "id": "Cdk5lPu3bxze",
        "colab_type": "text"
      },
      "source": [
        "## Load Dataset"
      ]
    },
    {
      "cell_type": "markdown",
      "metadata": {
        "id": "hl9XSystzRQs",
        "colab_type": "text"
      },
      "source": [
        "### Mount Google Drive\n",
        "Mount the google drive to access the dataset"
      ]
    },
    {
      "cell_type": "code",
      "metadata": {
        "id": "tPQxmvhazWoy",
        "colab_type": "code",
        "colab": {
          "base_uri": "https://localhost:8080/",
          "height": 124
        },
        "outputId": "be190abf-0b43-440d-8163-efc0ec669256"
      },
      "source": [
        "from google.colab import drive\n",
        "drive.mount('/content/drive', force_remount=True)"
      ],
      "execution_count": 4,
      "outputs": [
        {
          "output_type": "stream",
          "text": [
            "Go to this URL in a browser: https://accounts.google.com/o/oauth2/auth?client_id=947318989803-6bn6qk8qdgf4n4g3pfee6491hc0brc4i.apps.googleusercontent.com&redirect_uri=urn%3aietf%3awg%3aoauth%3a2.0%3aoob&response_type=code&scope=email%20https%3a%2f%2fwww.googleapis.com%2fauth%2fdocs.test%20https%3a%2f%2fwww.googleapis.com%2fauth%2fdrive%20https%3a%2f%2fwww.googleapis.com%2fauth%2fdrive.photos.readonly%20https%3a%2f%2fwww.googleapis.com%2fauth%2fpeopleapi.readonly\n",
            "\n",
            "Enter your authorization code:\n",
            "··········\n",
            "Mounted at /content/drive\n"
          ],
          "name": "stdout"
        }
      ]
    },
    {
      "cell_type": "markdown",
      "metadata": {
        "id": "s4XQHRbHzbb_",
        "colab_type": "text"
      },
      "source": [
        "### Load Dataset Into Arrays"
      ]
    },
    {
      "cell_type": "code",
      "metadata": {
        "id": "DL5yXifL0SEh",
        "colab_type": "code",
        "colab": {
          "base_uri": "https://localhost:8080/",
          "height": 208
        },
        "outputId": "27fd2456-3fef-4a22-c39d-f4c20e9c58d4"
      },
      "source": [
        "from vaguerequirementslib import read_csv_files, build_confusion_matrix, calc_majority_label\n",
        "import pandas as pd\n",
        "\n",
        "def read_drive_data(files_list: list, separator: str) -> pd.DataFrame:\n",
        "    \"\"\"\n",
        "    Calculate the majority label for the given source file list\n",
        "\n",
        "    Args:\n",
        "        files_list (list): The CSV files to calculate the majority label for\n",
        "        separator (str): The CSV separator\n",
        "        drop_ties (bool): If there is a tie in votes (e.g.: One votes for vague one for not vague) then drop this entry from the confusion matrix.\n",
        "\n",
        "    Returns:\n",
        "        pd.DataFrame: The dataframe containing the majority label.\n",
        "    \"\"\"\n",
        "    frame = read_csv_files(files_list, separator)\n",
        "    confusion_matrix = build_confusion_matrix(frame, drop_ties=True)\n",
        "    return calc_majority_label(confusion_matrix)\n",
        "\n",
        "# Read all data\n",
        "df = read_drive_data(\n",
        "    [f'/content/drive/My Drive/datasets/corpus/labeled/{file_name}' for file_name in DATA_FILE_NAMES],\n",
        "    ','\n",
        "  )\n",
        "df.head()\n",
        "df_vague_count = int(df[df.majority_label == 1].majority_label.value_counts())\n",
        "df_not_vague_count = int(df[df.majority_label == 0].majority_label.value_counts())\n",
        "LOGGER.info(f'Data frame consists of {df_vague_count} vague data points and {df_not_vague_count} not vague data points.')"
      ],
      "execution_count": 37,
      "outputs": [
        {
          "output_type": "stream",
          "text": [
            "2020-07-07 08:36:13,234 [MainThread          ] [DEBUG]  Read file=\"/content/drive/My Drive/datasets/corpus/labeled/corpus-batch-0-mturk.csv\" with 200 rows.\n",
            "2020-07-07 08:36:13,243 [MainThread          ] [DEBUG]  Read file=\"/content/drive/My Drive/datasets/corpus/labeled/corpus-batch-1-mturk.csv\" with 198 rows.\n",
            "2020-07-07 08:36:13,252 [MainThread          ] [DEBUG]  Read file=\"/content/drive/My Drive/datasets/corpus/labeled/corpus-batch-2-mturk.csv\" with 194 rows.\n",
            "2020-07-07 08:36:13,261 [MainThread          ] [DEBUG]  Read file=\"/content/drive/My Drive/datasets/corpus/labeled/corpus-batch-3-mturk.csv\" with 198 rows.\n",
            "2020-07-07 08:36:13,273 [MainThread          ] [DEBUG]  Read file=\"/content/drive/My Drive/datasets/corpus/labeled/corpus-batch-4-mturk.csv\" with 196 rows.\n",
            "2020-07-07 08:36:13,288 [MainThread          ] [INFO ]  Build confusion matrix.\n",
            "2020-07-07 08:36:13,426 [MainThread          ] [INFO ]  Dropped 223 requirements due to ties.\n",
            "2020-07-07 08:36:13,428 [MainThread          ] [INFO ]  Built confusion matrix including 270 of 493 requirements. \n",
            "2020-07-07 08:36:13,430 [MainThread          ] [INFO ]  Overall \"vague\" votes count = 118. Overall \"not vague\" votes count = 422\n",
            "2020-07-07 08:36:13,447 [MainThread          ] [INFO ]  \"vague\" majority label count = 59. \"not vague\" majority label count = 211.\n",
            "2020-07-07 08:36:13,452 [MainThread          ] [INFO ]  Data frame consists of 59 vague data points and 211 not vague data points.\n"
          ],
          "name": "stdout"
        }
      ]
    },
    {
      "cell_type": "markdown",
      "metadata": {
        "id": "L1jPjv_sv1QE",
        "colab_type": "text"
      },
      "source": [
        "### Split data set\n"
      ]
    },
    {
      "cell_type": "code",
      "metadata": {
        "id": "k4a9O2w4v04v",
        "colab_type": "code",
        "colab": {
          "base_uri": "https://localhost:8080/",
          "height": 923
        },
        "outputId": "fa695dab-7f35-4810-927f-ed8ee681e9ff"
      },
      "source": [
        "from sklearn.model_selection import train_test_split\n",
        "from sklearn.utils import resample\n",
        "from typing import Tuple, List\n",
        "from ktrain import text as txt\n",
        "\n",
        "def upsample(data_frame: pd.DataFrame, strategy: str = None) -> pd.DataFrame:\n",
        "    \"\"\"\n",
        "    Up sample the given dataframe to contain equally much samples of vague and not-vague requirements.\n",
        "\n",
        "    Args:\n",
        "        data_frame (pd.DataFrame): The data frame to upsample.\n",
        "        strategy (str): The upsampling strategy to use either \"resample_with_replacement\", \"SMOTE\" or None.\n",
        "\n",
        "    Returns:\n",
        "        pd.DataFrame: The upsampled data frame.\n",
        "    \"\"\"\n",
        "    if strategy == 'resample_with_replacement':\n",
        "        vague_df = data_frame[data_frame.majority_label == 1]\n",
        "        not_vague_df = data_frame[data_frame.majority_label == 0]\n",
        "\n",
        "        if int(vague_df.majority_label.value_counts()) > int(not_vague_df.majority_label.value_counts()):\n",
        "            df_to_upsample = not_vague_df\n",
        "            majority_df = vague_df\n",
        "        else:\n",
        "            df_to_upsample = vague_df\n",
        "            majority_df = not_vague_df\n",
        "\n",
        "        upsampled_df = resample(\n",
        "            df_to_upsample, \n",
        "            replace=True,     # sample with replacement\n",
        "            n_samples=majority_df.shape[0],    # to match majority class\n",
        "            random_state=RANDOM_STATE) # reproducible results\n",
        "        result = pd.concat([upsampled_df, majority_df])\n",
        "\n",
        "        LOGGER.info(f'Upsampled dataset with strategy\"{strategy}\": vague count=\"{result.sum()[\"majority_label\"]}\", not vague count=\"{result.shape[0] - result.sum()[\"majority_label\"]}\"')\n",
        "    \n",
        "    elif strategy == 'SMOTE':\n",
        "        LOGGER.info(f'Upsampled dataset with strategy\"{strategy}\": vague count=\"{result.sum()[\"majority_label\"]}\", not vague count=\"{result.shape[0] - result.sum()[\"majority_label\"]}\"')\n",
        "\n",
        "    else: \n",
        "        LOGGER.warning('Data frame will not be upsampled, because no strategy was provided.')\n",
        "        result = data_frame\n",
        "    return result\n",
        "\n",
        "\n",
        "def split_dataset(data_frame: pd.DataFrame, train_val_test_proportion: Tuple[float, float, float]) -> Tuple[List[str], List[int], List[str], List[int], List[str], List[int]]:\n",
        "    \"\"\"\n",
        "    Split the dataset into training, validation and test set.\n",
        "\n",
        "    Args:\n",
        "        data_frame (pd.DataFrame): The data frame to generate the data sets from.\n",
        "\n",
        "    Returns:\n",
        "        Tuple[List[str], List[int], List[str], List[int], List[str], List[int]]: x_train, y_train, x_val, y_val, x_test, y_test\n",
        "    \"\"\"\n",
        "    train_proportion, val_proportion, test_proportion = train_val_test_proportion\n",
        "\n",
        "    train_df, val_test_df = train_test_split(data_frame, test_size=(1-train_proportion), random_state=RANDOM_STATE, stratify=data_frame['majority_label'])\n",
        "\n",
        "    val_df, test_df = train_test_split(val_test_df, test_size=test_proportion/(test_proportion+val_proportion), random_state=RANDOM_STATE, stratify=val_test_df['majority_label'])\n",
        "\n",
        "\n",
        "    return train_df, val_df, test_df\n",
        "\n",
        "\n",
        "def preprocess_data(train_df: pd.DataFrame, val_df: pd.DataFrame, test_df: pd.DataFrame) -> Tuple:\n",
        "    def _preprocess(my_df: pd.DataFrame) -> Tuple:\n",
        "        dummy_df = pd.DataFrame.from_dict({'requirement': ['foo', 'bar'], 'majority_label': [0, 1]})\n",
        "        return txt.texts_from_df(my_df, text_column='requirement', label_columns=['majority_label'], val_df=dummy_df,  max_features=MAX_FEATURES, maxlen=MAX_LEN,  ngram_range=NGRAM_RANGE, preprocess_mode=PREPROCESS_MODE, random_state=RANDOM_STATE)\n",
        "    \n",
        "    train_data, _, _ = _preprocess(train_df)\n",
        "    val_data, _, _ = _preprocess(val_df)\n",
        "    test_data, _, test_preproc = _preprocess(test_df)\n",
        "\n",
        "    return train_data, val_data, test_data, test_preproc\n",
        "\n",
        "# Split the data set\n",
        "train_df, val_df, test_df = split_dataset(df, TRAIN_VAL_TEST_PROPORTION)\n",
        "\n",
        "# Calc counts\n",
        "train_df_vague_count = int(train_df[train_df.majority_label == 1].majority_label.value_counts())\n",
        "train_df_not_vague_count = int(train_df[train_df.majority_label == 0].majority_label.value_counts())\n",
        "val_df_vague_count = int(val_df[val_df.majority_label == 1].majority_label.value_counts())\n",
        "val_df_not_vague_count = int(val_df[val_df.majority_label == 0].majority_label.value_counts())\n",
        "test_df_vague_count = int(test_df[test_df.majority_label == 1].majority_label.value_counts())\n",
        "test_df_not_vague_count = int(test_df[test_df.majority_label == 0].majority_label.value_counts())\n",
        "\n",
        "LOGGER.info(f'Training dataset: vague count=\"{train_df_vague_count}\", not vague count=\"{train_df_not_vague_count}\"')\n",
        "LOGGER.info(f'Validation dataset: vague count=\"{val_df_vague_count}\", not vague count=\"{val_df_not_vague_count}\"')\n",
        "LOGGER.info(f'Test dataset: vague count=\"{test_df_vague_count}\", not vague count=\"{test_df_not_vague_count}\"')\n",
        "\n",
        "# Upsample train_df\n",
        "train_df = upsample(train_df, UPSAMPLING_STRATEGY)\n",
        "\n",
        "# Preprocess for Transfer Learning\n",
        "train_data, val_data, test_data, test_preproc = preprocess_data(train_df, val_df, test_df)\n"
      ],
      "execution_count": 44,
      "outputs": [
        {
          "output_type": "stream",
          "text": [
            "2020-07-07 08:58:44,174 [MainThread          ] [INFO ]  Training dataset: vague count=\"47\", not vague count=\"169\"\n",
            "2020-07-07 08:58:44,175 [MainThread          ] [INFO ]  Validation dataset: vague count=\"6\", not vague count=\"21\"\n",
            "2020-07-07 08:58:44,176 [MainThread          ] [INFO ]  Test dataset: vague count=\"6\", not vague count=\"21\"\n",
            "2020-07-07 08:58:44,177 [MainThread          ] [WARNI]  Data frame will not be upsampled, because no strategy was provided.\n",
            "preprocessing train...\n",
            "language: en\n",
            "train sequence lengths:\n",
            "\tmean : 22\n",
            "\t95percentile : 40\n",
            "\t99percentile : 61\n",
            "2020-07-07 08:58:44,300 [MainThread          ] [DEBUG]  Starting new HTTPS connection (1): s3.amazonaws.com:443\n",
            "2020-07-07 08:58:44,717 [MainThread          ] [DEBUG]  https://s3.amazonaws.com:443 \"HEAD /models.huggingface.co/bert/bert-base-uncased-vocab.txt HTTP/1.1\" 200 0\n"
          ],
          "name": "stdout"
        },
        {
          "output_type": "display_data",
          "data": {
            "text/html": [
              ""
            ],
            "text/plain": [
              "<IPython.core.display.HTML object>"
            ]
          },
          "metadata": {
            "tags": []
          }
        },
        {
          "output_type": "stream",
          "text": [
            "Is Multi-Label? False\n",
            "preprocessing test...\n",
            "language: en\n",
            "test sequence lengths:\n",
            "\tmean : 1\n",
            "\t95percentile : 1\n",
            "\t99percentile : 1\n"
          ],
          "name": "stdout"
        },
        {
          "output_type": "stream",
          "text": [
            "/usr/local/lib/python3.6/dist-packages/ktrain/text/preprocessor.py:229: UserWarning: List or array of two texts supplied, so task being treated as text classification. If this is a sentence pair classification task, please cast to tuple.\n",
            "  'If this is a sentence pair classification task, please cast to tuple.')\n"
          ],
          "name": "stderr"
        },
        {
          "output_type": "display_data",
          "data": {
            "text/html": [
              ""
            ],
            "text/plain": [
              "<IPython.core.display.HTML object>"
            ]
          },
          "metadata": {
            "tags": []
          }
        },
        {
          "output_type": "stream",
          "text": [
            "preprocessing train...\n",
            "language: en\n",
            "train sequence lengths:\n",
            "\tmean : 20\n",
            "\t95percentile : 35\n",
            "\t99percentile : 38\n",
            "2020-07-07 08:58:45,006 [MainThread          ] [DEBUG]  Starting new HTTPS connection (1): s3.amazonaws.com:443\n",
            "2020-07-07 08:58:45,487 [MainThread          ] [DEBUG]  https://s3.amazonaws.com:443 \"HEAD /models.huggingface.co/bert/bert-base-uncased-vocab.txt HTTP/1.1\" 200 0\n"
          ],
          "name": "stdout"
        },
        {
          "output_type": "display_data",
          "data": {
            "text/html": [
              ""
            ],
            "text/plain": [
              "<IPython.core.display.HTML object>"
            ]
          },
          "metadata": {
            "tags": []
          }
        },
        {
          "output_type": "stream",
          "text": [
            "Is Multi-Label? False\n",
            "preprocessing test...\n",
            "language: en\n",
            "test sequence lengths:\n",
            "\tmean : 1\n",
            "\t95percentile : 1\n",
            "\t99percentile : 1\n"
          ],
          "name": "stdout"
        },
        {
          "output_type": "display_data",
          "data": {
            "text/html": [
              ""
            ],
            "text/plain": [
              "<IPython.core.display.HTML object>"
            ]
          },
          "metadata": {
            "tags": []
          }
        },
        {
          "output_type": "stream",
          "text": [
            "preprocessing train...\n",
            "language: en\n",
            "train sequence lengths:\n",
            "\tmean : 25\n",
            "\t95percentile : 54\n",
            "\t99percentile : 64\n",
            "2020-07-07 08:58:45,682 [MainThread          ] [DEBUG]  Starting new HTTPS connection (1): s3.amazonaws.com:443\n",
            "2020-07-07 08:58:46,096 [MainThread          ] [DEBUG]  https://s3.amazonaws.com:443 \"HEAD /models.huggingface.co/bert/bert-base-uncased-vocab.txt HTTP/1.1\" 200 0\n"
          ],
          "name": "stdout"
        },
        {
          "output_type": "display_data",
          "data": {
            "text/html": [
              ""
            ],
            "text/plain": [
              "<IPython.core.display.HTML object>"
            ]
          },
          "metadata": {
            "tags": []
          }
        },
        {
          "output_type": "stream",
          "text": [
            "Is Multi-Label? False\n",
            "preprocessing test...\n",
            "language: en\n",
            "test sequence lengths:\n",
            "\tmean : 1\n",
            "\t95percentile : 1\n",
            "\t99percentile : 1\n"
          ],
          "name": "stdout"
        },
        {
          "output_type": "display_data",
          "data": {
            "text/html": [
              ""
            ],
            "text/plain": [
              "<IPython.core.display.HTML object>"
            ]
          },
          "metadata": {
            "tags": []
          }
        }
      ]
    },
    {
      "cell_type": "markdown",
      "metadata": {
        "id": "pe5xxVPrb4IO",
        "colab_type": "text"
      },
      "source": [
        "## STEP 1:  Create a Transformer Model and Train it\n",
        "\n",
        "We will use [DistilBERT](https://arxiv.org/abs/1910.01108)."
      ]
    },
    {
      "cell_type": "code",
      "metadata": {
        "id": "0T2kwCV5Oh_R",
        "colab_type": "code",
        "colab": {
          "base_uri": "https://localhost:8080/",
          "height": 106
        },
        "outputId": "3d951504-d2d1-4b7e-8552-ab68f3fb1ea0"
      },
      "source": [
        "# Create the transformer\n",
        "t = txt.Transformer(MODEL_NAME, maxlen=MAX_LEN, class_names=CLASS_NAMES)\n",
        "t.preprocess_train_called = True # Simulate call to preprocess_train()\n",
        "\n",
        "# Get the model and learner\n",
        "model = t.get_classifier()\n",
        "learner = ktrain.get_learner(model, train_data=train_data, val_data=val_data, batch_size=BATCH_SIZE)\n",
        "\n",
        "# Find a suitable learning rate\n",
        "# learner.lr_find(show_plot=True, start_lr=1e-09, max_epochs=EPOCHS)\n",
        "# print(learner.lr_estimate())"
      ],
      "execution_count": 80,
      "outputs": [
        {
          "output_type": "stream",
          "text": [
            "2020-07-07 09:41:41,514 [MainThread          ] [DEBUG]  Starting new HTTPS connection (1): s3.amazonaws.com:443\n",
            "2020-07-07 09:41:42,010 [MainThread          ] [DEBUG]  https://s3.amazonaws.com:443 \"HEAD /models.huggingface.co/bert/distilbert-base-uncased-config.json HTTP/1.1\" 200 0\n",
            "2020-07-07 09:41:42,014 [MainThread          ] [DEBUG]  Starting new HTTPS connection (1): cdn.huggingface.co:443\n",
            "2020-07-07 09:41:42,076 [MainThread          ] [DEBUG]  https://cdn.huggingface.co:443 \"HEAD /distilbert-base-uncased-tf_model.h5 HTTP/1.1\" 200 0\n"
          ],
          "name": "stdout"
        }
      ]
    },
    {
      "cell_type": "code",
      "metadata": {
        "id": "9GkeZCUozM2U",
        "colab_type": "code",
        "colab": {
          "base_uri": "https://localhost:8080/",
          "height": 486
        },
        "outputId": "9153908b-7fc0-45a1-dba3-75f74db7c514"
      },
      "source": [
        "from datetime import datetime\n",
        "from pytz import timezone\n",
        "\n",
        "# For every triggered fitting run create a new directory where the results will be saved\n",
        "now = datetime.now(timezone('Europe/Berlin'))\n",
        "result_dir = f'/content/drive/My Drive/runs/{now.strftime(\"%Y-%m-%d/%H-%M-%S\")}'\n",
        "\n",
        "# Fit the model\n",
        "learning_history = learner.fit_onecycle(LEARNING_RATE, EPOCHS).history\n",
        "learner.plot('loss')\n",
        "\n",
        "LOGGER.info('Successfully trained model.')"
      ],
      "execution_count": 81,
      "outputs": [
        {
          "output_type": "stream",
          "text": [
            "\n",
            "\n",
            "begin training using onecycle policy with max lr of 1e-05...\n",
            "Train for 36 steps, validate for 1 steps\n",
            "Epoch 1/3\n",
            "36/36 [==============================] - 20s 556ms/step - loss: 0.6304 - accuracy: 0.7731 - val_loss: 0.5850 - val_accuracy: 0.7778\n",
            "Epoch 2/3\n",
            "36/36 [==============================] - 13s 362ms/step - loss: 0.5400 - accuracy: 0.7824 - val_loss: 0.5226 - val_accuracy: 0.7778\n",
            "Epoch 3/3\n",
            "36/36 [==============================] - 13s 365ms/step - loss: 0.5060 - accuracy: 0.7824 - val_loss: 0.5219 - val_accuracy: 0.7778\n"
          ],
          "name": "stdout"
        },
        {
          "output_type": "display_data",
          "data": {
            "image/png": "[encoded data removed]",
            "text/plain": [
              "<Figure size 432x288 with 1 Axes>"
            ]
          },
          "metadata": {
            "tags": [],
            "needs_background": "light"
          }
        },
        {
          "output_type": "stream",
          "text": [
            "2020-07-07 09:42:31,589 [MainThread          ] [INFO ]  Successfully trained model.\n"
          ],
          "name": "stdout"
        }
      ]
    },
    {
      "cell_type": "markdown",
      "metadata": {
        "id": "ho6eSo9IcI3_",
        "colab_type": "text"
      },
      "source": [
        "## STEP 2: Evaluate the model\n",
        "Evaluate the model using the `test_data`."
      ]
    },
    {
      "cell_type": "code",
      "metadata": {
        "id": "UvcxCvLOcOje",
        "colab_type": "code",
        "colab": {
          "base_uri": "https://localhost:8080/",
          "height": 558
        },
        "outputId": "312130d2-46b9-416b-e560-61f6218ac73f"
      },
      "source": [
        "train_result = learner.validate(class_names=t.get_classes(), val_data=train_data, print_report=False)\n",
        "val_result = learner.validate(class_names=t.get_classes(), val_data=val_data, print_report=False)\n",
        "test_result = learner.validate(class_names=t.get_classes(), val_data=test_data)\n",
        "print(test_result)\n",
        "learner.plot('loss')\n",
        "LOGGER.info('Successfully validated test set.')"
      ],
      "execution_count": 71,
      "outputs": [
        {
          "output_type": "stream",
          "text": [
            "              precision    recall  f1-score   support\n",
            "\n",
            "   not-vague       0.78      1.00      0.88        21\n",
            "       vague       0.00      0.00      0.00         6\n",
            "\n",
            "    accuracy                           0.78        27\n",
            "   macro avg       0.39      0.50      0.44        27\n",
            "weighted avg       0.60      0.78      0.68        27\n",
            "\n",
            "[[21  0]\n",
            " [ 6  0]]\n"
          ],
          "name": "stdout"
        },
        {
          "output_type": "stream",
          "text": [
            "/usr/local/lib/python3.6/dist-packages/sklearn/metrics/classification.py:1437: UndefinedMetricWarning: Precision and F-score are ill-defined and being set to 0.0 in labels with no predicted samples.\n",
            "  'precision', 'predicted', average, warn_for)\n"
          ],
          "name": "stderr"
        },
        {
          "output_type": "display_data",
          "data": {
            "image/png": "[encoded data removed]",
            "text/plain": [
              "<Figure size 432x288 with 1 Axes>"
            ]
          },
          "metadata": {
            "tags": [],
            "needs_background": "light"
          }
        },
        {
          "output_type": "stream",
          "text": [
            "2020-07-07 09:32:59,340 [MainThread          ] [INFO ]  Successfully validated test set.\n"
          ],
          "name": "stdout"
        }
      ]
    },
    {
      "cell_type": "markdown",
      "metadata": {
        "id": "4vbRyh4Wyk8Q",
        "colab_type": "text"
      },
      "source": [
        "## STEP 3: Gather Results\n",
        "\n",
        "Gather results, calulate metrics and write them to the drive."
      ]
    },
    {
      "cell_type": "code",
      "metadata": {
        "id": "8dYROS_Tyqs6",
        "colab_type": "code",
        "colab": {
          "base_uri": "https://localhost:8080/",
          "height": 191
        },
        "outputId": "2b824d67-afe3-4021-bade-47acdba37678"
      },
      "source": [
        "import os\n",
        "import json\n",
        "from os import path\n",
        "\n",
        "from vaguerequirementslib import TP, TN, FP, FN, calc_all_metrics\n",
        "\n",
        "def build_result_data(test_result: List) -> dict:\n",
        "    result_data = {\n",
        "        'metrics':{\n",
        "            'train': {\n",
        "                'vague': {\n",
        "                    TP: int(train_result[1][1]),\n",
        "                    FP: int(train_result[0][1]),\n",
        "                    TN: int(train_result[0][0]),\n",
        "                    FN: int(train_result[1][0])\n",
        "                },\n",
        "                'not_vague': {\n",
        "                    TP: int(train_result[0][0]),\n",
        "                    FP: int(train_result[1][0]),\n",
        "                    TN: int(train_result[1][1]),\n",
        "                    FN: int(train_result[0][1])\n",
        "                }\n",
        "            },\n",
        "            'validation': {\n",
        "                'vague': {\n",
        "                    TP: int(val_result[1][1]),\n",
        "                    FP: int(val_result[0][1]),\n",
        "                    TN: int(val_result[0][0]),\n",
        "                    FN: int(val_result[1][0])\n",
        "                },\n",
        "                'not_vague': {\n",
        "                    TP: int(val_result[0][0]),\n",
        "                    FP: int(val_result[1][0]),\n",
        "                    TN: int(val_result[1][1]),\n",
        "                    FN: int(val_result[0][1])\n",
        "                }\n",
        "            },\n",
        "            'test': {\n",
        "                'vague': {\n",
        "                    TP: int(test_result[1][1]),\n",
        "                    FP: int(test_result[0][1]),\n",
        "                    TN: int(test_result[0][0]),\n",
        "                    FN: int(test_result[1][0])\n",
        "                },\n",
        "                'not_vague': {\n",
        "                    TP: int(test_result[0][0]),\n",
        "                    FP: int(test_result[1][0]),\n",
        "                    TN: int(test_result[1][1]),\n",
        "                    FN: int(test_result[0][1])\n",
        "                }\n",
        "            }\n",
        "        },\n",
        "        'misc': {   \n",
        "            'random_state': RANDOM_STATE,\n",
        "            'learning_history': learning_history\n",
        "        },\n",
        "        'data_set':{\n",
        "            'summary': {\n",
        "                'data_files': DATA_FILE_NAMES,\n",
        "                'vague_data_points': df_vague_count,\n",
        "                'not_vague_data_points': df_not_vague_count,\n",
        "            },\n",
        "            'train': {\n",
        "                'upsampling_strategy': UPSAMPLING_STRATEGY,\n",
        "                'proportion': TRAIN_VAL_TEST_PROPORTION[0],\n",
        "                'vague_data_points': train_df_vague_count,\n",
        "                'not_vague_data_points': train_df_not_vague_count\n",
        "            },\n",
        "            'validation': {\n",
        "                'proportion': TRAIN_VAL_TEST_PROPORTION[1],\n",
        "                'vague_data_points': val_df_vague_count,\n",
        "                'not_vague_data_points': val_df_not_vague_count\n",
        "            },\n",
        "            'test': {\n",
        "                'proportion': TRAIN_VAL_TEST_PROPORTION[2],\n",
        "                'vague_data_points': test_df_vague_count,\n",
        "                'not_vague_data_points': test_df_not_vague_count\n",
        "            }\n",
        "        },\n",
        "        'hyperparameter': {\n",
        "            'learning_rate': LEARNING_RATE,\n",
        "            'epochs': EPOCHS,\n",
        "            'model_name': MODEL_NAME,\n",
        "            'max_len': MAX_LEN,\n",
        "            'batch_size': BATCH_SIZE,\n",
        "            'max_features': MAX_FEATURES,\n",
        "            'ngram_range': NGRAM_RANGE,\n",
        "        }\n",
        "    }\n",
        "\n",
        "    for key in result_data['metrics']:\n",
        "        result_data['metrics'][key]['not_vague'].update(calc_all_metrics(**result_data['metrics'][key]['not_vague']))\n",
        "        result_data['metrics'][key]['vague'].update(calc_all_metrics(**result_data['metrics'][key]['vague']))\n",
        "    \n",
        "    return result_data\n",
        "\n",
        "result_data = build_result_data(test_result)\n",
        "# Get the predictor\n",
        "predictor = ktrain.get_predictor(learner.model, preproc=t)\n",
        "LOGGER.info('Successfully built result data.')"
      ],
      "execution_count": 84,
      "outputs": [
        {
          "output_type": "stream",
          "text": [
            "2020-07-07 09:43:07,982 [MainThread          ] [WARNI]  Denominator = 0. Skip metric calculation and set it to value=\"0\".\n",
            "2020-07-07 09:43:07,982 [MainThread          ] [WARNI]  Denominator = 0. Skip metric calculation and set it to value=\"0\".\n",
            "2020-07-07 09:43:07,983 [MainThread          ] [WARNI]  Denominator = 0. Skip metric calculation and set it to value=\"0\".\n",
            "2020-07-07 09:43:07,983 [MainThread          ] [WARNI]  Denominator = 0. Skip metric calculation and set it to value=\"0\".\n",
            "2020-07-07 09:43:07,984 [MainThread          ] [WARNI]  Denominator = 0. Skip metric calculation and set it to value=\"0\".\n",
            "2020-07-07 09:43:07,985 [MainThread          ] [WARNI]  Denominator = 0. Skip metric calculation and set it to value=\"0\".\n",
            "2020-07-07 09:43:07,986 [MainThread          ] [WARNI]  Denominator = 0. Skip metric calculation and set it to value=\"0\".\n",
            "2020-07-07 09:43:07,986 [MainThread          ] [WARNI]  Denominator = 0. Skip metric calculation and set it to value=\"0\".\n",
            "2020-07-07 09:43:07,987 [MainThread          ] [WARNI]  Denominator = 0. Skip metric calculation and set it to value=\"0\".\n",
            "2020-07-07 09:43:07,987 [MainThread          ] [INFO ]  Successfully built result data.\n"
          ],
          "name": "stdout"
        }
      ]
    },
    {
      "cell_type": "markdown",
      "metadata": {
        "id": "LdbYfab8cEVu",
        "colab_type": "text"
      },
      "source": [
        "## STEP 3.1 Save the Results\n",
        "Check out the [FAQ](https://github.com/amaiya/ktrain/blob/master/FAQ.md#method-1-using-predictor-api-works-for-any-model) for how to load a model from a predictor."
      ]
    },
    {
      "cell_type": "code",
      "metadata": {
        "id": "tF3XGeIecKer",
        "colab_type": "code",
        "colab": {
          "base_uri": "https://localhost:8080/",
          "height": 34
        },
        "outputId": "50f222ee-085a-43cc-ec30-1cea85dc3437"
      },
      "source": [
        "import os\n",
        "\n",
        "# Save the corresponding model (predictor)\n",
        "predictor.save(path.join(result_dir, 'predictor'))\n",
        "\n",
        "# Save the evaluation result (test_data results)\n",
        "os.makedirs(result_dir, exist_ok=True)\n",
        "with open(path.join(result_dir, 'evaluation.json'), mode='w', encoding='utf-8') as json_file:\n",
        "    json.dump(result_data, json_file, indent=4,)\n",
        "LOGGER.info(f'Successfully saved result data to directory=\"{result_dir}\".')"
      ],
      "execution_count": 52,
      "outputs": [
        {
          "output_type": "stream",
          "text": [
            "2020-07-07 09:14:19,872 [MainThread          ] [INFO ]  Successfully saved result data to directory=\"/content/drive/My Drive/runs/2020-07-07/09-53-12\".\n"
          ],
          "name": "stdout"
        }
      ]
    },
    {
      "cell_type": "markdown",
      "metadata": {
        "id": "eIuTq8eqdXws",
        "colab_type": "text"
      },
      "source": [
        "## STEP 4 Inspect the Model and its Losses"
      ]
    },
    {
      "cell_type": "markdown",
      "metadata": {
        "id": "yhG3fPtPcVKe",
        "colab_type": "text"
      },
      "source": [
        "Let's examine the validation example about which we were the most wrong."
      ]
    },
    {
      "cell_type": "code",
      "metadata": {
        "id": "mCABLebacTWM",
        "colab_type": "code",
        "colab": {
          "base_uri": "https://localhost:8080/",
          "height": 225
        },
        "outputId": "f9627d03-fd6d-4732-a1e6-676d27ff7756"
      },
      "source": [
        "learner.view_top_losses(n=4, preproc=t, val_data=test_data)\n",
        "top_losses = learner.top_losses(n=4, preproc=t, val_data=test_data)"
      ],
      "execution_count": 16,
      "outputs": [
        {
          "output_type": "stream",
          "text": [
            "----------\n",
            "id:16 | loss:1.26 | true:not-vague | pred:vague)\n",
            "\n",
            "----------\n",
            "id:22 | loss:1.2 | true:not-vague | pred:vague)\n",
            "\n",
            "----------\n",
            "id:12 | loss:1.18 | true:not-vague | pred:vague)\n",
            "\n",
            "----------\n",
            "id:8 | loss:0.99 | true:vague | pred:not-vague)\n",
            "\n"
          ],
          "name": "stdout"
        }
      ]
    },
    {
      "cell_type": "code",
      "metadata": {
        "id": "JuMmx8f5dr45",
        "colab_type": "code",
        "colab": {
          "base_uri": "https://localhost:8080/",
          "height": 124
        },
        "outputId": "b2f7df3c-d348-4aec-c75c-0d20d1d048e7"
      },
      "source": [
        "top_loss_req = test_df.iloc[16]['requirement'] # Requirement that produces top loss\n",
        "\n",
        "print(predictor.predict(top_loss_req))\n",
        "\n",
        "# predicted probability scores for each category\n",
        "print(predictor.predict_proba(top_loss_req))\n",
        "print(top_loss_req)"
      ],
      "execution_count": 17,
      "outputs": [
        {
          "output_type": "stream",
          "text": [
            "2020-07-07 07:56:25,775 [MainThread          ] [DEBUG]  Starting new HTTPS connection (1): s3.amazonaws.com:443\n",
            "2020-07-07 07:56:26,194 [MainThread          ] [DEBUG]  https://s3.amazonaws.com:443 \"HEAD /models.huggingface.co/bert/bert-base-uncased-vocab.txt HTTP/1.1\" 200 0\n"
          ],
          "name": "stdout"
        },
        {
          "output_type": "display_data",
          "data": {
            "text/html": [
              ""
            ],
            "text/plain": [
              "<IPython.core.display.HTML object>"
            ]
          },
          "metadata": {
            "tags": []
          }
        },
        {
          "output_type": "stream",
          "text": [
            "vague\n"
          ],
          "name": "stdout"
        },
        {
          "output_type": "display_data",
          "data": {
            "text/html": [
              ""
            ],
            "text/plain": [
              "<IPython.core.display.HTML object>"
            ]
          },
          "metadata": {
            "tags": []
          }
        },
        {
          "output_type": "stream",
          "text": [
            "[0.28304783 0.71695215]\n",
            "The developer shall establish, control, and maintain a software test environment to perform integration and qualification testing of software.\n"
          ],
          "name": "stdout"
        }
      ]
    },
    {
      "cell_type": "markdown",
      "metadata": {
        "id": "9tHos7V6d8RQ",
        "colab_type": "text"
      },
      "source": [
        "Let's invoke the `explain` method to see which words contribute most to the classification."
      ]
    },
    {
      "cell_type": "code",
      "metadata": {
        "id": "3HgZDLYUeVaM",
        "colab_type": "code",
        "colab": {
          "base_uri": "https://localhost:8080/",
          "height": 644
        },
        "outputId": "c350edd0-49cd-4916-f167-41c7512310a9"
      },
      "source": [
        "from IPython.core.display import display\n",
        "\n",
        "for id, _, _, _ in top_losses:\n",
        "    top_loss_req = test_df.iloc[id]['requirement'] # Requirement that produces top loss\n",
        "    display(predictor.explain(top_loss_req, n_samples=1_000))"
      ],
      "execution_count": 18,
      "outputs": [
        {
          "output_type": "display_data",
          "data": {
            "text/html": [
              ""
            ],
            "text/plain": [
              "<IPython.core.display.HTML object>"
            ]
          },
          "metadata": {
            "tags": []
          }
        },
        {
          "output_type": "display_data",
          "data": {
            "text/html": [
              ""
            ],
            "text/plain": [
              "<IPython.core.display.HTML object>"
            ]
          },
          "metadata": {
            "tags": []
          }
        },
        {
          "output_type": "display_data",
          "data": {
            "text/html": [
              "\n",
              "    <style>\n",
              "    table.eli5-weights tr:hover {\n",
              "        filter: brightness(85%);\n",
              "    }\n",
              "</style>\n",
              "\n",
              "\n",
              "\n",
              "    \n",
              "\n",
              "    \n",
              "\n",
              "    \n",
              "\n",
              "    \n",
              "\n",
              "    \n",
              "\n",
              "    \n",
              "\n",
              "\n",
              "    \n",
              "\n",
              "    \n",
              "\n",
              "    \n",
              "\n",
              "    \n",
              "        \n",
              "\n",
              "    \n",
              "\n",
              "        \n",
              "\n",
              "        \n",
              "    \n",
              "        \n",
              "        \n",
              "    \n",
              "        <p style=\"margin-bottom: 0.5em; margin-top: 0em\">\n",
              "            <b>\n",
              "    \n",
              "        y=vague\n",
              "    \n",
              "</b>\n",
              "\n",
              "    \n",
              "    (probability <b>0.611</b>, score <b>0.451</b>)\n",
              "\n",
              "top features\n",
              "        </p>\n",
              "    \n",
              "    <table class=\"eli5-weights\"\n",
              "           style=\"border-collapse: collapse; border: none; margin-top: 0em; table-layout: auto; margin-bottom: 2em;\">\n",
              "        <thead>\n",
              "        <tr style=\"border: none;\">\n",
              "            \n",
              "                <th style=\"padding: 0 1em 0 0.5em; text-align: right; border: none;\" title=\"Feature contribution already accounts for the feature value (for linear models, contribution = weight * feature value), and the sum of feature contributions is equal to the score or, for some classifiers, to the probability. Feature values are shown if &quot;show_feature_values&quot; is True.\">\n",
              "                    Contribution<sup>?</sup>\n",
              "                </th>\n",
              "            \n",
              "            <th style=\"padding: 0 0.5em 0 0.5em; text-align: left; border: none;\">Feature</th>\n",
              "            \n",
              "        </tr>\n",
              "        </thead>\n",
              "        <tbody>\n",
              "        \n",
              "            <tr style=\"background-color: hsl(120, 100.00%, 80.00%); border: none;\">\n",
              "    <td style=\"padding: 0 1em 0 0.5em; text-align: right; border: none;\">\n",
              "        +0.641\n",
              "    </td>\n",
              "    <td style=\"padding: 0 0.5em 0 0.5em; text-align: left; border: none;\">\n",
              "        Highlighted in text (sum)\n",
              "    </td>\n",
              "    \n",
              "</tr>\n",
              "        \n",
              "        \n",
              "\n",
              "        \n",
              "        \n",
              "            <tr style=\"background-color: hsl(0, 100.00%, 91.47%); border: none;\">\n",
              "    <td style=\"padding: 0 1em 0 0.5em; text-align: right; border: none;\">\n",
              "        -0.190\n",
              "    </td>\n",
              "    <td style=\"padding: 0 0.5em 0 0.5em; text-align: left; border: none;\">\n",
              "        &lt;BIAS&gt;\n",
              "    </td>\n",
              "    \n",
              "</tr>\n",
              "        \n",
              "\n",
              "        </tbody>\n",
              "    </table>\n",
              "\n",
              "    \n",
              "\n",
              "\n",
              "\n",
              "    <p style=\"margin-bottom: 2.5em; margin-top:-0.5em;\">\n",
              "        <span style=\"background-color: hsl(120, 100.00%, 94.28%); opacity: 0.81\" title=\"0.036\">the</span><span style=\"opacity: 0.80\"> </span><span style=\"background-color: hsl(120, 100.00%, 80.17%); opacity: 0.87\" title=\"0.215\">developer</span><span style=\"opacity: 0.80\"> </span><span style=\"background-color: hsl(0, 100.00%, 60.00%); opacity: 1.00\" title=\"-0.585\">shall</span><span style=\"opacity: 0.80\"> </span><span style=\"background-color: hsl(0, 100.00%, 73.58%); opacity: 0.91\" title=\"-0.324\">establish</span><span style=\"opacity: 0.80\">, </span><span style=\"background-color: hsl(120, 100.00%, 88.10%); opacity: 0.84\" title=\"0.104\">control</span><span style=\"opacity: 0.80\">, </span><span style=\"background-color: hsl(120, 100.00%, 95.70%); opacity: 0.81\" title=\"0.024\">and</span><span style=\"opacity: 0.80\"> </span><span style=\"background-color: hsl(120, 100.00%, 89.00%); opacity: 0.83\" title=\"0.093\">maintain</span><span style=\"opacity: 0.80\"> </span><span style=\"background-color: hsl(0, 100.00%, 88.16%); opacity: 0.84\" title=\"-0.103\">a</span><span style=\"opacity: 0.80\"> </span><span style=\"background-color: hsl(0, 100.00%, 85.55%); opacity: 0.85\" title=\"-0.137\">software</span><span style=\"opacity: 0.80\"> </span><span style=\"background-color: hsl(120, 100.00%, 93.63%); opacity: 0.81\" title=\"0.042\">test</span><span style=\"opacity: 0.80\"> </span><span style=\"background-color: hsl(120, 100.00%, 92.80%); opacity: 0.82\" title=\"0.050\">environment</span><span style=\"opacity: 0.80\"> </span><span style=\"background-color: hsl(0, 100.00%, 92.19%); opacity: 0.82\" title=\"-0.057\">to</span><span style=\"opacity: 0.80\"> </span><span style=\"background-color: hsl(120, 100.00%, 84.40%); opacity: 0.85\" title=\"0.152\">perform</span><span style=\"opacity: 0.80\"> </span><span style=\"background-color: hsl(0, 100.00%, 94.63%); opacity: 0.81\" title=\"-0.033\">integration</span><span style=\"opacity: 0.80\"> </span><span style=\"background-color: hsl(0, 100.00%, 93.77%); opacity: 0.81\" title=\"-0.041\">and</span><span style=\"opacity: 0.80\"> </span><span style=\"background-color: hsl(0, 100.00%, 98.46%); opacity: 0.80\" title=\"-0.006\">qualification</span><span style=\"opacity: 0.80\"> </span><span style=\"background-color: hsl(120, 100.00%, 90.64%); opacity: 0.83\" title=\"0.073\">testing</span><span style=\"opacity: 0.80\"> </span><span style=\"background-color: hsl(0, 100.00%, 95.95%); opacity: 0.81\" title=\"-0.022\">of</span><span style=\"opacity: 0.80\"> </span><span style=\"background-color: hsl(120, 100.00%, 76.66%); opacity: 0.89\" title=\"0.271\">software</span><span style=\"opacity: 0.80\">.</span>\n",
              "    </p>\n",
              "\n",
              "\n",
              "    \n",
              "\n",
              "    \n",
              "\n",
              "    \n",
              "\n",
              "    \n",
              "\n",
              "\n",
              "    \n",
              "\n",
              "    \n",
              "\n",
              "    \n",
              "\n",
              "    \n",
              "\n",
              "    \n",
              "\n",
              "    \n",
              "\n",
              "\n",
              "    \n",
              "\n",
              "    \n",
              "\n",
              "    \n",
              "\n",
              "    \n",
              "\n",
              "    \n",
              "\n",
              "    \n",
              "\n",
              "\n",
              "\n"
            ],
            "text/plain": [
              "<IPython.core.display.HTML object>"
            ]
          },
          "metadata": {
            "tags": []
          }
        },
        {
          "output_type": "display_data",
          "data": {
            "text/html": [
              ""
            ],
            "text/plain": [
              "<IPython.core.display.HTML object>"
            ]
          },
          "metadata": {
            "tags": []
          }
        },
        {
          "output_type": "display_data",
          "data": {
            "text/html": [
              ""
            ],
            "text/plain": [
              "<IPython.core.display.HTML object>"
            ]
          },
          "metadata": {
            "tags": []
          }
        },
        {
          "output_type": "display_data",
          "data": {
            "text/html": [
              "\n",
              "    <style>\n",
              "    table.eli5-weights tr:hover {\n",
              "        filter: brightness(85%);\n",
              "    }\n",
              "</style>\n",
              "\n",
              "\n",
              "\n",
              "    \n",
              "\n",
              "    \n",
              "\n",
              "    \n",
              "\n",
              "    \n",
              "\n",
              "    \n",
              "\n",
              "    \n",
              "\n",
              "\n",
              "    \n",
              "\n",
              "    \n",
              "\n",
              "    \n",
              "\n",
              "    \n",
              "        \n",
              "\n",
              "    \n",
              "\n",
              "        \n",
              "\n",
              "        \n",
              "    \n",
              "        \n",
              "        \n",
              "    \n",
              "        <p style=\"margin-bottom: 0.5em; margin-top: 0em\">\n",
              "            <b>\n",
              "    \n",
              "        y=vague\n",
              "    \n",
              "</b>\n",
              "\n",
              "    \n",
              "    (probability <b>0.719</b>, score <b>0.939</b>)\n",
              "\n",
              "top features\n",
              "        </p>\n",
              "    \n",
              "    <table class=\"eli5-weights\"\n",
              "           style=\"border-collapse: collapse; border: none; margin-top: 0em; table-layout: auto; margin-bottom: 2em;\">\n",
              "        <thead>\n",
              "        <tr style=\"border: none;\">\n",
              "            \n",
              "                <th style=\"padding: 0 1em 0 0.5em; text-align: right; border: none;\" title=\"Feature contribution already accounts for the feature value (for linear models, contribution = weight * feature value), and the sum of feature contributions is equal to the score or, for some classifiers, to the probability. Feature values are shown if &quot;show_feature_values&quot; is True.\">\n",
              "                    Contribution<sup>?</sup>\n",
              "                </th>\n",
              "            \n",
              "            <th style=\"padding: 0 0.5em 0 0.5em; text-align: left; border: none;\">Feature</th>\n",
              "            \n",
              "        </tr>\n",
              "        </thead>\n",
              "        <tbody>\n",
              "        \n",
              "            <tr style=\"background-color: hsl(120, 100.00%, 80.00%); border: none;\">\n",
              "    <td style=\"padding: 0 1em 0 0.5em; text-align: right; border: none;\">\n",
              "        +1.088\n",
              "    </td>\n",
              "    <td style=\"padding: 0 0.5em 0 0.5em; text-align: left; border: none;\">\n",
              "        Highlighted in text (sum)\n",
              "    </td>\n",
              "    \n",
              "</tr>\n",
              "        \n",
              "        \n",
              "\n",
              "        \n",
              "        \n",
              "            <tr style=\"background-color: hsl(0, 100.00%, 95.03%); border: none;\">\n",
              "    <td style=\"padding: 0 1em 0 0.5em; text-align: right; border: none;\">\n",
              "        -0.149\n",
              "    </td>\n",
              "    <td style=\"padding: 0 0.5em 0 0.5em; text-align: left; border: none;\">\n",
              "        &lt;BIAS&gt;\n",
              "    </td>\n",
              "    \n",
              "</tr>\n",
              "        \n",
              "\n",
              "        </tbody>\n",
              "    </table>\n",
              "\n",
              "    \n",
              "\n",
              "\n",
              "\n",
              "    <p style=\"margin-bottom: 2.5em; margin-top:-0.5em;\">\n",
              "        <span style=\"background-color: hsl(0, 100.00%, 75.69%); opacity: 0.90\" title=\"-0.213\">these</span><span style=\"opacity: 0.80\"> </span><span style=\"background-color: hsl(120, 100.00%, 88.17%); opacity: 0.84\" title=\"0.076\">analyses</span><span style=\"opacity: 0.80\"> </span><span style=\"background-color: hsl(0, 100.00%, 77.00%); opacity: 0.89\" title=\"-0.196\">shall</span><span style=\"opacity: 0.80\"> </span><span style=\"background-color: hsl(120, 100.00%, 92.14%); opacity: 0.82\" title=\"0.042\">also</span><span style=\"opacity: 0.80\"> </span><span style=\"background-color: hsl(120, 100.00%, 97.34%); opacity: 0.80\" title=\"0.009\">consider</span><span style=\"opacity: 0.80\"> </span><span style=\"background-color: hsl(120, 100.00%, 69.64%); opacity: 0.93\" title=\"0.292\">effects</span><span style=\"opacity: 0.80\"> </span><span style=\"background-color: hsl(120, 100.00%, 89.07%); opacity: 0.83\" title=\"0.068\">of</span><span style=\"opacity: 0.80\"> </span><span style=\"background-color: hsl(0, 100.00%, 75.85%); opacity: 0.90\" title=\"-0.211\">sustained</span><span style=\"opacity: 0.80\"> </span><span style=\"background-color: hsl(120, 100.00%, 97.46%); opacity: 0.80\" title=\"0.008\">and</span><span style=\"opacity: 0.80\"> </span><span style=\"background-color: hsl(120, 100.00%, 80.80%); opacity: 0.87\" title=\"0.152\">continuous</span><span style=\"opacity: 0.80\"> </span><span style=\"background-color: hsl(120, 100.00%, 76.88%); opacity: 0.89\" title=\"0.198\">operations</span><span style=\"opacity: 0.80\"> </span><span style=\"background-color: hsl(120, 100.00%, 88.11%); opacity: 0.84\" title=\"0.077\">on</span><span style=\"opacity: 0.80\"> </span><span style=\"background-color: hsl(120, 100.00%, 73.32%); opacity: 0.91\" title=\"0.243\">human</span><span style=\"opacity: 0.80\"> </span><span style=\"background-color: hsl(120, 100.00%, 60.00%); opacity: 1.00\" title=\"0.433\">performance</span><span style=\"opacity: 0.80\">.</span>\n",
              "    </p>\n",
              "\n",
              "\n",
              "    \n",
              "\n",
              "    \n",
              "\n",
              "    \n",
              "\n",
              "    \n",
              "\n",
              "\n",
              "    \n",
              "\n",
              "    \n",
              "\n",
              "    \n",
              "\n",
              "    \n",
              "\n",
              "    \n",
              "\n",
              "    \n",
              "\n",
              "\n",
              "    \n",
              "\n",
              "    \n",
              "\n",
              "    \n",
              "\n",
              "    \n",
              "\n",
              "    \n",
              "\n",
              "    \n",
              "\n",
              "\n",
              "\n"
            ],
            "text/plain": [
              "<IPython.core.display.HTML object>"
            ]
          },
          "metadata": {
            "tags": []
          }
        },
        {
          "output_type": "display_data",
          "data": {
            "text/html": [
              ""
            ],
            "text/plain": [
              "<IPython.core.display.HTML object>"
            ]
          },
          "metadata": {
            "tags": []
          }
        },
        {
          "output_type": "display_data",
          "data": {
            "text/html": [
              ""
            ],
            "text/plain": [
              "<IPython.core.display.HTML object>"
            ]
          },
          "metadata": {
            "tags": []
          }
        },
        {
          "output_type": "display_data",
          "data": {
            "text/html": [
              "\n",
              "    <style>\n",
              "    table.eli5-weights tr:hover {\n",
              "        filter: brightness(85%);\n",
              "    }\n",
              "</style>\n",
              "\n",
              "\n",
              "\n",
              "    \n",
              "\n",
              "    \n",
              "\n",
              "    \n",
              "\n",
              "    \n",
              "\n",
              "    \n",
              "\n",
              "    \n",
              "\n",
              "\n",
              "    \n",
              "\n",
              "    \n",
              "\n",
              "    \n",
              "\n",
              "    \n",
              "        \n",
              "\n",
              "    \n",
              "\n",
              "        \n",
              "\n",
              "        \n",
              "    \n",
              "        \n",
              "        \n",
              "    \n",
              "        <p style=\"margin-bottom: 0.5em; margin-top: 0em\">\n",
              "            <b>\n",
              "    \n",
              "        y=vague\n",
              "    \n",
              "</b>\n",
              "\n",
              "    \n",
              "    (probability <b>0.815</b>, score <b>1.482</b>)\n",
              "\n",
              "top features\n",
              "        </p>\n",
              "    \n",
              "    <table class=\"eli5-weights\"\n",
              "           style=\"border-collapse: collapse; border: none; margin-top: 0em; table-layout: auto; margin-bottom: 2em;\">\n",
              "        <thead>\n",
              "        <tr style=\"border: none;\">\n",
              "            \n",
              "                <th style=\"padding: 0 1em 0 0.5em; text-align: right; border: none;\" title=\"Feature contribution already accounts for the feature value (for linear models, contribution = weight * feature value), and the sum of feature contributions is equal to the score or, for some classifiers, to the probability. Feature values are shown if &quot;show_feature_values&quot; is True.\">\n",
              "                    Contribution<sup>?</sup>\n",
              "                </th>\n",
              "            \n",
              "            <th style=\"padding: 0 0.5em 0 0.5em; text-align: left; border: none;\">Feature</th>\n",
              "            \n",
              "        </tr>\n",
              "        </thead>\n",
              "        <tbody>\n",
              "        \n",
              "            <tr style=\"background-color: hsl(120, 100.00%, 80.00%); border: none;\">\n",
              "    <td style=\"padding: 0 1em 0 0.5em; text-align: right; border: none;\">\n",
              "        +1.787\n",
              "    </td>\n",
              "    <td style=\"padding: 0 0.5em 0 0.5em; text-align: left; border: none;\">\n",
              "        Highlighted in text (sum)\n",
              "    </td>\n",
              "    \n",
              "</tr>\n",
              "        \n",
              "        \n",
              "\n",
              "        \n",
              "        \n",
              "            <tr style=\"background-color: hsl(0, 100.00%, 94.20%); border: none;\">\n",
              "    <td style=\"padding: 0 1em 0 0.5em; text-align: right; border: none;\">\n",
              "        -0.305\n",
              "    </td>\n",
              "    <td style=\"padding: 0 0.5em 0 0.5em; text-align: left; border: none;\">\n",
              "        &lt;BIAS&gt;\n",
              "    </td>\n",
              "    \n",
              "</tr>\n",
              "        \n",
              "\n",
              "        </tbody>\n",
              "    </table>\n",
              "\n",
              "    \n",
              "\n",
              "\n",
              "\n",
              "    <p style=\"margin-bottom: 2.5em; margin-top:-0.5em;\">\n",
              "        <span style=\"background-color: hsl(120, 100.00%, 89.77%); opacity: 0.83\" title=\"0.046\">the</span><span style=\"opacity: 0.80\"> </span><span style=\"background-color: hsl(120, 100.00%, 95.91%); opacity: 0.81\" title=\"0.013\">complete</span><span style=\"opacity: 0.80\"> </span><span style=\"background-color: hsl(120, 100.00%, 78.13%); opacity: 0.88\" title=\"0.137\">test</span><span style=\"opacity: 0.80\"> </span><span style=\"background-color: hsl(120, 100.00%, 67.45%); opacity: 0.95\" title=\"0.242\">program</span><span style=\"opacity: 0.80\"> </span><span style=\"background-color: hsl(120, 100.00%, 70.93%); opacity: 0.93\" title=\"0.206\">for</span><span style=\"opacity: 0.80\"> </span><span style=\"background-color: hsl(120, 100.00%, 71.81%); opacity: 0.92\" title=\"0.197\">launch</span><span style=\"opacity: 0.80\"> </span><span style=\"background-color: hsl(0, 100.00%, 94.76%); opacity: 0.81\" title=\"-0.018\">vehicles</span><span style=\"opacity: 0.80\">, </span><span style=\"background-color: hsl(120, 100.00%, 80.31%); opacity: 0.87\" title=\"0.118\">upper</span><span style=\"opacity: 0.80\">-</span><span style=\"background-color: hsl(120, 100.00%, 90.83%); opacity: 0.82\" title=\"0.040\">stage</span><span style=\"opacity: 0.80\"> </span><span style=\"background-color: hsl(120, 100.00%, 83.40%); opacity: 0.86\" title=\"0.092\">vehicles</span><span style=\"opacity: 0.80\">, </span><span style=\"background-color: hsl(0, 100.00%, 91.44%); opacity: 0.82\" title=\"-0.036\">and</span><span style=\"opacity: 0.80\"> </span><span style=\"background-color: hsl(120, 100.00%, 73.82%); opacity: 0.91\" title=\"0.177\">space</span><span style=\"opacity: 0.80\"> </span><span style=\"background-color: hsl(120, 100.00%, 78.94%); opacity: 0.88\" title=\"0.130\">vehicles</span><span style=\"opacity: 0.80\"> </span><span style=\"background-color: hsl(0, 100.00%, 60.00%); opacity: 1.00\" title=\"-0.325\">encompasses</span><span style=\"opacity: 0.80\"> </span><span style=\"background-color: hsl(120, 100.00%, 96.45%); opacity: 0.81\" title=\"0.010\">development</span><span style=\"opacity: 0.80\">, </span><span style=\"background-color: hsl(120, 100.00%, 74.77%); opacity: 0.90\" title=\"0.168\">qualification</span><span style=\"opacity: 0.80\">, </span><span style=\"background-color: hsl(120, 100.00%, 85.32%); opacity: 0.85\" title=\"0.078\">acceptance</span><span style=\"opacity: 0.80\">, </span><span style=\"background-color: hsl(120, 100.00%, 77.59%); opacity: 0.89\" title=\"0.142\">system</span><span style=\"opacity: 0.80\">, pre-</span><span style=\"background-color: hsl(120, 100.00%, 93.90%); opacity: 0.81\" title=\"0.022\">launch</span><span style=\"opacity: 0.80\"> </span><span style=\"background-color: hsl(120, 100.00%, 79.38%); opacity: 0.88\" title=\"0.126\">validation</span><span style=\"opacity: 0.80\">, </span><span style=\"background-color: hsl(0, 100.00%, 97.58%); opacity: 0.80\" title=\"-0.006\">and</span><span style=\"opacity: 0.80\"> </span><span style=\"background-color: hsl(120, 100.00%, 83.90%); opacity: 0.85\" title=\"0.088\">post</span><span style=\"opacity: 0.80\">-</span><span style=\"background-color: hsl(120, 100.00%, 84.12%); opacity: 0.85\" title=\"0.087\">launch</span><span style=\"opacity: 0.80\"> </span><span style=\"background-color: hsl(0, 100.00%, 91.17%); opacity: 0.82\" title=\"-0.038\">validation</span><span style=\"opacity: 0.80\"> </span><span style=\"background-color: hsl(120, 100.00%, 95.27%); opacity: 0.81\" title=\"0.015\">tests</span><span style=\"opacity: 0.80\">.</span>\n",
              "    </p>\n",
              "\n",
              "\n",
              "    \n",
              "\n",
              "    \n",
              "\n",
              "    \n",
              "\n",
              "    \n",
              "\n",
              "\n",
              "    \n",
              "\n",
              "    \n",
              "\n",
              "    \n",
              "\n",
              "    \n",
              "\n",
              "    \n",
              "\n",
              "    \n",
              "\n",
              "\n",
              "    \n",
              "\n",
              "    \n",
              "\n",
              "    \n",
              "\n",
              "    \n",
              "\n",
              "    \n",
              "\n",
              "    \n",
              "\n",
              "\n",
              "\n"
            ],
            "text/plain": [
              "<IPython.core.display.HTML object>"
            ]
          },
          "metadata": {
            "tags": []
          }
        },
        {
          "output_type": "display_data",
          "data": {
            "text/html": [
              ""
            ],
            "text/plain": [
              "<IPython.core.display.HTML object>"
            ]
          },
          "metadata": {
            "tags": []
          }
        },
        {
          "output_type": "display_data",
          "data": {
            "text/html": [
              ""
            ],
            "text/plain": [
              "<IPython.core.display.HTML object>"
            ]
          },
          "metadata": {
            "tags": []
          }
        },
        {
          "output_type": "display_data",
          "data": {
            "text/html": [
              "\n",
              "    <style>\n",
              "    table.eli5-weights tr:hover {\n",
              "        filter: brightness(85%);\n",
              "    }\n",
              "</style>\n",
              "\n",
              "\n",
              "\n",
              "    \n",
              "\n",
              "    \n",
              "\n",
              "    \n",
              "\n",
              "    \n",
              "\n",
              "    \n",
              "\n",
              "    \n",
              "\n",
              "\n",
              "    \n",
              "\n",
              "    \n",
              "\n",
              "    \n",
              "\n",
              "    \n",
              "        \n",
              "\n",
              "    \n",
              "\n",
              "        \n",
              "\n",
              "        \n",
              "    \n",
              "        \n",
              "        \n",
              "    \n",
              "        <p style=\"margin-bottom: 0.5em; margin-top: 0em\">\n",
              "            <b>\n",
              "    \n",
              "        y=not-vague\n",
              "    \n",
              "</b>\n",
              "\n",
              "    \n",
              "    (probability <b>0.424</b>, score <b>0.307</b>)\n",
              "\n",
              "top features\n",
              "        </p>\n",
              "    \n",
              "    <table class=\"eli5-weights\"\n",
              "           style=\"border-collapse: collapse; border: none; margin-top: 0em; table-layout: auto; margin-bottom: 2em;\">\n",
              "        <thead>\n",
              "        <tr style=\"border: none;\">\n",
              "            \n",
              "                <th style=\"padding: 0 1em 0 0.5em; text-align: right; border: none;\" title=\"Feature contribution already accounts for the feature value (for linear models, contribution = weight * feature value), and the sum of feature contributions is equal to the score or, for some classifiers, to the probability. Feature values are shown if &quot;show_feature_values&quot; is True.\">\n",
              "                    Contribution<sup>?</sup>\n",
              "                </th>\n",
              "            \n",
              "            <th style=\"padding: 0 0.5em 0 0.5em; text-align: left; border: none;\">Feature</th>\n",
              "            \n",
              "        </tr>\n",
              "        </thead>\n",
              "        <tbody>\n",
              "        \n",
              "            <tr style=\"background-color: hsl(120, 100.00%, 87.88%); border: none;\">\n",
              "    <td style=\"padding: 0 1em 0 0.5em; text-align: right; border: none;\">\n",
              "        +0.294\n",
              "    </td>\n",
              "    <td style=\"padding: 0 0.5em 0 0.5em; text-align: left; border: none;\">\n",
              "        &lt;BIAS&gt;\n",
              "    </td>\n",
              "    \n",
              "</tr>\n",
              "        \n",
              "        \n",
              "\n",
              "        \n",
              "        \n",
              "            <tr style=\"background-color: hsl(0, 100.00%, 80.00%); border: none;\">\n",
              "    <td style=\"padding: 0 1em 0 0.5em; text-align: right; border: none;\">\n",
              "        -0.601\n",
              "    </td>\n",
              "    <td style=\"padding: 0 0.5em 0 0.5em; text-align: left; border: none;\">\n",
              "        Highlighted in text (sum)\n",
              "    </td>\n",
              "    \n",
              "</tr>\n",
              "        \n",
              "\n",
              "        </tbody>\n",
              "    </table>\n",
              "\n",
              "    \n",
              "\n",
              "\n",
              "\n",
              "    <p style=\"margin-bottom: 2.5em; margin-top:-0.5em;\">\n",
              "        <span style=\"background-color: hsl(120, 100.00%, 86.26%); opacity: 0.84\" title=\"0.055\">this</span><span style=\"opacity: 0.80\"> </span><span style=\"background-color: hsl(120, 100.00%, 90.08%); opacity: 0.83\" title=\"0.035\">eurocontrol</span><span style=\"opacity: 0.80\"> </span><span style=\"background-color: hsl(120, 100.00%, 76.79%); opacity: 0.89\" title=\"0.117\">specification</span><span style=\"opacity: 0.80\"> </span><span style=\"background-color: hsl(120, 100.00%, 86.16%); opacity: 0.84\" title=\"0.056\">on</span><span style=\"opacity: 0.80\"> </span><span style=\"background-color: hsl(0, 100.00%, 83.90%); opacity: 0.85\" title=\"-0.069\">the</span><span style=\"opacity: 0.80\"> </span><span style=\"background-color: hsl(0, 100.00%, 89.60%); opacity: 0.83\" title=\"-0.037\">air</span><span style=\"opacity: 0.80\"> </span><span style=\"background-color: hsl(120, 100.00%, 76.12%); opacity: 0.90\" title=\"0.121\">traffic</span><span style=\"opacity: 0.80\"> </span><span style=\"background-color: hsl(120, 100.00%, 93.53%); opacity: 0.81\" title=\"0.019\">services</span><span style=\"opacity: 0.80\"> message </span><span style=\"background-color: hsl(0, 100.00%, 73.38%); opacity: 0.91\" title=\"-0.142\">handling</span><span style=\"opacity: 0.80\"> </span><span style=\"background-color: hsl(0, 100.00%, 77.84%); opacity: 0.89\" title=\"-0.109\">system</span><span style=\"opacity: 0.80\"> (</span><span style=\"background-color: hsl(0, 100.00%, 91.36%); opacity: 0.82\" title=\"-0.028\">amhs</span><span style=\"opacity: 0.80\">) </span><span style=\"background-color: hsl(0, 100.00%, 95.56%); opacity: 0.81\" title=\"-0.011\">is</span><span style=\"opacity: 0.80\"> </span><span style=\"background-color: hsl(0, 100.00%, 60.00%); opacity: 1.00\" title=\"-0.253\">developed</span><span style=\"opacity: 0.80\"> </span><span style=\"background-color: hsl(0, 100.00%, 71.95%); opacity: 0.92\" title=\"-0.153\">to</span><span style=\"opacity: 0.80\"> </span><span style=\"background-color: hsl(120, 100.00%, 86.11%); opacity: 0.84\" title=\"0.056\">complement</span><span style=\"opacity: 0.80\"> </span><span style=\"background-color: hsl(120, 100.00%, 87.29%); opacity: 0.84\" title=\"0.049\">the</span><span style=\"opacity: 0.80\"> </span><span style=\"background-color: hsl(120, 100.00%, 94.58%); opacity: 0.81\" title=\"0.015\">single</span><span style=\"opacity: 0.80\"> </span><span style=\"background-color: hsl(0, 100.00%, 92.90%); opacity: 0.82\" title=\"-0.021\">european</span><span style=\"opacity: 0.80\"> </span><span style=\"background-color: hsl(0, 100.00%, 84.80%); opacity: 0.85\" title=\"-0.064\">sky</span><span style=\"opacity: 0.80\"> (</span><span style=\"background-color: hsl(120, 100.00%, 88.70%); opacity: 0.83\" title=\"0.042\">ses</span><span style=\"opacity: 0.80\">) </span><span style=\"background-color: hsl(0, 100.00%, 71.95%); opacity: 0.92\" title=\"-0.153\">interoperability</span><span style=\"opacity: 0.80\"> </span><span style=\"background-color: hsl(0, 100.00%, 72.26%); opacity: 0.92\" title=\"-0.150\">regulation</span><span style=\"opacity: 0.80\"> [</span><span style=\"background-color: hsl(120, 100.00%, 91.74%); opacity: 0.82\" title=\"0.027\">1</span><span style=\"opacity: 0.80\">] </span><span style=\"background-color: hsl(0, 100.00%, 83.32%); opacity: 0.86\" title=\"-0.073\">in</span><span style=\"opacity: 0.80\"> </span><span style=\"background-color: hsl(0, 100.00%, 81.09%); opacity: 0.87\" title=\"-0.087\">the</span><span style=\"opacity: 0.80\"> </span><span style=\"background-color: hsl(0, 100.00%, 98.07%); opacity: 0.80\" title=\"-0.003\">area</span><span style=\"opacity: 0.80\"> </span><span style=\"background-color: hsl(0, 100.00%, 87.16%); opacity: 0.84\" title=\"-0.050\">of</span><span style=\"opacity: 0.80\"> </span><span style=\"background-color: hsl(0, 100.00%, 84.02%); opacity: 0.85\" title=\"-0.068\">ground</span><span style=\"opacity: 0.80\">-</span><span style=\"background-color: hsl(0, 100.00%, 60.14%); opacity: 1.00\" title=\"-0.252\">ground</span><span style=\"opacity: 0.80\"> </span><span style=\"background-color: hsl(0, 100.00%, 66.57%); opacity: 0.95\" title=\"-0.196\">ats</span><span style=\"opacity: 0.80\"> </span><span style=\"background-color: hsl(0, 100.00%, 70.58%); opacity: 0.93\" title=\"-0.163\">communications</span><span style=\"opacity: 0.80\">.</span>\n",
              "    </p>\n",
              "\n",
              "\n",
              "    \n",
              "\n",
              "    \n",
              "\n",
              "    \n",
              "\n",
              "    \n",
              "\n",
              "\n",
              "    \n",
              "\n",
              "    \n",
              "\n",
              "    \n",
              "\n",
              "    \n",
              "\n",
              "    \n",
              "\n",
              "    \n",
              "\n",
              "\n",
              "    \n",
              "\n",
              "    \n",
              "\n",
              "    \n",
              "\n",
              "    \n",
              "\n",
              "    \n",
              "\n",
              "    \n",
              "\n",
              "\n",
              "\n"
            ],
            "text/plain": [
              "<IPython.core.display.HTML object>"
            ]
          },
          "metadata": {
            "tags": []
          }
        }
      ]
    },
    {
      "cell_type": "markdown",
      "metadata": {
        "id": "mcph2bSLe5cW",
        "colab_type": "text"
      },
      "source": [
        "The words in the darkest shade of green contribute most to the classification and agree with what you would expect for this example."
      ]
    }
  ]
}