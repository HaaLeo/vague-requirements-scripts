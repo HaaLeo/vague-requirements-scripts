{
  "nbformat": 4,
  "nbformat_minor": 0,
  "metadata": {
    "colab": {
      "name": "vague-requirements-bert.ipynb",
      "provenance": [],
      "collapsed_sections": [],
      "toc_visible": true
    },
    "kernelspec": {
      "name": "python3",
      "display_name": "Python 3"
    },
    "accelerator": "GPU"
  },
  "cells": [
    {
      "cell_type": "markdown",
      "metadata": {
        "id": "DgfHNcOPbOk3",
        "colab_type": "text"
      },
      "source": [
        "# Classify requirements as vague or not using [ktrain](https://github.com/amaiya/ktrain) and tensorflow\n"
      ]
    },
    {
      "cell_type": "markdown",
      "metadata": {
        "id": "6jOLkB2Gyq4e",
        "colab_type": "text"
      },
      "source": [
        "## Install dependencies\n",
        "*ktrain* requires TensorFlow 2.1. See [amaiya/ktrain#151](https://github.com/amaiya/ktrain/issues/151).\n",
        "Further we install a forked version of eli5lib to gain insights in the model's decision process and some self built helper functions to preprocess MTurk result files."
      ]
    },
    {
      "cell_type": "code",
      "metadata": {
        "id": "BDBNS4iNXuUL",
        "colab_type": "code",
        "colab": {
          "base_uri": "https://localhost:8080/",
          "height": 86
        },
        "outputId": "3b991a8f-e6a7-48b1-d894-22aee95a0a3d"
      },
      "source": [
        "%load_ext google.colab.data_table\n",
        "!pip3 install -q tensorflow_gpu==2.1.0 ktrain==0.17.5 imbalanced-learn==0.5.0\n",
        "!pip3 install -q -U git+https://github.com/HaaLeo/vague-requirements-scripts\n",
        "!pip3 install -q git+https://github.com/amaiya/eli5@tfkeras_0_10_1"
      ],
      "execution_count": 8,
      "outputs": [
        {
          "output_type": "stream",
          "text": [
            "The google.colab.data_table extension is already loaded. To reload it, use:\n",
            "  %reload_ext google.colab.data_table\n",
            "  Building wheel for vaguerequirementslib (setup.py) ... \u001b[?25l\u001b[?25hdone\n",
            "  Building wheel for eli5 (setup.py) ... \u001b[?25l\u001b[?25hdone\n"
          ],
          "name": "stdout"
        }
      ]
    },
    {
      "cell_type": "markdown",
      "metadata": {
        "id": "5e1XeYJg3e_8",
        "colab_type": "text"
      },
      "source": [
        "Check versions and enable logging"
      ]
    },
    {
      "cell_type": "code",
      "metadata": {
        "id": "MAA46kq4X0C_",
        "colab_type": "code",
        "colab": {
          "base_uri": "https://localhost:8080/",
          "height": 34
        },
        "outputId": "753899e2-dc8e-4bab-a14b-03eef82f2abe"
      },
      "source": [
        "import tensorflow as tf\n",
        "import ktrain\n",
        "import imblearn\n",
        "\n",
        "assert tf.__version__ == '2.1.0'\n",
        "assert ktrain.__version__ == '0.17.5'\n",
        "assert imblearn.__version__ == '0.5.0'\n",
        "\n",
        "import logging\n",
        "import sys\n",
        "\n",
        "logging.basicConfig(\n",
        "    format='%(asctime)s [%(name)-20.20s] [%(levelname)-5.5s]  %(message)s',\n",
        "    stream=sys.stdout,\n",
        "    level=logging.INFO)\n",
        "\n",
        "LOGGER = logging.getLogger('colab-notebook')\n",
        "LOGGER.info('Hello from colab notebook')"
      ],
      "execution_count": 9,
      "outputs": [
        {
          "output_type": "stream",
          "text": [
            "2020-07-10 14:49:56,113 [colab-notebook      ] [INFO ]  Hello from colab notebook\n"
          ],
          "name": "stdout"
        }
      ]
    },
    {
      "cell_type": "markdown",
      "metadata": {
        "id": "n-2kIx7PwCR5",
        "colab_type": "text"
      },
      "source": [
        "## Set Parameters\n",
        "Set the parameters for this run.\n",
        "Ktrain ignores `max_features` and `ngram_range` in v0.17.5, see [amaiya/ktrain/issues#190](https://github.com/amaiya/ktrain/issues/190)"
      ]
    },
    {
      "cell_type": "code",
      "metadata": {
        "id": "YF_VXFLkwC1s",
        "colab_type": "code",
        "cellView": "form",
        "colab": {
          "base_uri": "https://localhost:8080/",
          "height": 34
        },
        "outputId": "bae076be-6727-45de-801a-2fee0c04e96e"
      },
      "source": [
        "#@title Set the parameter and hyperparameter \n",
        "#@markdown Set data files and proportion of train, val test set in source code\n",
        "\n",
        "# Lists are not yet supported as form fields\n",
        "DATA_FILE_NAMES = [f'corpus-batch-{i}-mturk.csv' for i in range(5)] + ['corpus-batch-5-27-mturk.csv']\n",
        "TRAIN_VAL_TEST_PROPORTION = [0.8, 0.1, 0.1] # [TestProportion, ValProportion, TestProportion]\n",
        "CLASS_NAMES = ['not-vague', 'vague'] # 0=not-vague 1=vague\n",
        "\n",
        "# The following parameter can be edited with the form fields\n",
        "RANDOM_STATE = 1  #@param {type:\"integer\"}\n",
        "\n",
        "RESAMPLING_STRATEGY = 'random_downsampling'#@param [\"random_downsampling\", \"random_upsampling\"]\n",
        "\n",
        "KFOLD_SPLITS = 10 #@param {type:\"integer\"}\n",
        "LEARNING_RATE = 1e-5 #@param {type:\"number\"}\n",
        "EPOCHS =  1#@param {type:\"integer\"}\n",
        "MODEL_NAME = 'distilbert-base-uncased' #@param {type:\"string\"}\n",
        "MAX_LEN = 256 #@param {type:\"integer\"}\n",
        "BATCH_SIZE = 6 #@param {type:\"integer\"}\n",
        "MAX_FEATURES =  35000 #@param {type:\"integer\"}\n",
        "NGRAM_RANGE = 1 #@param {type:\"integer\"}\n",
        "\n",
        "\n",
        "PREPROCESS_MODE = 'distilbert' #@param {type:\"string\"}\n",
        "LOGGER.info('Set parameter successfully')"
      ],
      "execution_count": 29,
      "outputs": [
        {
          "output_type": "stream",
          "text": [
            "2020-07-10 15:30:34,690 [colab-notebook      ] [INFO ]  Set parameter successfully\n"
          ],
          "name": "stdout"
        }
      ]
    },
    {
      "cell_type": "markdown",
      "metadata": {
        "id": "Cdk5lPu3bxze",
        "colab_type": "text"
      },
      "source": [
        "## Load Dataset"
      ]
    },
    {
      "cell_type": "markdown",
      "metadata": {
        "id": "hl9XSystzRQs",
        "colab_type": "text"
      },
      "source": [
        "### Mount Google Drive\n",
        "Mount the google drive to access the dataset"
      ]
    },
    {
      "cell_type": "code",
      "metadata": {
        "id": "tPQxmvhazWoy",
        "colab_type": "code",
        "colab": {
          "base_uri": "https://localhost:8080/",
          "height": 34
        },
        "outputId": "943df4ee-a11e-4bcd-e757-a1791a11afaa"
      },
      "source": [
        "from google.colab import drive\n",
        "drive.mount('/content/drive')"
      ],
      "execution_count": 11,
      "outputs": [
        {
          "output_type": "stream",
          "text": [
            "Drive already mounted at /content/drive; to attempt to forcibly remount, call drive.mount(\"/content/drive\", force_remount=True).\n"
          ],
          "name": "stdout"
        }
      ]
    },
    {
      "cell_type": "markdown",
      "metadata": {
        "id": "s4XQHRbHzbb_",
        "colab_type": "text"
      },
      "source": [
        "### Load Dataset"
      ]
    },
    {
      "cell_type": "code",
      "metadata": {
        "id": "DL5yXifL0SEh",
        "colab_type": "code",
        "colab": {
          "base_uri": "https://localhost:8080/",
          "height": 352
        },
        "outputId": "d6811442-aa4c-4733-f15d-a3ce192d238e"
      },
      "source": [
        "from vaguerequirementslib import read_csv_files, build_confusion_matrix, calc_majority_label\n",
        "import pandas as pd\n",
        "\n",
        "def read_drive_data(files_list: list, separator: str) -> pd.DataFrame:\n",
        "    \"\"\"\n",
        "    Calculate the majority label for the given source file list\n",
        "\n",
        "    Args:\n",
        "        files_list (list): The CSV files to calculate the majority label for\n",
        "        separator (str): The CSV separator\n",
        "        drop_ties (bool): If there is a tie in votes (e.g.: One votes for vague one for not vague) then drop this entry from the confusion matrix.\n",
        "\n",
        "    Returns:\n",
        "        pd.DataFrame: The dataframe containing the majority label.\n",
        "    \"\"\"\n",
        "    frame = read_csv_files(files_list, separator)\n",
        "    confusion_matrix = build_confusion_matrix(frame, drop_ties=True)\n",
        "    return calc_majority_label(confusion_matrix)\n",
        "\n",
        "# Read all data\n",
        "df = read_drive_data(\n",
        "    [f'/content/drive/My Drive/datasets/corpus/labeled/{file_name}' for file_name in DATA_FILE_NAMES],\n",
        "    ','\n",
        "  )\n",
        "df_vague_count = int(df[df.majority_label == 1].majority_label.value_counts())\n",
        "df_not_vague_count = int(df[df.majority_label == 0].majority_label.value_counts())\n",
        "LOGGER.info(f'Data frame consists of {df_vague_count} vague data points and {df_not_vague_count} not vague data points.')\n",
        "df.head()"
      ],
      "execution_count": 16,
      "outputs": [
        {
          "output_type": "stream",
          "text": [
            "2020-07-10 14:51:18,500 [vaguerequirementslib] [INFO ]  Build confusion matrix.\n",
            "2020-07-10 14:51:19,623 [vaguerequirementslib] [INFO ]  Dropped 1228 requirements due to ties.\n",
            "2020-07-10 14:51:19,628 [vaguerequirementslib] [INFO ]  Built confusion matrix including 1548 of 2776 requirements. \n",
            "2020-07-10 14:51:19,632 [vaguerequirementslib] [INFO ]  Overall \"vague\" votes count = 576. Overall \"not vague\" votes count = 2520\n",
            "2020-07-10 14:51:19,751 [vaguerequirementslib] [INFO ]  \"vague\" majority label count = 288. \"not vague\" majority label count = 1260.\n",
            "2020-07-10 14:51:19,763 [colab-notebook      ] [INFO ]  Data frame consists of 288 vague data points and 1260 not vague data points.\n"
          ],
          "name": "stdout"
        },
        {
          "output_type": "execute_result",
          "data": {
            "application/vnd.google.colaboratory.module+javascript": "\n      import \"https://ssl.gstatic.com/colaboratory/data_table/a6224c040fa35dcf/data_table.js\";\n\n      window.createDataTable({\n        data: [[{\n            'v': 0,\n            'f': \"0\",\n        },\n\"A COPV representative of the flight COPV (liner material, processing, thickness, configuration, and reinforcing composite stiffness and thickness) should be used.\",\n{\n            'v': 2,\n            'f': \"2\",\n        },\n{\n            'v': 0,\n            'f': \"0\",\n        },\n{\n            'v': 1,\n            'f': \"1\",\n        }],\n [{\n            'v': 1,\n            'f': \"1\",\n        },\n\"A Charge-Through VCONN -Powered USB Device shall discard all USB PD messages while a connection is enabled between the host port CC and Charge -Through port CC.\",\n{\n            'v': 0,\n            'f': \"0\",\n        },\n{\n            'v': 2,\n            'f': \"2\",\n        },\n{\n            'v': 0,\n            'f': \"0\",\n        }],\n [{\n            'v': 2,\n            'f': \"2\",\n        },\n\"A Charge-Through VCONN-Powered USB Device shall transition to Attached.SNK when a Source connection is detected, as indicated by the SNK.Rp state on its Host-side port\\ufffds CC pin.\",\n{\n            'v': 0,\n            'f': \"0\",\n        },\n{\n            'v': 2,\n            'f': \"2\",\n        },\n{\n            'v': 0,\n            'f': \"0\",\n        }],\n [{\n            'v': 3,\n            'f': \"3\",\n        },\n\"A Controller that supports Directed Advertising Report shall support the following sections of this document.\",\n{\n            'v': 0,\n            'f': \"0\",\n        },\n{\n            'v': 2,\n            'f': \"2\",\n        },\n{\n            'v': 0,\n            'f': \"0\",\n        }],\n [{\n            'v': 4,\n            'f': \"4\",\n        },\n\"A DC voltage between 0 V and -66 V may be present on the tip wire and on the ring wire during the application of the AC voltage.\",\n{\n            'v': 0,\n            'f': \"0\",\n        },\n{\n            'v': 2,\n            'f': \"2\",\n        },\n{\n            'v': 0,\n            'f': \"0\",\n        }]],\n        columns: [[\"number\", \"index\"], [\"string\", \"requirement\"], [\"number\", \"vague_count\"], [\"number\", \"not_vague_count\"], [\"number\", \"majority_label\"]],\n        columnOptions: [{\"width\": \"1px\", \"className\": \"index_column\"}],\n        rowsPerPage: 25,\n        helpUrl: \"https://colab.research.google.com/notebooks/data_table.ipynb\",\n        suppressOutputScrolling: true,\n        minimumWidth: undefined,\n      });\n    ",
            "text/html": [
              "<div>\n",
              "<style scoped>\n",
              "    .dataframe tbody tr th:only-of-type {\n",
              "        vertical-align: middle;\n",
              "    }\n",
              "\n",
              "    .dataframe tbody tr th {\n",
              "        vertical-align: top;\n",
              "    }\n",
              "\n",
              "    .dataframe thead th {\n",
              "        text-align: right;\n",
              "    }\n",
              "</style>\n",
              "<table border=\"1\" class=\"dataframe\">\n",
              "  <thead>\n",
              "    <tr style=\"text-align: right;\">\n",
              "      <th></th>\n",
              "      <th>requirement</th>\n",
              "      <th>vague_count</th>\n",
              "      <th>not_vague_count</th>\n",
              "      <th>majority_label</th>\n",
              "    </tr>\n",
              "  </thead>\n",
              "  <tbody>\n",
              "    <tr>\n",
              "      <th>0</th>\n",
              "      <td>A COPV representative of the flight COPV (line...</td>\n",
              "      <td>2</td>\n",
              "      <td>0</td>\n",
              "      <td>1</td>\n",
              "    </tr>\n",
              "    <tr>\n",
              "      <th>1</th>\n",
              "      <td>A Charge-Through VCONN -Powered USB Device sha...</td>\n",
              "      <td>0</td>\n",
              "      <td>2</td>\n",
              "      <td>0</td>\n",
              "    </tr>\n",
              "    <tr>\n",
              "      <th>2</th>\n",
              "      <td>A Charge-Through VCONN-Powered USB Device shal...</td>\n",
              "      <td>0</td>\n",
              "      <td>2</td>\n",
              "      <td>0</td>\n",
              "    </tr>\n",
              "    <tr>\n",
              "      <th>3</th>\n",
              "      <td>A Controller that supports Directed Advertisin...</td>\n",
              "      <td>0</td>\n",
              "      <td>2</td>\n",
              "      <td>0</td>\n",
              "    </tr>\n",
              "    <tr>\n",
              "      <th>4</th>\n",
              "      <td>A DC voltage between 0 V and -66 V may be pres...</td>\n",
              "      <td>0</td>\n",
              "      <td>2</td>\n",
              "      <td>0</td>\n",
              "    </tr>\n",
              "  </tbody>\n",
              "</table>\n",
              "</div>"
            ],
            "text/plain": [
              "                                         requirement  ...  majority_label\n",
              "0  A COPV representative of the flight COPV (line...  ...               1\n",
              "1  A Charge-Through VCONN -Powered USB Device sha...  ...               0\n",
              "2  A Charge-Through VCONN-Powered USB Device shal...  ...               0\n",
              "3  A Controller that supports Directed Advertisin...  ...               0\n",
              "4  A DC voltage between 0 V and -66 V may be pres...  ...               0\n",
              "\n",
              "[5 rows x 4 columns]"
            ]
          },
          "metadata": {
            "tags": []
          },
          "execution_count": 16
        }
      ]
    },
    {
      "cell_type": "markdown",
      "metadata": {
        "id": "L1jPjv_sv1QE",
        "colab_type": "text"
      },
      "source": [
        "## Utility Functions"
      ]
    },
    {
      "cell_type": "markdown",
      "metadata": {
        "id": "fb72So8PKxUF",
        "colab_type": "text"
      },
      "source": [
        "### Resample and preprocess"
      ]
    },
    {
      "cell_type": "code",
      "metadata": {
        "id": "k4a9O2w4v04v",
        "colab_type": "code",
        "colab": {}
      },
      "source": [
        "from typing import Tuple, List\n",
        "\n",
        "from imblearn.over_sampling import RandomOverSampler\n",
        "from imblearn.under_sampling import RandomUnderSampler\n",
        "from sklearn.model_selection import train_test_split\n",
        "from sklearn.utils import resample\n",
        "from ktrain import text as txt\n",
        "\n",
        "def resample(data_frame: pd.DataFrame, strategy: str = None) -> pd.DataFrame:\n",
        "    \"\"\"\n",
        "    Re sample the given dataframe to contain equally much samples of vague and not-vague requirements.\n",
        "\n",
        "    Args:\n",
        "        data_frame (pd.DataFrame): The data frame to upsample.\n",
        "        strategy (str): The resampling strategy to use either \"random_downsampling\", \"random_upsampling\" or None.\n",
        "\n",
        "    Returns:\n",
        "        pd.DataFrame: The resampled data frame.\n",
        "    \"\"\"\n",
        "    if strategy:\n",
        "        if strategy == 'random_downsampling':\n",
        "            sampler = RandomUnderSampler(sampling_strategy=1., random_state=RANDOM_STATE)\n",
        "        elif strategy == 'random_upsampling':\n",
        "            sampler = RandomOverSampler(sampling_strategy=1., random_state=RANDOM_STATE)\n",
        "\n",
        "        x, y = sampler.fit_resample(data_frame.requirement.to_numpy().reshape(-1, 1), data_frame.majority_label)\n",
        "        result = pd.DataFrame({'requirement': x.flatten(), 'majority_label': y})\n",
        "\n",
        "        LOGGER.info(f'Resampled dataset with strategy\"{strategy}\": vague count=\"{result.sum()[\"majority_label\"]}\", not vague count=\"{result.shape[0] - result.sum()[\"majority_label\"]}\"')\n",
        "    \n",
        "    else: \n",
        "        LOGGER.warning('Data frame will not be resampled, because no strategy was provided.')\n",
        "        result = data_frame\n",
        "    return result\n",
        "\n",
        "def preprocess_data(data_frame: pd.DataFrame) -> Tuple:\n",
        "    dummy_df = pd.DataFrame.from_dict({'requirement': ['foo', 'bar'], 'majority_label': [0, 1]})\n",
        "    LOGGER.info(f'Preprocess the data using preprocess-mode=\"{PREPROCESS_MODE}\", max-features=\"{MAX_FEATURES}\", ngram-range=\"{NGRAM_RANGE}\" and max-len=\"{MAX_LEN}\"')\n",
        "    data, _, _ = txt.texts_from_df(\n",
        "        data_frame, \n",
        "        text_column='requirement',\n",
        "        label_columns=['majority_label'], \n",
        "        val_df=dummy_df,  \n",
        "        max_features=MAX_FEATURES,\n",
        "        maxlen=MAX_LEN,  \n",
        "        ngram_range=NGRAM_RANGE,\n",
        "        preprocess_mode=PREPROCESS_MODE,\n",
        "        random_state=RANDOM_STATE)\n",
        "    \n",
        "    return data"
      ],
      "execution_count": 19,
      "outputs": []
    },
    {
      "cell_type": "markdown",
      "metadata": {
        "id": "4vbRyh4Wyk8Q",
        "colab_type": "text"
      },
      "source": [
        "### Create result object\n",
        "\n",
        "Gather results, calulate metrics and write them to the drive."
      ]
    },
    {
      "cell_type": "code",
      "metadata": {
        "id": "KVD6TnnULNiN",
        "colab_type": "code",
        "colab": {}
      },
      "source": [
        "import os\n",
        "import json\n",
        "from os import path\n",
        "\n",
        "from vaguerequirementslib import TP, TN, FP, FN, calc_all_metrics\n",
        "\n",
        "def build_fold_result(train_result, val_result, test_result, learning_history) -> dict:\n",
        "    fold_result = {\n",
        "        'metrics':{\n",
        "            'train': {\n",
        "                'vague': {\n",
        "                    TP: int(train_result[1][1]),\n",
        "                    FP: int(train_result[0][1]),\n",
        "                    TN: int(train_result[0][0]),\n",
        "                    FN: int(train_result[1][0])\n",
        "                },\n",
        "                'not_vague': {\n",
        "                    TP: int(train_result[0][0]),\n",
        "                    FP: int(train_result[1][0]),\n",
        "                    TN: int(train_result[1][1]),\n",
        "                    FN: int(train_result[0][1])\n",
        "                }\n",
        "            },\n",
        "            'validation': {\n",
        "                'vague': {\n",
        "                    TP: int(val_result[1][1]),\n",
        "                    FP: int(val_result[0][1]),\n",
        "                    TN: int(val_result[0][0]),\n",
        "                    FN: int(val_result[1][0])\n",
        "                },\n",
        "                'not_vague': {\n",
        "                    TP: int(val_result[0][0]),\n",
        "                    FP: int(val_result[1][0]),\n",
        "                    TN: int(val_result[1][1]),\n",
        "                    FN: int(val_result[0][1])\n",
        "                }\n",
        "            },\n",
        "            'test': {\n",
        "                'vague': {\n",
        "                    TP: int(test_result[1][1]),\n",
        "                    FP: int(test_result[0][1]),\n",
        "                    TN: int(test_result[0][0]),\n",
        "                    FN: int(test_result[1][0])\n",
        "                },\n",
        "                'not_vague': {\n",
        "                    TP: int(test_result[0][0]),\n",
        "                    FP: int(test_result[1][0]),\n",
        "                    TN: int(test_result[1][1]),\n",
        "                    FN: int(test_result[0][1])\n",
        "                }\n",
        "            }\n",
        "        },\n",
        "        'learning_history': learning_history\n",
        "    }\n",
        "    for key in fold_result['metrics']:\n",
        "        fold_result['metrics'][key]['not_vague'].update(calc_all_metrics(**fold_result['metrics'][key]['not_vague']))\n",
        "        fold_result['metrics'][key]['vague'].update(calc_all_metrics(**fold_result['metrics'][key]['vague']))\n",
        "\n",
        "    LOGGER.debug('Successfully built fold result.')\n",
        "\n",
        "    return fold_result\n",
        "\n",
        "\n",
        "def build_result_data(fold_results: List, df_vague_count, df_not_vague_count, test_df_vague_count, test_df_not_vague_count) -> dict:\n",
        "    result_data = {\n",
        "        'misc': {   \n",
        "            'random_state': RANDOM_STATE\n",
        "        },\n",
        "        'data_set':{\n",
        "            'summary': {\n",
        "                'data_files': DATA_FILE_NAMES,\n",
        "                'vague_data_points': df_vague_count,\n",
        "                'not_vague_data_points': df_not_vague_count,\n",
        "            },\n",
        "            'test': {\n",
        "                'proportion': TRAIN_VAL_TEST_PROPORTION[2],\n",
        "                'vague_data_points': test_df_vague_count,\n",
        "                'not_vague_data_points': test_df_not_vague_count\n",
        "            }\n",
        "        },\n",
        "        'fold_results': fold_results,\n",
        "        'hyperparameter': {\n",
        "            'learning_rate': LEARNING_RATE,\n",
        "            'epochs': EPOCHS,\n",
        "            'model_name': MODEL_NAME,\n",
        "            'max_len': MAX_LEN,\n",
        "            'batch_size': BATCH_SIZE,\n",
        "            'max_features': MAX_FEATURES,\n",
        "            'ngram_range': NGRAM_RANGE,\n",
        "        }\n",
        "    }\n",
        "\n",
        "    LOGGER.debug('Successfully built fold result.')\n",
        "    return result_data"
      ],
      "execution_count": 30,
      "outputs": []
    },
    {
      "cell_type": "markdown",
      "metadata": {
        "id": "8JOuRdxKTuVH",
        "colab_type": "text"
      },
      "source": [
        "### Save evaluation result"
      ]
    },
    {
      "cell_type": "code",
      "metadata": {
        "id": "iMpthouJTqUQ",
        "colab_type": "code",
        "colab": {}
      },
      "source": [
        "import os\n",
        "import numpy as np\n",
        "\n",
        "\n",
        "def save_evaluation_result(result_data: dict) -> None:\n",
        "    class NumpyJSONEncoder(json.JSONEncoder):\n",
        "        def default(self, obj):\n",
        "            if isinstance(obj, np.integer):\n",
        "                return int(obj)\n",
        "            elif isinstance(obj, np.floating):\n",
        "                return float(obj)\n",
        "            elif isinstance(obj, np.ndarray):\n",
        "                return obj.tolist()\n",
        "            else:\n",
        "                return super(NumpyJSONEncoder, self).default(obj)\n",
        "\n",
        "    # Save the evaluation result (test_data results)\n",
        "    os.makedirs(result_dir, exist_ok=True)\n",
        "    with open(path.join(result_dir, 'evaluation.json'), mode='w', encoding='utf-8') as json_file:\n",
        "        json.dump(result_data, json_file, indent=4, cls=NumpyJSONEncoder)\n",
        "    LOGGER.info(f'Successfully saved evaluation result data to directory=\"{result_dir}\".')"
      ],
      "execution_count": 36,
      "outputs": []
    },
    {
      "cell_type": "markdown",
      "metadata": {
        "id": "pe5xxVPrb4IO",
        "colab_type": "text"
      },
      "source": [
        "## STEP 1:  Training\n",
        "\n",
        "We will use [DistilBERT](https://arxiv.org/abs/1910.01108).\n",
        "\n",
        "### Create a Transformer Model"
      ]
    },
    {
      "cell_type": "code",
      "metadata": {
        "id": "0T2kwCV5Oh_R",
        "colab_type": "code",
        "colab": {}
      },
      "source": [
        "# Create the transformer\n",
        "t = txt.Transformer(MODEL_NAME, maxlen=MAX_LEN, class_names=CLASS_NAMES)\n",
        "t.preprocess_train_called = True # Simulate call to preprocess_train()\n",
        "\n",
        "# Get the model and learner\n",
        "model = t.get_classifier()\n",
        "\n",
        "# Find a suitable learning rate\n",
        "# learner.lr_find(show_plot=True, start_lr=1e-09, max_epochs=EPOCHS)\n",
        "# print(learner.lr_estimate())"
      ],
      "execution_count": 32,
      "outputs": []
    },
    {
      "cell_type": "markdown",
      "metadata": {
        "id": "TbtORRmiw7fx",
        "colab_type": "text"
      },
      "source": [
        "### K-Fold Cross Validation"
      ]
    },
    {
      "cell_type": "code",
      "metadata": {
        "id": "9GkeZCUozM2U",
        "colab_type": "code",
        "colab": {
          "base_uri": "https://localhost:8080/",
          "height": 1000
        },
        "outputId": "ead967c1-fb41-419d-e802-7c7eb5447537"
      },
      "source": [
        "from datetime import datetime\n",
        "from pytz import timezone\n",
        "from sklearn.model_selection import StratifiedKFold\n",
        "\n",
        "# For every triggered fitting run create a new directory where the results will be saved\n",
        "now = datetime.now(timezone('Europe/Berlin'))\n",
        "result_dir = f'/content/drive/My Drive/runs/{now.strftime(\"%Y-%m-%d/%H-%M-%S\")}'\n",
        "fold_results = []\n",
        "\n",
        "# Split data for k folds and test data\n",
        "kfold_df, test_df = train_test_split(df, test_size=TRAIN_VAL_TEST_PROPORTION[2], random_state=RANDOM_STATE, stratify=df['majority_label'])\n",
        "\n",
        "test_df_vague_count = int(test_df[test_df.majority_label == 1].majority_label.value_counts())\n",
        "test_df_not_vague_count = int(test_df[test_df.majority_label == 0].majority_label.value_counts())\n",
        "LOGGER.info(f'Test dataset: vague count=\"{test_df_vague_count}\", not vague count=\"{test_df_not_vague_count}\"')\n",
        "\n",
        "test_data = preprocess_data(test_df)\n",
        "fold_counter = 1\n",
        "# Cerate k folds\n",
        "kfold = StratifiedKFold(n_splits=KFOLD_SPLITS, shuffle=True, random_state=RANDOM_STATE)\n",
        "for train_idx, val_idx in kfold.split(kfold_df.requirement, kfold_df.majority_label):\n",
        "    LOGGER.info(f'\\n######################\\n### Process fold {fold_counter}\\n######################')\n",
        "\n",
        "    # Get training data and validation data for this fold\n",
        "    train_df = kfold_df.iloc[train_idx]\n",
        "    val_df = kfold_df.iloc[val_idx]\n",
        "    LOGGER.info(f'Training dataset: vague count=\"{int(train_df[train_df.majority_label == 1].majority_label.value_counts())}\", not vague count=\"{int(train_df[train_df.majority_label == 0].majority_label.value_counts())}\".')\n",
        "    LOGGER.info(f'Validation dataset: vague count=\"{int(val_df[val_df.majority_label == 1].majority_label.value_counts())}\", not vague count=\"{int(val_df[val_df.majority_label == 0].majority_label.value_counts())}\".')\n",
        "    \n",
        "    # Resample train df \n",
        "    LOGGER.info('Resample training data set.')\n",
        "    train_df = resample(train_df, RESAMPLING_STRATEGY)\n",
        "\n",
        "    LOGGER.info(f'Preprocess training and validation data for the model=\"{MODEL_NAME}\".')\n",
        "    train_data = preprocess_data(train_df)\n",
        "    val_data = preprocess_data(val_df)\n",
        "\n",
        "    # Get the learner for the new fold\n",
        "    LOGGER.info('Fit the model for one cycle.')\n",
        "    learner = ktrain.get_learner(model, train_data=train_data, val_data=val_data, batch_size=BATCH_SIZE)\n",
        "\n",
        "    # Fit the model\n",
        "    learning_history = learner.fit_onecycle(LEARNING_RATE, EPOCHS).history\n",
        "    learner.plot('loss')\n",
        "\n",
        "    # Evaluate the model\n",
        "    train_result = learner.validate(class_names=CLASS_NAMES, val_data=train_data, print_report=False)\n",
        "    val_result = learner.validate(class_names=CLASS_NAMES, val_data=val_data, print_report=False)\n",
        "    test_result = learner.validate(class_names=CLASS_NAMES, val_data=test_data)\n",
        "\n",
        "    # build fold result\n",
        "    fold_result = build_fold_result(train_result, val_result, test_result, learning_history)\n",
        "    fold_results.append(fold_result)\n",
        "\n",
        "    fold_counter += 1\n",
        "\n",
        "LOGGER.info('Successfully trained model.')\n",
        "\n",
        "# Save the evaluation results\n",
        "evaluation_result = build_result_data(fold_results, df_vague_count, df_not_vague_count, test_df_vague_count, test_df_not_vague_count)\n",
        "save_evaluation_result(evaluation_result)\n",
        "\n",
        "predictor = ktrain.get_predictor(learner.model, preproc=t)"
      ],
      "execution_count": 33,
      "outputs": [
        {
          "output_type": "stream",
          "text": [
            "2020-07-10 15:31:40,115 [colab-notebook      ] [INFO ]  Test dataset: vague count=\"29\", not vague count=\"126\"\n",
            "preprocessing train...\n",
            "language: en\n",
            "train sequence lengths:\n",
            "\tmean : 21\n",
            "\t95percentile : 43\n",
            "\t99percentile : 59\n"
          ],
          "name": "stdout"
        },
        {
          "output_type": "display_data",
          "data": {
            "text/html": [
              ""
            ],
            "text/plain": [
              "<IPython.core.display.HTML object>"
            ]
          },
          "metadata": {
            "tags": []
          }
        },
        {
          "output_type": "stream",
          "text": [
            "Is Multi-Label? False\n",
            "preprocessing test...\n",
            "language: en\n",
            "test sequence lengths:\n",
            "\tmean : 1\n",
            "\t95percentile : 1\n",
            "\t99percentile : 1\n"
          ],
          "name": "stdout"
        },
        {
          "output_type": "stream",
          "text": [
            "/usr/local/lib/python3.6/dist-packages/ktrain/text/preprocessor.py:229: UserWarning: List or array of two texts supplied, so task being treated as text classification. If this is a sentence pair classification task, please cast to tuple.\n",
            "  'If this is a sentence pair classification task, please cast to tuple.')\n"
          ],
          "name": "stderr"
        },
        {
          "output_type": "display_data",
          "data": {
            "text/html": [
              ""
            ],
            "text/plain": [
              "<IPython.core.display.HTML object>"
            ]
          },
          "metadata": {
            "tags": []
          }
        },
        {
          "output_type": "stream",
          "text": [
            "2020-07-10 15:31:40,599 [colab-notebook      ] [INFO ]  ######################\n",
            "### Process fold 1\n",
            "######################\n",
            "2020-07-10 15:31:40,611 [colab-notebook      ] [INFO ]  Training dataset: vague count=\"233\", not vague count=\"1020\"\n",
            "2020-07-10 15:31:40,619 [colab-notebook      ] [INFO ]  Validation dataset: vague count=\"26\", not vague count=\"114\"\n",
            "2020-07-10 15:31:40,620 [colab-notebook      ] [INFO ]  Resample training data set.\n",
            "2020-07-10 15:31:40,634 [colab-notebook      ] [INFO ]  Resampled dataset with strategy\"random_downsampling\": vague count=\"233\", not vague count=\"233\"\n",
            "2020-07-10 15:31:40,636 [colab-notebook      ] [INFO ]  Preprocess training and validation data for the model=distilbert-base-uncased\n",
            "preprocessing train...\n",
            "language: en\n",
            "train sequence lengths:\n",
            "\tmean : 23\n",
            "\t95percentile : 44\n",
            "\t99percentile : 61\n"
          ],
          "name": "stdout"
        },
        {
          "output_type": "display_data",
          "data": {
            "text/html": [
              ""
            ],
            "text/plain": [
              "<IPython.core.display.HTML object>"
            ]
          },
          "metadata": {
            "tags": []
          }
        },
        {
          "output_type": "stream",
          "text": [
            "Is Multi-Label? False\n",
            "preprocessing test...\n",
            "language: en\n",
            "test sequence lengths:\n",
            "\tmean : 1\n",
            "\t95percentile : 1\n",
            "\t99percentile : 1\n"
          ],
          "name": "stdout"
        },
        {
          "output_type": "stream",
          "text": [
            "/usr/local/lib/python3.6/dist-packages/ktrain/text/preprocessor.py:229: UserWarning: List or array of two texts supplied, so task being treated as text classification. If this is a sentence pair classification task, please cast to tuple.\n",
            "  'If this is a sentence pair classification task, please cast to tuple.')\n"
          ],
          "name": "stderr"
        },
        {
          "output_type": "display_data",
          "data": {
            "text/html": [
              ""
            ],
            "text/plain": [
              "<IPython.core.display.HTML object>"
            ]
          },
          "metadata": {
            "tags": []
          }
        },
        {
          "output_type": "stream",
          "text": [
            "preprocessing train...\n",
            "language: en\n",
            "train sequence lengths:\n",
            "\tmean : 21\n",
            "\t95percentile : 37\n",
            "\t99percentile : 43\n"
          ],
          "name": "stdout"
        },
        {
          "output_type": "display_data",
          "data": {
            "text/html": [
              ""
            ],
            "text/plain": [
              "<IPython.core.display.HTML object>"
            ]
          },
          "metadata": {
            "tags": []
          }
        },
        {
          "output_type": "stream",
          "text": [
            "Is Multi-Label? False\n",
            "preprocessing test...\n",
            "language: en\n",
            "test sequence lengths:\n",
            "\tmean : 1\n",
            "\t95percentile : 1\n",
            "\t99percentile : 1\n"
          ],
          "name": "stdout"
        },
        {
          "output_type": "display_data",
          "data": {
            "text/html": [
              ""
            ],
            "text/plain": [
              "<IPython.core.display.HTML object>"
            ]
          },
          "metadata": {
            "tags": []
          }
        },
        {
          "output_type": "stream",
          "text": [
            "2020-07-10 15:31:41,856 [colab-notebook      ] [INFO ]  Fit the model for one cycle\n",
            "\n",
            "\n",
            "begin training using onecycle policy with max lr of 1e-05...\n",
            "Train for 78 steps, validate for 5 steps\n",
            "78/78 [==============================] - 40s 507ms/step - loss: 0.6878 - accuracy: 0.5408 - val_loss: 0.6627 - val_accuracy: 0.6857\n"
          ],
          "name": "stdout"
        },
        {
          "output_type": "display_data",
          "data": {
            "image/png": "[encoded data removed]",
            "text/plain": [
              "<Figure size 432x288 with 1 Axes>"
            ]
          },
          "metadata": {
            "tags": [],
            "needs_background": "light"
          }
        },
        {
          "output_type": "stream",
          "text": [
            "              precision    recall  f1-score   support\n",
            "\n",
            "   not-vague       0.88      0.73      0.80       126\n",
            "       vague       0.32      0.55      0.41        29\n",
            "\n",
            "    accuracy                           0.70       155\n",
            "   macro avg       0.60      0.64      0.60       155\n",
            "weighted avg       0.77      0.70      0.72       155\n",
            "\n",
            "2020-07-10 15:32:43,155 [colab-notebook      ] [INFO ]  ######################\n",
            "### Process fold 2\n",
            "######################\n",
            "2020-07-10 15:32:43,169 [colab-notebook      ] [INFO ]  Training dataset: vague count=\"233\", not vague count=\"1020\"\n",
            "2020-07-10 15:32:43,180 [colab-notebook      ] [INFO ]  Validation dataset: vague count=\"26\", not vague count=\"114\"\n",
            "2020-07-10 15:32:43,182 [colab-notebook      ] [INFO ]  Resample training data set.\n",
            "2020-07-10 15:32:43,200 [colab-notebook      ] [INFO ]  Resampled dataset with strategy\"random_downsampling\": vague count=\"233\", not vague count=\"233\"\n",
            "2020-07-10 15:32:43,202 [colab-notebook      ] [INFO ]  Preprocess training and validation data for the model=distilbert-base-uncased\n",
            "preprocessing train...\n",
            "language: en\n",
            "train sequence lengths:\n",
            "\tmean : 23\n",
            "\t95percentile : 42\n",
            "\t99percentile : 51\n"
          ],
          "name": "stdout"
        },
        {
          "output_type": "display_data",
          "data": {
            "text/html": [
              ""
            ],
            "text/plain": [
              "<IPython.core.display.HTML object>"
            ]
          },
          "metadata": {
            "tags": []
          }
        },
        {
          "output_type": "stream",
          "text": [
            "Is Multi-Label? False\n",
            "preprocessing test...\n",
            "language: en\n",
            "test sequence lengths:\n",
            "\tmean : 1\n",
            "\t95percentile : 1\n",
            "\t99percentile : 1\n"
          ],
          "name": "stdout"
        },
        {
          "output_type": "stream",
          "text": [
            "/usr/local/lib/python3.6/dist-packages/ktrain/text/preprocessor.py:229: UserWarning: List or array of two texts supplied, so task being treated as text classification. If this is a sentence pair classification task, please cast to tuple.\n",
            "  'If this is a sentence pair classification task, please cast to tuple.')\n"
          ],
          "name": "stderr"
        },
        {
          "output_type": "display_data",
          "data": {
            "text/html": [
              ""
            ],
            "text/plain": [
              "<IPython.core.display.HTML object>"
            ]
          },
          "metadata": {
            "tags": []
          }
        },
        {
          "output_type": "stream",
          "text": [
            "preprocessing train...\n",
            "language: en\n",
            "train sequence lengths:\n",
            "\tmean : 24\n",
            "\t95percentile : 48\n",
            "\t99percentile : 68\n"
          ],
          "name": "stdout"
        },
        {
          "output_type": "display_data",
          "data": {
            "text/html": [
              ""
            ],
            "text/plain": [
              "<IPython.core.display.HTML object>"
            ]
          },
          "metadata": {
            "tags": []
          }
        },
        {
          "output_type": "stream",
          "text": [
            "Is Multi-Label? False\n",
            "preprocessing test...\n",
            "language: en\n",
            "test sequence lengths:\n",
            "\tmean : 1\n",
            "\t95percentile : 1\n",
            "\t99percentile : 1\n"
          ],
          "name": "stdout"
        },
        {
          "output_type": "display_data",
          "data": {
            "text/html": [
              ""
            ],
            "text/plain": [
              "<IPython.core.display.HTML object>"
            ]
          },
          "metadata": {
            "tags": []
          }
        },
        {
          "output_type": "stream",
          "text": [
            "2020-07-10 15:32:44,488 [colab-notebook      ] [INFO ]  Fit the model for one cycle\n",
            "\n",
            "\n",
            "begin training using onecycle policy with max lr of 1e-05...\n",
            "Train for 78 steps, validate for 5 steps\n",
            "78/78 [==============================] - 29s 368ms/step - loss: 0.6741 - accuracy: 0.6309 - val_loss: 0.6702 - val_accuracy: 0.6286\n"
          ],
          "name": "stdout"
        },
        {
          "output_type": "display_data",
          "data": {
            "image/png": "[encoded data removed]",
            "text/plain": [
              "<Figure size 432x288 with 1 Axes>"
            ]
          },
          "metadata": {
            "tags": [],
            "needs_background": "light"
          }
        },
        {
          "output_type": "stream",
          "text": [
            "              precision    recall  f1-score   support\n",
            "\n",
            "   not-vague       0.89      0.63      0.74       126\n",
            "       vague       0.29      0.66      0.40        29\n",
            "\n",
            "    accuracy                           0.64       155\n",
            "   macro avg       0.59      0.65      0.57       155\n",
            "weighted avg       0.78      0.64      0.68       155\n",
            "\n",
            "2020-07-10 15:33:33,745 [colab-notebook      ] [INFO ]  ######################\n",
            "### Process fold 3\n",
            "######################\n",
            "2020-07-10 15:33:33,756 [colab-notebook      ] [INFO ]  Training dataset: vague count=\"233\", not vague count=\"1020\"\n",
            "2020-07-10 15:33:33,763 [colab-notebook      ] [INFO ]  Validation dataset: vague count=\"26\", not vague count=\"114\"\n",
            "2020-07-10 15:33:33,765 [colab-notebook      ] [INFO ]  Resample training data set.\n",
            "2020-07-10 15:33:33,784 [colab-notebook      ] [INFO ]  Resampled dataset with strategy\"random_downsampling\": vague count=\"233\", not vague count=\"233\"\n",
            "2020-07-10 15:33:33,785 [colab-notebook      ] [INFO ]  Preprocess training and validation data for the model=distilbert-base-uncased\n",
            "preprocessing train...\n",
            "language: en\n",
            "train sequence lengths:\n",
            "\tmean : 22\n",
            "\t95percentile : 41\n",
            "\t99percentile : 57\n"
          ],
          "name": "stdout"
        },
        {
          "output_type": "display_data",
          "data": {
            "text/html": [
              ""
            ],
            "text/plain": [
              "<IPython.core.display.HTML object>"
            ]
          },
          "metadata": {
            "tags": []
          }
        },
        {
          "output_type": "stream",
          "text": [
            "Is Multi-Label? False\n",
            "preprocessing test...\n",
            "language: en\n",
            "test sequence lengths:\n",
            "\tmean : 1\n",
            "\t95percentile : 1\n",
            "\t99percentile : 1\n"
          ],
          "name": "stdout"
        },
        {
          "output_type": "stream",
          "text": [
            "/usr/local/lib/python3.6/dist-packages/ktrain/text/preprocessor.py:229: UserWarning: List or array of two texts supplied, so task being treated as text classification. If this is a sentence pair classification task, please cast to tuple.\n",
            "  'If this is a sentence pair classification task, please cast to tuple.')\n"
          ],
          "name": "stderr"
        },
        {
          "output_type": "display_data",
          "data": {
            "text/html": [
              ""
            ],
            "text/plain": [
              "<IPython.core.display.HTML object>"
            ]
          },
          "metadata": {
            "tags": []
          }
        },
        {
          "output_type": "stream",
          "text": [
            "preprocessing train...\n",
            "language: en\n",
            "train sequence lengths:\n",
            "\tmean : 21\n",
            "\t95percentile : 40\n",
            "\t99percentile : 66\n"
          ],
          "name": "stdout"
        },
        {
          "output_type": "display_data",
          "data": {
            "text/html": [
              ""
            ],
            "text/plain": [
              "<IPython.core.display.HTML object>"
            ]
          },
          "metadata": {
            "tags": []
          }
        },
        {
          "output_type": "stream",
          "text": [
            "Is Multi-Label? False\n",
            "preprocessing test...\n",
            "language: en\n",
            "test sequence lengths:\n",
            "\tmean : 1\n",
            "\t95percentile : 1\n",
            "\t99percentile : 1\n"
          ],
          "name": "stdout"
        },
        {
          "output_type": "display_data",
          "data": {
            "text/html": [
              ""
            ],
            "text/plain": [
              "<IPython.core.display.HTML object>"
            ]
          },
          "metadata": {
            "tags": []
          }
        },
        {
          "output_type": "stream",
          "text": [
            "2020-07-10 15:33:35,118 [colab-notebook      ] [INFO ]  Fit the model for one cycle\n",
            "\n",
            "\n",
            "begin training using onecycle policy with max lr of 1e-05...\n",
            "Train for 78 steps, validate for 5 steps\n",
            "78/78 [==============================] - 29s 366ms/step - loss: 0.6326 - accuracy: 0.6652 - val_loss: 0.6164 - val_accuracy: 0.6714\n"
          ],
          "name": "stdout"
        },
        {
          "output_type": "display_data",
          "data": {
            "image/png": "[encoded data removed]",
            "text/plain": [
              "<Figure size 432x288 with 1 Axes>"
            ]
          },
          "metadata": {
            "tags": [],
            "needs_background": "light"
          }
        },
        {
          "output_type": "stream",
          "text": [
            "              precision    recall  f1-score   support\n",
            "\n",
            "   not-vague       0.89      0.74      0.81       126\n",
            "       vague       0.34      0.59      0.43        29\n",
            "\n",
            "    accuracy                           0.71       155\n",
            "   macro avg       0.61      0.66      0.62       155\n",
            "weighted avg       0.78      0.71      0.74       155\n",
            "\n",
            "2020-07-10 15:34:23,795 [colab-notebook      ] [INFO ]  ######################\n",
            "### Process fold 4\n",
            "######################\n",
            "2020-07-10 15:34:23,811 [colab-notebook      ] [INFO ]  Training dataset: vague count=\"233\", not vague count=\"1020\"\n",
            "2020-07-10 15:34:23,821 [colab-notebook      ] [INFO ]  Validation dataset: vague count=\"26\", not vague count=\"114\"\n",
            "2020-07-10 15:34:23,822 [colab-notebook      ] [INFO ]  Resample training data set.\n",
            "2020-07-10 15:34:23,837 [colab-notebook      ] [INFO ]  Resampled dataset with strategy\"random_downsampling\": vague count=\"233\", not vague count=\"233\"\n",
            "2020-07-10 15:34:23,838 [colab-notebook      ] [INFO ]  Preprocess training and validation data for the model=distilbert-base-uncased\n",
            "preprocessing train...\n",
            "language: en\n",
            "train sequence lengths:\n",
            "\tmean : 23\n",
            "\t95percentile : 44\n",
            "\t99percentile : 55\n"
          ],
          "name": "stdout"
        },
        {
          "output_type": "display_data",
          "data": {
            "text/html": [
              ""
            ],
            "text/plain": [
              "<IPython.core.display.HTML object>"
            ]
          },
          "metadata": {
            "tags": []
          }
        },
        {
          "output_type": "stream",
          "text": [
            "Is Multi-Label? False\n",
            "preprocessing test...\n",
            "language: en\n",
            "test sequence lengths:\n",
            "\tmean : 1\n",
            "\t95percentile : 1\n",
            "\t99percentile : 1\n"
          ],
          "name": "stdout"
        },
        {
          "output_type": "stream",
          "text": [
            "/usr/local/lib/python3.6/dist-packages/ktrain/text/preprocessor.py:229: UserWarning: List or array of two texts supplied, so task being treated as text classification. If this is a sentence pair classification task, please cast to tuple.\n",
            "  'If this is a sentence pair classification task, please cast to tuple.')\n"
          ],
          "name": "stderr"
        },
        {
          "output_type": "display_data",
          "data": {
            "text/html": [
              ""
            ],
            "text/plain": [
              "<IPython.core.display.HTML object>"
            ]
          },
          "metadata": {
            "tags": []
          }
        },
        {
          "output_type": "stream",
          "text": [
            "preprocessing train...\n",
            "language: en\n",
            "train sequence lengths:\n",
            "\tmean : 20\n",
            "\t95percentile : 40\n",
            "\t99percentile : 46\n"
          ],
          "name": "stdout"
        },
        {
          "output_type": "display_data",
          "data": {
            "text/html": [
              ""
            ],
            "text/plain": [
              "<IPython.core.display.HTML object>"
            ]
          },
          "metadata": {
            "tags": []
          }
        },
        {
          "output_type": "stream",
          "text": [
            "Is Multi-Label? False\n",
            "preprocessing test...\n",
            "language: en\n",
            "test sequence lengths:\n",
            "\tmean : 1\n",
            "\t95percentile : 1\n",
            "\t99percentile : 1\n"
          ],
          "name": "stdout"
        },
        {
          "output_type": "display_data",
          "data": {
            "text/html": [
              ""
            ],
            "text/plain": [
              "<IPython.core.display.HTML object>"
            ]
          },
          "metadata": {
            "tags": []
          }
        },
        {
          "output_type": "stream",
          "text": [
            "2020-07-10 15:34:25,087 [colab-notebook      ] [INFO ]  Fit the model for one cycle\n",
            "\n",
            "\n",
            "begin training using onecycle policy with max lr of 1e-05...\n",
            "Train for 78 steps, validate for 5 steps\n",
            "78/78 [==============================] - 29s 368ms/step - loss: 0.5907 - accuracy: 0.7017 - val_loss: 0.5211 - val_accuracy: 0.7714\n"
          ],
          "name": "stdout"
        },
        {
          "output_type": "display_data",
          "data": {
            "image/png": "[encoded data removed]",
            "text/plain": [
              "<Figure size 432x288 with 1 Axes>"
            ]
          },
          "metadata": {
            "tags": [],
            "needs_background": "light"
          }
        },
        {
          "output_type": "stream",
          "text": [
            "              precision    recall  f1-score   support\n",
            "\n",
            "   not-vague       0.92      0.69      0.79       126\n",
            "       vague       0.35      0.72      0.47        29\n",
            "\n",
            "    accuracy                           0.70       155\n",
            "   macro avg       0.63      0.71      0.63       155\n",
            "weighted avg       0.81      0.70      0.73       155\n",
            "\n",
            "2020-07-10 15:35:13,934 [colab-notebook      ] [INFO ]  ######################\n",
            "### Process fold 5\n",
            "######################\n",
            "2020-07-10 15:35:13,946 [colab-notebook      ] [INFO ]  Training dataset: vague count=\"233\", not vague count=\"1021\"\n",
            "2020-07-10 15:35:13,953 [colab-notebook      ] [INFO ]  Validation dataset: vague count=\"26\", not vague count=\"113\"\n",
            "2020-07-10 15:35:13,954 [colab-notebook      ] [INFO ]  Resample training data set.\n",
            "2020-07-10 15:35:13,972 [colab-notebook      ] [INFO ]  Resampled dataset with strategy\"random_downsampling\": vague count=\"233\", not vague count=\"233\"\n",
            "2020-07-10 15:35:13,973 [colab-notebook      ] [INFO ]  Preprocess training and validation data for the model=distilbert-base-uncased\n",
            "preprocessing train...\n",
            "language: en\n",
            "train sequence lengths:\n",
            "\tmean : 22\n",
            "\t95percentile : 42\n",
            "\t99percentile : 62\n"
          ],
          "name": "stdout"
        },
        {
          "output_type": "display_data",
          "data": {
            "text/html": [
              ""
            ],
            "text/plain": [
              "<IPython.core.display.HTML object>"
            ]
          },
          "metadata": {
            "tags": []
          }
        },
        {
          "output_type": "stream",
          "text": [
            "Is Multi-Label? False\n",
            "preprocessing test...\n",
            "language: en\n",
            "test sequence lengths:\n",
            "\tmean : 1\n",
            "\t95percentile : 1\n",
            "\t99percentile : 1\n"
          ],
          "name": "stdout"
        },
        {
          "output_type": "stream",
          "text": [
            "/usr/local/lib/python3.6/dist-packages/ktrain/text/preprocessor.py:229: UserWarning: List or array of two texts supplied, so task being treated as text classification. If this is a sentence pair classification task, please cast to tuple.\n",
            "  'If this is a sentence pair classification task, please cast to tuple.')\n"
          ],
          "name": "stderr"
        },
        {
          "output_type": "display_data",
          "data": {
            "text/html": [
              ""
            ],
            "text/plain": [
              "<IPython.core.display.HTML object>"
            ]
          },
          "metadata": {
            "tags": []
          }
        },
        {
          "output_type": "stream",
          "text": [
            "preprocessing train...\n",
            "language: en\n",
            "train sequence lengths:\n",
            "\tmean : 21\n",
            "\t95percentile : 37\n",
            "\t99percentile : 51\n"
          ],
          "name": "stdout"
        },
        {
          "output_type": "display_data",
          "data": {
            "text/html": [
              ""
            ],
            "text/plain": [
              "<IPython.core.display.HTML object>"
            ]
          },
          "metadata": {
            "tags": []
          }
        },
        {
          "output_type": "stream",
          "text": [
            "Is Multi-Label? False\n",
            "preprocessing test...\n",
            "language: en\n",
            "test sequence lengths:\n",
            "\tmean : 1\n",
            "\t95percentile : 1\n",
            "\t99percentile : 1\n"
          ],
          "name": "stdout"
        },
        {
          "output_type": "display_data",
          "data": {
            "text/html": [
              ""
            ],
            "text/plain": [
              "<IPython.core.display.HTML object>"
            ]
          },
          "metadata": {
            "tags": []
          }
        },
        {
          "output_type": "stream",
          "text": [
            "2020-07-10 15:35:15,213 [colab-notebook      ] [INFO ]  Fit the model for one cycle\n",
            "\n",
            "\n",
            "begin training using onecycle policy with max lr of 1e-05...\n",
            "Train for 78 steps, validate for 5 steps\n",
            "78/78 [==============================] - 29s 367ms/step - loss: 0.5501 - accuracy: 0.7489 - val_loss: 0.4251 - val_accuracy: 0.7986\n"
          ],
          "name": "stdout"
        },
        {
          "output_type": "display_data",
          "data": {
            "image/png": "[encoded data removed]",
            "text/plain": [
              "<Figure size 432x288 with 1 Axes>"
            ]
          },
          "metadata": {
            "tags": [],
            "needs_background": "light"
          }
        },
        {
          "output_type": "stream",
          "text": [
            "              precision    recall  f1-score   support\n",
            "\n",
            "   not-vague       0.83      0.92      0.88       126\n",
            "       vague       0.38      0.21      0.27        29\n",
            "\n",
            "    accuracy                           0.79       155\n",
            "   macro avg       0.60      0.56      0.57       155\n",
            "weighted avg       0.75      0.79      0.76       155\n",
            "\n",
            "2020-07-10 15:36:03,962 [colab-notebook      ] [INFO ]  ######################\n",
            "### Process fold 6\n",
            "######################\n",
            "2020-07-10 15:36:03,973 [colab-notebook      ] [INFO ]  Training dataset: vague count=\"233\", not vague count=\"1021\"\n",
            "2020-07-10 15:36:03,978 [colab-notebook      ] [INFO ]  Validation dataset: vague count=\"26\", not vague count=\"113\"\n",
            "2020-07-10 15:36:03,979 [colab-notebook      ] [INFO ]  Resample training data set.\n",
            "2020-07-10 15:36:03,997 [colab-notebook      ] [INFO ]  Resampled dataset with strategy\"random_downsampling\": vague count=\"233\", not vague count=\"233\"\n",
            "2020-07-10 15:36:03,999 [colab-notebook      ] [INFO ]  Preprocess training and validation data for the model=distilbert-base-uncased\n",
            "preprocessing train...\n",
            "language: en\n",
            "train sequence lengths:\n",
            "\tmean : 22\n",
            "\t95percentile : 41\n",
            "\t99percentile : 57\n"
          ],
          "name": "stdout"
        },
        {
          "output_type": "display_data",
          "data": {
            "text/html": [
              ""
            ],
            "text/plain": [
              "<IPython.core.display.HTML object>"
            ]
          },
          "metadata": {
            "tags": []
          }
        },
        {
          "output_type": "stream",
          "text": [
            "Is Multi-Label? False\n",
            "preprocessing test...\n",
            "language: en\n",
            "test sequence lengths:\n",
            "\tmean : 1\n",
            "\t95percentile : 1\n",
            "\t99percentile : 1\n"
          ],
          "name": "stdout"
        },
        {
          "output_type": "stream",
          "text": [
            "/usr/local/lib/python3.6/dist-packages/ktrain/text/preprocessor.py:229: UserWarning: List or array of two texts supplied, so task being treated as text classification. If this is a sentence pair classification task, please cast to tuple.\n",
            "  'If this is a sentence pair classification task, please cast to tuple.')\n"
          ],
          "name": "stderr"
        },
        {
          "output_type": "display_data",
          "data": {
            "text/html": [
              ""
            ],
            "text/plain": [
              "<IPython.core.display.HTML object>"
            ]
          },
          "metadata": {
            "tags": []
          }
        },
        {
          "output_type": "stream",
          "text": [
            "preprocessing train...\n",
            "language: en\n",
            "train sequence lengths:\n",
            "\tmean : 20\n",
            "\t95percentile : 38\n",
            "\t99percentile : 48\n"
          ],
          "name": "stdout"
        },
        {
          "output_type": "display_data",
          "data": {
            "text/html": [
              ""
            ],
            "text/plain": [
              "<IPython.core.display.HTML object>"
            ]
          },
          "metadata": {
            "tags": []
          }
        },
        {
          "output_type": "stream",
          "text": [
            "Is Multi-Label? False\n",
            "preprocessing test...\n",
            "language: en\n",
            "test sequence lengths:\n",
            "\tmean : 1\n",
            "\t95percentile : 1\n",
            "\t99percentile : 1\n"
          ],
          "name": "stdout"
        },
        {
          "output_type": "display_data",
          "data": {
            "text/html": [
              ""
            ],
            "text/plain": [
              "<IPython.core.display.HTML object>"
            ]
          },
          "metadata": {
            "tags": []
          }
        },
        {
          "output_type": "stream",
          "text": [
            "2020-07-10 15:36:05,317 [colab-notebook      ] [INFO ]  Fit the model for one cycle\n",
            "\n",
            "\n",
            "begin training using onecycle policy with max lr of 1e-05...\n",
            "Train for 78 steps, validate for 5 steps\n",
            "78/78 [==============================] - 29s 368ms/step - loss: 0.5058 - accuracy: 0.7790 - val_loss: 0.4813 - val_accuracy: 0.7698\n"
          ],
          "name": "stdout"
        },
        {
          "output_type": "display_data",
          "data": {
            "image/png": "[encoded data removed]",
            "text/plain": [
              "<Figure size 432x288 with 1 Axes>"
            ]
          },
          "metadata": {
            "tags": [],
            "needs_background": "light"
          }
        },
        {
          "output_type": "stream",
          "text": [
            "              precision    recall  f1-score   support\n",
            "\n",
            "   not-vague       0.90      0.79      0.84       126\n",
            "       vague       0.40      0.62      0.49        29\n",
            "\n",
            "    accuracy                           0.75       155\n",
            "   macro avg       0.65      0.70      0.66       155\n",
            "weighted avg       0.81      0.75      0.77       155\n",
            "\n",
            "2020-07-10 15:36:54,048 [colab-notebook      ] [INFO ]  ######################\n",
            "### Process fold 7\n",
            "######################\n",
            "2020-07-10 15:36:54,060 [colab-notebook      ] [INFO ]  Training dataset: vague count=\"233\", not vague count=\"1021\"\n",
            "2020-07-10 15:36:54,067 [colab-notebook      ] [INFO ]  Validation dataset: vague count=\"26\", not vague count=\"113\"\n",
            "2020-07-10 15:36:54,071 [colab-notebook      ] [INFO ]  Resample training data set.\n",
            "2020-07-10 15:36:54,088 [colab-notebook      ] [INFO ]  Resampled dataset with strategy\"random_downsampling\": vague count=\"233\", not vague count=\"233\"\n",
            "2020-07-10 15:36:54,091 [colab-notebook      ] [INFO ]  Preprocess training and validation data for the model=distilbert-base-uncased\n",
            "preprocessing train...\n",
            "language: en\n",
            "train sequence lengths:\n",
            "\tmean : 22\n",
            "\t95percentile : 41\n",
            "\t99percentile : 61\n"
          ],
          "name": "stdout"
        },
        {
          "output_type": "display_data",
          "data": {
            "text/html": [
              ""
            ],
            "text/plain": [
              "<IPython.core.display.HTML object>"
            ]
          },
          "metadata": {
            "tags": []
          }
        },
        {
          "output_type": "stream",
          "text": [
            "Is Multi-Label? False\n",
            "preprocessing test...\n",
            "language: en\n",
            "test sequence lengths:\n",
            "\tmean : 1\n",
            "\t95percentile : 1\n",
            "\t99percentile : 1\n"
          ],
          "name": "stdout"
        },
        {
          "output_type": "stream",
          "text": [
            "/usr/local/lib/python3.6/dist-packages/ktrain/text/preprocessor.py:229: UserWarning: List or array of two texts supplied, so task being treated as text classification. If this is a sentence pair classification task, please cast to tuple.\n",
            "  'If this is a sentence pair classification task, please cast to tuple.')\n"
          ],
          "name": "stderr"
        },
        {
          "output_type": "display_data",
          "data": {
            "text/html": [
              ""
            ],
            "text/plain": [
              "<IPython.core.display.HTML object>"
            ]
          },
          "metadata": {
            "tags": []
          }
        },
        {
          "output_type": "stream",
          "text": [
            "preprocessing train...\n",
            "language: en\n",
            "train sequence lengths:\n",
            "\tmean : 21\n",
            "\t95percentile : 37\n",
            "\t99percentile : 45\n"
          ],
          "name": "stdout"
        },
        {
          "output_type": "display_data",
          "data": {
            "text/html": [
              ""
            ],
            "text/plain": [
              "<IPython.core.display.HTML object>"
            ]
          },
          "metadata": {
            "tags": []
          }
        },
        {
          "output_type": "stream",
          "text": [
            "Is Multi-Label? False\n",
            "preprocessing test...\n",
            "language: en\n",
            "test sequence lengths:\n",
            "\tmean : 1\n",
            "\t95percentile : 1\n",
            "\t99percentile : 1\n"
          ],
          "name": "stdout"
        },
        {
          "output_type": "display_data",
          "data": {
            "text/html": [
              ""
            ],
            "text/plain": [
              "<IPython.core.display.HTML object>"
            ]
          },
          "metadata": {
            "tags": []
          }
        },
        {
          "output_type": "stream",
          "text": [
            "2020-07-10 15:36:55,386 [colab-notebook      ] [INFO ]  Fit the model for one cycle\n",
            "\n",
            "\n",
            "begin training using onecycle policy with max lr of 1e-05...\n",
            "Train for 78 steps, validate for 5 steps\n",
            "78/78 [==============================] - 29s 368ms/step - loss: 0.4634 - accuracy: 0.7940 - val_loss: 0.3650 - val_accuracy: 0.8489\n"
          ],
          "name": "stdout"
        },
        {
          "output_type": "display_data",
          "data": {
            "image/png": "[encoded data removed]",
            "text/plain": [
              "<Figure size 432x288 with 1 Axes>"
            ]
          },
          "metadata": {
            "tags": [],
            "needs_background": "light"
          }
        },
        {
          "output_type": "stream",
          "text": [
            "              precision    recall  f1-score   support\n",
            "\n",
            "   not-vague       0.86      0.86      0.86       126\n",
            "       vague       0.40      0.41      0.41        29\n",
            "\n",
            "    accuracy                           0.77       155\n",
            "   macro avg       0.63      0.64      0.63       155\n",
            "weighted avg       0.78      0.77      0.78       155\n",
            "\n",
            "2020-07-10 15:37:44,044 [colab-notebook      ] [INFO ]  ######################\n",
            "### Process fold 8\n",
            "######################\n",
            "2020-07-10 15:37:44,054 [colab-notebook      ] [INFO ]  Training dataset: vague count=\"233\", not vague count=\"1021\"\n",
            "2020-07-10 15:37:44,060 [colab-notebook      ] [INFO ]  Validation dataset: vague count=\"26\", not vague count=\"113\"\n",
            "2020-07-10 15:37:44,061 [colab-notebook      ] [INFO ]  Resample training data set.\n",
            "2020-07-10 15:37:44,079 [colab-notebook      ] [INFO ]  Resampled dataset with strategy\"random_downsampling\": vague count=\"233\", not vague count=\"233\"\n",
            "2020-07-10 15:37:44,081 [colab-notebook      ] [INFO ]  Preprocess training and validation data for the model=distilbert-base-uncased\n",
            "preprocessing train...\n",
            "language: en\n",
            "train sequence lengths:\n",
            "\tmean : 23\n",
            "\t95percentile : 43\n",
            "\t99percentile : 53\n"
          ],
          "name": "stdout"
        },
        {
          "output_type": "display_data",
          "data": {
            "text/html": [
              ""
            ],
            "text/plain": [
              "<IPython.core.display.HTML object>"
            ]
          },
          "metadata": {
            "tags": []
          }
        },
        {
          "output_type": "stream",
          "text": [
            "Is Multi-Label? False\n",
            "preprocessing test...\n",
            "language: en\n",
            "test sequence lengths:\n",
            "\tmean : 1\n",
            "\t95percentile : 1\n",
            "\t99percentile : 1\n"
          ],
          "name": "stdout"
        },
        {
          "output_type": "stream",
          "text": [
            "/usr/local/lib/python3.6/dist-packages/ktrain/text/preprocessor.py:229: UserWarning: List or array of two texts supplied, so task being treated as text classification. If this is a sentence pair classification task, please cast to tuple.\n",
            "  'If this is a sentence pair classification task, please cast to tuple.')\n"
          ],
          "name": "stderr"
        },
        {
          "output_type": "display_data",
          "data": {
            "text/html": [
              ""
            ],
            "text/plain": [
              "<IPython.core.display.HTML object>"
            ]
          },
          "metadata": {
            "tags": []
          }
        },
        {
          "output_type": "stream",
          "text": [
            "preprocessing train...\n",
            "language: en\n",
            "train sequence lengths:\n",
            "\tmean : 19\n",
            "\t95percentile : 34\n",
            "\t99percentile : 46\n"
          ],
          "name": "stdout"
        },
        {
          "output_type": "display_data",
          "data": {
            "text/html": [
              ""
            ],
            "text/plain": [
              "<IPython.core.display.HTML object>"
            ]
          },
          "metadata": {
            "tags": []
          }
        },
        {
          "output_type": "stream",
          "text": [
            "Is Multi-Label? False\n",
            "preprocessing test...\n",
            "language: en\n",
            "test sequence lengths:\n",
            "\tmean : 1\n",
            "\t95percentile : 1\n",
            "\t99percentile : 1\n"
          ],
          "name": "stdout"
        },
        {
          "output_type": "display_data",
          "data": {
            "text/html": [
              ""
            ],
            "text/plain": [
              "<IPython.core.display.HTML object>"
            ]
          },
          "metadata": {
            "tags": []
          }
        },
        {
          "output_type": "stream",
          "text": [
            "2020-07-10 15:37:45,403 [colab-notebook      ] [INFO ]  Fit the model for one cycle\n",
            "\n",
            "\n",
            "begin training using onecycle policy with max lr of 1e-05...\n",
            "Train for 78 steps, validate for 5 steps\n",
            "78/78 [==============================] - 29s 368ms/step - loss: 0.4350 - accuracy: 0.8155 - val_loss: 0.3075 - val_accuracy: 0.8561\n"
          ],
          "name": "stdout"
        },
        {
          "output_type": "display_data",
          "data": {
            "image/png": "[encoded data removed]",
            "text/plain": [
              "<Figure size 432x288 with 1 Axes>"
            ]
          },
          "metadata": {
            "tags": [],
            "needs_background": "light"
          }
        },
        {
          "output_type": "stream",
          "text": [
            "              precision    recall  f1-score   support\n",
            "\n",
            "   not-vague       0.84      0.85      0.85       126\n",
            "       vague       0.32      0.31      0.32        29\n",
            "\n",
            "    accuracy                           0.75       155\n",
            "   macro avg       0.58      0.58      0.58       155\n",
            "weighted avg       0.75      0.75      0.75       155\n",
            "\n",
            "2020-07-10 15:38:34,123 [colab-notebook      ] [INFO ]  ######################\n",
            "### Process fold 9\n",
            "######################\n",
            "2020-07-10 15:38:34,133 [colab-notebook      ] [INFO ]  Training dataset: vague count=\"233\", not vague count=\"1021\"\n",
            "2020-07-10 15:38:34,141 [colab-notebook      ] [INFO ]  Validation dataset: vague count=\"26\", not vague count=\"113\"\n",
            "2020-07-10 15:38:34,142 [colab-notebook      ] [INFO ]  Resample training data set.\n",
            "2020-07-10 15:38:34,158 [colab-notebook      ] [INFO ]  Resampled dataset with strategy\"random_downsampling\": vague count=\"233\", not vague count=\"233\"\n",
            "2020-07-10 15:38:34,159 [colab-notebook      ] [INFO ]  Preprocess training and validation data for the model=distilbert-base-uncased\n",
            "preprocessing train...\n",
            "language: en\n",
            "train sequence lengths:\n",
            "\tmean : 22\n",
            "\t95percentile : 44\n",
            "\t99percentile : 54\n"
          ],
          "name": "stdout"
        },
        {
          "output_type": "display_data",
          "data": {
            "text/html": [
              ""
            ],
            "text/plain": [
              "<IPython.core.display.HTML object>"
            ]
          },
          "metadata": {
            "tags": []
          }
        },
        {
          "output_type": "stream",
          "text": [
            "Is Multi-Label? False\n",
            "preprocessing test...\n",
            "language: en\n",
            "test sequence lengths:\n",
            "\tmean : 1\n",
            "\t95percentile : 1\n",
            "\t99percentile : 1\n"
          ],
          "name": "stdout"
        },
        {
          "output_type": "stream",
          "text": [
            "/usr/local/lib/python3.6/dist-packages/ktrain/text/preprocessor.py:229: UserWarning: List or array of two texts supplied, so task being treated as text classification. If this is a sentence pair classification task, please cast to tuple.\n",
            "  'If this is a sentence pair classification task, please cast to tuple.')\n"
          ],
          "name": "stderr"
        },
        {
          "output_type": "display_data",
          "data": {
            "text/html": [
              ""
            ],
            "text/plain": [
              "<IPython.core.display.HTML object>"
            ]
          },
          "metadata": {
            "tags": []
          }
        },
        {
          "output_type": "stream",
          "text": [
            "preprocessing train...\n",
            "language: en\n",
            "train sequence lengths:\n",
            "\tmean : 21\n",
            "\t95percentile : 38\n",
            "\t99percentile : 63\n"
          ],
          "name": "stdout"
        },
        {
          "output_type": "display_data",
          "data": {
            "text/html": [
              ""
            ],
            "text/plain": [
              "<IPython.core.display.HTML object>"
            ]
          },
          "metadata": {
            "tags": []
          }
        },
        {
          "output_type": "stream",
          "text": [
            "Is Multi-Label? False\n",
            "preprocessing test...\n",
            "language: en\n",
            "test sequence lengths:\n",
            "\tmean : 1\n",
            "\t95percentile : 1\n",
            "\t99percentile : 1\n"
          ],
          "name": "stdout"
        },
        {
          "output_type": "display_data",
          "data": {
            "text/html": [
              ""
            ],
            "text/plain": [
              "<IPython.core.display.HTML object>"
            ]
          },
          "metadata": {
            "tags": []
          }
        },
        {
          "output_type": "stream",
          "text": [
            "2020-07-10 15:38:35,531 [colab-notebook      ] [INFO ]  Fit the model for one cycle\n",
            "\n",
            "\n",
            "begin training using onecycle policy with max lr of 1e-05...\n",
            "Train for 78 steps, validate for 5 steps\n",
            "78/78 [==============================] - 29s 367ms/step - loss: 0.3524 - accuracy: 0.8712 - val_loss: 0.3276 - val_accuracy: 0.8561\n"
          ],
          "name": "stdout"
        },
        {
          "output_type": "display_data",
          "data": {
            "image/png": "[encoded data removed]",
            "text/plain": [
              "<Figure size 432x288 with 1 Axes>"
            ]
          },
          "metadata": {
            "tags": [],
            "needs_background": "light"
          }
        },
        {
          "output_type": "stream",
          "text": [
            "              precision    recall  f1-score   support\n",
            "\n",
            "   not-vague       0.84      0.82      0.83       126\n",
            "       vague       0.28      0.31      0.30        29\n",
            "\n",
            "    accuracy                           0.72       155\n",
            "   macro avg       0.56      0.56      0.56       155\n",
            "weighted avg       0.73      0.72      0.73       155\n",
            "\n",
            "2020-07-10 15:39:24,045 [colab-notebook      ] [INFO ]  ######################\n",
            "### Process fold 10\n",
            "######################\n",
            "2020-07-10 15:39:24,056 [colab-notebook      ] [INFO ]  Training dataset: vague count=\"234\", not vague count=\"1021\"\n",
            "2020-07-10 15:39:24,067 [colab-notebook      ] [INFO ]  Validation dataset: vague count=\"25\", not vague count=\"113\"\n",
            "2020-07-10 15:39:24,067 [colab-notebook      ] [INFO ]  Resample training data set.\n",
            "2020-07-10 15:39:24,085 [colab-notebook      ] [INFO ]  Resampled dataset with strategy\"random_downsampling\": vague count=\"234\", not vague count=\"234\"\n",
            "2020-07-10 15:39:24,086 [colab-notebook      ] [INFO ]  Preprocess training and validation data for the model=distilbert-base-uncased\n",
            "preprocessing train...\n",
            "language: en\n",
            "train sequence lengths:\n",
            "\tmean : 23\n",
            "\t95percentile : 44\n",
            "\t99percentile : 61\n"
          ],
          "name": "stdout"
        },
        {
          "output_type": "display_data",
          "data": {
            "text/html": [
              ""
            ],
            "text/plain": [
              "<IPython.core.display.HTML object>"
            ]
          },
          "metadata": {
            "tags": []
          }
        },
        {
          "output_type": "stream",
          "text": [
            "Is Multi-Label? False\n",
            "preprocessing test...\n",
            "language: en\n",
            "test sequence lengths:\n",
            "\tmean : 1\n",
            "\t95percentile : 1\n",
            "\t99percentile : 1\n"
          ],
          "name": "stdout"
        },
        {
          "output_type": "stream",
          "text": [
            "/usr/local/lib/python3.6/dist-packages/ktrain/text/preprocessor.py:229: UserWarning: List or array of two texts supplied, so task being treated as text classification. If this is a sentence pair classification task, please cast to tuple.\n",
            "  'If this is a sentence pair classification task, please cast to tuple.')\n"
          ],
          "name": "stderr"
        },
        {
          "output_type": "display_data",
          "data": {
            "text/html": [
              ""
            ],
            "text/plain": [
              "<IPython.core.display.HTML object>"
            ]
          },
          "metadata": {
            "tags": []
          }
        },
        {
          "output_type": "stream",
          "text": [
            "preprocessing train...\n",
            "language: en\n",
            "train sequence lengths:\n",
            "\tmean : 21\n",
            "\t95percentile : 40\n",
            "\t99percentile : 53\n"
          ],
          "name": "stdout"
        },
        {
          "output_type": "display_data",
          "data": {
            "text/html": [
              ""
            ],
            "text/plain": [
              "<IPython.core.display.HTML object>"
            ]
          },
          "metadata": {
            "tags": []
          }
        },
        {
          "output_type": "stream",
          "text": [
            "Is Multi-Label? False\n",
            "preprocessing test...\n",
            "language: en\n",
            "test sequence lengths:\n",
            "\tmean : 1\n",
            "\t95percentile : 1\n",
            "\t99percentile : 1\n"
          ],
          "name": "stdout"
        },
        {
          "output_type": "display_data",
          "data": {
            "text/html": [
              ""
            ],
            "text/plain": [
              "<IPython.core.display.HTML object>"
            ]
          },
          "metadata": {
            "tags": []
          }
        },
        {
          "output_type": "stream",
          "text": [
            "2020-07-10 15:39:25,363 [colab-notebook      ] [INFO ]  Fit the model for one cycle\n",
            "\n",
            "\n",
            "begin training using onecycle policy with max lr of 1e-05...\n",
            "Train for 78 steps, validate for 5 steps\n",
            "78/78 [==============================] - 29s 368ms/step - loss: 0.3471 - accuracy: 0.8504 - val_loss: 0.3108 - val_accuracy: 0.8623\n"
          ],
          "name": "stdout"
        },
        {
          "output_type": "display_data",
          "data": {
            "image/png": "[encoded data removed]",
            "text/plain": [
              "<Figure size 432x288 with 1 Axes>"
            ]
          },
          "metadata": {
            "tags": [],
            "needs_background": "light"
          }
        },
        {
          "output_type": "stream",
          "text": [
            "              precision    recall  f1-score   support\n",
            "\n",
            "   not-vague       0.85      0.79      0.82       126\n",
            "       vague       0.32      0.41      0.36        29\n",
            "\n",
            "    accuracy                           0.72       155\n",
            "   macro avg       0.59      0.60      0.59       155\n",
            "weighted avg       0.75      0.72      0.74       155\n",
            "\n",
            "2020-07-10 15:40:14,020 [colab-notebook      ] [INFO ]  Successfully trained model.\n"
          ],
          "name": "stdout"
        },
        {
          "output_type": "error",
          "ename": "NameError",
          "evalue": "ignored",
          "traceback": [
            "\u001b[0;31m---------------------------------------------------------------------------\u001b[0m",
            "\u001b[0;31mNameError\u001b[0m                                 Traceback (most recent call last)",
            "\u001b[0;32m<ipython-input-33-cf2f9c2a6f74>\u001b[0m in \u001b[0;36m<module>\u001b[0;34m()\u001b[0m\n\u001b[1;32m     59\u001b[0m \u001b[0;31m# Save the evaluation results\u001b[0m\u001b[0;34m\u001b[0m\u001b[0;34m\u001b[0m\u001b[0;34m\u001b[0m\u001b[0m\n\u001b[1;32m     60\u001b[0m \u001b[0mevaluation_result\u001b[0m \u001b[0;34m=\u001b[0m \u001b[0mbuild_result_data\u001b[0m\u001b[0;34m(\u001b[0m\u001b[0mfold_results\u001b[0m\u001b[0;34m,\u001b[0m \u001b[0mdf_vague_count\u001b[0m\u001b[0;34m,\u001b[0m \u001b[0mdf_not_vague_count\u001b[0m\u001b[0;34m,\u001b[0m \u001b[0mtest_df_vague_count\u001b[0m\u001b[0;34m,\u001b[0m \u001b[0mtest_df_not_vague_count\u001b[0m\u001b[0;34m)\u001b[0m\u001b[0;34m\u001b[0m\u001b[0;34m\u001b[0m\u001b[0m\n\u001b[0;32m---> 61\u001b[0;31m \u001b[0msave_evaluation_result\u001b[0m\u001b[0;34m(\u001b[0m\u001b[0mevaluation_result\u001b[0m\u001b[0;34m)\u001b[0m\u001b[0;34m\u001b[0m\u001b[0;34m\u001b[0m\u001b[0m\n\u001b[0m\u001b[1;32m     62\u001b[0m \u001b[0;34m\u001b[0m\u001b[0m\n\u001b[1;32m     63\u001b[0m \u001b[0mpredictor\u001b[0m \u001b[0;34m=\u001b[0m \u001b[0mktrain\u001b[0m\u001b[0;34m.\u001b[0m\u001b[0mget_predictor\u001b[0m\u001b[0;34m(\u001b[0m\u001b[0mlearner\u001b[0m\u001b[0;34m.\u001b[0m\u001b[0mmodel\u001b[0m\u001b[0;34m,\u001b[0m \u001b[0mpreproc\u001b[0m\u001b[0;34m=\u001b[0m\u001b[0mt\u001b[0m\u001b[0;34m)\u001b[0m\u001b[0;34m\u001b[0m\u001b[0;34m\u001b[0m\u001b[0m\n",
            "\u001b[0;32m<ipython-input-31-11e9d4bd06d9>\u001b[0m in \u001b[0;36msave_evaluation_result\u001b[0;34m(result)\u001b[0m\n\u001b[1;32m     16\u001b[0m     \u001b[0mos\u001b[0m\u001b[0;34m.\u001b[0m\u001b[0mmakedirs\u001b[0m\u001b[0;34m(\u001b[0m\u001b[0mresult_dir\u001b[0m\u001b[0;34m,\u001b[0m \u001b[0mexist_ok\u001b[0m\u001b[0;34m=\u001b[0m\u001b[0;32mTrue\u001b[0m\u001b[0;34m)\u001b[0m\u001b[0;34m\u001b[0m\u001b[0;34m\u001b[0m\u001b[0m\n\u001b[1;32m     17\u001b[0m     \u001b[0;32mwith\u001b[0m \u001b[0mopen\u001b[0m\u001b[0;34m(\u001b[0m\u001b[0mpath\u001b[0m\u001b[0;34m.\u001b[0m\u001b[0mjoin\u001b[0m\u001b[0;34m(\u001b[0m\u001b[0mresult_dir\u001b[0m\u001b[0;34m,\u001b[0m \u001b[0;34m'evaluation.json'\u001b[0m\u001b[0;34m)\u001b[0m\u001b[0;34m,\u001b[0m \u001b[0mmode\u001b[0m\u001b[0;34m=\u001b[0m\u001b[0;34m'w'\u001b[0m\u001b[0;34m,\u001b[0m \u001b[0mencoding\u001b[0m\u001b[0;34m=\u001b[0m\u001b[0;34m'utf-8'\u001b[0m\u001b[0;34m)\u001b[0m \u001b[0;32mas\u001b[0m \u001b[0mjson_file\u001b[0m\u001b[0;34m:\u001b[0m\u001b[0;34m\u001b[0m\u001b[0;34m\u001b[0m\u001b[0m\n\u001b[0;32m---> 18\u001b[0;31m         \u001b[0mjson\u001b[0m\u001b[0;34m.\u001b[0m\u001b[0mdump\u001b[0m\u001b[0;34m(\u001b[0m\u001b[0mresult_data\u001b[0m\u001b[0;34m,\u001b[0m \u001b[0mjson_file\u001b[0m\u001b[0;34m,\u001b[0m \u001b[0mindent\u001b[0m\u001b[0;34m=\u001b[0m\u001b[0;36m4\u001b[0m\u001b[0;34m,\u001b[0m \u001b[0mcls\u001b[0m\u001b[0;34m=\u001b[0m\u001b[0mNumpyJSONEncoder\u001b[0m\u001b[0;34m)\u001b[0m\u001b[0;34m\u001b[0m\u001b[0;34m\u001b[0m\u001b[0m\n\u001b[0m\u001b[1;32m     19\u001b[0m     \u001b[0mLOGGER\u001b[0m\u001b[0;34m.\u001b[0m\u001b[0minfo\u001b[0m\u001b[0;34m(\u001b[0m\u001b[0;34mf'Successfully saved evaluation result data to directory=\"{result_dir}\".'\u001b[0m\u001b[0;34m)\u001b[0m\u001b[0;34m\u001b[0m\u001b[0;34m\u001b[0m\u001b[0m\n",
            "\u001b[0;31mNameError\u001b[0m: name 'result_data' is not defined"
          ]
        }
      ]
    },
    {
      "cell_type": "markdown",
      "metadata": {
        "id": "ho6eSo9IcI3_",
        "colab_type": "text"
      },
      "source": [
        "## STEP 2: Evaluate the model\n",
        "Evaluate the model using the `test_data`."
      ]
    },
    {
      "cell_type": "code",
      "metadata": {
        "id": "UvcxCvLOcOje",
        "colab_type": "code",
        "colab": {
          "base_uri": "https://localhost:8080/",
          "height": 541
        },
        "outputId": "90392161-eda8-49f5-a03e-3f8443c3a92d"
      },
      "source": [
        "test_result = learner.validate(class_names=CLASS_NAMES, val_data=test_data)\n",
        "print(test_result)\n",
        "learner.plot('loss')\n",
        "LOGGER.info('Successfully validated test set.')"
      ],
      "execution_count": 37,
      "outputs": [
        {
          "output_type": "stream",
          "text": [
            "2020-07-10 15:41:33,082 [colab-notebook      ] [INFO ]  Successfully saved evaluation result data to directory=\"/content/drive/My Drive/runs/2020-07-10/17-31-40\".\n",
            "              precision    recall  f1-score   support\n",
            "\n",
            "   not-vague       0.85      0.79      0.82       126\n",
            "       vague       0.32      0.41      0.36        29\n",
            "\n",
            "    accuracy                           0.72       155\n",
            "   macro avg       0.59      0.60      0.59       155\n",
            "weighted avg       0.75      0.72      0.74       155\n",
            "\n",
            "[[100  26]\n",
            " [ 17  12]]\n"
          ],
          "name": "stdout"
        },
        {
          "output_type": "display_data",
          "data": {
            "image/png": "[encoded data removed]",
            "text/plain": [
              "<Figure size 432x288 with 1 Axes>"
            ]
          },
          "metadata": {
            "tags": [],
            "needs_background": "light"
          }
        },
        {
          "output_type": "stream",
          "text": [
            "2020-07-10 15:41:40,088 [colab-notebook      ] [INFO ]  Successfully validated test set.\n"
          ],
          "name": "stdout"
        }
      ]
    },
    {
      "cell_type": "markdown",
      "metadata": {
        "id": "LdbYfab8cEVu",
        "colab_type": "text"
      },
      "source": [
        "## STEP 3.1 Save the predictor\n",
        "Check out the [FAQ](https://github.com/amaiya/ktrain/blob/master/FAQ.md#method-1-using-predictor-api-works-for-any-model) for how to load a model from a predictor."
      ]
    },
    {
      "cell_type": "code",
      "metadata": {
        "id": "tF3XGeIecKer",
        "colab_type": "code",
        "colab": {
          "base_uri": "https://localhost:8080/",
          "height": 34
        },
        "outputId": "6ac33745-d1ee-40f3-9877-b42d7ad6b664"
      },
      "source": [
        "from os import path\n",
        "\n",
        "# Save the corresponding model (predictor)\n",
        "predictor.save(path.join(result_dir, 'predictor'))"
      ],
      "execution_count": null,
      "outputs": [
        {
          "output_type": "stream",
          "text": [
            "2020-07-07 20:06:38,977 [colab-notebook      ] [INFO ]  Successfully saved result data to directory=\"/content/drive/My Drive/runs/2020-07-07/21-56-22\".\n"
          ],
          "name": "stdout"
        }
      ]
    },
    {
      "cell_type": "markdown",
      "metadata": {
        "id": "eIuTq8eqdXws",
        "colab_type": "text"
      },
      "source": [
        "## STEP 4 Inspect the Model and its Losses"
      ]
    },
    {
      "cell_type": "markdown",
      "metadata": {
        "id": "yhG3fPtPcVKe",
        "colab_type": "text"
      },
      "source": [
        "Let's examine the validation example about which we were the most wrong."
      ]
    },
    {
      "cell_type": "code",
      "metadata": {
        "id": "mCABLebacTWM",
        "colab_type": "code",
        "colab": {
          "base_uri": "https://localhost:8080/",
          "height": 225
        },
        "outputId": "f9627d03-fd6d-4732-a1e6-676d27ff7756"
      },
      "source": [
        "learner.view_top_losses(n=4, preproc=t, val_data=test_data)\n",
        "top_losses = learner.top_losses(n=4, preproc=t, val_data=test_data)"
      ],
      "execution_count": null,
      "outputs": [
        {
          "output_type": "stream",
          "text": [
            "----------\n",
            "id:16 | loss:1.26 | true:not-vague | pred:vague)\n",
            "\n",
            "----------\n",
            "id:22 | loss:1.2 | true:not-vague | pred:vague)\n",
            "\n",
            "----------\n",
            "id:12 | loss:1.18 | true:not-vague | pred:vague)\n",
            "\n",
            "----------\n",
            "id:8 | loss:0.99 | true:vague | pred:not-vague)\n",
            "\n"
          ],
          "name": "stdout"
        }
      ]
    },
    {
      "cell_type": "code",
      "metadata": {
        "id": "JuMmx8f5dr45",
        "colab_type": "code",
        "colab": {
          "base_uri": "https://localhost:8080/",
          "height": 124
        },
        "outputId": "b2f7df3c-d348-4aec-c75c-0d20d1d048e7"
      },
      "source": [
        "top_loss_req = test_df.iloc[16]['requirement'] # Requirement that produces top loss\n",
        "\n",
        "print(predictor.predict(top_loss_req))\n",
        "\n",
        "# predicted probability scores for each category\n",
        "print(predictor.predict_proba(top_loss_req))\n",
        "print(top_loss_req)"
      ],
      "execution_count": null,
      "outputs": [
        {
          "output_type": "stream",
          "text": [
            "2020-07-07 07:56:25,775 [MainThread          ] [DEBUG]  Starting new HTTPS connection (1): s3.amazonaws.com:443\n",
            "2020-07-07 07:56:26,194 [MainThread          ] [DEBUG]  https://s3.amazonaws.com:443 \"HEAD /models.huggingface.co/bert/bert-base-uncased-vocab.txt HTTP/1.1\" 200 0\n"
          ],
          "name": "stdout"
        },
        {
          "output_type": "display_data",
          "data": {
            "text/html": [
              ""
            ],
            "text/plain": [
              "<IPython.core.display.HTML object>"
            ]
          },
          "metadata": {
            "tags": []
          }
        },
        {
          "output_type": "stream",
          "text": [
            "vague\n"
          ],
          "name": "stdout"
        },
        {
          "output_type": "display_data",
          "data": {
            "text/html": [
              ""
            ],
            "text/plain": [
              "<IPython.core.display.HTML object>"
            ]
          },
          "metadata": {
            "tags": []
          }
        },
        {
          "output_type": "stream",
          "text": [
            "[0.28304783 0.71695215]\n",
            "The developer shall establish, control, and maintain a software test environment to perform integration and qualification testing of software.\n"
          ],
          "name": "stdout"
        }
      ]
    },
    {
      "cell_type": "markdown",
      "metadata": {
        "id": "9tHos7V6d8RQ",
        "colab_type": "text"
      },
      "source": [
        "Let's invoke the `explain` method to see which words contribute most to the classification."
      ]
    },
    {
      "cell_type": "code",
      "metadata": {
        "id": "3HgZDLYUeVaM",
        "colab_type": "code",
        "colab": {
          "base_uri": "https://localhost:8080/",
          "height": 644
        },
        "outputId": "c350edd0-49cd-4916-f167-41c7512310a9"
      },
      "source": [
        "from IPython.core.display import display\n",
        "\n",
        "for id, _, _, _ in top_losses:\n",
        "    top_loss_req = test_df.iloc[id]['requirement'] # Requirement that produces top loss\n",
        "    display(predictor.explain(top_loss_req, n_samples=1_000))"
      ],
      "execution_count": null,
      "outputs": [
        {
          "output_type": "display_data",
          "data": {
            "text/html": [
              ""
            ],
            "text/plain": [
              "<IPython.core.display.HTML object>"
            ]
          },
          "metadata": {
            "tags": []
          }
        },
        {
          "output_type": "display_data",
          "data": {
            "text/html": [
              ""
            ],
            "text/plain": [
              "<IPython.core.display.HTML object>"
            ]
          },
          "metadata": {
            "tags": []
          }
        },
        {
          "output_type": "display_data",
          "data": {
            "text/html": [
              "\n",
              "    <style>\n",
              "    table.eli5-weights tr:hover {\n",
              "        filter: brightness(85%);\n",
              "    }\n",
              "</style>\n",
              "\n",
              "\n",
              "\n",
              "    \n",
              "\n",
              "    \n",
              "\n",
              "    \n",
              "\n",
              "    \n",
              "\n",
              "    \n",
              "\n",
              "    \n",
              "\n",
              "\n",
              "    \n",
              "\n",
              "    \n",
              "\n",
              "    \n",
              "\n",
              "    \n",
              "        \n",
              "\n",
              "    \n",
              "\n",
              "        \n",
              "\n",
              "        \n",
              "    \n",
              "        \n",
              "        \n",
              "    \n",
              "        <p style=\"margin-bottom: 0.5em; margin-top: 0em\">\n",
              "            <b>\n",
              "    \n",
              "        y=vague\n",
              "    \n",
              "</b>\n",
              "\n",
              "    \n",
              "    (probability <b>0.611</b>, score <b>0.451</b>)\n",
              "\n",
              "top features\n",
              "        </p>\n",
              "    \n",
              "    <table class=\"eli5-weights\"\n",
              "           style=\"border-collapse: collapse; border: none; margin-top: 0em; table-layout: auto; margin-bottom: 2em;\">\n",
              "        <thead>\n",
              "        <tr style=\"border: none;\">\n",
              "            \n",
              "                <th style=\"padding: 0 1em 0 0.5em; text-align: right; border: none;\" title=\"Feature contribution already accounts for the feature value (for linear models, contribution = weight * feature value), and the sum of feature contributions is equal to the score or, for some classifiers, to the probability. Feature values are shown if &quot;show_feature_values&quot; is True.\">\n",
              "                    Contribution<sup>?</sup>\n",
              "                </th>\n",
              "            \n",
              "            <th style=\"padding: 0 0.5em 0 0.5em; text-align: left; border: none;\">Feature</th>\n",
              "            \n",
              "        </tr>\n",
              "        </thead>\n",
              "        <tbody>\n",
              "        \n",
              "            <tr style=\"background-color: hsl(120, 100.00%, 80.00%); border: none;\">\n",
              "    <td style=\"padding: 0 1em 0 0.5em; text-align: right; border: none;\">\n",
              "        +0.641\n",
              "    </td>\n",
              "    <td style=\"padding: 0 0.5em 0 0.5em; text-align: left; border: none;\">\n",
              "        Highlighted in text (sum)\n",
              "    </td>\n",
              "    \n",
              "</tr>\n",
              "        \n",
              "        \n",
              "\n",
              "        \n",
              "        \n",
              "            <tr style=\"background-color: hsl(0, 100.00%, 91.47%); border: none;\">\n",
              "    <td style=\"padding: 0 1em 0 0.5em; text-align: right; border: none;\">\n",
              "        -0.190\n",
              "    </td>\n",
              "    <td style=\"padding: 0 0.5em 0 0.5em; text-align: left; border: none;\">\n",
              "        &lt;BIAS&gt;\n",
              "    </td>\n",
              "    \n",
              "</tr>\n",
              "        \n",
              "\n",
              "        </tbody>\n",
              "    </table>\n",
              "\n",
              "    \n",
              "\n",
              "\n",
              "\n",
              "    <p style=\"margin-bottom: 2.5em; margin-top:-0.5em;\">\n",
              "        <span style=\"background-color: hsl(120, 100.00%, 94.28%); opacity: 0.81\" title=\"0.036\">the</span><span style=\"opacity: 0.80\"> </span><span style=\"background-color: hsl(120, 100.00%, 80.17%); opacity: 0.87\" title=\"0.215\">developer</span><span style=\"opacity: 0.80\"> </span><span style=\"background-color: hsl(0, 100.00%, 60.00%); opacity: 1.00\" title=\"-0.585\">shall</span><span style=\"opacity: 0.80\"> </span><span style=\"background-color: hsl(0, 100.00%, 73.58%); opacity: 0.91\" title=\"-0.324\">establish</span><span style=\"opacity: 0.80\">, </span><span style=\"background-color: hsl(120, 100.00%, 88.10%); opacity: 0.84\" title=\"0.104\">control</span><span style=\"opacity: 0.80\">, </span><span style=\"background-color: hsl(120, 100.00%, 95.70%); opacity: 0.81\" title=\"0.024\">and</span><span style=\"opacity: 0.80\"> </span><span style=\"background-color: hsl(120, 100.00%, 89.00%); opacity: 0.83\" title=\"0.093\">maintain</span><span style=\"opacity: 0.80\"> </span><span style=\"background-color: hsl(0, 100.00%, 88.16%); opacity: 0.84\" title=\"-0.103\">a</span><span style=\"opacity: 0.80\"> </span><span style=\"background-color: hsl(0, 100.00%, 85.55%); opacity: 0.85\" title=\"-0.137\">software</span><span style=\"opacity: 0.80\"> </span><span style=\"background-color: hsl(120, 100.00%, 93.63%); opacity: 0.81\" title=\"0.042\">test</span><span style=\"opacity: 0.80\"> </span><span style=\"background-color: hsl(120, 100.00%, 92.80%); opacity: 0.82\" title=\"0.050\">environment</span><span style=\"opacity: 0.80\"> </span><span style=\"background-color: hsl(0, 100.00%, 92.19%); opacity: 0.82\" title=\"-0.057\">to</span><span style=\"opacity: 0.80\"> </span><span style=\"background-color: hsl(120, 100.00%, 84.40%); opacity: 0.85\" title=\"0.152\">perform</span><span style=\"opacity: 0.80\"> </span><span style=\"background-color: hsl(0, 100.00%, 94.63%); opacity: 0.81\" title=\"-0.033\">integration</span><span style=\"opacity: 0.80\"> </span><span style=\"background-color: hsl(0, 100.00%, 93.77%); opacity: 0.81\" title=\"-0.041\">and</span><span style=\"opacity: 0.80\"> </span><span style=\"background-color: hsl(0, 100.00%, 98.46%); opacity: 0.80\" title=\"-0.006\">qualification</span><span style=\"opacity: 0.80\"> </span><span style=\"background-color: hsl(120, 100.00%, 90.64%); opacity: 0.83\" title=\"0.073\">testing</span><span style=\"opacity: 0.80\"> </span><span style=\"background-color: hsl(0, 100.00%, 95.95%); opacity: 0.81\" title=\"-0.022\">of</span><span style=\"opacity: 0.80\"> </span><span style=\"background-color: hsl(120, 100.00%, 76.66%); opacity: 0.89\" title=\"0.271\">software</span><span style=\"opacity: 0.80\">.</span>\n",
              "    </p>\n",
              "\n",
              "\n",
              "    \n",
              "\n",
              "    \n",
              "\n",
              "    \n",
              "\n",
              "    \n",
              "\n",
              "\n",
              "    \n",
              "\n",
              "    \n",
              "\n",
              "    \n",
              "\n",
              "    \n",
              "\n",
              "    \n",
              "\n",
              "    \n",
              "\n",
              "\n",
              "    \n",
              "\n",
              "    \n",
              "\n",
              "    \n",
              "\n",
              "    \n",
              "\n",
              "    \n",
              "\n",
              "    \n",
              "\n",
              "\n",
              "\n"
            ],
            "text/plain": [
              "<IPython.core.display.HTML object>"
            ]
          },
          "metadata": {
            "tags": []
          }
        },
        {
          "output_type": "display_data",
          "data": {
            "text/html": [
              ""
            ],
            "text/plain": [
              "<IPython.core.display.HTML object>"
            ]
          },
          "metadata": {
            "tags": []
          }
        },
        {
          "output_type": "display_data",
          "data": {
            "text/html": [
              ""
            ],
            "text/plain": [
              "<IPython.core.display.HTML object>"
            ]
          },
          "metadata": {
            "tags": []
          }
        },
        {
          "output_type": "display_data",
          "data": {
            "text/html": [
              "\n",
              "    <style>\n",
              "    table.eli5-weights tr:hover {\n",
              "        filter: brightness(85%);\n",
              "    }\n",
              "</style>\n",
              "\n",
              "\n",
              "\n",
              "    \n",
              "\n",
              "    \n",
              "\n",
              "    \n",
              "\n",
              "    \n",
              "\n",
              "    \n",
              "\n",
              "    \n",
              "\n",
              "\n",
              "    \n",
              "\n",
              "    \n",
              "\n",
              "    \n",
              "\n",
              "    \n",
              "        \n",
              "\n",
              "    \n",
              "\n",
              "        \n",
              "\n",
              "        \n",
              "    \n",
              "        \n",
              "        \n",
              "    \n",
              "        <p style=\"margin-bottom: 0.5em; margin-top: 0em\">\n",
              "            <b>\n",
              "    \n",
              "        y=vague\n",
              "    \n",
              "</b>\n",
              "\n",
              "    \n",
              "    (probability <b>0.719</b>, score <b>0.939</b>)\n",
              "\n",
              "top features\n",
              "        </p>\n",
              "    \n",
              "    <table class=\"eli5-weights\"\n",
              "           style=\"border-collapse: collapse; border: none; margin-top: 0em; table-layout: auto; margin-bottom: 2em;\">\n",
              "        <thead>\n",
              "        <tr style=\"border: none;\">\n",
              "            \n",
              "                <th style=\"padding: 0 1em 0 0.5em; text-align: right; border: none;\" title=\"Feature contribution already accounts for the feature value (for linear models, contribution = weight * feature value), and the sum of feature contributions is equal to the score or, for some classifiers, to the probability. Feature values are shown if &quot;show_feature_values&quot; is True.\">\n",
              "                    Contribution<sup>?</sup>\n",
              "                </th>\n",
              "            \n",
              "            <th style=\"padding: 0 0.5em 0 0.5em; text-align: left; border: none;\">Feature</th>\n",
              "            \n",
              "        </tr>\n",
              "        </thead>\n",
              "        <tbody>\n",
              "        \n",
              "            <tr style=\"background-color: hsl(120, 100.00%, 80.00%); border: none;\">\n",
              "    <td style=\"padding: 0 1em 0 0.5em; text-align: right; border: none;\">\n",
              "        +1.088\n",
              "    </td>\n",
              "    <td style=\"padding: 0 0.5em 0 0.5em; text-align: left; border: none;\">\n",
              "        Highlighted in text (sum)\n",
              "    </td>\n",
              "    \n",
              "</tr>\n",
              "        \n",
              "        \n",
              "\n",
              "        \n",
              "        \n",
              "            <tr style=\"background-color: hsl(0, 100.00%, 95.03%); border: none;\">\n",
              "    <td style=\"padding: 0 1em 0 0.5em; text-align: right; border: none;\">\n",
              "        -0.149\n",
              "    </td>\n",
              "    <td style=\"padding: 0 0.5em 0 0.5em; text-align: left; border: none;\">\n",
              "        &lt;BIAS&gt;\n",
              "    </td>\n",
              "    \n",
              "</tr>\n",
              "        \n",
              "\n",
              "        </tbody>\n",
              "    </table>\n",
              "\n",
              "    \n",
              "\n",
              "\n",
              "\n",
              "    <p style=\"margin-bottom: 2.5em; margin-top:-0.5em;\">\n",
              "        <span style=\"background-color: hsl(0, 100.00%, 75.69%); opacity: 0.90\" title=\"-0.213\">these</span><span style=\"opacity: 0.80\"> </span><span style=\"background-color: hsl(120, 100.00%, 88.17%); opacity: 0.84\" title=\"0.076\">analyses</span><span style=\"opacity: 0.80\"> </span><span style=\"background-color: hsl(0, 100.00%, 77.00%); opacity: 0.89\" title=\"-0.196\">shall</span><span style=\"opacity: 0.80\"> </span><span style=\"background-color: hsl(120, 100.00%, 92.14%); opacity: 0.82\" title=\"0.042\">also</span><span style=\"opacity: 0.80\"> </span><span style=\"background-color: hsl(120, 100.00%, 97.34%); opacity: 0.80\" title=\"0.009\">consider</span><span style=\"opacity: 0.80\"> </span><span style=\"background-color: hsl(120, 100.00%, 69.64%); opacity: 0.93\" title=\"0.292\">effects</span><span style=\"opacity: 0.80\"> </span><span style=\"background-color: hsl(120, 100.00%, 89.07%); opacity: 0.83\" title=\"0.068\">of</span><span style=\"opacity: 0.80\"> </span><span style=\"background-color: hsl(0, 100.00%, 75.85%); opacity: 0.90\" title=\"-0.211\">sustained</span><span style=\"opacity: 0.80\"> </span><span style=\"background-color: hsl(120, 100.00%, 97.46%); opacity: 0.80\" title=\"0.008\">and</span><span style=\"opacity: 0.80\"> </span><span style=\"background-color: hsl(120, 100.00%, 80.80%); opacity: 0.87\" title=\"0.152\">continuous</span><span style=\"opacity: 0.80\"> </span><span style=\"background-color: hsl(120, 100.00%, 76.88%); opacity: 0.89\" title=\"0.198\">operations</span><span style=\"opacity: 0.80\"> </span><span style=\"background-color: hsl(120, 100.00%, 88.11%); opacity: 0.84\" title=\"0.077\">on</span><span style=\"opacity: 0.80\"> </span><span style=\"background-color: hsl(120, 100.00%, 73.32%); opacity: 0.91\" title=\"0.243\">human</span><span style=\"opacity: 0.80\"> </span><span style=\"background-color: hsl(120, 100.00%, 60.00%); opacity: 1.00\" title=\"0.433\">performance</span><span style=\"opacity: 0.80\">.</span>\n",
              "    </p>\n",
              "\n",
              "\n",
              "    \n",
              "\n",
              "    \n",
              "\n",
              "    \n",
              "\n",
              "    \n",
              "\n",
              "\n",
              "    \n",
              "\n",
              "    \n",
              "\n",
              "    \n",
              "\n",
              "    \n",
              "\n",
              "    \n",
              "\n",
              "    \n",
              "\n",
              "\n",
              "    \n",
              "\n",
              "    \n",
              "\n",
              "    \n",
              "\n",
              "    \n",
              "\n",
              "    \n",
              "\n",
              "    \n",
              "\n",
              "\n",
              "\n"
            ],
            "text/plain": [
              "<IPython.core.display.HTML object>"
            ]
          },
          "metadata": {
            "tags": []
          }
        },
        {
          "output_type": "display_data",
          "data": {
            "text/html": [
              ""
            ],
            "text/plain": [
              "<IPython.core.display.HTML object>"
            ]
          },
          "metadata": {
            "tags": []
          }
        },
        {
          "output_type": "display_data",
          "data": {
            "text/html": [
              ""
            ],
            "text/plain": [
              "<IPython.core.display.HTML object>"
            ]
          },
          "metadata": {
            "tags": []
          }
        },
        {
          "output_type": "display_data",
          "data": {
            "text/html": [
              "\n",
              "    <style>\n",
              "    table.eli5-weights tr:hover {\n",
              "        filter: brightness(85%);\n",
              "    }\n",
              "</style>\n",
              "\n",
              "\n",
              "\n",
              "    \n",
              "\n",
              "    \n",
              "\n",
              "    \n",
              "\n",
              "    \n",
              "\n",
              "    \n",
              "\n",
              "    \n",
              "\n",
              "\n",
              "    \n",
              "\n",
              "    \n",
              "\n",
              "    \n",
              "\n",
              "    \n",
              "        \n",
              "\n",
              "    \n",
              "\n",
              "        \n",
              "\n",
              "        \n",
              "    \n",
              "        \n",
              "        \n",
              "    \n",
              "        <p style=\"margin-bottom: 0.5em; margin-top: 0em\">\n",
              "            <b>\n",
              "    \n",
              "        y=vague\n",
              "    \n",
              "</b>\n",
              "\n",
              "    \n",
              "    (probability <b>0.815</b>, score <b>1.482</b>)\n",
              "\n",
              "top features\n",
              "        </p>\n",
              "    \n",
              "    <table class=\"eli5-weights\"\n",
              "           style=\"border-collapse: collapse; border: none; margin-top: 0em; table-layout: auto; margin-bottom: 2em;\">\n",
              "        <thead>\n",
              "        <tr style=\"border: none;\">\n",
              "            \n",
              "                <th style=\"padding: 0 1em 0 0.5em; text-align: right; border: none;\" title=\"Feature contribution already accounts for the feature value (for linear models, contribution = weight * feature value), and the sum of feature contributions is equal to the score or, for some classifiers, to the probability. Feature values are shown if &quot;show_feature_values&quot; is True.\">\n",
              "                    Contribution<sup>?</sup>\n",
              "                </th>\n",
              "            \n",
              "            <th style=\"padding: 0 0.5em 0 0.5em; text-align: left; border: none;\">Feature</th>\n",
              "            \n",
              "        </tr>\n",
              "        </thead>\n",
              "        <tbody>\n",
              "        \n",
              "            <tr style=\"background-color: hsl(120, 100.00%, 80.00%); border: none;\">\n",
              "    <td style=\"padding: 0 1em 0 0.5em; text-align: right; border: none;\">\n",
              "        +1.787\n",
              "    </td>\n",
              "    <td style=\"padding: 0 0.5em 0 0.5em; text-align: left; border: none;\">\n",
              "        Highlighted in text (sum)\n",
              "    </td>\n",
              "    \n",
              "</tr>\n",
              "        \n",
              "        \n",
              "\n",
              "        \n",
              "        \n",
              "            <tr style=\"background-color: hsl(0, 100.00%, 94.20%); border: none;\">\n",
              "    <td style=\"padding: 0 1em 0 0.5em; text-align: right; border: none;\">\n",
              "        -0.305\n",
              "    </td>\n",
              "    <td style=\"padding: 0 0.5em 0 0.5em; text-align: left; border: none;\">\n",
              "        &lt;BIAS&gt;\n",
              "    </td>\n",
              "    \n",
              "</tr>\n",
              "        \n",
              "\n",
              "        </tbody>\n",
              "    </table>\n",
              "\n",
              "    \n",
              "\n",
              "\n",
              "\n",
              "    <p style=\"margin-bottom: 2.5em; margin-top:-0.5em;\">\n",
              "        <span style=\"background-color: hsl(120, 100.00%, 89.77%); opacity: 0.83\" title=\"0.046\">the</span><span style=\"opacity: 0.80\"> </span><span style=\"background-color: hsl(120, 100.00%, 95.91%); opacity: 0.81\" title=\"0.013\">complete</span><span style=\"opacity: 0.80\"> </span><span style=\"background-color: hsl(120, 100.00%, 78.13%); opacity: 0.88\" title=\"0.137\">test</span><span style=\"opacity: 0.80\"> </span><span style=\"background-color: hsl(120, 100.00%, 67.45%); opacity: 0.95\" title=\"0.242\">program</span><span style=\"opacity: 0.80\"> </span><span style=\"background-color: hsl(120, 100.00%, 70.93%); opacity: 0.93\" title=\"0.206\">for</span><span style=\"opacity: 0.80\"> </span><span style=\"background-color: hsl(120, 100.00%, 71.81%); opacity: 0.92\" title=\"0.197\">launch</span><span style=\"opacity: 0.80\"> </span><span style=\"background-color: hsl(0, 100.00%, 94.76%); opacity: 0.81\" title=\"-0.018\">vehicles</span><span style=\"opacity: 0.80\">, </span><span style=\"background-color: hsl(120, 100.00%, 80.31%); opacity: 0.87\" title=\"0.118\">upper</span><span style=\"opacity: 0.80\">-</span><span style=\"background-color: hsl(120, 100.00%, 90.83%); opacity: 0.82\" title=\"0.040\">stage</span><span style=\"opacity: 0.80\"> </span><span style=\"background-color: hsl(120, 100.00%, 83.40%); opacity: 0.86\" title=\"0.092\">vehicles</span><span style=\"opacity: 0.80\">, </span><span style=\"background-color: hsl(0, 100.00%, 91.44%); opacity: 0.82\" title=\"-0.036\">and</span><span style=\"opacity: 0.80\"> </span><span style=\"background-color: hsl(120, 100.00%, 73.82%); opacity: 0.91\" title=\"0.177\">space</span><span style=\"opacity: 0.80\"> </span><span style=\"background-color: hsl(120, 100.00%, 78.94%); opacity: 0.88\" title=\"0.130\">vehicles</span><span style=\"opacity: 0.80\"> </span><span style=\"background-color: hsl(0, 100.00%, 60.00%); opacity: 1.00\" title=\"-0.325\">encompasses</span><span style=\"opacity: 0.80\"> </span><span style=\"background-color: hsl(120, 100.00%, 96.45%); opacity: 0.81\" title=\"0.010\">development</span><span style=\"opacity: 0.80\">, </span><span style=\"background-color: hsl(120, 100.00%, 74.77%); opacity: 0.90\" title=\"0.168\">qualification</span><span style=\"opacity: 0.80\">, </span><span style=\"background-color: hsl(120, 100.00%, 85.32%); opacity: 0.85\" title=\"0.078\">acceptance</span><span style=\"opacity: 0.80\">, </span><span style=\"background-color: hsl(120, 100.00%, 77.59%); opacity: 0.89\" title=\"0.142\">system</span><span style=\"opacity: 0.80\">, pre-</span><span style=\"background-color: hsl(120, 100.00%, 93.90%); opacity: 0.81\" title=\"0.022\">launch</span><span style=\"opacity: 0.80\"> </span><span style=\"background-color: hsl(120, 100.00%, 79.38%); opacity: 0.88\" title=\"0.126\">validation</span><span style=\"opacity: 0.80\">, </span><span style=\"background-color: hsl(0, 100.00%, 97.58%); opacity: 0.80\" title=\"-0.006\">and</span><span style=\"opacity: 0.80\"> </span><span style=\"background-color: hsl(120, 100.00%, 83.90%); opacity: 0.85\" title=\"0.088\">post</span><span style=\"opacity: 0.80\">-</span><span style=\"background-color: hsl(120, 100.00%, 84.12%); opacity: 0.85\" title=\"0.087\">launch</span><span style=\"opacity: 0.80\"> </span><span style=\"background-color: hsl(0, 100.00%, 91.17%); opacity: 0.82\" title=\"-0.038\">validation</span><span style=\"opacity: 0.80\"> </span><span style=\"background-color: hsl(120, 100.00%, 95.27%); opacity: 0.81\" title=\"0.015\">tests</span><span style=\"opacity: 0.80\">.</span>\n",
              "    </p>\n",
              "\n",
              "\n",
              "    \n",
              "\n",
              "    \n",
              "\n",
              "    \n",
              "\n",
              "    \n",
              "\n",
              "\n",
              "    \n",
              "\n",
              "    \n",
              "\n",
              "    \n",
              "\n",
              "    \n",
              "\n",
              "    \n",
              "\n",
              "    \n",
              "\n",
              "\n",
              "    \n",
              "\n",
              "    \n",
              "\n",
              "    \n",
              "\n",
              "    \n",
              "\n",
              "    \n",
              "\n",
              "    \n",
              "\n",
              "\n",
              "\n"
            ],
            "text/plain": [
              "<IPython.core.display.HTML object>"
            ]
          },
          "metadata": {
            "tags": []
          }
        },
        {
          "output_type": "display_data",
          "data": {
            "text/html": [
              ""
            ],
            "text/plain": [
              "<IPython.core.display.HTML object>"
            ]
          },
          "metadata": {
            "tags": []
          }
        },
        {
          "output_type": "display_data",
          "data": {
            "text/html": [
              ""
            ],
            "text/plain": [
              "<IPython.core.display.HTML object>"
            ]
          },
          "metadata": {
            "tags": []
          }
        },
        {
          "output_type": "display_data",
          "data": {
            "text/html": [
              "\n",
              "    <style>\n",
              "    table.eli5-weights tr:hover {\n",
              "        filter: brightness(85%);\n",
              "    }\n",
              "</style>\n",
              "\n",
              "\n",
              "\n",
              "    \n",
              "\n",
              "    \n",
              "\n",
              "    \n",
              "\n",
              "    \n",
              "\n",
              "    \n",
              "\n",
              "    \n",
              "\n",
              "\n",
              "    \n",
              "\n",
              "    \n",
              "\n",
              "    \n",
              "\n",
              "    \n",
              "        \n",
              "\n",
              "    \n",
              "\n",
              "        \n",
              "\n",
              "        \n",
              "    \n",
              "        \n",
              "        \n",
              "    \n",
              "        <p style=\"margin-bottom: 0.5em; margin-top: 0em\">\n",
              "            <b>\n",
              "    \n",
              "        y=not-vague\n",
              "    \n",
              "</b>\n",
              "\n",
              "    \n",
              "    (probability <b>0.424</b>, score <b>0.307</b>)\n",
              "\n",
              "top features\n",
              "        </p>\n",
              "    \n",
              "    <table class=\"eli5-weights\"\n",
              "           style=\"border-collapse: collapse; border: none; margin-top: 0em; table-layout: auto; margin-bottom: 2em;\">\n",
              "        <thead>\n",
              "        <tr style=\"border: none;\">\n",
              "            \n",
              "                <th style=\"padding: 0 1em 0 0.5em; text-align: right; border: none;\" title=\"Feature contribution already accounts for the feature value (for linear models, contribution = weight * feature value), and the sum of feature contributions is equal to the score or, for some classifiers, to the probability. Feature values are shown if &quot;show_feature_values&quot; is True.\">\n",
              "                    Contribution<sup>?</sup>\n",
              "                </th>\n",
              "            \n",
              "            <th style=\"padding: 0 0.5em 0 0.5em; text-align: left; border: none;\">Feature</th>\n",
              "            \n",
              "        </tr>\n",
              "        </thead>\n",
              "        <tbody>\n",
              "        \n",
              "            <tr style=\"background-color: hsl(120, 100.00%, 87.88%); border: none;\">\n",
              "    <td style=\"padding: 0 1em 0 0.5em; text-align: right; border: none;\">\n",
              "        +0.294\n",
              "    </td>\n",
              "    <td style=\"padding: 0 0.5em 0 0.5em; text-align: left; border: none;\">\n",
              "        &lt;BIAS&gt;\n",
              "    </td>\n",
              "    \n",
              "</tr>\n",
              "        \n",
              "        \n",
              "\n",
              "        \n",
              "        \n",
              "            <tr style=\"background-color: hsl(0, 100.00%, 80.00%); border: none;\">\n",
              "    <td style=\"padding: 0 1em 0 0.5em; text-align: right; border: none;\">\n",
              "        -0.601\n",
              "    </td>\n",
              "    <td style=\"padding: 0 0.5em 0 0.5em; text-align: left; border: none;\">\n",
              "        Highlighted in text (sum)\n",
              "    </td>\n",
              "    \n",
              "</tr>\n",
              "        \n",
              "\n",
              "        </tbody>\n",
              "    </table>\n",
              "\n",
              "    \n",
              "\n",
              "\n",
              "\n",
              "    <p style=\"margin-bottom: 2.5em; margin-top:-0.5em;\">\n",
              "        <span style=\"background-color: hsl(120, 100.00%, 86.26%); opacity: 0.84\" title=\"0.055\">this</span><span style=\"opacity: 0.80\"> </span><span style=\"background-color: hsl(120, 100.00%, 90.08%); opacity: 0.83\" title=\"0.035\">eurocontrol</span><span style=\"opacity: 0.80\"> </span><span style=\"background-color: hsl(120, 100.00%, 76.79%); opacity: 0.89\" title=\"0.117\">specification</span><span style=\"opacity: 0.80\"> </span><span style=\"background-color: hsl(120, 100.00%, 86.16%); opacity: 0.84\" title=\"0.056\">on</span><span style=\"opacity: 0.80\"> </span><span style=\"background-color: hsl(0, 100.00%, 83.90%); opacity: 0.85\" title=\"-0.069\">the</span><span style=\"opacity: 0.80\"> </span><span style=\"background-color: hsl(0, 100.00%, 89.60%); opacity: 0.83\" title=\"-0.037\">air</span><span style=\"opacity: 0.80\"> </span><span style=\"background-color: hsl(120, 100.00%, 76.12%); opacity: 0.90\" title=\"0.121\">traffic</span><span style=\"opacity: 0.80\"> </span><span style=\"background-color: hsl(120, 100.00%, 93.53%); opacity: 0.81\" title=\"0.019\">services</span><span style=\"opacity: 0.80\"> message </span><span style=\"background-color: hsl(0, 100.00%, 73.38%); opacity: 0.91\" title=\"-0.142\">handling</span><span style=\"opacity: 0.80\"> </span><span style=\"background-color: hsl(0, 100.00%, 77.84%); opacity: 0.89\" title=\"-0.109\">system</span><span style=\"opacity: 0.80\"> (</span><span style=\"background-color: hsl(0, 100.00%, 91.36%); opacity: 0.82\" title=\"-0.028\">amhs</span><span style=\"opacity: 0.80\">) </span><span style=\"background-color: hsl(0, 100.00%, 95.56%); opacity: 0.81\" title=\"-0.011\">is</span><span style=\"opacity: 0.80\"> </span><span style=\"background-color: hsl(0, 100.00%, 60.00%); opacity: 1.00\" title=\"-0.253\">developed</span><span style=\"opacity: 0.80\"> </span><span style=\"background-color: hsl(0, 100.00%, 71.95%); opacity: 0.92\" title=\"-0.153\">to</span><span style=\"opacity: 0.80\"> </span><span style=\"background-color: hsl(120, 100.00%, 86.11%); opacity: 0.84\" title=\"0.056\">complement</span><span style=\"opacity: 0.80\"> </span><span style=\"background-color: hsl(120, 100.00%, 87.29%); opacity: 0.84\" title=\"0.049\">the</span><span style=\"opacity: 0.80\"> </span><span style=\"background-color: hsl(120, 100.00%, 94.58%); opacity: 0.81\" title=\"0.015\">single</span><span style=\"opacity: 0.80\"> </span><span style=\"background-color: hsl(0, 100.00%, 92.90%); opacity: 0.82\" title=\"-0.021\">european</span><span style=\"opacity: 0.80\"> </span><span style=\"background-color: hsl(0, 100.00%, 84.80%); opacity: 0.85\" title=\"-0.064\">sky</span><span style=\"opacity: 0.80\"> (</span><span style=\"background-color: hsl(120, 100.00%, 88.70%); opacity: 0.83\" title=\"0.042\">ses</span><span style=\"opacity: 0.80\">) </span><span style=\"background-color: hsl(0, 100.00%, 71.95%); opacity: 0.92\" title=\"-0.153\">interoperability</span><span style=\"opacity: 0.80\"> </span><span style=\"background-color: hsl(0, 100.00%, 72.26%); opacity: 0.92\" title=\"-0.150\">regulation</span><span style=\"opacity: 0.80\"> [</span><span style=\"background-color: hsl(120, 100.00%, 91.74%); opacity: 0.82\" title=\"0.027\">1</span><span style=\"opacity: 0.80\">] </span><span style=\"background-color: hsl(0, 100.00%, 83.32%); opacity: 0.86\" title=\"-0.073\">in</span><span style=\"opacity: 0.80\"> </span><span style=\"background-color: hsl(0, 100.00%, 81.09%); opacity: 0.87\" title=\"-0.087\">the</span><span style=\"opacity: 0.80\"> </span><span style=\"background-color: hsl(0, 100.00%, 98.07%); opacity: 0.80\" title=\"-0.003\">area</span><span style=\"opacity: 0.80\"> </span><span style=\"background-color: hsl(0, 100.00%, 87.16%); opacity: 0.84\" title=\"-0.050\">of</span><span style=\"opacity: 0.80\"> </span><span style=\"background-color: hsl(0, 100.00%, 84.02%); opacity: 0.85\" title=\"-0.068\">ground</span><span style=\"opacity: 0.80\">-</span><span style=\"background-color: hsl(0, 100.00%, 60.14%); opacity: 1.00\" title=\"-0.252\">ground</span><span style=\"opacity: 0.80\"> </span><span style=\"background-color: hsl(0, 100.00%, 66.57%); opacity: 0.95\" title=\"-0.196\">ats</span><span style=\"opacity: 0.80\"> </span><span style=\"background-color: hsl(0, 100.00%, 70.58%); opacity: 0.93\" title=\"-0.163\">communications</span><span style=\"opacity: 0.80\">.</span>\n",
              "    </p>\n",
              "\n",
              "\n",
              "    \n",
              "\n",
              "    \n",
              "\n",
              "    \n",
              "\n",
              "    \n",
              "\n",
              "\n",
              "    \n",
              "\n",
              "    \n",
              "\n",
              "    \n",
              "\n",
              "    \n",
              "\n",
              "    \n",
              "\n",
              "    \n",
              "\n",
              "\n",
              "    \n",
              "\n",
              "    \n",
              "\n",
              "    \n",
              "\n",
              "    \n",
              "\n",
              "    \n",
              "\n",
              "    \n",
              "\n",
              "\n",
              "\n"
            ],
            "text/plain": [
              "<IPython.core.display.HTML object>"
            ]
          },
          "metadata": {
            "tags": []
          }
        }
      ]
    },
    {
      "cell_type": "markdown",
      "metadata": {
        "id": "mcph2bSLe5cW",
        "colab_type": "text"
      },
      "source": [
        "The words in the darkest shade of green contribute most to the classification and agree with what you would expect for this example."
      ]
    }
  ]
}